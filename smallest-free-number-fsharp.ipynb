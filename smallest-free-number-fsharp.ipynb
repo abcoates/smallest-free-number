{
 "cells": [
  {
   "cell_type": "markdown",
   "metadata": {},
   "source": [
    "# smallest-free-number\n",
    "A coding challenge to find the smallest non-negative integer that is not part of a given set of non-negative integers.\n",
    "\n",
    "Thanks to [Nicolas Rinaudo](https://github.com/abcoates/smallest-free-number.git) for suggesting this problem for a coding challenge.\n",
    "\n",
    "## Description\n",
    "This is a simplification a general problem, find the 'least XXX' object that is not already used, where 'XXX' is some arbitrary measurement dimension such as 'large', 'expensive', etc.\n",
    "\n",
    "In this minimal version, you are given a set (i.e. an **unordered** set) of non-negative integers, and you have to find the smallest non-negative integer that is **not** a part of the set.\n",
    "\n",
    "## Examples\n",
    " * \\[0, 1, 2, 3, 5\\] => 4\n",
    " * \\[0, 1, 3, 4, 5\\] => 2\n",
    " * \\[2, 1, 0\\] => 3\n",
    " * \\[20, 10, 30\\] => 0\n",
    "\n",
    "## Special Note\n",
    "You **may** use AI to help you write the code.  As AI coding companions are inevitable, we might as well all start practicising how to use them.  **However**, if you have used AI to help you write your code, please make that clear in your solution.\n",
    "\n",
    "## Stretch Goal\n",
    "Finding a solution is straightforward, but can you find a solution that only takes linear time?  Measure how the time taken for your solution varies as the size of the set is increased, and see how close you can get to the time taken growing linearly with the size of the set.  Create a graph of the time measurements again set size.\n",
    "\n",
    "You will need to generate unordered sets of numbers that are sufficiently large to make the solution time sufficiently measurable.\n",
    "\n",
    "Your results may vary with the **density** of the sets, i.e. with the percentage of unused numbers in the range from zero to the largest number in the set."
   ]
  },
  {
   "cell_type": "markdown",
   "metadata": {},
   "source": [
    "## Solution - F#"
   ]
  },
  {
   "cell_type": "markdown",
   "metadata": {},
   "source": [
    "### Solution #1 - Brute Force"
   ]
  },
  {
   "cell_type": "markdown",
   "metadata": {},
   "source": [
    "As a first solution, let's try something \"brute force\" - sort the set, then walk up the integers from zero until we find one that isn't in the set."
   ]
  },
  {
   "cell_type": "code",
   "execution_count": null,
   "metadata": {
    "dotnet_interactive": {
     "language": "fsharp"
    },
    "polyglot_notebook": {
     "kernelName": "fsharp"
    }
   },
   "outputs": [],
   "source": [
    "let solution1 (intset: int list): int = // 'intset' must be a set in unordered list format - to avoid pre-sorted F# sets giving an advantage\n",
    "    let sortedset = intset |> List.sort\n",
    "    let rec find (sortedlist: int list) (nextValue: int) =\n",
    "        match sortedlist with\n",
    "        | [] -> nextValue\n",
    "        | other ->\n",
    "            let listhead = sortedlist |> List.head\n",
    "            if (nextValue < listhead)\n",
    "            then nextValue\n",
    "            elif (nextValue = listhead)\n",
    "            then find (sortedlist |> List.tail) (nextValue+1)\n",
    "            else find(sortedlist |> List.tail) nextValue\n",
    "    find sortedset 0"
   ]
  },
  {
   "cell_type": "markdown",
   "metadata": {},
   "source": [
    "\\[0, 1, 2, 3, 5\\] => 4"
   ]
  },
  {
   "cell_type": "code",
   "execution_count": null,
   "metadata": {
    "dotnet_interactive": {
     "language": "fsharp"
    },
    "polyglot_notebook": {
     "kernelName": "fsharp"
    }
   },
   "outputs": [],
   "source": [
    "solution1 [0;1;2;3;5]"
   ]
  },
  {
   "cell_type": "markdown",
   "metadata": {},
   "source": [
    "\\[0, 1, 3, 4, 5\\] => 2"
   ]
  },
  {
   "cell_type": "code",
   "execution_count": null,
   "metadata": {
    "dotnet_interactive": {
     "language": "fsharp"
    },
    "polyglot_notebook": {
     "kernelName": "fsharp"
    }
   },
   "outputs": [],
   "source": [
    "solution1 [0;1;3;4;5]"
   ]
  },
  {
   "cell_type": "markdown",
   "metadata": {},
   "source": [
    "\\[2, 1, 0\\] => 3"
   ]
  },
  {
   "cell_type": "code",
   "execution_count": null,
   "metadata": {
    "dotnet_interactive": {
     "language": "fsharp"
    },
    "polyglot_notebook": {
     "kernelName": "fsharp"
    }
   },
   "outputs": [],
   "source": [
    "solution1 [2;1;0]"
   ]
  },
  {
   "cell_type": "markdown",
   "metadata": {},
   "source": [
    "\\[20, 10, 30\\] => 0"
   ]
  },
  {
   "cell_type": "code",
   "execution_count": null,
   "metadata": {
    "dotnet_interactive": {
     "language": "fsharp"
    },
    "polyglot_notebook": {
     "kernelName": "fsharp"
    }
   },
   "outputs": [],
   "source": [
    "solution1 [20;10;30]"
   ]
  },
  {
   "cell_type": "markdown",
   "metadata": {},
   "source": [
    "So 'solution1' works correctly.  However, how performant is it?"
   ]
  },
  {
   "cell_type": "markdown",
   "metadata": {},
   "source": [
    "We'll need a graphing package - 'XPlot' will do nicely."
   ]
  },
  {
   "cell_type": "code",
   "execution_count": null,
   "metadata": {
    "dotnet_interactive": {
     "language": "fsharp"
    },
    "polyglot_notebook": {
     "kernelName": "fsharp"
    }
   },
   "outputs": [],
   "source": [
    "#r \"nuget: XPlot.Plotly\"\n",
    "#r \"nuget: XPlot.Plotly.Interactive\"\n",
    "\n",
    "open XPlot.Plotly"
   ]
  },
  {
   "cell_type": "markdown",
   "metadata": {},
   "source": [
    "Let's also get a package for curve fitting."
   ]
  },
  {
   "cell_type": "code",
   "execution_count": null,
   "metadata": {
    "dotnet_interactive": {
     "language": "fsharp"
    },
    "polyglot_notebook": {
     "kernelName": "fsharp"
    }
   },
   "outputs": [],
   "source": [
    "#r \"nuget: MathNet.Numerics\"\n",
    "\n",
    "open MathNet.Numerics"
   ]
  },
  {
   "cell_type": "markdown",
   "metadata": {},
   "source": [
    "We'll need functions that can generate random sets of non-negative integers.\n",
    "\n",
    "**However**, F# seems to implement sets as sorted lists, which makes it too easy to find the smallest unused integer.  As such, I will need to return the set as a list in which the order of the elements has been randomised.\n",
    "\n",
    "**Update:** instead, I'll just generate the worst-case, highest-to-lowest set of integers."
   ]
  },
  {
   "cell_type": "code",
   "execution_count": null,
   "metadata": {
    "dotnet_interactive": {
     "language": "fsharp"
    },
    "polyglot_notebook": {
     "kernelName": "fsharp"
    }
   },
   "outputs": [],
   "source": [
    "// open System\n",
    "\n",
    "// let randomGenerator = Random()"
   ]
  },
  {
   "cell_type": "code",
   "execution_count": null,
   "metadata": {
    "dotnet_interactive": {
     "language": "fsharp"
    },
    "polyglot_notebook": {
     "kernelName": "fsharp"
    }
   },
   "outputs": [],
   "source": [
    "// let generateSet (maximum:int) (length:int): int list =\n",
    "//     let rec iterate (currentList: int list) (currentSet: int Set): int list =\n",
    "//         match currentSet with\n",
    "//         | finished when (finished |> Set.count) >= length -> currentList\n",
    "//         | unfinished ->\n",
    "//             let newVal = randomGenerator.Next(0, maximum+1)\n",
    "//             if (currentSet |> Set.contains newVal)\n",
    "//             then\n",
    "//                 iterate currentList currentSet\n",
    "//             else\n",
    "//                 iterate (newVal::currentList) (currentSet |> Set.add newVal)\n",
    "//     iterate [] ([] |> Set.ofList)"
   ]
  },
  {
   "cell_type": "code",
   "execution_count": null,
   "metadata": {
    "dotnet_interactive": {
     "language": "fsharp"
    },
    "polyglot_notebook": {
     "kernelName": "fsharp"
    }
   },
   "outputs": [],
   "source": [
    "let generateSet (length:int): int list = seq {length..(-1)..1} |> Seq.toList"
   ]
  },
  {
   "cell_type": "code",
   "execution_count": null,
   "metadata": {
    "dotnet_interactive": {
     "language": "fsharp"
    },
    "polyglot_notebook": {
     "kernelName": "fsharp"
    }
   },
   "outputs": [],
   "source": [
    "let set1 = generateSet 5\n",
    "set1"
   ]
  },
  {
   "cell_type": "code",
   "execution_count": null,
   "metadata": {
    "dotnet_interactive": {
     "language": "fsharp"
    },
    "polyglot_notebook": {
     "kernelName": "fsharp"
    }
   },
   "outputs": [],
   "source": [
    "solution1 set1"
   ]
  },
  {
   "cell_type": "markdown",
   "metadata": {},
   "source": [
    "We will do many runs where the timing is an integer number of microseconds, so we will need a quick way to calculate the integer average time of those runs.\n",
    "\n",
    "**Update:** no, we'll only do a single worst-case run."
   ]
  },
  {
   "cell_type": "markdown",
   "metadata": {},
   "source": [
    "### Time Solution #1"
   ]
  },
  {
   "cell_type": "markdown",
   "metadata": {},
   "source": [
    "The following function can be used to time how long a solution takes to run.  It averages the time over ten runs."
   ]
  },
  {
   "cell_type": "code",
   "execution_count": null,
   "metadata": {
    "dotnet_interactive": {
     "language": "fsharp"
    },
    "polyglot_notebook": {
     "kernelName": "fsharp"
    }
   },
   "outputs": [],
   "source": [
    "let timeSolution (length: int) (solution: int list -> int): int*int =\n",
    "    let timeOnce (): int*int*int =\n",
    "        GC.Collect()\n",
    "        let testSet = generateSet length\n",
    "        let sw = System.Diagnostics.Stopwatch.StartNew()\n",
    "        let result = solution testSet\n",
    "        sw.Stop()\n",
    "        (length, result, sw.Elapsed.Microseconds)\n",
    "    for counter in 1..20 do // warm-up\n",
    "        timeOnce () |> ignore\n",
    "    let timings = seq {\n",
    "        for counter in 1..10 do\n",
    "            let (_, _, timing) = timeOnce ()\n",
    "            yield timing\n",
    "    }\n",
    "    (length, ((timings |> Seq.sum)+5)/10)"
   ]
  },
  {
   "cell_type": "code",
   "execution_count": null,
   "metadata": {
    "dotnet_interactive": {
     "language": "fsharp"
    },
    "polyglot_notebook": {
     "kernelName": "fsharp"
    }
   },
   "outputs": [],
   "source": [
    "timeSolution 100 solution1"
   ]
  },
  {
   "cell_type": "code",
   "execution_count": null,
   "metadata": {
    "dotnet_interactive": {
     "language": "fsharp"
    },
    "polyglot_notebook": {
     "kernelName": "fsharp"
    }
   },
   "outputs": [],
   "source": [
    "timeSolution 100 solution1"
   ]
  },
  {
   "cell_type": "code",
   "execution_count": null,
   "metadata": {
    "dotnet_interactive": {
     "language": "fsharp"
    },
    "polyglot_notebook": {
     "kernelName": "fsharp"
    }
   },
   "outputs": [],
   "source": [
    "timeSolution 200 solution1"
   ]
  },
  {
   "cell_type": "code",
   "execution_count": null,
   "metadata": {
    "dotnet_interactive": {
     "language": "fsharp"
    },
    "polyglot_notebook": {
     "kernelName": "fsharp"
    }
   },
   "outputs": [],
   "source": [
    "timeSolution 200 solution1"
   ]
  },
  {
   "cell_type": "markdown",
   "metadata": {},
   "source": [
    "Let's create timings (in microseconds) for set sizes up to 5 000.  To make it as hard as possible, we'll set 'maximum = length', meaning that there is only one number in the range '0..maximum' which does not appear in the set."
   ]
  },
  {
   "cell_type": "code",
   "execution_count": null,
   "metadata": {
    "dotnet_interactive": {
     "language": "fsharp"
    },
    "polyglot_notebook": {
     "kernelName": "fsharp"
    }
   },
   "outputs": [],
   "source": [
    "let maxLength = 30000\n",
    "let graphSegments = 600\n",
    "let increment = maxLength / graphSegments\n",
    "let lengths = {increment..increment..maxLength} |> Seq.toList\n",
    "let maximums = lengths\n",
    "let pairs: (int*int) list = List.zip maximums lengths\n",
    "let timings = pairs |> List.map (fun pair ->\n",
    "    let (maximum, length) = pair\n",
    "    printfn \"Timing length %d ...\" length\n",
    "    let (_, timing) = timeSolution length solution1\n",
    "    timing\n",
    ")\n",
    "printfn \"Done.\""
   ]
  },
  {
   "cell_type": "code",
   "execution_count": null,
   "metadata": {
    "dotnet_interactive": {
     "language": "fsharp"
    },
    "polyglot_notebook": {
     "kernelName": "fsharp"
    }
   },
   "outputs": [],
   "source": [
    "List.zip lengths timings"
   ]
  },
  {
   "cell_type": "markdown",
   "metadata": {},
   "source": [
    "Let's see what the total elapsed calculation time in seconds is."
   ]
  },
  {
   "cell_type": "code",
   "execution_count": null,
   "metadata": {
    "dotnet_interactive": {
     "language": "fsharp"
    },
    "polyglot_notebook": {
     "kernelName": "fsharp"
    }
   },
   "outputs": [],
   "source": [
    "let totalElapsedCalculationTimeInMicrosec = (timings |> List.sum) * 20 |> float\n",
    "let totalElapsedCalculationTimeInSeconds = totalElapsedCalculationTimeInMicrosec / 1000000.\n",
    "totalElapsedCalculationTimeInSeconds"
   ]
  },
  {
   "cell_type": "markdown",
   "metadata": {},
   "source": [
    "Now let's try fitting an O(n^q) curve to the results.  I use a semi-calculated, semi-empirical starting point, with a starting order of O(n^1.5)."
   ]
  },
  {
   "cell_type": "code",
   "execution_count": null,
   "metadata": {
    "dotnet_interactive": {
     "language": "fsharp"
    },
    "polyglot_notebook": {
     "kernelName": "fsharp"
    }
   },
   "outputs": [],
   "source": [
    "let lengthsFloat = lengths |> List.map float |> Array.ofList\n",
    "let timingsFloat = timings |> List.map float |> Array.ofList\n",
    "\n",
    "let first<'a> (arr: 'a[]) = arr[0]\n",
    "let last<'a> (arr: 'a[]) = arr[arr.Length - 1]\n",
    "\n",
    "// These scaling factors are used to give the parameters p0, p1 and p2 similar magnitudes, which tends to work best with fitting algorithms.\n",
    "let p2scale = 0.75 // assuming O(1.5) as a starting point\n",
    "let p1scale = ((last timingsFloat) - (first timingsFloat)) / ((last lengthsFloat) - (first lengthsFloat))\n",
    "let p0scale = (first timingsFloat) - p1scale * (first lengthsFloat)\n",
    "(p0scale, p1scale, p2scale)"
   ]
  },
  {
   "cell_type": "code",
   "execution_count": null,
   "metadata": {
    "dotnet_interactive": {
     "language": "fsharp"
    },
    "polyglot_notebook": {
     "kernelName": "fsharp"
    }
   },
   "outputs": [],
   "source": [
    "\n",
    "let fitFunc (p0:float) (p1:float) (p2:float) (x:float) =\n",
    "    // printfn \"p0 = %f, p1 = %f, p2 = %f, x = %f\" p0 p1 p2 x\n",
    "    (p0*p0scale) + (p1*p1scale) * x**(p2*p2scale)\n",
    "\n",
    "let p0init = 1.\n",
    "let p1init = 1.\n",
    "let p2init = 2. // assuming O(1.5) as a starting point\n",
    "let tolerance = 0.1\n",
    "let maxIterations = 10000\n",
    "(p0init, p1init, p2init)"
   ]
  },
  {
   "cell_type": "code",
   "execution_count": null,
   "metadata": {
    "dotnet_interactive": {
     "language": "fsharp"
    },
    "polyglot_notebook": {
     "kernelName": "fsharp"
    }
   },
   "outputs": [],
   "source": [
    "let (p0, p1, p2) = Fit.Curve(lengthsFloat, timingsFloat, fitFunc, p0init, p1init, p2init, tolerance, maxIterations).ToTuple()\n",
    "(p0, p1, p2)"
   ]
  },
  {
   "cell_type": "markdown",
   "metadata": {},
   "source": [
    "OK, let's plot the measurements and the fit together."
   ]
  },
  {
   "cell_type": "code",
   "execution_count": null,
   "metadata": {
    "dotnet_interactive": {
     "language": "fsharp"
    },
    "polyglot_notebook": {
     "kernelName": "fsharp"
    }
   },
   "outputs": [],
   "source": [
    "let measurementCurve = Scatter(x = lengths, y = timings, name=\"Measurements\")\n",
    "\n",
    "let fitLengths = {(lengths |> List.min)..(lengths |> List.max)} |> Seq.map float |> Array.ofSeq\n",
    "let fitTimings = fitLengths |> Array.map (fun x -> fitFunc p0 p1 p2 x)\n",
    "let fitCurve = Scatter(x = fitLengths, y = fitTimings, name=\"O(n) Fit Curve\")\n",
    "\n",
    "[measurementCurve; fitCurve]\n",
    "|> Chart.Plot\n",
    "|> Chart.WithTitle(\"Solution Time vs. Set Size\")\n",
    "|> Chart.WithXTitle(\"Set Size\")\n",
    "|> Chart.WithYTitle(\"Solution Time in Microsec\")"
   ]
  },
  {
   "cell_type": "code",
   "execution_count": null,
   "metadata": {
    "dotnet_interactive": {
     "language": "fsharp"
    },
    "polyglot_notebook": {
     "kernelName": "fsharp"
    }
   },
   "outputs": [],
   "source": [
    "let q = p2*p2scale\n",
    "q"
   ]
  },
  {
   "cell_type": "markdown",
   "metadata": {},
   "source": [
    "So, approximately, the order of 'solution1' is close to O(n) - not at all what was expected of a \"brute force\" approach."
   ]
  },
  {
   "cell_type": "markdown",
   "metadata": {},
   "source": [
    "## Discussion #1"
   ]
  },
  {
   "cell_type": "markdown",
   "metadata": {},
   "source": [
    "Why is the order so close to 1, for what was intended to be a 'brute force' solution?\n",
    "\n",
    "It may be that list sorting is *so* optimised in F#/.NET that we don't see the cost of it, so you only see the cost of walking up to find the first unused integer, which is naturally O(n)."
   ]
  },
  {
   "cell_type": "markdown",
   "metadata": {},
   "source": [
    "## Solution #2 - More Functional - no use of unique sets"
   ]
  },
  {
   "cell_type": "code",
   "execution_count": null,
   "metadata": {
    "dotnet_interactive": {
     "language": "fsharp"
    },
    "polyglot_notebook": {
     "kernelName": "fsharp"
    }
   },
   "outputs": [],
   "source": [
    "let solution2 (intset: int list): int =\n",
    "    let rec find (intset: int list) (next: int): int =\n",
    "        match intset with\n",
    "        | [] -> next\n",
    "        | head::tail when head = next -> find tail (next+1)\n",
    "        | other ->\n",
    "            let remainderLow, remainderHigh = intset |> List.partition (fun n -> n <= next)\n",
    "            if (remainderLow |> List.isEmpty)\n",
    "            then next\n",
    "            else find remainderHigh (next+1)\n",
    "    find intset 0"
   ]
  },
  {
   "cell_type": "markdown",
   "metadata": {},
   "source": [
    "\\[0, 1, 2, 3, 5\\] => 4"
   ]
  },
  {
   "cell_type": "code",
   "execution_count": null,
   "metadata": {
    "dotnet_interactive": {
     "language": "fsharp"
    },
    "polyglot_notebook": {
     "kernelName": "fsharp"
    }
   },
   "outputs": [],
   "source": [
    "solution2 [0;1;2;3;5]"
   ]
  },
  {
   "cell_type": "markdown",
   "metadata": {},
   "source": [
    "\\[0, 1, 3, 4, 5\\] => 2"
   ]
  },
  {
   "cell_type": "code",
   "execution_count": null,
   "metadata": {
    "dotnet_interactive": {
     "language": "fsharp"
    },
    "polyglot_notebook": {
     "kernelName": "fsharp"
    }
   },
   "outputs": [],
   "source": [
    "solution2 [0;1;3;4;5]"
   ]
  },
  {
   "cell_type": "markdown",
   "metadata": {},
   "source": [
    "\\[2, 1, 0\\] => 3"
   ]
  },
  {
   "cell_type": "code",
   "execution_count": null,
   "metadata": {
    "dotnet_interactive": {
     "language": "fsharp"
    },
    "polyglot_notebook": {
     "kernelName": "fsharp"
    }
   },
   "outputs": [],
   "source": [
    "solution2 [2;1;0]"
   ]
  },
  {
   "cell_type": "markdown",
   "metadata": {},
   "source": [
    "\\[20, 10, 30\\] => 0"
   ]
  },
  {
   "cell_type": "code",
   "execution_count": null,
   "metadata": {
    "dotnet_interactive": {
     "language": "fsharp"
    },
    "polyglot_notebook": {
     "kernelName": "fsharp"
    }
   },
   "outputs": [],
   "source": [
    "solution2 [20;10;30]"
   ]
  },
  {
   "cell_type": "markdown",
   "metadata": {},
   "source": [
    "### Time Solution #2"
   ]
  },
  {
   "cell_type": "code",
   "execution_count": null,
   "metadata": {
    "dotnet_interactive": {
     "language": "fsharp"
    },
    "polyglot_notebook": {
     "kernelName": "fsharp"
    }
   },
   "outputs": [],
   "source": [
    "timeSolution 100 solution2"
   ]
  },
  {
   "cell_type": "code",
   "execution_count": null,
   "metadata": {
    "dotnet_interactive": {
     "language": "fsharp"
    },
    "polyglot_notebook": {
     "kernelName": "fsharp"
    }
   },
   "outputs": [],
   "source": [
    "timeSolution 100 solution1"
   ]
  },
  {
   "cell_type": "code",
   "execution_count": null,
   "metadata": {
    "dotnet_interactive": {
     "language": "fsharp"
    },
    "polyglot_notebook": {
     "kernelName": "fsharp"
    }
   },
   "outputs": [],
   "source": [
    "timeSolution 200 solution1"
   ]
  },
  {
   "cell_type": "code",
   "execution_count": null,
   "metadata": {
    "dotnet_interactive": {
     "language": "fsharp"
    },
    "polyglot_notebook": {
     "kernelName": "fsharp"
    }
   },
   "outputs": [],
   "source": [
    "timeSolution 200 solution1"
   ]
  },
  {
   "cell_type": "code",
   "execution_count": null,
   "metadata": {
    "dotnet_interactive": {
     "language": "fsharp"
    },
    "polyglot_notebook": {
     "kernelName": "fsharp"
    }
   },
   "outputs": [],
   "source": [
    "let maxLength = 30000\n",
    "let graphSegments = 600\n",
    "let increment = maxLength / graphSegments\n",
    "let lengths = {increment..increment..maxLength} |> Seq.toList\n",
    "let maximums = lengths\n",
    "let pairs: (int*int) list = List.zip maximums lengths\n",
    "let timings = pairs |> List.map (fun pair ->\n",
    "    let (maximum, length) = pair\n",
    "    printfn \"Timing length %d ...\" length\n",
    "    let (_, timing) = timeSolution length solution2\n",
    "    timing\n",
    ")\n",
    "printfn \"Done.\""
   ]
  },
  {
   "cell_type": "code",
   "execution_count": null,
   "metadata": {
    "dotnet_interactive": {
     "language": "csharp"
    },
    "polyglot_notebook": {
     "kernelName": "csharp"
    }
   },
   "outputs": [],
   "source": [
    "List.zip lengths timings"
   ]
  },
  {
   "cell_type": "markdown",
   "metadata": {},
   "source": [
    "Let's see what the total elapsed calculation time in seconds is."
   ]
  },
  {
   "cell_type": "code",
   "execution_count": null,
   "metadata": {
    "dotnet_interactive": {
     "language": "csharp"
    },
    "polyglot_notebook": {
     "kernelName": "csharp"
    }
   },
   "outputs": [],
   "source": [
    "let totalElapsedCalculationTimeInMicrosec = (timings |> List.sum) * 20 |> float\n",
    "let totalElapsedCalculationTimeInSeconds = totalElapsedCalculationTimeInMicrosec / 1000000.\n",
    "totalElapsedCalculationTimeInSeconds"
   ]
  },
  {
   "cell_type": "markdown",
   "metadata": {},
   "source": [
    "Now let's try fitting an O(n^q) curve to the results.  I use a semi-calculated, semi-empirical starting point, with a starting order of O(n^1.5)."
   ]
  },
  {
   "cell_type": "code",
   "execution_count": null,
   "metadata": {
    "dotnet_interactive": {
     "language": "csharp"
    },
    "polyglot_notebook": {
     "kernelName": "csharp"
    }
   },
   "outputs": [],
   "source": [
    "let lengthsFloat = lengths |> List.map float |> Array.ofList\n",
    "let timingsFloat = timings |> List.map float |> Array.ofList\n",
    "\n",
    "let first<'a> (arr: 'a[]) = arr[0]\n",
    "let last<'a> (arr: 'a[]) = arr[arr.Length - 1]\n",
    "\n",
    "// These scaling factors are used to give the parameters p0, p1 and p2 similar magnitudes, which tends to work best with fitting algorithms.\n",
    "let p2scale = 0.75 // assuming O(1.5) as a starting point\n",
    "let p1scale = ((last timingsFloat) - (first timingsFloat)) / ((last lengthsFloat) - (first lengthsFloat))\n",
    "let p0scale = (first timingsFloat) - p1scale * (first lengthsFloat)\n",
    "(p0scale, p1scale, p2scale)"
   ]
  },
  {
   "cell_type": "code",
   "execution_count": null,
   "metadata": {
    "dotnet_interactive": {
     "language": "csharp"
    },
    "polyglot_notebook": {
     "kernelName": "csharp"
    }
   },
   "outputs": [],
   "source": [
    "\n",
    "let fitFunc (p0:float) (p1:float) (p2:float) (x:float) =\n",
    "    // printfn \"p0 = %f, p1 = %f, p2 = %f, x = %f\" p0 p1 p2 x\n",
    "    (p0*p0scale) + (p1*p1scale) * x**(p2*p2scale)\n",
    "\n",
    "let p0init = 1.\n",
    "let p1init = 1.\n",
    "let p2init = 2. // assuming O(1.5) as a starting point\n",
    "let tolerance = 0.1\n",
    "let maxIterations = 10000\n",
    "(p0init, p1init, p2init)"
   ]
  },
  {
   "cell_type": "code",
   "execution_count": null,
   "metadata": {
    "dotnet_interactive": {
     "language": "csharp"
    },
    "polyglot_notebook": {
     "kernelName": "csharp"
    }
   },
   "outputs": [],
   "source": [
    "let (p0, p1, p2) = Fit.Curve(lengthsFloat, timingsFloat, fitFunc, p0init, p1init, p2init, tolerance, maxIterations).ToTuple()\n",
    "(p0, p1, p2)"
   ]
  },
  {
   "cell_type": "markdown",
   "metadata": {},
   "source": [
    "OK, let's plot the measurements and the fit together."
   ]
  },
  {
   "cell_type": "code",
   "execution_count": null,
   "metadata": {
    "dotnet_interactive": {
     "language": "csharp"
    },
    "polyglot_notebook": {
     "kernelName": "csharp"
    }
   },
   "outputs": [],
   "source": [
    "let measurementCurve = Scatter(x = lengths, y = timings, name=\"Measurements\")\n",
    "\n",
    "let fitLengths = {(lengths |> List.min)..(lengths |> List.max)} |> Seq.map float |> Array.ofSeq\n",
    "let fitTimings = fitLengths |> Array.map (fun x -> fitFunc p0 p1 p2 x)\n",
    "let fitCurve = Scatter(x = fitLengths, y = fitTimings, name=\"O(n) Fit Curve\")\n",
    "\n",
    "[measurementCurve; fitCurve]\n",
    "|> Chart.Plot\n",
    "|> Chart.WithTitle(\"Solution Time vs. Set Size\")\n",
    "|> Chart.WithXTitle(\"Set Size\")\n",
    "|> Chart.WithYTitle(\"Solution Time in Microsec\")"
   ]
  },
  {
   "cell_type": "code",
   "execution_count": null,
   "metadata": {
    "dotnet_interactive": {
     "language": "csharp"
    },
    "polyglot_notebook": {
     "kernelName": "csharp"
    }
   },
   "outputs": [],
   "source": [
    "let q = p2*p2scale\n",
    "q"
   ]
  },
  {
   "cell_type": "markdown",
   "metadata": {},
   "source": [
    "So, approximately, the order of 'solution1' is close to O(n)."
   ]
  },
  {
   "cell_type": "markdown",
   "metadata": {},
   "source": [
    "## Appendix"
   ]
  },
  {
   "cell_type": "markdown",
   "metadata": {},
   "source": [
    "**Note from Nicolas** If your set length is N, then your solution value must be in the range 0..N."
   ]
  }
 ],
 "metadata": {
  "kernelspec": {
   "display_name": ".NET (C#)",
   "language": "C#",
   "name": ".net-csharp"
  },
  "language_info": {
   "name": "polyglot-notebook"
  },
  "polyglot_notebook": {
   "kernelInfo": {
    "defaultKernelName": "csharp",
    "items": [
     {
      "aliases": [],
      "name": "csharp"
     }
    ]
   }
  }
 },
 "nbformat": 4,
 "nbformat_minor": 2
}
