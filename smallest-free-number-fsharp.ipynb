{
 "cells": [
  {
   "cell_type": "markdown",
   "metadata": {},
   "source": [
    "# smallest-free-number\n",
    "A coding challenge to find the smallest non-negative integer that is not part of a given set of non-negative integers.\n",
    "\n",
    "Thanks to [Nicolas Rinaudo](https://github.com/abcoates/smallest-free-number.git) for suggesting this problem for a coding challenge.\n",
    "\n",
    "## Description\n",
    "This is a simplification a general problem, find the 'least XXX' object that is not already used, where 'XXX' is some arbitrary measurement dimension such as 'large', 'expensive', etc.\n",
    "\n",
    "In this minimal version, you are given a set (i.e. an **unordered** set) of non-negative integers, and you have to find the smallest non-negative integer that is **not** a part of the set.\n",
    "\n",
    "## Examples\n",
    " * \\[0, 1, 2, 3, 5\\] => 4\n",
    " * \\[0, 1, 3, 4, 5\\] => 2\n",
    " * \\[2, 1, 0\\] => 3\n",
    " * \\[20, 10, 30\\] => 0\n",
    "\n",
    "## Special Note\n",
    "You **may** use AI to help you write the code.  As AI coding companions are inevitable, we might as well all start practicising how to use them.  **However**, if you have used AI to help you write your code, please make that clear in your solution.\n",
    "\n",
    "## Stretch Goal\n",
    "Finding a solution is straightforward, but can you find a solution that only takes linear time?  Measure how the time taken for your solution varies as the size of the set is increased, and see how close you can get to the time taken growing linearly with the size of the set.  Create a graph of the time measurements again set size.\n",
    "\n",
    "You will need to generate unordered sets of numbers that are sufficiently large to make the solution time sufficiently measurable.\n",
    "\n",
    "Your results may vary with the **density** of the sets, i.e. with the percentage of unused numbers in the range from zero to the largest number in the set."
   ]
  },
  {
   "cell_type": "markdown",
   "metadata": {},
   "source": [
    "## Solution - F#"
   ]
  },
  {
   "cell_type": "markdown",
   "metadata": {},
   "source": [
    "### Solution #1 - Brute Force"
   ]
  },
  {
   "cell_type": "markdown",
   "metadata": {},
   "source": [
    "As a first solution, let's try something \"brute force\" - sort the set, then walk up the integers from zero until we find one that isn't in the set."
   ]
  },
  {
   "cell_type": "code",
   "execution_count": 1,
   "metadata": {
    "dotnet_interactive": {
     "language": "fsharp"
    },
    "polyglot_notebook": {
     "kernelName": "fsharp"
    }
   },
   "outputs": [],
   "source": [
    "let solution1 (intset: int list): int = // 'intset' must be a set in unordered list format - to avoid pre-sorted F# sets giving an advantage\n",
    "    let sortedset = intset |> List.sort\n",
    "    let rec find (sortedlist: int list) (nextValue: int) =\n",
    "        match sortedlist with\n",
    "        | [] -> nextValue\n",
    "        | other ->\n",
    "            let listhead = sortedlist |> List.head\n",
    "            if (nextValue < listhead)\n",
    "            then nextValue\n",
    "            elif (nextValue = listhead)\n",
    "            then find (sortedlist |> List.tail) (nextValue+1)\n",
    "            else find(sortedlist |> List.tail) nextValue\n",
    "    find sortedset 0"
   ]
  },
  {
   "cell_type": "markdown",
   "metadata": {},
   "source": [
    "\\[0, 1, 2, 3, 5\\] => 4"
   ]
  },
  {
   "cell_type": "code",
   "execution_count": 2,
   "metadata": {
    "dotnet_interactive": {
     "language": "fsharp"
    },
    "polyglot_notebook": {
     "kernelName": "fsharp"
    }
   },
   "outputs": [
    {
     "data": {
      "text/html": [
       "<div class=\"dni-plaintext\"><pre>4</pre></div><style>\r\n",
       ".dni-code-hint {\r\n",
       "    font-style: italic;\r\n",
       "    overflow: hidden;\r\n",
       "    white-space: nowrap;\r\n",
       "}\r\n",
       ".dni-treeview {\r\n",
       "    white-space: nowrap;\r\n",
       "}\r\n",
       ".dni-treeview td {\r\n",
       "    vertical-align: top;\r\n",
       "    text-align: start;\r\n",
       "}\r\n",
       "details.dni-treeview {\r\n",
       "    padding-left: 1em;\r\n",
       "}\r\n",
       "table td {\r\n",
       "    text-align: start;\r\n",
       "}\r\n",
       "table tr { \r\n",
       "    vertical-align: top; \r\n",
       "    margin: 0em 0px;\r\n",
       "}\r\n",
       "table tr td pre \r\n",
       "{ \r\n",
       "    vertical-align: top !important; \r\n",
       "    margin: 0em 0px !important;\r\n",
       "} \r\n",
       "table th {\r\n",
       "    text-align: start;\r\n",
       "}\r\n",
       "</style>"
      ]
     },
     "metadata": {},
     "output_type": "display_data"
    }
   ],
   "source": [
    "solution1 [0;1;2;3;5]"
   ]
  },
  {
   "cell_type": "markdown",
   "metadata": {},
   "source": [
    "\\[0, 1, 3, 4, 5\\] => 2"
   ]
  },
  {
   "cell_type": "code",
   "execution_count": 3,
   "metadata": {
    "dotnet_interactive": {
     "language": "fsharp"
    },
    "polyglot_notebook": {
     "kernelName": "fsharp"
    }
   },
   "outputs": [
    {
     "data": {
      "text/html": [
       "<div class=\"dni-plaintext\"><pre>2</pre></div><style>\r\n",
       ".dni-code-hint {\r\n",
       "    font-style: italic;\r\n",
       "    overflow: hidden;\r\n",
       "    white-space: nowrap;\r\n",
       "}\r\n",
       ".dni-treeview {\r\n",
       "    white-space: nowrap;\r\n",
       "}\r\n",
       ".dni-treeview td {\r\n",
       "    vertical-align: top;\r\n",
       "    text-align: start;\r\n",
       "}\r\n",
       "details.dni-treeview {\r\n",
       "    padding-left: 1em;\r\n",
       "}\r\n",
       "table td {\r\n",
       "    text-align: start;\r\n",
       "}\r\n",
       "table tr { \r\n",
       "    vertical-align: top; \r\n",
       "    margin: 0em 0px;\r\n",
       "}\r\n",
       "table tr td pre \r\n",
       "{ \r\n",
       "    vertical-align: top !important; \r\n",
       "    margin: 0em 0px !important;\r\n",
       "} \r\n",
       "table th {\r\n",
       "    text-align: start;\r\n",
       "}\r\n",
       "</style>"
      ]
     },
     "metadata": {},
     "output_type": "display_data"
    }
   ],
   "source": [
    "solution1 [0;1;3;4;5]"
   ]
  },
  {
   "cell_type": "markdown",
   "metadata": {},
   "source": [
    "\\[2, 1, 0\\] => 3"
   ]
  },
  {
   "cell_type": "code",
   "execution_count": 4,
   "metadata": {
    "dotnet_interactive": {
     "language": "fsharp"
    },
    "polyglot_notebook": {
     "kernelName": "fsharp"
    }
   },
   "outputs": [
    {
     "data": {
      "text/html": [
       "<div class=\"dni-plaintext\"><pre>3</pre></div><style>\r\n",
       ".dni-code-hint {\r\n",
       "    font-style: italic;\r\n",
       "    overflow: hidden;\r\n",
       "    white-space: nowrap;\r\n",
       "}\r\n",
       ".dni-treeview {\r\n",
       "    white-space: nowrap;\r\n",
       "}\r\n",
       ".dni-treeview td {\r\n",
       "    vertical-align: top;\r\n",
       "    text-align: start;\r\n",
       "}\r\n",
       "details.dni-treeview {\r\n",
       "    padding-left: 1em;\r\n",
       "}\r\n",
       "table td {\r\n",
       "    text-align: start;\r\n",
       "}\r\n",
       "table tr { \r\n",
       "    vertical-align: top; \r\n",
       "    margin: 0em 0px;\r\n",
       "}\r\n",
       "table tr td pre \r\n",
       "{ \r\n",
       "    vertical-align: top !important; \r\n",
       "    margin: 0em 0px !important;\r\n",
       "} \r\n",
       "table th {\r\n",
       "    text-align: start;\r\n",
       "}\r\n",
       "</style>"
      ]
     },
     "metadata": {},
     "output_type": "display_data"
    }
   ],
   "source": [
    "solution1 [0;1;2]"
   ]
  },
  {
   "cell_type": "markdown",
   "metadata": {},
   "source": [
    "\\[20, 10, 30\\] => 0"
   ]
  },
  {
   "cell_type": "code",
   "execution_count": 5,
   "metadata": {
    "dotnet_interactive": {
     "language": "fsharp"
    },
    "polyglot_notebook": {
     "kernelName": "fsharp"
    }
   },
   "outputs": [
    {
     "data": {
      "text/html": [
       "<div class=\"dni-plaintext\"><pre>0</pre></div><style>\r\n",
       ".dni-code-hint {\r\n",
       "    font-style: italic;\r\n",
       "    overflow: hidden;\r\n",
       "    white-space: nowrap;\r\n",
       "}\r\n",
       ".dni-treeview {\r\n",
       "    white-space: nowrap;\r\n",
       "}\r\n",
       ".dni-treeview td {\r\n",
       "    vertical-align: top;\r\n",
       "    text-align: start;\r\n",
       "}\r\n",
       "details.dni-treeview {\r\n",
       "    padding-left: 1em;\r\n",
       "}\r\n",
       "table td {\r\n",
       "    text-align: start;\r\n",
       "}\r\n",
       "table tr { \r\n",
       "    vertical-align: top; \r\n",
       "    margin: 0em 0px;\r\n",
       "}\r\n",
       "table tr td pre \r\n",
       "{ \r\n",
       "    vertical-align: top !important; \r\n",
       "    margin: 0em 0px !important;\r\n",
       "} \r\n",
       "table th {\r\n",
       "    text-align: start;\r\n",
       "}\r\n",
       "</style>"
      ]
     },
     "metadata": {},
     "output_type": "display_data"
    }
   ],
   "source": [
    "solution1 [10;20;30]"
   ]
  },
  {
   "cell_type": "markdown",
   "metadata": {},
   "source": [
    "So 'solution1' works correctly.  However, how performant is it?"
   ]
  },
  {
   "cell_type": "markdown",
   "metadata": {},
   "source": [
    "We'll need a graphing package - 'XPlot' will do nicely."
   ]
  },
  {
   "cell_type": "code",
   "execution_count": 6,
   "metadata": {
    "dotnet_interactive": {
     "language": "fsharp"
    },
    "polyglot_notebook": {
     "kernelName": "fsharp"
    }
   },
   "outputs": [
    {
     "data": {
      "text/html": [
       "<div><div></div><div></div><div><strong>Installed Packages</strong><ul><li><span>XPlot.Plotly, 4.0.6</span></li><li><span>XPlot.Plotly.Interactive, 4.0.7</span></li></ul></div></div>"
      ]
     },
     "metadata": {},
     "output_type": "display_data"
    },
    {
     "data": {
      "text/plain": [
       "Loading extensions from `C:\\Users\\abcoa\\.nuget\\packages\\xplot.plotly.interactive\\4.0.7\\lib\\net7.0\\XPlot.Plotly.Interactive.dll`"
      ]
     },
     "metadata": {},
     "output_type": "display_data"
    },
    {
     "data": {
      "text/markdown": [
       "Configuring PowerShell Kernel for XPlot.Plotly integration."
      ]
     },
     "metadata": {},
     "output_type": "display_data"
    },
    {
     "data": {
      "text/markdown": [
       "Installed support for XPlot.Plotly."
      ]
     },
     "metadata": {},
     "output_type": "display_data"
    }
   ],
   "source": [
    "#r \"nuget: XPlot.Plotly\"\n",
    "#r \"nuget: XPlot.Plotly.Interactive\"\n",
    "\n",
    "open XPlot.Plotly"
   ]
  },
  {
   "cell_type": "markdown",
   "metadata": {},
   "source": [
    "Let's also get a package for curve fitting."
   ]
  },
  {
   "cell_type": "code",
   "execution_count": 7,
   "metadata": {
    "dotnet_interactive": {
     "language": "fsharp"
    },
    "polyglot_notebook": {
     "kernelName": "fsharp"
    }
   },
   "outputs": [
    {
     "data": {
      "text/html": [
       "<div><div></div><div></div><div><strong>Installed Packages</strong><ul><li><span>MathNet.Numerics, 5.0.0</span></li></ul></div></div>"
      ]
     },
     "metadata": {},
     "output_type": "display_data"
    }
   ],
   "source": [
    "#r \"nuget: MathNet.Numerics\"\n",
    "\n",
    "open MathNet.Numerics"
   ]
  },
  {
   "cell_type": "markdown",
   "metadata": {},
   "source": [
    "We'll need functions that can generate random sets of non-negative integers.\n",
    "\n",
    "**However**, F# seems to implement sets as sorted lists, which makes it too easy to find the smallest unused integer.  As such, I will need to return the set as a list in which the order of the elements has been randomised."
   ]
  },
  {
   "cell_type": "code",
   "execution_count": 8,
   "metadata": {
    "dotnet_interactive": {
     "language": "fsharp"
    },
    "polyglot_notebook": {
     "kernelName": "fsharp"
    }
   },
   "outputs": [],
   "source": [
    "open System\n",
    "\n",
    "let randomGenerator = Random()"
   ]
  },
  {
   "cell_type": "code",
   "execution_count": 9,
   "metadata": {
    "dotnet_interactive": {
     "language": "fsharp"
    },
    "polyglot_notebook": {
     "kernelName": "fsharp"
    }
   },
   "outputs": [],
   "source": [
    "let rec randomiseList (aList: 'a list): 'a list =\n",
    "    match aList with\n",
    "    | [] -> aList\n",
    "    | head::[] -> aList\n",
    "    | _ ->\n",
    "        let skipSize = randomGenerator.Next(0, aList.Length)\n",
    "        let start = aList |> List.take skipSize\n",
    "        let remainder = aList |> List.skip skipSize\n",
    "        let chosen = remainder |> List.head\n",
    "        let rest = remainder |> List.tail\n",
    "        chosen::(randomiseList(List.concat [start; rest]))"
   ]
  },
  {
   "cell_type": "code",
   "execution_count": 10,
   "metadata": {
    "dotnet_interactive": {
     "language": "fsharp"
    },
    "polyglot_notebook": {
     "kernelName": "fsharp"
    }
   },
   "outputs": [
    {
     "data": {
      "text/html": [
       "<details open=\"open\" class=\"dni-treeview\"><summary><span class=\"dni-code-hint\"><code>[ 7, 4, 6, 10, 9, 8, 2, 5, 1, 3 ]</code></span></summary><div><table><thead><tr></tr></thead><tbody><tr><td>HeadOrDefault</td><td><div class=\"dni-plaintext\"><pre>7</pre></div></td></tr><tr><td>TailOrNull</td><td><details class=\"dni-treeview\"><summary><span class=\"dni-code-hint\"><code>[ 4, 6, 10, 9, 8, 2, 5, 1, 3 ]</code></span></summary><div><table><thead><tr></tr></thead><tbody><tr><td>HeadOrDefault</td><td><div class=\"dni-plaintext\"><pre>4</pre></div></td></tr><tr><td>TailOrNull</td><td><details class=\"dni-treeview\"><summary><span class=\"dni-code-hint\"><code>[ 6, 10, 9, 8, 2, 5, 1, 3 ]</code></span></summary><div><table><thead><tr></tr></thead><tbody><tr><td>HeadOrDefault</td><td><div class=\"dni-plaintext\"><pre>6</pre></div></td></tr><tr><td>TailOrNull</td><td><details class=\"dni-treeview\"><summary><span class=\"dni-code-hint\"><code>[ 10, 9, 8, 2, 5, 1, 3 ]</code></span></summary><div><table><thead><tr></tr></thead><tbody><tr><td>HeadOrDefault</td><td><div class=\"dni-plaintext\"><pre>10</pre></div></td></tr><tr><td>TailOrNull</td><td><details class=\"dni-treeview\"><summary><span class=\"dni-code-hint\"><code>[ 9, 8, 2, 5, 1, 3 ]</code></span></summary><div><table><thead><tr></tr></thead><tbody><tr><td>HeadOrDefault</td><td><div class=\"dni-plaintext\"><pre>9</pre></div></td></tr><tr><td>TailOrNull</td><td><details class=\"dni-treeview\"><summary><span class=\"dni-code-hint\"><code>[ 8, 2, 5, 1, 3 ]</code></span></summary><div><table><thead><tr></tr></thead><tbody><tr><td>HeadOrDefault</td><td>8</td></tr><tr><td>TailOrNull</td><td>[ 2, 5, 1, 3 ]</td></tr><tr><td>Head</td><td>8</td></tr><tr><td>Tail</td><td>[ 2, 5, 1, 3 ]</td></tr><tr><td><i>(values)</i></td><td><div class=\"dni-plaintext\"><pre>[ 8, 2, 5, 1, 3 ]</pre></div></td></tr></tbody></table></div></details></td></tr><tr><td>Head</td><td><div class=\"dni-plaintext\"><pre>9</pre></div></td></tr><tr><td>Tail</td><td><details class=\"dni-treeview\"><summary><span class=\"dni-code-hint\"><code>[ 8, 2, 5, 1, 3 ]</code></span></summary><div><table><thead><tr></tr></thead><tbody><tr><td>HeadOrDefault</td><td>8</td></tr><tr><td>TailOrNull</td><td>[ 2, 5, 1, 3 ]</td></tr><tr><td>Head</td><td>8</td></tr><tr><td>Tail</td><td>[ 2, 5, 1, 3 ]</td></tr><tr><td><i>(values)</i></td><td><div class=\"dni-plaintext\"><pre>[ 8, 2, 5, 1, 3 ]</pre></div></td></tr></tbody></table></div></details></td></tr><tr><td><i>(values)</i></td><td><div class=\"dni-plaintext\"><pre>[ 9, 8, 2, 5, 1, 3 ]</pre></div></td></tr></tbody></table></div></details></td></tr><tr><td>Head</td><td><div class=\"dni-plaintext\"><pre>10</pre></div></td></tr><tr><td>Tail</td><td><details class=\"dni-treeview\"><summary><span class=\"dni-code-hint\"><code>[ 9, 8, 2, 5, 1, 3 ]</code></span></summary><div><table><thead><tr></tr></thead><tbody><tr><td>HeadOrDefault</td><td><div class=\"dni-plaintext\"><pre>9</pre></div></td></tr><tr><td>TailOrNull</td><td><details class=\"dni-treeview\"><summary><span class=\"dni-code-hint\"><code>[ 8, 2, 5, 1, 3 ]</code></span></summary><div><table><thead><tr></tr></thead><tbody><tr><td>HeadOrDefault</td><td>8</td></tr><tr><td>TailOrNull</td><td>[ 2, 5, 1, 3 ]</td></tr><tr><td>Head</td><td>8</td></tr><tr><td>Tail</td><td>[ 2, 5, 1, 3 ]</td></tr><tr><td><i>(values)</i></td><td><div class=\"dni-plaintext\"><pre>[ 8, 2, 5, 1, 3 ]</pre></div></td></tr></tbody></table></div></details></td></tr><tr><td>Head</td><td><div class=\"dni-plaintext\"><pre>9</pre></div></td></tr><tr><td>Tail</td><td><details class=\"dni-treeview\"><summary><span class=\"dni-code-hint\"><code>[ 8, 2, 5, 1, 3 ]</code></span></summary><div><table><thead><tr></tr></thead><tbody><tr><td>HeadOrDefault</td><td>8</td></tr><tr><td>TailOrNull</td><td>[ 2, 5, 1, 3 ]</td></tr><tr><td>Head</td><td>8</td></tr><tr><td>Tail</td><td>[ 2, 5, 1, 3 ]</td></tr><tr><td><i>(values)</i></td><td><div class=\"dni-plaintext\"><pre>[ 8, 2, 5, 1, 3 ]</pre></div></td></tr></tbody></table></div></details></td></tr><tr><td><i>(values)</i></td><td><div class=\"dni-plaintext\"><pre>[ 9, 8, 2, 5, 1, 3 ]</pre></div></td></tr></tbody></table></div></details></td></tr><tr><td><i>(values)</i></td><td><div class=\"dni-plaintext\"><pre>[ 10, 9, 8, 2, 5, 1, 3 ]</pre></div></td></tr></tbody></table></div></details></td></tr><tr><td>Head</td><td><div class=\"dni-plaintext\"><pre>6</pre></div></td></tr><tr><td>Tail</td><td><details class=\"dni-treeview\"><summary><span class=\"dni-code-hint\"><code>[ 10, 9, 8, 2, 5, 1, 3 ]</code></span></summary><div><table><thead><tr></tr></thead><tbody><tr><td>HeadOrDefault</td><td><div class=\"dni-plaintext\"><pre>10</pre></div></td></tr><tr><td>TailOrNull</td><td><details class=\"dni-treeview\"><summary><span class=\"dni-code-hint\"><code>[ 9, 8, 2, 5, 1, 3 ]</code></span></summary><div><table><thead><tr></tr></thead><tbody><tr><td>HeadOrDefault</td><td><div class=\"dni-plaintext\"><pre>9</pre></div></td></tr><tr><td>TailOrNull</td><td><details class=\"dni-treeview\"><summary><span class=\"dni-code-hint\"><code>[ 8, 2, 5, 1, 3 ]</code></span></summary><div><table><thead><tr></tr></thead><tbody><tr><td>HeadOrDefault</td><td>8</td></tr><tr><td>TailOrNull</td><td>[ 2, 5, 1, 3 ]</td></tr><tr><td>Head</td><td>8</td></tr><tr><td>Tail</td><td>[ 2, 5, 1, 3 ]</td></tr><tr><td><i>(values)</i></td><td><div class=\"dni-plaintext\"><pre>[ 8, 2, 5, 1, 3 ]</pre></div></td></tr></tbody></table></div></details></td></tr><tr><td>Head</td><td><div class=\"dni-plaintext\"><pre>9</pre></div></td></tr><tr><td>Tail</td><td><details class=\"dni-treeview\"><summary><span class=\"dni-code-hint\"><code>[ 8, 2, 5, 1, 3 ]</code></span></summary><div><table><thead><tr></tr></thead><tbody><tr><td>HeadOrDefault</td><td>8</td></tr><tr><td>TailOrNull</td><td>[ 2, 5, 1, 3 ]</td></tr><tr><td>Head</td><td>8</td></tr><tr><td>Tail</td><td>[ 2, 5, 1, 3 ]</td></tr><tr><td><i>(values)</i></td><td><div class=\"dni-plaintext\"><pre>[ 8, 2, 5, 1, 3 ]</pre></div></td></tr></tbody></table></div></details></td></tr><tr><td><i>(values)</i></td><td><div class=\"dni-plaintext\"><pre>[ 9, 8, 2, 5, 1, 3 ]</pre></div></td></tr></tbody></table></div></details></td></tr><tr><td>Head</td><td><div class=\"dni-plaintext\"><pre>10</pre></div></td></tr><tr><td>Tail</td><td><details class=\"dni-treeview\"><summary><span class=\"dni-code-hint\"><code>[ 9, 8, 2, 5, 1, 3 ]</code></span></summary><div><table><thead><tr></tr></thead><tbody><tr><td>HeadOrDefault</td><td><div class=\"dni-plaintext\"><pre>9</pre></div></td></tr><tr><td>TailOrNull</td><td><details class=\"dni-treeview\"><summary><span class=\"dni-code-hint\"><code>[ 8, 2, 5, 1, 3 ]</code></span></summary><div><table><thead><tr></tr></thead><tbody><tr><td>HeadOrDefault</td><td>8</td></tr><tr><td>TailOrNull</td><td>[ 2, 5, 1, 3 ]</td></tr><tr><td>Head</td><td>8</td></tr><tr><td>Tail</td><td>[ 2, 5, 1, 3 ]</td></tr><tr><td><i>(values)</i></td><td><div class=\"dni-plaintext\"><pre>[ 8, 2, 5, 1, 3 ]</pre></div></td></tr></tbody></table></div></details></td></tr><tr><td>Head</td><td><div class=\"dni-plaintext\"><pre>9</pre></div></td></tr><tr><td>Tail</td><td><details class=\"dni-treeview\"><summary><span class=\"dni-code-hint\"><code>[ 8, 2, 5, 1, 3 ]</code></span></summary><div><table><thead><tr></tr></thead><tbody><tr><td>HeadOrDefault</td><td>8</td></tr><tr><td>TailOrNull</td><td>[ 2, 5, 1, 3 ]</td></tr><tr><td>Head</td><td>8</td></tr><tr><td>Tail</td><td>[ 2, 5, 1, 3 ]</td></tr><tr><td><i>(values)</i></td><td><div class=\"dni-plaintext\"><pre>[ 8, 2, 5, 1, 3 ]</pre></div></td></tr></tbody></table></div></details></td></tr><tr><td><i>(values)</i></td><td><div class=\"dni-plaintext\"><pre>[ 9, 8, 2, 5, 1, 3 ]</pre></div></td></tr></tbody></table></div></details></td></tr><tr><td><i>(values)</i></td><td><div class=\"dni-plaintext\"><pre>[ 10, 9, 8, 2, 5, 1, 3 ]</pre></div></td></tr></tbody></table></div></details></td></tr><tr><td><i>(values)</i></td><td><div class=\"dni-plaintext\"><pre>[ 6, 10, 9, 8, 2, 5, 1, 3 ]</pre></div></td></tr></tbody></table></div></details></td></tr><tr><td>Head</td><td><div class=\"dni-plaintext\"><pre>4</pre></div></td></tr><tr><td>Tail</td><td><details class=\"dni-treeview\"><summary><span class=\"dni-code-hint\"><code>[ 6, 10, 9, 8, 2, 5, 1, 3 ]</code></span></summary><div><table><thead><tr></tr></thead><tbody><tr><td>HeadOrDefault</td><td><div class=\"dni-plaintext\"><pre>6</pre></div></td></tr><tr><td>TailOrNull</td><td><details class=\"dni-treeview\"><summary><span class=\"dni-code-hint\"><code>[ 10, 9, 8, 2, 5, 1, 3 ]</code></span></summary><div><table><thead><tr></tr></thead><tbody><tr><td>HeadOrDefault</td><td><div class=\"dni-plaintext\"><pre>10</pre></div></td></tr><tr><td>TailOrNull</td><td><details class=\"dni-treeview\"><summary><span class=\"dni-code-hint\"><code>[ 9, 8, 2, 5, 1, 3 ]</code></span></summary><div><table><thead><tr></tr></thead><tbody><tr><td>HeadOrDefault</td><td><div class=\"dni-plaintext\"><pre>9</pre></div></td></tr><tr><td>TailOrNull</td><td><details class=\"dni-treeview\"><summary><span class=\"dni-code-hint\"><code>[ 8, 2, 5, 1, 3 ]</code></span></summary><div><table><thead><tr></tr></thead><tbody><tr><td>HeadOrDefault</td><td>8</td></tr><tr><td>TailOrNull</td><td>[ 2, 5, 1, 3 ]</td></tr><tr><td>Head</td><td>8</td></tr><tr><td>Tail</td><td>[ 2, 5, 1, 3 ]</td></tr><tr><td><i>(values)</i></td><td><div class=\"dni-plaintext\"><pre>[ 8, 2, 5, 1, 3 ]</pre></div></td></tr></tbody></table></div></details></td></tr><tr><td>Head</td><td><div class=\"dni-plaintext\"><pre>9</pre></div></td></tr><tr><td>Tail</td><td><details class=\"dni-treeview\"><summary><span class=\"dni-code-hint\"><code>[ 8, 2, 5, 1, 3 ]</code></span></summary><div><table><thead><tr></tr></thead><tbody><tr><td>HeadOrDefault</td><td>8</td></tr><tr><td>TailOrNull</td><td>[ 2, 5, 1, 3 ]</td></tr><tr><td>Head</td><td>8</td></tr><tr><td>Tail</td><td>[ 2, 5, 1, 3 ]</td></tr><tr><td><i>(values)</i></td><td><div class=\"dni-plaintext\"><pre>[ 8, 2, 5, 1, 3 ]</pre></div></td></tr></tbody></table></div></details></td></tr><tr><td><i>(values)</i></td><td><div class=\"dni-plaintext\"><pre>[ 9, 8, 2, 5, 1, 3 ]</pre></div></td></tr></tbody></table></div></details></td></tr><tr><td>Head</td><td><div class=\"dni-plaintext\"><pre>10</pre></div></td></tr><tr><td>Tail</td><td><details class=\"dni-treeview\"><summary><span class=\"dni-code-hint\"><code>[ 9, 8, 2, 5, 1, 3 ]</code></span></summary><div><table><thead><tr></tr></thead><tbody><tr><td>HeadOrDefault</td><td><div class=\"dni-plaintext\"><pre>9</pre></div></td></tr><tr><td>TailOrNull</td><td><details class=\"dni-treeview\"><summary><span class=\"dni-code-hint\"><code>[ 8, 2, 5, 1, 3 ]</code></span></summary><div><table><thead><tr></tr></thead><tbody><tr><td>HeadOrDefault</td><td>8</td></tr><tr><td>TailOrNull</td><td>[ 2, 5, 1, 3 ]</td></tr><tr><td>Head</td><td>8</td></tr><tr><td>Tail</td><td>[ 2, 5, 1, 3 ]</td></tr><tr><td><i>(values)</i></td><td><div class=\"dni-plaintext\"><pre>[ 8, 2, 5, 1, 3 ]</pre></div></td></tr></tbody></table></div></details></td></tr><tr><td>Head</td><td><div class=\"dni-plaintext\"><pre>9</pre></div></td></tr><tr><td>Tail</td><td><details class=\"dni-treeview\"><summary><span class=\"dni-code-hint\"><code>[ 8, 2, 5, 1, 3 ]</code></span></summary><div><table><thead><tr></tr></thead><tbody><tr><td>HeadOrDefault</td><td>8</td></tr><tr><td>TailOrNull</td><td>[ 2, 5, 1, 3 ]</td></tr><tr><td>Head</td><td>8</td></tr><tr><td>Tail</td><td>[ 2, 5, 1, 3 ]</td></tr><tr><td><i>(values)</i></td><td><div class=\"dni-plaintext\"><pre>[ 8, 2, 5, 1, 3 ]</pre></div></td></tr></tbody></table></div></details></td></tr><tr><td><i>(values)</i></td><td><div class=\"dni-plaintext\"><pre>[ 9, 8, 2, 5, 1, 3 ]</pre></div></td></tr></tbody></table></div></details></td></tr><tr><td><i>(values)</i></td><td><div class=\"dni-plaintext\"><pre>[ 10, 9, 8, 2, 5, 1, 3 ]</pre></div></td></tr></tbody></table></div></details></td></tr><tr><td>Head</td><td><div class=\"dni-plaintext\"><pre>6</pre></div></td></tr><tr><td>Tail</td><td><details class=\"dni-treeview\"><summary><span class=\"dni-code-hint\"><code>[ 10, 9, 8, 2, 5, 1, 3 ]</code></span></summary><div><table><thead><tr></tr></thead><tbody><tr><td>HeadOrDefault</td><td><div class=\"dni-plaintext\"><pre>10</pre></div></td></tr><tr><td>TailOrNull</td><td><details class=\"dni-treeview\"><summary><span class=\"dni-code-hint\"><code>[ 9, 8, 2, 5, 1, 3 ]</code></span></summary><div><table><thead><tr></tr></thead><tbody><tr><td>HeadOrDefault</td><td><div class=\"dni-plaintext\"><pre>9</pre></div></td></tr><tr><td>TailOrNull</td><td><details class=\"dni-treeview\"><summary><span class=\"dni-code-hint\"><code>[ 8, 2, 5, 1, 3 ]</code></span></summary><div><table><thead><tr></tr></thead><tbody><tr><td>HeadOrDefault</td><td>8</td></tr><tr><td>TailOrNull</td><td>[ 2, 5, 1, 3 ]</td></tr><tr><td>Head</td><td>8</td></tr><tr><td>Tail</td><td>[ 2, 5, 1, 3 ]</td></tr><tr><td><i>(values)</i></td><td><div class=\"dni-plaintext\"><pre>[ 8, 2, 5, 1, 3 ]</pre></div></td></tr></tbody></table></div></details></td></tr><tr><td>Head</td><td><div class=\"dni-plaintext\"><pre>9</pre></div></td></tr><tr><td>Tail</td><td><details class=\"dni-treeview\"><summary><span class=\"dni-code-hint\"><code>[ 8, 2, 5, 1, 3 ]</code></span></summary><div><table><thead><tr></tr></thead><tbody><tr><td>HeadOrDefault</td><td>8</td></tr><tr><td>TailOrNull</td><td>[ 2, 5, 1, 3 ]</td></tr><tr><td>Head</td><td>8</td></tr><tr><td>Tail</td><td>[ 2, 5, 1, 3 ]</td></tr><tr><td><i>(values)</i></td><td><div class=\"dni-plaintext\"><pre>[ 8, 2, 5, 1, 3 ]</pre></div></td></tr></tbody></table></div></details></td></tr><tr><td><i>(values)</i></td><td><div class=\"dni-plaintext\"><pre>[ 9, 8, 2, 5, 1, 3 ]</pre></div></td></tr></tbody></table></div></details></td></tr><tr><td>Head</td><td><div class=\"dni-plaintext\"><pre>10</pre></div></td></tr><tr><td>Tail</td><td><details class=\"dni-treeview\"><summary><span class=\"dni-code-hint\"><code>[ 9, 8, 2, 5, 1, 3 ]</code></span></summary><div><table><thead><tr></tr></thead><tbody><tr><td>HeadOrDefault</td><td><div class=\"dni-plaintext\"><pre>9</pre></div></td></tr><tr><td>TailOrNull</td><td><details class=\"dni-treeview\"><summary><span class=\"dni-code-hint\"><code>[ 8, 2, 5, 1, 3 ]</code></span></summary><div><table><thead><tr></tr></thead><tbody><tr><td>HeadOrDefault</td><td>8</td></tr><tr><td>TailOrNull</td><td>[ 2, 5, 1, 3 ]</td></tr><tr><td>Head</td><td>8</td></tr><tr><td>Tail</td><td>[ 2, 5, 1, 3 ]</td></tr><tr><td><i>(values)</i></td><td><div class=\"dni-plaintext\"><pre>[ 8, 2, 5, 1, 3 ]</pre></div></td></tr></tbody></table></div></details></td></tr><tr><td>Head</td><td><div class=\"dni-plaintext\"><pre>9</pre></div></td></tr><tr><td>Tail</td><td><details class=\"dni-treeview\"><summary><span class=\"dni-code-hint\"><code>[ 8, 2, 5, 1, 3 ]</code></span></summary><div><table><thead><tr></tr></thead><tbody><tr><td>HeadOrDefault</td><td>8</td></tr><tr><td>TailOrNull</td><td>[ 2, 5, 1, 3 ]</td></tr><tr><td>Head</td><td>8</td></tr><tr><td>Tail</td><td>[ 2, 5, 1, 3 ]</td></tr><tr><td><i>(values)</i></td><td><div class=\"dni-plaintext\"><pre>[ 8, 2, 5, 1, 3 ]</pre></div></td></tr></tbody></table></div></details></td></tr><tr><td><i>(values)</i></td><td><div class=\"dni-plaintext\"><pre>[ 9, 8, 2, 5, 1, 3 ]</pre></div></td></tr></tbody></table></div></details></td></tr><tr><td><i>(values)</i></td><td><div class=\"dni-plaintext\"><pre>[ 10, 9, 8, 2, 5, 1, 3 ]</pre></div></td></tr></tbody></table></div></details></td></tr><tr><td><i>(values)</i></td><td><div class=\"dni-plaintext\"><pre>[ 6, 10, 9, 8, 2, 5, 1, 3 ]</pre></div></td></tr></tbody></table></div></details></td></tr><tr><td><i>(values)</i></td><td><div class=\"dni-plaintext\"><pre>[ 4, 6, 10, 9, 8, 2, 5, 1, 3 ]</pre></div></td></tr></tbody></table></div></details></td></tr><tr><td>Head</td><td><div class=\"dni-plaintext\"><pre>7</pre></div></td></tr><tr><td>Tail</td><td><details class=\"dni-treeview\"><summary><span class=\"dni-code-hint\"><code>[ 4, 6, 10, 9, 8, 2, 5, 1, 3 ]</code></span></summary><div><table><thead><tr></tr></thead><tbody><tr><td>HeadOrDefault</td><td><div class=\"dni-plaintext\"><pre>4</pre></div></td></tr><tr><td>TailOrNull</td><td><details class=\"dni-treeview\"><summary><span class=\"dni-code-hint\"><code>[ 6, 10, 9, 8, 2, 5, 1, 3 ]</code></span></summary><div><table><thead><tr></tr></thead><tbody><tr><td>HeadOrDefault</td><td><div class=\"dni-plaintext\"><pre>6</pre></div></td></tr><tr><td>TailOrNull</td><td><details class=\"dni-treeview\"><summary><span class=\"dni-code-hint\"><code>[ 10, 9, 8, 2, 5, 1, 3 ]</code></span></summary><div><table><thead><tr></tr></thead><tbody><tr><td>HeadOrDefault</td><td><div class=\"dni-plaintext\"><pre>10</pre></div></td></tr><tr><td>TailOrNull</td><td><details class=\"dni-treeview\"><summary><span class=\"dni-code-hint\"><code>[ 9, 8, 2, 5, 1, 3 ]</code></span></summary><div><table><thead><tr></tr></thead><tbody><tr><td>HeadOrDefault</td><td><div class=\"dni-plaintext\"><pre>9</pre></div></td></tr><tr><td>TailOrNull</td><td><details class=\"dni-treeview\"><summary><span class=\"dni-code-hint\"><code>[ 8, 2, 5, 1, 3 ]</code></span></summary><div><table><thead><tr></tr></thead><tbody><tr><td>HeadOrDefault</td><td>8</td></tr><tr><td>TailOrNull</td><td>[ 2, 5, 1, 3 ]</td></tr><tr><td>Head</td><td>8</td></tr><tr><td>Tail</td><td>[ 2, 5, 1, 3 ]</td></tr><tr><td><i>(values)</i></td><td><div class=\"dni-plaintext\"><pre>[ 8, 2, 5, 1, 3 ]</pre></div></td></tr></tbody></table></div></details></td></tr><tr><td>Head</td><td><div class=\"dni-plaintext\"><pre>9</pre></div></td></tr><tr><td>Tail</td><td><details class=\"dni-treeview\"><summary><span class=\"dni-code-hint\"><code>[ 8, 2, 5, 1, 3 ]</code></span></summary><div><table><thead><tr></tr></thead><tbody><tr><td>HeadOrDefault</td><td>8</td></tr><tr><td>TailOrNull</td><td>[ 2, 5, 1, 3 ]</td></tr><tr><td>Head</td><td>8</td></tr><tr><td>Tail</td><td>[ 2, 5, 1, 3 ]</td></tr><tr><td><i>(values)</i></td><td><div class=\"dni-plaintext\"><pre>[ 8, 2, 5, 1, 3 ]</pre></div></td></tr></tbody></table></div></details></td></tr><tr><td><i>(values)</i></td><td><div class=\"dni-plaintext\"><pre>[ 9, 8, 2, 5, 1, 3 ]</pre></div></td></tr></tbody></table></div></details></td></tr><tr><td>Head</td><td><div class=\"dni-plaintext\"><pre>10</pre></div></td></tr><tr><td>Tail</td><td><details class=\"dni-treeview\"><summary><span class=\"dni-code-hint\"><code>[ 9, 8, 2, 5, 1, 3 ]</code></span></summary><div><table><thead><tr></tr></thead><tbody><tr><td>HeadOrDefault</td><td><div class=\"dni-plaintext\"><pre>9</pre></div></td></tr><tr><td>TailOrNull</td><td><details class=\"dni-treeview\"><summary><span class=\"dni-code-hint\"><code>[ 8, 2, 5, 1, 3 ]</code></span></summary><div><table><thead><tr></tr></thead><tbody><tr><td>HeadOrDefault</td><td>8</td></tr><tr><td>TailOrNull</td><td>[ 2, 5, 1, 3 ]</td></tr><tr><td>Head</td><td>8</td></tr><tr><td>Tail</td><td>[ 2, 5, 1, 3 ]</td></tr><tr><td><i>(values)</i></td><td><div class=\"dni-plaintext\"><pre>[ 8, 2, 5, 1, 3 ]</pre></div></td></tr></tbody></table></div></details></td></tr><tr><td>Head</td><td><div class=\"dni-plaintext\"><pre>9</pre></div></td></tr><tr><td>Tail</td><td><details class=\"dni-treeview\"><summary><span class=\"dni-code-hint\"><code>[ 8, 2, 5, 1, 3 ]</code></span></summary><div><table><thead><tr></tr></thead><tbody><tr><td>HeadOrDefault</td><td>8</td></tr><tr><td>TailOrNull</td><td>[ 2, 5, 1, 3 ]</td></tr><tr><td>Head</td><td>8</td></tr><tr><td>Tail</td><td>[ 2, 5, 1, 3 ]</td></tr><tr><td><i>(values)</i></td><td><div class=\"dni-plaintext\"><pre>[ 8, 2, 5, 1, 3 ]</pre></div></td></tr></tbody></table></div></details></td></tr><tr><td><i>(values)</i></td><td><div class=\"dni-plaintext\"><pre>[ 9, 8, 2, 5, 1, 3 ]</pre></div></td></tr></tbody></table></div></details></td></tr><tr><td><i>(values)</i></td><td><div class=\"dni-plaintext\"><pre>[ 10, 9, 8, 2, 5, 1, 3 ]</pre></div></td></tr></tbody></table></div></details></td></tr><tr><td>Head</td><td><div class=\"dni-plaintext\"><pre>6</pre></div></td></tr><tr><td>Tail</td><td><details class=\"dni-treeview\"><summary><span class=\"dni-code-hint\"><code>[ 10, 9, 8, 2, 5, 1, 3 ]</code></span></summary><div><table><thead><tr></tr></thead><tbody><tr><td>HeadOrDefault</td><td><div class=\"dni-plaintext\"><pre>10</pre></div></td></tr><tr><td>TailOrNull</td><td><details class=\"dni-treeview\"><summary><span class=\"dni-code-hint\"><code>[ 9, 8, 2, 5, 1, 3 ]</code></span></summary><div><table><thead><tr></tr></thead><tbody><tr><td>HeadOrDefault</td><td><div class=\"dni-plaintext\"><pre>9</pre></div></td></tr><tr><td>TailOrNull</td><td><details class=\"dni-treeview\"><summary><span class=\"dni-code-hint\"><code>[ 8, 2, 5, 1, 3 ]</code></span></summary><div><table><thead><tr></tr></thead><tbody><tr><td>HeadOrDefault</td><td>8</td></tr><tr><td>TailOrNull</td><td>[ 2, 5, 1, 3 ]</td></tr><tr><td>Head</td><td>8</td></tr><tr><td>Tail</td><td>[ 2, 5, 1, 3 ]</td></tr><tr><td><i>(values)</i></td><td><div class=\"dni-plaintext\"><pre>[ 8, 2, 5, 1, 3 ]</pre></div></td></tr></tbody></table></div></details></td></tr><tr><td>Head</td><td><div class=\"dni-plaintext\"><pre>9</pre></div></td></tr><tr><td>Tail</td><td><details class=\"dni-treeview\"><summary><span class=\"dni-code-hint\"><code>[ 8, 2, 5, 1, 3 ]</code></span></summary><div><table><thead><tr></tr></thead><tbody><tr><td>HeadOrDefault</td><td>8</td></tr><tr><td>TailOrNull</td><td>[ 2, 5, 1, 3 ]</td></tr><tr><td>Head</td><td>8</td></tr><tr><td>Tail</td><td>[ 2, 5, 1, 3 ]</td></tr><tr><td><i>(values)</i></td><td><div class=\"dni-plaintext\"><pre>[ 8, 2, 5, 1, 3 ]</pre></div></td></tr></tbody></table></div></details></td></tr><tr><td><i>(values)</i></td><td><div class=\"dni-plaintext\"><pre>[ 9, 8, 2, 5, 1, 3 ]</pre></div></td></tr></tbody></table></div></details></td></tr><tr><td>Head</td><td><div class=\"dni-plaintext\"><pre>10</pre></div></td></tr><tr><td>Tail</td><td><details class=\"dni-treeview\"><summary><span class=\"dni-code-hint\"><code>[ 9, 8, 2, 5, 1, 3 ]</code></span></summary><div><table><thead><tr></tr></thead><tbody><tr><td>HeadOrDefault</td><td><div class=\"dni-plaintext\"><pre>9</pre></div></td></tr><tr><td>TailOrNull</td><td><details class=\"dni-treeview\"><summary><span class=\"dni-code-hint\"><code>[ 8, 2, 5, 1, 3 ]</code></span></summary><div><table><thead><tr></tr></thead><tbody><tr><td>HeadOrDefault</td><td>8</td></tr><tr><td>TailOrNull</td><td>[ 2, 5, 1, 3 ]</td></tr><tr><td>Head</td><td>8</td></tr><tr><td>Tail</td><td>[ 2, 5, 1, 3 ]</td></tr><tr><td><i>(values)</i></td><td><div class=\"dni-plaintext\"><pre>[ 8, 2, 5, 1, 3 ]</pre></div></td></tr></tbody></table></div></details></td></tr><tr><td>Head</td><td><div class=\"dni-plaintext\"><pre>9</pre></div></td></tr><tr><td>Tail</td><td><details class=\"dni-treeview\"><summary><span class=\"dni-code-hint\"><code>[ 8, 2, 5, 1, 3 ]</code></span></summary><div><table><thead><tr></tr></thead><tbody><tr><td>HeadOrDefault</td><td>8</td></tr><tr><td>TailOrNull</td><td>[ 2, 5, 1, 3 ]</td></tr><tr><td>Head</td><td>8</td></tr><tr><td>Tail</td><td>[ 2, 5, 1, 3 ]</td></tr><tr><td><i>(values)</i></td><td><div class=\"dni-plaintext\"><pre>[ 8, 2, 5, 1, 3 ]</pre></div></td></tr></tbody></table></div></details></td></tr><tr><td><i>(values)</i></td><td><div class=\"dni-plaintext\"><pre>[ 9, 8, 2, 5, 1, 3 ]</pre></div></td></tr></tbody></table></div></details></td></tr><tr><td><i>(values)</i></td><td><div class=\"dni-plaintext\"><pre>[ 10, 9, 8, 2, 5, 1, 3 ]</pre></div></td></tr></tbody></table></div></details></td></tr><tr><td><i>(values)</i></td><td><div class=\"dni-plaintext\"><pre>[ 6, 10, 9, 8, 2, 5, 1, 3 ]</pre></div></td></tr></tbody></table></div></details></td></tr><tr><td>Head</td><td><div class=\"dni-plaintext\"><pre>4</pre></div></td></tr><tr><td>Tail</td><td><details class=\"dni-treeview\"><summary><span class=\"dni-code-hint\"><code>[ 6, 10, 9, 8, 2, 5, 1, 3 ]</code></span></summary><div><table><thead><tr></tr></thead><tbody><tr><td>HeadOrDefault</td><td><div class=\"dni-plaintext\"><pre>6</pre></div></td></tr><tr><td>TailOrNull</td><td><details class=\"dni-treeview\"><summary><span class=\"dni-code-hint\"><code>[ 10, 9, 8, 2, 5, 1, 3 ]</code></span></summary><div><table><thead><tr></tr></thead><tbody><tr><td>HeadOrDefault</td><td><div class=\"dni-plaintext\"><pre>10</pre></div></td></tr><tr><td>TailOrNull</td><td><details class=\"dni-treeview\"><summary><span class=\"dni-code-hint\"><code>[ 9, 8, 2, 5, 1, 3 ]</code></span></summary><div><table><thead><tr></tr></thead><tbody><tr><td>HeadOrDefault</td><td><div class=\"dni-plaintext\"><pre>9</pre></div></td></tr><tr><td>TailOrNull</td><td><details class=\"dni-treeview\"><summary><span class=\"dni-code-hint\"><code>[ 8, 2, 5, 1, 3 ]</code></span></summary><div><table><thead><tr></tr></thead><tbody><tr><td>HeadOrDefault</td><td>8</td></tr><tr><td>TailOrNull</td><td>[ 2, 5, 1, 3 ]</td></tr><tr><td>Head</td><td>8</td></tr><tr><td>Tail</td><td>[ 2, 5, 1, 3 ]</td></tr><tr><td><i>(values)</i></td><td><div class=\"dni-plaintext\"><pre>[ 8, 2, 5, 1, 3 ]</pre></div></td></tr></tbody></table></div></details></td></tr><tr><td>Head</td><td><div class=\"dni-plaintext\"><pre>9</pre></div></td></tr><tr><td>Tail</td><td><details class=\"dni-treeview\"><summary><span class=\"dni-code-hint\"><code>[ 8, 2, 5, 1, 3 ]</code></span></summary><div><table><thead><tr></tr></thead><tbody><tr><td>HeadOrDefault</td><td>8</td></tr><tr><td>TailOrNull</td><td>[ 2, 5, 1, 3 ]</td></tr><tr><td>Head</td><td>8</td></tr><tr><td>Tail</td><td>[ 2, 5, 1, 3 ]</td></tr><tr><td><i>(values)</i></td><td><div class=\"dni-plaintext\"><pre>[ 8, 2, 5, 1, 3 ]</pre></div></td></tr></tbody></table></div></details></td></tr><tr><td><i>(values)</i></td><td><div class=\"dni-plaintext\"><pre>[ 9, 8, 2, 5, 1, 3 ]</pre></div></td></tr></tbody></table></div></details></td></tr><tr><td>Head</td><td><div class=\"dni-plaintext\"><pre>10</pre></div></td></tr><tr><td>Tail</td><td><details class=\"dni-treeview\"><summary><span class=\"dni-code-hint\"><code>[ 9, 8, 2, 5, 1, 3 ]</code></span></summary><div><table><thead><tr></tr></thead><tbody><tr><td>HeadOrDefault</td><td><div class=\"dni-plaintext\"><pre>9</pre></div></td></tr><tr><td>TailOrNull</td><td><details class=\"dni-treeview\"><summary><span class=\"dni-code-hint\"><code>[ 8, 2, 5, 1, 3 ]</code></span></summary><div><table><thead><tr></tr></thead><tbody><tr><td>HeadOrDefault</td><td>8</td></tr><tr><td>TailOrNull</td><td>[ 2, 5, 1, 3 ]</td></tr><tr><td>Head</td><td>8</td></tr><tr><td>Tail</td><td>[ 2, 5, 1, 3 ]</td></tr><tr><td><i>(values)</i></td><td><div class=\"dni-plaintext\"><pre>[ 8, 2, 5, 1, 3 ]</pre></div></td></tr></tbody></table></div></details></td></tr><tr><td>Head</td><td><div class=\"dni-plaintext\"><pre>9</pre></div></td></tr><tr><td>Tail</td><td><details class=\"dni-treeview\"><summary><span class=\"dni-code-hint\"><code>[ 8, 2, 5, 1, 3 ]</code></span></summary><div><table><thead><tr></tr></thead><tbody><tr><td>HeadOrDefault</td><td>8</td></tr><tr><td>TailOrNull</td><td>[ 2, 5, 1, 3 ]</td></tr><tr><td>Head</td><td>8</td></tr><tr><td>Tail</td><td>[ 2, 5, 1, 3 ]</td></tr><tr><td><i>(values)</i></td><td><div class=\"dni-plaintext\"><pre>[ 8, 2, 5, 1, 3 ]</pre></div></td></tr></tbody></table></div></details></td></tr><tr><td><i>(values)</i></td><td><div class=\"dni-plaintext\"><pre>[ 9, 8, 2, 5, 1, 3 ]</pre></div></td></tr></tbody></table></div></details></td></tr><tr><td><i>(values)</i></td><td><div class=\"dni-plaintext\"><pre>[ 10, 9, 8, 2, 5, 1, 3 ]</pre></div></td></tr></tbody></table></div></details></td></tr><tr><td>Head</td><td><div class=\"dni-plaintext\"><pre>6</pre></div></td></tr><tr><td>Tail</td><td><details class=\"dni-treeview\"><summary><span class=\"dni-code-hint\"><code>[ 10, 9, 8, 2, 5, 1, 3 ]</code></span></summary><div><table><thead><tr></tr></thead><tbody><tr><td>HeadOrDefault</td><td><div class=\"dni-plaintext\"><pre>10</pre></div></td></tr><tr><td>TailOrNull</td><td><details class=\"dni-treeview\"><summary><span class=\"dni-code-hint\"><code>[ 9, 8, 2, 5, 1, 3 ]</code></span></summary><div><table><thead><tr></tr></thead><tbody><tr><td>HeadOrDefault</td><td><div class=\"dni-plaintext\"><pre>9</pre></div></td></tr><tr><td>TailOrNull</td><td><details class=\"dni-treeview\"><summary><span class=\"dni-code-hint\"><code>[ 8, 2, 5, 1, 3 ]</code></span></summary><div><table><thead><tr></tr></thead><tbody><tr><td>HeadOrDefault</td><td>8</td></tr><tr><td>TailOrNull</td><td>[ 2, 5, 1, 3 ]</td></tr><tr><td>Head</td><td>8</td></tr><tr><td>Tail</td><td>[ 2, 5, 1, 3 ]</td></tr><tr><td><i>(values)</i></td><td><div class=\"dni-plaintext\"><pre>[ 8, 2, 5, 1, 3 ]</pre></div></td></tr></tbody></table></div></details></td></tr><tr><td>Head</td><td><div class=\"dni-plaintext\"><pre>9</pre></div></td></tr><tr><td>Tail</td><td><details class=\"dni-treeview\"><summary><span class=\"dni-code-hint\"><code>[ 8, 2, 5, 1, 3 ]</code></span></summary><div><table><thead><tr></tr></thead><tbody><tr><td>HeadOrDefault</td><td>8</td></tr><tr><td>TailOrNull</td><td>[ 2, 5, 1, 3 ]</td></tr><tr><td>Head</td><td>8</td></tr><tr><td>Tail</td><td>[ 2, 5, 1, 3 ]</td></tr><tr><td><i>(values)</i></td><td><div class=\"dni-plaintext\"><pre>[ 8, 2, 5, 1, 3 ]</pre></div></td></tr></tbody></table></div></details></td></tr><tr><td><i>(values)</i></td><td><div class=\"dni-plaintext\"><pre>[ 9, 8, 2, 5, 1, 3 ]</pre></div></td></tr></tbody></table></div></details></td></tr><tr><td>Head</td><td><div class=\"dni-plaintext\"><pre>10</pre></div></td></tr><tr><td>Tail</td><td><details class=\"dni-treeview\"><summary><span class=\"dni-code-hint\"><code>[ 9, 8, 2, 5, 1, 3 ]</code></span></summary><div><table><thead><tr></tr></thead><tbody><tr><td>HeadOrDefault</td><td><div class=\"dni-plaintext\"><pre>9</pre></div></td></tr><tr><td>TailOrNull</td><td><details class=\"dni-treeview\"><summary><span class=\"dni-code-hint\"><code>[ 8, 2, 5, 1, 3 ]</code></span></summary><div><table><thead><tr></tr></thead><tbody><tr><td>HeadOrDefault</td><td>8</td></tr><tr><td>TailOrNull</td><td>[ 2, 5, 1, 3 ]</td></tr><tr><td>Head</td><td>8</td></tr><tr><td>Tail</td><td>[ 2, 5, 1, 3 ]</td></tr><tr><td><i>(values)</i></td><td><div class=\"dni-plaintext\"><pre>[ 8, 2, 5, 1, 3 ]</pre></div></td></tr></tbody></table></div></details></td></tr><tr><td>Head</td><td><div class=\"dni-plaintext\"><pre>9</pre></div></td></tr><tr><td>Tail</td><td><details class=\"dni-treeview\"><summary><span class=\"dni-code-hint\"><code>[ 8, 2, 5, 1, 3 ]</code></span></summary><div><table><thead><tr></tr></thead><tbody><tr><td>HeadOrDefault</td><td>8</td></tr><tr><td>TailOrNull</td><td>[ 2, 5, 1, 3 ]</td></tr><tr><td>Head</td><td>8</td></tr><tr><td>Tail</td><td>[ 2, 5, 1, 3 ]</td></tr><tr><td><i>(values)</i></td><td><div class=\"dni-plaintext\"><pre>[ 8, 2, 5, 1, 3 ]</pre></div></td></tr></tbody></table></div></details></td></tr><tr><td><i>(values)</i></td><td><div class=\"dni-plaintext\"><pre>[ 9, 8, 2, 5, 1, 3 ]</pre></div></td></tr></tbody></table></div></details></td></tr><tr><td><i>(values)</i></td><td><div class=\"dni-plaintext\"><pre>[ 10, 9, 8, 2, 5, 1, 3 ]</pre></div></td></tr></tbody></table></div></details></td></tr><tr><td><i>(values)</i></td><td><div class=\"dni-plaintext\"><pre>[ 6, 10, 9, 8, 2, 5, 1, 3 ]</pre></div></td></tr></tbody></table></div></details></td></tr><tr><td><i>(values)</i></td><td><div class=\"dni-plaintext\"><pre>[ 4, 6, 10, 9, 8, 2, 5, 1, 3 ]</pre></div></td></tr></tbody></table></div></details></td></tr><tr><td><i>(values)</i></td><td><div class=\"dni-plaintext\"><pre>[ 7, 4, 6, 10, 9, 8, 2, 5, 1, 3 ]</pre></div></td></tr></tbody></table></div></details><style>\r\n",
       ".dni-code-hint {\r\n",
       "    font-style: italic;\r\n",
       "    overflow: hidden;\r\n",
       "    white-space: nowrap;\r\n",
       "}\r\n",
       ".dni-treeview {\r\n",
       "    white-space: nowrap;\r\n",
       "}\r\n",
       ".dni-treeview td {\r\n",
       "    vertical-align: top;\r\n",
       "    text-align: start;\r\n",
       "}\r\n",
       "details.dni-treeview {\r\n",
       "    padding-left: 1em;\r\n",
       "}\r\n",
       "table td {\r\n",
       "    text-align: start;\r\n",
       "}\r\n",
       "table tr { \r\n",
       "    vertical-align: top; \r\n",
       "    margin: 0em 0px;\r\n",
       "}\r\n",
       "table tr td pre \r\n",
       "{ \r\n",
       "    vertical-align: top !important; \r\n",
       "    margin: 0em 0px !important;\r\n",
       "} \r\n",
       "table th {\r\n",
       "    text-align: start;\r\n",
       "}\r\n",
       "</style>"
      ]
     },
     "metadata": {},
     "output_type": "display_data"
    }
   ],
   "source": [
    "randomiseList [1;2;3;4;5;6;7;8;9;10]"
   ]
  },
  {
   "cell_type": "code",
   "execution_count": 11,
   "metadata": {
    "dotnet_interactive": {
     "language": "fsharp"
    },
    "polyglot_notebook": {
     "kernelName": "fsharp"
    }
   },
   "outputs": [
    {
     "data": {
      "text/html": [
       "<details open=\"open\" class=\"dni-treeview\"><summary><span class=\"dni-code-hint\"><code>[ 6, 3, 9, 4, 1, 10, 2, 8, 5, 7 ]</code></span></summary><div><table><thead><tr></tr></thead><tbody><tr><td>HeadOrDefault</td><td><div class=\"dni-plaintext\"><pre>6</pre></div></td></tr><tr><td>TailOrNull</td><td><details class=\"dni-treeview\"><summary><span class=\"dni-code-hint\"><code>[ 3, 9, 4, 1, 10, 2, 8, 5, 7 ]</code></span></summary><div><table><thead><tr></tr></thead><tbody><tr><td>HeadOrDefault</td><td><div class=\"dni-plaintext\"><pre>3</pre></div></td></tr><tr><td>TailOrNull</td><td><details class=\"dni-treeview\"><summary><span class=\"dni-code-hint\"><code>[ 9, 4, 1, 10, 2, 8, 5, 7 ]</code></span></summary><div><table><thead><tr></tr></thead><tbody><tr><td>HeadOrDefault</td><td><div class=\"dni-plaintext\"><pre>9</pre></div></td></tr><tr><td>TailOrNull</td><td><details class=\"dni-treeview\"><summary><span class=\"dni-code-hint\"><code>[ 4, 1, 10, 2, 8, 5, 7 ]</code></span></summary><div><table><thead><tr></tr></thead><tbody><tr><td>HeadOrDefault</td><td><div class=\"dni-plaintext\"><pre>4</pre></div></td></tr><tr><td>TailOrNull</td><td><details class=\"dni-treeview\"><summary><span class=\"dni-code-hint\"><code>[ 1, 10, 2, 8, 5, 7 ]</code></span></summary><div><table><thead><tr></tr></thead><tbody><tr><td>HeadOrDefault</td><td><div class=\"dni-plaintext\"><pre>1</pre></div></td></tr><tr><td>TailOrNull</td><td><details class=\"dni-treeview\"><summary><span class=\"dni-code-hint\"><code>[ 10, 2, 8, 5, 7 ]</code></span></summary><div><table><thead><tr></tr></thead><tbody><tr><td>HeadOrDefault</td><td>10</td></tr><tr><td>TailOrNull</td><td>[ 2, 8, 5, 7 ]</td></tr><tr><td>Head</td><td>10</td></tr><tr><td>Tail</td><td>[ 2, 8, 5, 7 ]</td></tr><tr><td><i>(values)</i></td><td><div class=\"dni-plaintext\"><pre>[ 10, 2, 8, 5, 7 ]</pre></div></td></tr></tbody></table></div></details></td></tr><tr><td>Head</td><td><div class=\"dni-plaintext\"><pre>1</pre></div></td></tr><tr><td>Tail</td><td><details class=\"dni-treeview\"><summary><span class=\"dni-code-hint\"><code>[ 10, 2, 8, 5, 7 ]</code></span></summary><div><table><thead><tr></tr></thead><tbody><tr><td>HeadOrDefault</td><td>10</td></tr><tr><td>TailOrNull</td><td>[ 2, 8, 5, 7 ]</td></tr><tr><td>Head</td><td>10</td></tr><tr><td>Tail</td><td>[ 2, 8, 5, 7 ]</td></tr><tr><td><i>(values)</i></td><td><div class=\"dni-plaintext\"><pre>[ 10, 2, 8, 5, 7 ]</pre></div></td></tr></tbody></table></div></details></td></tr><tr><td><i>(values)</i></td><td><div class=\"dni-plaintext\"><pre>[ 1, 10, 2, 8, 5, 7 ]</pre></div></td></tr></tbody></table></div></details></td></tr><tr><td>Head</td><td><div class=\"dni-plaintext\"><pre>4</pre></div></td></tr><tr><td>Tail</td><td><details class=\"dni-treeview\"><summary><span class=\"dni-code-hint\"><code>[ 1, 10, 2, 8, 5, 7 ]</code></span></summary><div><table><thead><tr></tr></thead><tbody><tr><td>HeadOrDefault</td><td><div class=\"dni-plaintext\"><pre>1</pre></div></td></tr><tr><td>TailOrNull</td><td><details class=\"dni-treeview\"><summary><span class=\"dni-code-hint\"><code>[ 10, 2, 8, 5, 7 ]</code></span></summary><div><table><thead><tr></tr></thead><tbody><tr><td>HeadOrDefault</td><td>10</td></tr><tr><td>TailOrNull</td><td>[ 2, 8, 5, 7 ]</td></tr><tr><td>Head</td><td>10</td></tr><tr><td>Tail</td><td>[ 2, 8, 5, 7 ]</td></tr><tr><td><i>(values)</i></td><td><div class=\"dni-plaintext\"><pre>[ 10, 2, 8, 5, 7 ]</pre></div></td></tr></tbody></table></div></details></td></tr><tr><td>Head</td><td><div class=\"dni-plaintext\"><pre>1</pre></div></td></tr><tr><td>Tail</td><td><details class=\"dni-treeview\"><summary><span class=\"dni-code-hint\"><code>[ 10, 2, 8, 5, 7 ]</code></span></summary><div><table><thead><tr></tr></thead><tbody><tr><td>HeadOrDefault</td><td>10</td></tr><tr><td>TailOrNull</td><td>[ 2, 8, 5, 7 ]</td></tr><tr><td>Head</td><td>10</td></tr><tr><td>Tail</td><td>[ 2, 8, 5, 7 ]</td></tr><tr><td><i>(values)</i></td><td><div class=\"dni-plaintext\"><pre>[ 10, 2, 8, 5, 7 ]</pre></div></td></tr></tbody></table></div></details></td></tr><tr><td><i>(values)</i></td><td><div class=\"dni-plaintext\"><pre>[ 1, 10, 2, 8, 5, 7 ]</pre></div></td></tr></tbody></table></div></details></td></tr><tr><td><i>(values)</i></td><td><div class=\"dni-plaintext\"><pre>[ 4, 1, 10, 2, 8, 5, 7 ]</pre></div></td></tr></tbody></table></div></details></td></tr><tr><td>Head</td><td><div class=\"dni-plaintext\"><pre>9</pre></div></td></tr><tr><td>Tail</td><td><details class=\"dni-treeview\"><summary><span class=\"dni-code-hint\"><code>[ 4, 1, 10, 2, 8, 5, 7 ]</code></span></summary><div><table><thead><tr></tr></thead><tbody><tr><td>HeadOrDefault</td><td><div class=\"dni-plaintext\"><pre>4</pre></div></td></tr><tr><td>TailOrNull</td><td><details class=\"dni-treeview\"><summary><span class=\"dni-code-hint\"><code>[ 1, 10, 2, 8, 5, 7 ]</code></span></summary><div><table><thead><tr></tr></thead><tbody><tr><td>HeadOrDefault</td><td><div class=\"dni-plaintext\"><pre>1</pre></div></td></tr><tr><td>TailOrNull</td><td><details class=\"dni-treeview\"><summary><span class=\"dni-code-hint\"><code>[ 10, 2, 8, 5, 7 ]</code></span></summary><div><table><thead><tr></tr></thead><tbody><tr><td>HeadOrDefault</td><td>10</td></tr><tr><td>TailOrNull</td><td>[ 2, 8, 5, 7 ]</td></tr><tr><td>Head</td><td>10</td></tr><tr><td>Tail</td><td>[ 2, 8, 5, 7 ]</td></tr><tr><td><i>(values)</i></td><td><div class=\"dni-plaintext\"><pre>[ 10, 2, 8, 5, 7 ]</pre></div></td></tr></tbody></table></div></details></td></tr><tr><td>Head</td><td><div class=\"dni-plaintext\"><pre>1</pre></div></td></tr><tr><td>Tail</td><td><details class=\"dni-treeview\"><summary><span class=\"dni-code-hint\"><code>[ 10, 2, 8, 5, 7 ]</code></span></summary><div><table><thead><tr></tr></thead><tbody><tr><td>HeadOrDefault</td><td>10</td></tr><tr><td>TailOrNull</td><td>[ 2, 8, 5, 7 ]</td></tr><tr><td>Head</td><td>10</td></tr><tr><td>Tail</td><td>[ 2, 8, 5, 7 ]</td></tr><tr><td><i>(values)</i></td><td><div class=\"dni-plaintext\"><pre>[ 10, 2, 8, 5, 7 ]</pre></div></td></tr></tbody></table></div></details></td></tr><tr><td><i>(values)</i></td><td><div class=\"dni-plaintext\"><pre>[ 1, 10, 2, 8, 5, 7 ]</pre></div></td></tr></tbody></table></div></details></td></tr><tr><td>Head</td><td><div class=\"dni-plaintext\"><pre>4</pre></div></td></tr><tr><td>Tail</td><td><details class=\"dni-treeview\"><summary><span class=\"dni-code-hint\"><code>[ 1, 10, 2, 8, 5, 7 ]</code></span></summary><div><table><thead><tr></tr></thead><tbody><tr><td>HeadOrDefault</td><td><div class=\"dni-plaintext\"><pre>1</pre></div></td></tr><tr><td>TailOrNull</td><td><details class=\"dni-treeview\"><summary><span class=\"dni-code-hint\"><code>[ 10, 2, 8, 5, 7 ]</code></span></summary><div><table><thead><tr></tr></thead><tbody><tr><td>HeadOrDefault</td><td>10</td></tr><tr><td>TailOrNull</td><td>[ 2, 8, 5, 7 ]</td></tr><tr><td>Head</td><td>10</td></tr><tr><td>Tail</td><td>[ 2, 8, 5, 7 ]</td></tr><tr><td><i>(values)</i></td><td><div class=\"dni-plaintext\"><pre>[ 10, 2, 8, 5, 7 ]</pre></div></td></tr></tbody></table></div></details></td></tr><tr><td>Head</td><td><div class=\"dni-plaintext\"><pre>1</pre></div></td></tr><tr><td>Tail</td><td><details class=\"dni-treeview\"><summary><span class=\"dni-code-hint\"><code>[ 10, 2, 8, 5, 7 ]</code></span></summary><div><table><thead><tr></tr></thead><tbody><tr><td>HeadOrDefault</td><td>10</td></tr><tr><td>TailOrNull</td><td>[ 2, 8, 5, 7 ]</td></tr><tr><td>Head</td><td>10</td></tr><tr><td>Tail</td><td>[ 2, 8, 5, 7 ]</td></tr><tr><td><i>(values)</i></td><td><div class=\"dni-plaintext\"><pre>[ 10, 2, 8, 5, 7 ]</pre></div></td></tr></tbody></table></div></details></td></tr><tr><td><i>(values)</i></td><td><div class=\"dni-plaintext\"><pre>[ 1, 10, 2, 8, 5, 7 ]</pre></div></td></tr></tbody></table></div></details></td></tr><tr><td><i>(values)</i></td><td><div class=\"dni-plaintext\"><pre>[ 4, 1, 10, 2, 8, 5, 7 ]</pre></div></td></tr></tbody></table></div></details></td></tr><tr><td><i>(values)</i></td><td><div class=\"dni-plaintext\"><pre>[ 9, 4, 1, 10, 2, 8, 5, 7 ]</pre></div></td></tr></tbody></table></div></details></td></tr><tr><td>Head</td><td><div class=\"dni-plaintext\"><pre>3</pre></div></td></tr><tr><td>Tail</td><td><details class=\"dni-treeview\"><summary><span class=\"dni-code-hint\"><code>[ 9, 4, 1, 10, 2, 8, 5, 7 ]</code></span></summary><div><table><thead><tr></tr></thead><tbody><tr><td>HeadOrDefault</td><td><div class=\"dni-plaintext\"><pre>9</pre></div></td></tr><tr><td>TailOrNull</td><td><details class=\"dni-treeview\"><summary><span class=\"dni-code-hint\"><code>[ 4, 1, 10, 2, 8, 5, 7 ]</code></span></summary><div><table><thead><tr></tr></thead><tbody><tr><td>HeadOrDefault</td><td><div class=\"dni-plaintext\"><pre>4</pre></div></td></tr><tr><td>TailOrNull</td><td><details class=\"dni-treeview\"><summary><span class=\"dni-code-hint\"><code>[ 1, 10, 2, 8, 5, 7 ]</code></span></summary><div><table><thead><tr></tr></thead><tbody><tr><td>HeadOrDefault</td><td><div class=\"dni-plaintext\"><pre>1</pre></div></td></tr><tr><td>TailOrNull</td><td><details class=\"dni-treeview\"><summary><span class=\"dni-code-hint\"><code>[ 10, 2, 8, 5, 7 ]</code></span></summary><div><table><thead><tr></tr></thead><tbody><tr><td>HeadOrDefault</td><td>10</td></tr><tr><td>TailOrNull</td><td>[ 2, 8, 5, 7 ]</td></tr><tr><td>Head</td><td>10</td></tr><tr><td>Tail</td><td>[ 2, 8, 5, 7 ]</td></tr><tr><td><i>(values)</i></td><td><div class=\"dni-plaintext\"><pre>[ 10, 2, 8, 5, 7 ]</pre></div></td></tr></tbody></table></div></details></td></tr><tr><td>Head</td><td><div class=\"dni-plaintext\"><pre>1</pre></div></td></tr><tr><td>Tail</td><td><details class=\"dni-treeview\"><summary><span class=\"dni-code-hint\"><code>[ 10, 2, 8, 5, 7 ]</code></span></summary><div><table><thead><tr></tr></thead><tbody><tr><td>HeadOrDefault</td><td>10</td></tr><tr><td>TailOrNull</td><td>[ 2, 8, 5, 7 ]</td></tr><tr><td>Head</td><td>10</td></tr><tr><td>Tail</td><td>[ 2, 8, 5, 7 ]</td></tr><tr><td><i>(values)</i></td><td><div class=\"dni-plaintext\"><pre>[ 10, 2, 8, 5, 7 ]</pre></div></td></tr></tbody></table></div></details></td></tr><tr><td><i>(values)</i></td><td><div class=\"dni-plaintext\"><pre>[ 1, 10, 2, 8, 5, 7 ]</pre></div></td></tr></tbody></table></div></details></td></tr><tr><td>Head</td><td><div class=\"dni-plaintext\"><pre>4</pre></div></td></tr><tr><td>Tail</td><td><details class=\"dni-treeview\"><summary><span class=\"dni-code-hint\"><code>[ 1, 10, 2, 8, 5, 7 ]</code></span></summary><div><table><thead><tr></tr></thead><tbody><tr><td>HeadOrDefault</td><td><div class=\"dni-plaintext\"><pre>1</pre></div></td></tr><tr><td>TailOrNull</td><td><details class=\"dni-treeview\"><summary><span class=\"dni-code-hint\"><code>[ 10, 2, 8, 5, 7 ]</code></span></summary><div><table><thead><tr></tr></thead><tbody><tr><td>HeadOrDefault</td><td>10</td></tr><tr><td>TailOrNull</td><td>[ 2, 8, 5, 7 ]</td></tr><tr><td>Head</td><td>10</td></tr><tr><td>Tail</td><td>[ 2, 8, 5, 7 ]</td></tr><tr><td><i>(values)</i></td><td><div class=\"dni-plaintext\"><pre>[ 10, 2, 8, 5, 7 ]</pre></div></td></tr></tbody></table></div></details></td></tr><tr><td>Head</td><td><div class=\"dni-plaintext\"><pre>1</pre></div></td></tr><tr><td>Tail</td><td><details class=\"dni-treeview\"><summary><span class=\"dni-code-hint\"><code>[ 10, 2, 8, 5, 7 ]</code></span></summary><div><table><thead><tr></tr></thead><tbody><tr><td>HeadOrDefault</td><td>10</td></tr><tr><td>TailOrNull</td><td>[ 2, 8, 5, 7 ]</td></tr><tr><td>Head</td><td>10</td></tr><tr><td>Tail</td><td>[ 2, 8, 5, 7 ]</td></tr><tr><td><i>(values)</i></td><td><div class=\"dni-plaintext\"><pre>[ 10, 2, 8, 5, 7 ]</pre></div></td></tr></tbody></table></div></details></td></tr><tr><td><i>(values)</i></td><td><div class=\"dni-plaintext\"><pre>[ 1, 10, 2, 8, 5, 7 ]</pre></div></td></tr></tbody></table></div></details></td></tr><tr><td><i>(values)</i></td><td><div class=\"dni-plaintext\"><pre>[ 4, 1, 10, 2, 8, 5, 7 ]</pre></div></td></tr></tbody></table></div></details></td></tr><tr><td>Head</td><td><div class=\"dni-plaintext\"><pre>9</pre></div></td></tr><tr><td>Tail</td><td><details class=\"dni-treeview\"><summary><span class=\"dni-code-hint\"><code>[ 4, 1, 10, 2, 8, 5, 7 ]</code></span></summary><div><table><thead><tr></tr></thead><tbody><tr><td>HeadOrDefault</td><td><div class=\"dni-plaintext\"><pre>4</pre></div></td></tr><tr><td>TailOrNull</td><td><details class=\"dni-treeview\"><summary><span class=\"dni-code-hint\"><code>[ 1, 10, 2, 8, 5, 7 ]</code></span></summary><div><table><thead><tr></tr></thead><tbody><tr><td>HeadOrDefault</td><td><div class=\"dni-plaintext\"><pre>1</pre></div></td></tr><tr><td>TailOrNull</td><td><details class=\"dni-treeview\"><summary><span class=\"dni-code-hint\"><code>[ 10, 2, 8, 5, 7 ]</code></span></summary><div><table><thead><tr></tr></thead><tbody><tr><td>HeadOrDefault</td><td>10</td></tr><tr><td>TailOrNull</td><td>[ 2, 8, 5, 7 ]</td></tr><tr><td>Head</td><td>10</td></tr><tr><td>Tail</td><td>[ 2, 8, 5, 7 ]</td></tr><tr><td><i>(values)</i></td><td><div class=\"dni-plaintext\"><pre>[ 10, 2, 8, 5, 7 ]</pre></div></td></tr></tbody></table></div></details></td></tr><tr><td>Head</td><td><div class=\"dni-plaintext\"><pre>1</pre></div></td></tr><tr><td>Tail</td><td><details class=\"dni-treeview\"><summary><span class=\"dni-code-hint\"><code>[ 10, 2, 8, 5, 7 ]</code></span></summary><div><table><thead><tr></tr></thead><tbody><tr><td>HeadOrDefault</td><td>10</td></tr><tr><td>TailOrNull</td><td>[ 2, 8, 5, 7 ]</td></tr><tr><td>Head</td><td>10</td></tr><tr><td>Tail</td><td>[ 2, 8, 5, 7 ]</td></tr><tr><td><i>(values)</i></td><td><div class=\"dni-plaintext\"><pre>[ 10, 2, 8, 5, 7 ]</pre></div></td></tr></tbody></table></div></details></td></tr><tr><td><i>(values)</i></td><td><div class=\"dni-plaintext\"><pre>[ 1, 10, 2, 8, 5, 7 ]</pre></div></td></tr></tbody></table></div></details></td></tr><tr><td>Head</td><td><div class=\"dni-plaintext\"><pre>4</pre></div></td></tr><tr><td>Tail</td><td><details class=\"dni-treeview\"><summary><span class=\"dni-code-hint\"><code>[ 1, 10, 2, 8, 5, 7 ]</code></span></summary><div><table><thead><tr></tr></thead><tbody><tr><td>HeadOrDefault</td><td><div class=\"dni-plaintext\"><pre>1</pre></div></td></tr><tr><td>TailOrNull</td><td><details class=\"dni-treeview\"><summary><span class=\"dni-code-hint\"><code>[ 10, 2, 8, 5, 7 ]</code></span></summary><div><table><thead><tr></tr></thead><tbody><tr><td>HeadOrDefault</td><td>10</td></tr><tr><td>TailOrNull</td><td>[ 2, 8, 5, 7 ]</td></tr><tr><td>Head</td><td>10</td></tr><tr><td>Tail</td><td>[ 2, 8, 5, 7 ]</td></tr><tr><td><i>(values)</i></td><td><div class=\"dni-plaintext\"><pre>[ 10, 2, 8, 5, 7 ]</pre></div></td></tr></tbody></table></div></details></td></tr><tr><td>Head</td><td><div class=\"dni-plaintext\"><pre>1</pre></div></td></tr><tr><td>Tail</td><td><details class=\"dni-treeview\"><summary><span class=\"dni-code-hint\"><code>[ 10, 2, 8, 5, 7 ]</code></span></summary><div><table><thead><tr></tr></thead><tbody><tr><td>HeadOrDefault</td><td>10</td></tr><tr><td>TailOrNull</td><td>[ 2, 8, 5, 7 ]</td></tr><tr><td>Head</td><td>10</td></tr><tr><td>Tail</td><td>[ 2, 8, 5, 7 ]</td></tr><tr><td><i>(values)</i></td><td><div class=\"dni-plaintext\"><pre>[ 10, 2, 8, 5, 7 ]</pre></div></td></tr></tbody></table></div></details></td></tr><tr><td><i>(values)</i></td><td><div class=\"dni-plaintext\"><pre>[ 1, 10, 2, 8, 5, 7 ]</pre></div></td></tr></tbody></table></div></details></td></tr><tr><td><i>(values)</i></td><td><div class=\"dni-plaintext\"><pre>[ 4, 1, 10, 2, 8, 5, 7 ]</pre></div></td></tr></tbody></table></div></details></td></tr><tr><td><i>(values)</i></td><td><div class=\"dni-plaintext\"><pre>[ 9, 4, 1, 10, 2, 8, 5, 7 ]</pre></div></td></tr></tbody></table></div></details></td></tr><tr><td><i>(values)</i></td><td><div class=\"dni-plaintext\"><pre>[ 3, 9, 4, 1, 10, 2, 8, 5, 7 ]</pre></div></td></tr></tbody></table></div></details></td></tr><tr><td>Head</td><td><div class=\"dni-plaintext\"><pre>6</pre></div></td></tr><tr><td>Tail</td><td><details class=\"dni-treeview\"><summary><span class=\"dni-code-hint\"><code>[ 3, 9, 4, 1, 10, 2, 8, 5, 7 ]</code></span></summary><div><table><thead><tr></tr></thead><tbody><tr><td>HeadOrDefault</td><td><div class=\"dni-plaintext\"><pre>3</pre></div></td></tr><tr><td>TailOrNull</td><td><details class=\"dni-treeview\"><summary><span class=\"dni-code-hint\"><code>[ 9, 4, 1, 10, 2, 8, 5, 7 ]</code></span></summary><div><table><thead><tr></tr></thead><tbody><tr><td>HeadOrDefault</td><td><div class=\"dni-plaintext\"><pre>9</pre></div></td></tr><tr><td>TailOrNull</td><td><details class=\"dni-treeview\"><summary><span class=\"dni-code-hint\"><code>[ 4, 1, 10, 2, 8, 5, 7 ]</code></span></summary><div><table><thead><tr></tr></thead><tbody><tr><td>HeadOrDefault</td><td><div class=\"dni-plaintext\"><pre>4</pre></div></td></tr><tr><td>TailOrNull</td><td><details class=\"dni-treeview\"><summary><span class=\"dni-code-hint\"><code>[ 1, 10, 2, 8, 5, 7 ]</code></span></summary><div><table><thead><tr></tr></thead><tbody><tr><td>HeadOrDefault</td><td><div class=\"dni-plaintext\"><pre>1</pre></div></td></tr><tr><td>TailOrNull</td><td><details class=\"dni-treeview\"><summary><span class=\"dni-code-hint\"><code>[ 10, 2, 8, 5, 7 ]</code></span></summary><div><table><thead><tr></tr></thead><tbody><tr><td>HeadOrDefault</td><td>10</td></tr><tr><td>TailOrNull</td><td>[ 2, 8, 5, 7 ]</td></tr><tr><td>Head</td><td>10</td></tr><tr><td>Tail</td><td>[ 2, 8, 5, 7 ]</td></tr><tr><td><i>(values)</i></td><td><div class=\"dni-plaintext\"><pre>[ 10, 2, 8, 5, 7 ]</pre></div></td></tr></tbody></table></div></details></td></tr><tr><td>Head</td><td><div class=\"dni-plaintext\"><pre>1</pre></div></td></tr><tr><td>Tail</td><td><details class=\"dni-treeview\"><summary><span class=\"dni-code-hint\"><code>[ 10, 2, 8, 5, 7 ]</code></span></summary><div><table><thead><tr></tr></thead><tbody><tr><td>HeadOrDefault</td><td>10</td></tr><tr><td>TailOrNull</td><td>[ 2, 8, 5, 7 ]</td></tr><tr><td>Head</td><td>10</td></tr><tr><td>Tail</td><td>[ 2, 8, 5, 7 ]</td></tr><tr><td><i>(values)</i></td><td><div class=\"dni-plaintext\"><pre>[ 10, 2, 8, 5, 7 ]</pre></div></td></tr></tbody></table></div></details></td></tr><tr><td><i>(values)</i></td><td><div class=\"dni-plaintext\"><pre>[ 1, 10, 2, 8, 5, 7 ]</pre></div></td></tr></tbody></table></div></details></td></tr><tr><td>Head</td><td><div class=\"dni-plaintext\"><pre>4</pre></div></td></tr><tr><td>Tail</td><td><details class=\"dni-treeview\"><summary><span class=\"dni-code-hint\"><code>[ 1, 10, 2, 8, 5, 7 ]</code></span></summary><div><table><thead><tr></tr></thead><tbody><tr><td>HeadOrDefault</td><td><div class=\"dni-plaintext\"><pre>1</pre></div></td></tr><tr><td>TailOrNull</td><td><details class=\"dni-treeview\"><summary><span class=\"dni-code-hint\"><code>[ 10, 2, 8, 5, 7 ]</code></span></summary><div><table><thead><tr></tr></thead><tbody><tr><td>HeadOrDefault</td><td>10</td></tr><tr><td>TailOrNull</td><td>[ 2, 8, 5, 7 ]</td></tr><tr><td>Head</td><td>10</td></tr><tr><td>Tail</td><td>[ 2, 8, 5, 7 ]</td></tr><tr><td><i>(values)</i></td><td><div class=\"dni-plaintext\"><pre>[ 10, 2, 8, 5, 7 ]</pre></div></td></tr></tbody></table></div></details></td></tr><tr><td>Head</td><td><div class=\"dni-plaintext\"><pre>1</pre></div></td></tr><tr><td>Tail</td><td><details class=\"dni-treeview\"><summary><span class=\"dni-code-hint\"><code>[ 10, 2, 8, 5, 7 ]</code></span></summary><div><table><thead><tr></tr></thead><tbody><tr><td>HeadOrDefault</td><td>10</td></tr><tr><td>TailOrNull</td><td>[ 2, 8, 5, 7 ]</td></tr><tr><td>Head</td><td>10</td></tr><tr><td>Tail</td><td>[ 2, 8, 5, 7 ]</td></tr><tr><td><i>(values)</i></td><td><div class=\"dni-plaintext\"><pre>[ 10, 2, 8, 5, 7 ]</pre></div></td></tr></tbody></table></div></details></td></tr><tr><td><i>(values)</i></td><td><div class=\"dni-plaintext\"><pre>[ 1, 10, 2, 8, 5, 7 ]</pre></div></td></tr></tbody></table></div></details></td></tr><tr><td><i>(values)</i></td><td><div class=\"dni-plaintext\"><pre>[ 4, 1, 10, 2, 8, 5, 7 ]</pre></div></td></tr></tbody></table></div></details></td></tr><tr><td>Head</td><td><div class=\"dni-plaintext\"><pre>9</pre></div></td></tr><tr><td>Tail</td><td><details class=\"dni-treeview\"><summary><span class=\"dni-code-hint\"><code>[ 4, 1, 10, 2, 8, 5, 7 ]</code></span></summary><div><table><thead><tr></tr></thead><tbody><tr><td>HeadOrDefault</td><td><div class=\"dni-plaintext\"><pre>4</pre></div></td></tr><tr><td>TailOrNull</td><td><details class=\"dni-treeview\"><summary><span class=\"dni-code-hint\"><code>[ 1, 10, 2, 8, 5, 7 ]</code></span></summary><div><table><thead><tr></tr></thead><tbody><tr><td>HeadOrDefault</td><td><div class=\"dni-plaintext\"><pre>1</pre></div></td></tr><tr><td>TailOrNull</td><td><details class=\"dni-treeview\"><summary><span class=\"dni-code-hint\"><code>[ 10, 2, 8, 5, 7 ]</code></span></summary><div><table><thead><tr></tr></thead><tbody><tr><td>HeadOrDefault</td><td>10</td></tr><tr><td>TailOrNull</td><td>[ 2, 8, 5, 7 ]</td></tr><tr><td>Head</td><td>10</td></tr><tr><td>Tail</td><td>[ 2, 8, 5, 7 ]</td></tr><tr><td><i>(values)</i></td><td><div class=\"dni-plaintext\"><pre>[ 10, 2, 8, 5, 7 ]</pre></div></td></tr></tbody></table></div></details></td></tr><tr><td>Head</td><td><div class=\"dni-plaintext\"><pre>1</pre></div></td></tr><tr><td>Tail</td><td><details class=\"dni-treeview\"><summary><span class=\"dni-code-hint\"><code>[ 10, 2, 8, 5, 7 ]</code></span></summary><div><table><thead><tr></tr></thead><tbody><tr><td>HeadOrDefault</td><td>10</td></tr><tr><td>TailOrNull</td><td>[ 2, 8, 5, 7 ]</td></tr><tr><td>Head</td><td>10</td></tr><tr><td>Tail</td><td>[ 2, 8, 5, 7 ]</td></tr><tr><td><i>(values)</i></td><td><div class=\"dni-plaintext\"><pre>[ 10, 2, 8, 5, 7 ]</pre></div></td></tr></tbody></table></div></details></td></tr><tr><td><i>(values)</i></td><td><div class=\"dni-plaintext\"><pre>[ 1, 10, 2, 8, 5, 7 ]</pre></div></td></tr></tbody></table></div></details></td></tr><tr><td>Head</td><td><div class=\"dni-plaintext\"><pre>4</pre></div></td></tr><tr><td>Tail</td><td><details class=\"dni-treeview\"><summary><span class=\"dni-code-hint\"><code>[ 1, 10, 2, 8, 5, 7 ]</code></span></summary><div><table><thead><tr></tr></thead><tbody><tr><td>HeadOrDefault</td><td><div class=\"dni-plaintext\"><pre>1</pre></div></td></tr><tr><td>TailOrNull</td><td><details class=\"dni-treeview\"><summary><span class=\"dni-code-hint\"><code>[ 10, 2, 8, 5, 7 ]</code></span></summary><div><table><thead><tr></tr></thead><tbody><tr><td>HeadOrDefault</td><td>10</td></tr><tr><td>TailOrNull</td><td>[ 2, 8, 5, 7 ]</td></tr><tr><td>Head</td><td>10</td></tr><tr><td>Tail</td><td>[ 2, 8, 5, 7 ]</td></tr><tr><td><i>(values)</i></td><td><div class=\"dni-plaintext\"><pre>[ 10, 2, 8, 5, 7 ]</pre></div></td></tr></tbody></table></div></details></td></tr><tr><td>Head</td><td><div class=\"dni-plaintext\"><pre>1</pre></div></td></tr><tr><td>Tail</td><td><details class=\"dni-treeview\"><summary><span class=\"dni-code-hint\"><code>[ 10, 2, 8, 5, 7 ]</code></span></summary><div><table><thead><tr></tr></thead><tbody><tr><td>HeadOrDefault</td><td>10</td></tr><tr><td>TailOrNull</td><td>[ 2, 8, 5, 7 ]</td></tr><tr><td>Head</td><td>10</td></tr><tr><td>Tail</td><td>[ 2, 8, 5, 7 ]</td></tr><tr><td><i>(values)</i></td><td><div class=\"dni-plaintext\"><pre>[ 10, 2, 8, 5, 7 ]</pre></div></td></tr></tbody></table></div></details></td></tr><tr><td><i>(values)</i></td><td><div class=\"dni-plaintext\"><pre>[ 1, 10, 2, 8, 5, 7 ]</pre></div></td></tr></tbody></table></div></details></td></tr><tr><td><i>(values)</i></td><td><div class=\"dni-plaintext\"><pre>[ 4, 1, 10, 2, 8, 5, 7 ]</pre></div></td></tr></tbody></table></div></details></td></tr><tr><td><i>(values)</i></td><td><div class=\"dni-plaintext\"><pre>[ 9, 4, 1, 10, 2, 8, 5, 7 ]</pre></div></td></tr></tbody></table></div></details></td></tr><tr><td>Head</td><td><div class=\"dni-plaintext\"><pre>3</pre></div></td></tr><tr><td>Tail</td><td><details class=\"dni-treeview\"><summary><span class=\"dni-code-hint\"><code>[ 9, 4, 1, 10, 2, 8, 5, 7 ]</code></span></summary><div><table><thead><tr></tr></thead><tbody><tr><td>HeadOrDefault</td><td><div class=\"dni-plaintext\"><pre>9</pre></div></td></tr><tr><td>TailOrNull</td><td><details class=\"dni-treeview\"><summary><span class=\"dni-code-hint\"><code>[ 4, 1, 10, 2, 8, 5, 7 ]</code></span></summary><div><table><thead><tr></tr></thead><tbody><tr><td>HeadOrDefault</td><td><div class=\"dni-plaintext\"><pre>4</pre></div></td></tr><tr><td>TailOrNull</td><td><details class=\"dni-treeview\"><summary><span class=\"dni-code-hint\"><code>[ 1, 10, 2, 8, 5, 7 ]</code></span></summary><div><table><thead><tr></tr></thead><tbody><tr><td>HeadOrDefault</td><td><div class=\"dni-plaintext\"><pre>1</pre></div></td></tr><tr><td>TailOrNull</td><td><details class=\"dni-treeview\"><summary><span class=\"dni-code-hint\"><code>[ 10, 2, 8, 5, 7 ]</code></span></summary><div><table><thead><tr></tr></thead><tbody><tr><td>HeadOrDefault</td><td>10</td></tr><tr><td>TailOrNull</td><td>[ 2, 8, 5, 7 ]</td></tr><tr><td>Head</td><td>10</td></tr><tr><td>Tail</td><td>[ 2, 8, 5, 7 ]</td></tr><tr><td><i>(values)</i></td><td><div class=\"dni-plaintext\"><pre>[ 10, 2, 8, 5, 7 ]</pre></div></td></tr></tbody></table></div></details></td></tr><tr><td>Head</td><td><div class=\"dni-plaintext\"><pre>1</pre></div></td></tr><tr><td>Tail</td><td><details class=\"dni-treeview\"><summary><span class=\"dni-code-hint\"><code>[ 10, 2, 8, 5, 7 ]</code></span></summary><div><table><thead><tr></tr></thead><tbody><tr><td>HeadOrDefault</td><td>10</td></tr><tr><td>TailOrNull</td><td>[ 2, 8, 5, 7 ]</td></tr><tr><td>Head</td><td>10</td></tr><tr><td>Tail</td><td>[ 2, 8, 5, 7 ]</td></tr><tr><td><i>(values)</i></td><td><div class=\"dni-plaintext\"><pre>[ 10, 2, 8, 5, 7 ]</pre></div></td></tr></tbody></table></div></details></td></tr><tr><td><i>(values)</i></td><td><div class=\"dni-plaintext\"><pre>[ 1, 10, 2, 8, 5, 7 ]</pre></div></td></tr></tbody></table></div></details></td></tr><tr><td>Head</td><td><div class=\"dni-plaintext\"><pre>4</pre></div></td></tr><tr><td>Tail</td><td><details class=\"dni-treeview\"><summary><span class=\"dni-code-hint\"><code>[ 1, 10, 2, 8, 5, 7 ]</code></span></summary><div><table><thead><tr></tr></thead><tbody><tr><td>HeadOrDefault</td><td><div class=\"dni-plaintext\"><pre>1</pre></div></td></tr><tr><td>TailOrNull</td><td><details class=\"dni-treeview\"><summary><span class=\"dni-code-hint\"><code>[ 10, 2, 8, 5, 7 ]</code></span></summary><div><table><thead><tr></tr></thead><tbody><tr><td>HeadOrDefault</td><td>10</td></tr><tr><td>TailOrNull</td><td>[ 2, 8, 5, 7 ]</td></tr><tr><td>Head</td><td>10</td></tr><tr><td>Tail</td><td>[ 2, 8, 5, 7 ]</td></tr><tr><td><i>(values)</i></td><td><div class=\"dni-plaintext\"><pre>[ 10, 2, 8, 5, 7 ]</pre></div></td></tr></tbody></table></div></details></td></tr><tr><td>Head</td><td><div class=\"dni-plaintext\"><pre>1</pre></div></td></tr><tr><td>Tail</td><td><details class=\"dni-treeview\"><summary><span class=\"dni-code-hint\"><code>[ 10, 2, 8, 5, 7 ]</code></span></summary><div><table><thead><tr></tr></thead><tbody><tr><td>HeadOrDefault</td><td>10</td></tr><tr><td>TailOrNull</td><td>[ 2, 8, 5, 7 ]</td></tr><tr><td>Head</td><td>10</td></tr><tr><td>Tail</td><td>[ 2, 8, 5, 7 ]</td></tr><tr><td><i>(values)</i></td><td><div class=\"dni-plaintext\"><pre>[ 10, 2, 8, 5, 7 ]</pre></div></td></tr></tbody></table></div></details></td></tr><tr><td><i>(values)</i></td><td><div class=\"dni-plaintext\"><pre>[ 1, 10, 2, 8, 5, 7 ]</pre></div></td></tr></tbody></table></div></details></td></tr><tr><td><i>(values)</i></td><td><div class=\"dni-plaintext\"><pre>[ 4, 1, 10, 2, 8, 5, 7 ]</pre></div></td></tr></tbody></table></div></details></td></tr><tr><td>Head</td><td><div class=\"dni-plaintext\"><pre>9</pre></div></td></tr><tr><td>Tail</td><td><details class=\"dni-treeview\"><summary><span class=\"dni-code-hint\"><code>[ 4, 1, 10, 2, 8, 5, 7 ]</code></span></summary><div><table><thead><tr></tr></thead><tbody><tr><td>HeadOrDefault</td><td><div class=\"dni-plaintext\"><pre>4</pre></div></td></tr><tr><td>TailOrNull</td><td><details class=\"dni-treeview\"><summary><span class=\"dni-code-hint\"><code>[ 1, 10, 2, 8, 5, 7 ]</code></span></summary><div><table><thead><tr></tr></thead><tbody><tr><td>HeadOrDefault</td><td><div class=\"dni-plaintext\"><pre>1</pre></div></td></tr><tr><td>TailOrNull</td><td><details class=\"dni-treeview\"><summary><span class=\"dni-code-hint\"><code>[ 10, 2, 8, 5, 7 ]</code></span></summary><div><table><thead><tr></tr></thead><tbody><tr><td>HeadOrDefault</td><td>10</td></tr><tr><td>TailOrNull</td><td>[ 2, 8, 5, 7 ]</td></tr><tr><td>Head</td><td>10</td></tr><tr><td>Tail</td><td>[ 2, 8, 5, 7 ]</td></tr><tr><td><i>(values)</i></td><td><div class=\"dni-plaintext\"><pre>[ 10, 2, 8, 5, 7 ]</pre></div></td></tr></tbody></table></div></details></td></tr><tr><td>Head</td><td><div class=\"dni-plaintext\"><pre>1</pre></div></td></tr><tr><td>Tail</td><td><details class=\"dni-treeview\"><summary><span class=\"dni-code-hint\"><code>[ 10, 2, 8, 5, 7 ]</code></span></summary><div><table><thead><tr></tr></thead><tbody><tr><td>HeadOrDefault</td><td>10</td></tr><tr><td>TailOrNull</td><td>[ 2, 8, 5, 7 ]</td></tr><tr><td>Head</td><td>10</td></tr><tr><td>Tail</td><td>[ 2, 8, 5, 7 ]</td></tr><tr><td><i>(values)</i></td><td><div class=\"dni-plaintext\"><pre>[ 10, 2, 8, 5, 7 ]</pre></div></td></tr></tbody></table></div></details></td></tr><tr><td><i>(values)</i></td><td><div class=\"dni-plaintext\"><pre>[ 1, 10, 2, 8, 5, 7 ]</pre></div></td></tr></tbody></table></div></details></td></tr><tr><td>Head</td><td><div class=\"dni-plaintext\"><pre>4</pre></div></td></tr><tr><td>Tail</td><td><details class=\"dni-treeview\"><summary><span class=\"dni-code-hint\"><code>[ 1, 10, 2, 8, 5, 7 ]</code></span></summary><div><table><thead><tr></tr></thead><tbody><tr><td>HeadOrDefault</td><td><div class=\"dni-plaintext\"><pre>1</pre></div></td></tr><tr><td>TailOrNull</td><td><details class=\"dni-treeview\"><summary><span class=\"dni-code-hint\"><code>[ 10, 2, 8, 5, 7 ]</code></span></summary><div><table><thead><tr></tr></thead><tbody><tr><td>HeadOrDefault</td><td>10</td></tr><tr><td>TailOrNull</td><td>[ 2, 8, 5, 7 ]</td></tr><tr><td>Head</td><td>10</td></tr><tr><td>Tail</td><td>[ 2, 8, 5, 7 ]</td></tr><tr><td><i>(values)</i></td><td><div class=\"dni-plaintext\"><pre>[ 10, 2, 8, 5, 7 ]</pre></div></td></tr></tbody></table></div></details></td></tr><tr><td>Head</td><td><div class=\"dni-plaintext\"><pre>1</pre></div></td></tr><tr><td>Tail</td><td><details class=\"dni-treeview\"><summary><span class=\"dni-code-hint\"><code>[ 10, 2, 8, 5, 7 ]</code></span></summary><div><table><thead><tr></tr></thead><tbody><tr><td>HeadOrDefault</td><td>10</td></tr><tr><td>TailOrNull</td><td>[ 2, 8, 5, 7 ]</td></tr><tr><td>Head</td><td>10</td></tr><tr><td>Tail</td><td>[ 2, 8, 5, 7 ]</td></tr><tr><td><i>(values)</i></td><td><div class=\"dni-plaintext\"><pre>[ 10, 2, 8, 5, 7 ]</pre></div></td></tr></tbody></table></div></details></td></tr><tr><td><i>(values)</i></td><td><div class=\"dni-plaintext\"><pre>[ 1, 10, 2, 8, 5, 7 ]</pre></div></td></tr></tbody></table></div></details></td></tr><tr><td><i>(values)</i></td><td><div class=\"dni-plaintext\"><pre>[ 4, 1, 10, 2, 8, 5, 7 ]</pre></div></td></tr></tbody></table></div></details></td></tr><tr><td><i>(values)</i></td><td><div class=\"dni-plaintext\"><pre>[ 9, 4, 1, 10, 2, 8, 5, 7 ]</pre></div></td></tr></tbody></table></div></details></td></tr><tr><td><i>(values)</i></td><td><div class=\"dni-plaintext\"><pre>[ 3, 9, 4, 1, 10, 2, 8, 5, 7 ]</pre></div></td></tr></tbody></table></div></details></td></tr><tr><td><i>(values)</i></td><td><div class=\"dni-plaintext\"><pre>[ 6, 3, 9, 4, 1, 10, 2, 8, 5, 7 ]</pre></div></td></tr></tbody></table></div></details><style>\r\n",
       ".dni-code-hint {\r\n",
       "    font-style: italic;\r\n",
       "    overflow: hidden;\r\n",
       "    white-space: nowrap;\r\n",
       "}\r\n",
       ".dni-treeview {\r\n",
       "    white-space: nowrap;\r\n",
       "}\r\n",
       ".dni-treeview td {\r\n",
       "    vertical-align: top;\r\n",
       "    text-align: start;\r\n",
       "}\r\n",
       "details.dni-treeview {\r\n",
       "    padding-left: 1em;\r\n",
       "}\r\n",
       "table td {\r\n",
       "    text-align: start;\r\n",
       "}\r\n",
       "table tr { \r\n",
       "    vertical-align: top; \r\n",
       "    margin: 0em 0px;\r\n",
       "}\r\n",
       "table tr td pre \r\n",
       "{ \r\n",
       "    vertical-align: top !important; \r\n",
       "    margin: 0em 0px !important;\r\n",
       "} \r\n",
       "table th {\r\n",
       "    text-align: start;\r\n",
       "}\r\n",
       "</style>"
      ]
     },
     "metadata": {},
     "output_type": "display_data"
    }
   ],
   "source": [
    "randomiseList [1;2;3;4;5;6;7;8;9;10]"
   ]
  },
  {
   "cell_type": "code",
   "execution_count": 12,
   "metadata": {
    "dotnet_interactive": {
     "language": "fsharp"
    },
    "polyglot_notebook": {
     "kernelName": "fsharp"
    }
   },
   "outputs": [],
   "source": [
    "let generateSet (maximum:int) (length:int): int list =\n",
    "    let rec iterate (currentSet: int Set) =\n",
    "        match currentSet with\n",
    "        | finished when (finished |> Set.count) >= length -> finished\n",
    "        | unfinished ->\n",
    "            let newVal = randomGenerator.Next(0, maximum+1)\n",
    "            iterate (currentSet |> Set.add newVal)\n",
    "    iterate ([] |> Set.ofList) |> Set.toList |> randomiseList"
   ]
  },
  {
   "cell_type": "code",
   "execution_count": 13,
   "metadata": {
    "dotnet_interactive": {
     "language": "fsharp"
    },
    "polyglot_notebook": {
     "kernelName": "fsharp"
    }
   },
   "outputs": [
    {
     "data": {
      "text/html": [
       "<details open=\"open\" class=\"dni-treeview\"><summary><span class=\"dni-code-hint\"><code>[ 10, 0, 9, 4, 7 ]</code></span></summary><div><table><thead><tr></tr></thead><tbody><tr><td>HeadOrDefault</td><td><div class=\"dni-plaintext\"><pre>10</pre></div></td></tr><tr><td>TailOrNull</td><td><details class=\"dni-treeview\"><summary><span class=\"dni-code-hint\"><code>[ 0, 9, 4, 7 ]</code></span></summary><div><table><thead><tr></tr></thead><tbody><tr><td>HeadOrDefault</td><td><div class=\"dni-plaintext\"><pre>0</pre></div></td></tr><tr><td>TailOrNull</td><td><details class=\"dni-treeview\"><summary><span class=\"dni-code-hint\"><code>[ 9, 4, 7 ]</code></span></summary><div><table><thead><tr></tr></thead><tbody><tr><td>HeadOrDefault</td><td><div class=\"dni-plaintext\"><pre>9</pre></div></td></tr><tr><td>TailOrNull</td><td><details class=\"dni-treeview\"><summary><span class=\"dni-code-hint\"><code>[ 4, 7 ]</code></span></summary><div><table><thead><tr></tr></thead><tbody><tr><td>HeadOrDefault</td><td><div class=\"dni-plaintext\"><pre>4</pre></div></td></tr><tr><td>TailOrNull</td><td><details class=\"dni-treeview\"><summary><span class=\"dni-code-hint\"><code>[ 7 ]</code></span></summary><div><table><thead><tr></tr></thead><tbody><tr><td>HeadOrDefault</td><td><div class=\"dni-plaintext\"><pre>7</pre></div></td></tr><tr><td>TailOrNull</td><td><details class=\"dni-treeview\"><summary><span class=\"dni-code-hint\"><code>[  ]</code></span></summary><div><table><thead><tr></tr></thead><tbody><tr><td>HeadOrDefault</td><td>0</td></tr><tr><td>TailOrNull</td><td><div class=\"dni-plaintext\"><pre>&lt;null&gt;</pre></div></td></tr><tr><td>Head</td><td>System.InvalidOperationException: The input list was empty.\r\n",
       "   at Microsoft.FSharp.Collections.FSharpList`1.get_Head() in D:\\a\\_work\\1\\s\\src\\FSharp.Core\\prim-types.fs:line 4141\r\n",
       "   at lambda_method107(Closure, FSharpList`1)\r\n",
       "   at Microsoft.DotNet.Interactive.Formatting.MemberAccessor`1.GetValueOrException(T instance) in D:\\a\\_work\\1\\s\\src\\Microsoft.DotNet.Interactive.Formatting\\MemberAccessor{T}.cs:line 58</td></tr><tr><td>Tail</td><td>System.InvalidOperationException: The input list was empty.\r\n",
       "   at Microsoft.FSharp.Collections.FSharpList`1.get_Tail() in D:\\a\\_work\\1\\s\\src\\FSharp.Core\\prim-types.fs:line 4146\r\n",
       "   at lambda_method108(Closure, FSharpList`1)\r\n",
       "   at Microsoft.DotNet.Interactive.Formatting.MemberAccessor`1.GetValueOrException(T instance) in D:\\a\\_work\\1\\s\\src\\Microsoft.DotNet.Interactive.Formatting\\MemberAccessor{T}.cs:line 58</td></tr><tr><td><i>(values)</i></td><td><div class=\"dni-plaintext\"><pre>[  ]</pre></div></td></tr></tbody></table></div></details></td></tr><tr><td>Head</td><td><div class=\"dni-plaintext\"><pre>7</pre></div></td></tr><tr><td>Tail</td><td><details class=\"dni-treeview\"><summary><span class=\"dni-code-hint\"><code>[  ]</code></span></summary><div><table><thead><tr></tr></thead><tbody><tr><td>HeadOrDefault</td><td>0</td></tr><tr><td>TailOrNull</td><td><div class=\"dni-plaintext\"><pre>&lt;null&gt;</pre></div></td></tr><tr><td>Head</td><td>System.InvalidOperationException: The input list was empty.\r\n",
       "   at Microsoft.FSharp.Collections.FSharpList`1.get_Head() in D:\\a\\_work\\1\\s\\src\\FSharp.Core\\prim-types.fs:line 4141\r\n",
       "   at lambda_method107(Closure, FSharpList`1)\r\n",
       "   at Microsoft.DotNet.Interactive.Formatting.MemberAccessor`1.GetValueOrException(T instance) in D:\\a\\_work\\1\\s\\src\\Microsoft.DotNet.Interactive.Formatting\\MemberAccessor{T}.cs:line 58</td></tr><tr><td>Tail</td><td>System.InvalidOperationException: The input list was empty.\r\n",
       "   at Microsoft.FSharp.Collections.FSharpList`1.get_Tail() in D:\\a\\_work\\1\\s\\src\\FSharp.Core\\prim-types.fs:line 4146\r\n",
       "   at lambda_method108(Closure, FSharpList`1)\r\n",
       "   at Microsoft.DotNet.Interactive.Formatting.MemberAccessor`1.GetValueOrException(T instance) in D:\\a\\_work\\1\\s\\src\\Microsoft.DotNet.Interactive.Formatting\\MemberAccessor{T}.cs:line 58</td></tr><tr><td><i>(values)</i></td><td><div class=\"dni-plaintext\"><pre>[  ]</pre></div></td></tr></tbody></table></div></details></td></tr><tr><td><i>(values)</i></td><td><div class=\"dni-plaintext\"><pre>[ 7 ]</pre></div></td></tr></tbody></table></div></details></td></tr><tr><td>Head</td><td><div class=\"dni-plaintext\"><pre>4</pre></div></td></tr><tr><td>Tail</td><td><details class=\"dni-treeview\"><summary><span class=\"dni-code-hint\"><code>[ 7 ]</code></span></summary><div><table><thead><tr></tr></thead><tbody><tr><td>HeadOrDefault</td><td><div class=\"dni-plaintext\"><pre>7</pre></div></td></tr><tr><td>TailOrNull</td><td><details class=\"dni-treeview\"><summary><span class=\"dni-code-hint\"><code>[  ]</code></span></summary><div><table><thead><tr></tr></thead><tbody><tr><td>HeadOrDefault</td><td>0</td></tr><tr><td>TailOrNull</td><td><div class=\"dni-plaintext\"><pre>&lt;null&gt;</pre></div></td></tr><tr><td>Head</td><td>System.InvalidOperationException: The input list was empty.\r\n",
       "   at Microsoft.FSharp.Collections.FSharpList`1.get_Head() in D:\\a\\_work\\1\\s\\src\\FSharp.Core\\prim-types.fs:line 4141\r\n",
       "   at lambda_method107(Closure, FSharpList`1)\r\n",
       "   at Microsoft.DotNet.Interactive.Formatting.MemberAccessor`1.GetValueOrException(T instance) in D:\\a\\_work\\1\\s\\src\\Microsoft.DotNet.Interactive.Formatting\\MemberAccessor{T}.cs:line 58</td></tr><tr><td>Tail</td><td>System.InvalidOperationException: The input list was empty.\r\n",
       "   at Microsoft.FSharp.Collections.FSharpList`1.get_Tail() in D:\\a\\_work\\1\\s\\src\\FSharp.Core\\prim-types.fs:line 4146\r\n",
       "   at lambda_method108(Closure, FSharpList`1)\r\n",
       "   at Microsoft.DotNet.Interactive.Formatting.MemberAccessor`1.GetValueOrException(T instance) in D:\\a\\_work\\1\\s\\src\\Microsoft.DotNet.Interactive.Formatting\\MemberAccessor{T}.cs:line 58</td></tr><tr><td><i>(values)</i></td><td><div class=\"dni-plaintext\"><pre>[  ]</pre></div></td></tr></tbody></table></div></details></td></tr><tr><td>Head</td><td><div class=\"dni-plaintext\"><pre>7</pre></div></td></tr><tr><td>Tail</td><td><details class=\"dni-treeview\"><summary><span class=\"dni-code-hint\"><code>[  ]</code></span></summary><div><table><thead><tr></tr></thead><tbody><tr><td>HeadOrDefault</td><td>0</td></tr><tr><td>TailOrNull</td><td><div class=\"dni-plaintext\"><pre>&lt;null&gt;</pre></div></td></tr><tr><td>Head</td><td>System.InvalidOperationException: The input list was empty.\r\n",
       "   at Microsoft.FSharp.Collections.FSharpList`1.get_Head() in D:\\a\\_work\\1\\s\\src\\FSharp.Core\\prim-types.fs:line 4141\r\n",
       "   at lambda_method107(Closure, FSharpList`1)\r\n",
       "   at Microsoft.DotNet.Interactive.Formatting.MemberAccessor`1.GetValueOrException(T instance) in D:\\a\\_work\\1\\s\\src\\Microsoft.DotNet.Interactive.Formatting\\MemberAccessor{T}.cs:line 58</td></tr><tr><td>Tail</td><td>System.InvalidOperationException: The input list was empty.\r\n",
       "   at Microsoft.FSharp.Collections.FSharpList`1.get_Tail() in D:\\a\\_work\\1\\s\\src\\FSharp.Core\\prim-types.fs:line 4146\r\n",
       "   at lambda_method108(Closure, FSharpList`1)\r\n",
       "   at Microsoft.DotNet.Interactive.Formatting.MemberAccessor`1.GetValueOrException(T instance) in D:\\a\\_work\\1\\s\\src\\Microsoft.DotNet.Interactive.Formatting\\MemberAccessor{T}.cs:line 58</td></tr><tr><td><i>(values)</i></td><td><div class=\"dni-plaintext\"><pre>[  ]</pre></div></td></tr></tbody></table></div></details></td></tr><tr><td><i>(values)</i></td><td><div class=\"dni-plaintext\"><pre>[ 7 ]</pre></div></td></tr></tbody></table></div></details></td></tr><tr><td><i>(values)</i></td><td><div class=\"dni-plaintext\"><pre>[ 4, 7 ]</pre></div></td></tr></tbody></table></div></details></td></tr><tr><td>Head</td><td><div class=\"dni-plaintext\"><pre>9</pre></div></td></tr><tr><td>Tail</td><td><details class=\"dni-treeview\"><summary><span class=\"dni-code-hint\"><code>[ 4, 7 ]</code></span></summary><div><table><thead><tr></tr></thead><tbody><tr><td>HeadOrDefault</td><td><div class=\"dni-plaintext\"><pre>4</pre></div></td></tr><tr><td>TailOrNull</td><td><details class=\"dni-treeview\"><summary><span class=\"dni-code-hint\"><code>[ 7 ]</code></span></summary><div><table><thead><tr></tr></thead><tbody><tr><td>HeadOrDefault</td><td><div class=\"dni-plaintext\"><pre>7</pre></div></td></tr><tr><td>TailOrNull</td><td><details class=\"dni-treeview\"><summary><span class=\"dni-code-hint\"><code>[  ]</code></span></summary><div><table><thead><tr></tr></thead><tbody><tr><td>HeadOrDefault</td><td>0</td></tr><tr><td>TailOrNull</td><td><div class=\"dni-plaintext\"><pre>&lt;null&gt;</pre></div></td></tr><tr><td>Head</td><td>System.InvalidOperationException: The input list was empty.\r\n",
       "   at Microsoft.FSharp.Collections.FSharpList`1.get_Head() in D:\\a\\_work\\1\\s\\src\\FSharp.Core\\prim-types.fs:line 4141\r\n",
       "   at lambda_method107(Closure, FSharpList`1)\r\n",
       "   at Microsoft.DotNet.Interactive.Formatting.MemberAccessor`1.GetValueOrException(T instance) in D:\\a\\_work\\1\\s\\src\\Microsoft.DotNet.Interactive.Formatting\\MemberAccessor{T}.cs:line 58</td></tr><tr><td>Tail</td><td>System.InvalidOperationException: The input list was empty.\r\n",
       "   at Microsoft.FSharp.Collections.FSharpList`1.get_Tail() in D:\\a\\_work\\1\\s\\src\\FSharp.Core\\prim-types.fs:line 4146\r\n",
       "   at lambda_method108(Closure, FSharpList`1)\r\n",
       "   at Microsoft.DotNet.Interactive.Formatting.MemberAccessor`1.GetValueOrException(T instance) in D:\\a\\_work\\1\\s\\src\\Microsoft.DotNet.Interactive.Formatting\\MemberAccessor{T}.cs:line 58</td></tr><tr><td><i>(values)</i></td><td><div class=\"dni-plaintext\"><pre>[  ]</pre></div></td></tr></tbody></table></div></details></td></tr><tr><td>Head</td><td><div class=\"dni-plaintext\"><pre>7</pre></div></td></tr><tr><td>Tail</td><td><details class=\"dni-treeview\"><summary><span class=\"dni-code-hint\"><code>[  ]</code></span></summary><div><table><thead><tr></tr></thead><tbody><tr><td>HeadOrDefault</td><td>0</td></tr><tr><td>TailOrNull</td><td><div class=\"dni-plaintext\"><pre>&lt;null&gt;</pre></div></td></tr><tr><td>Head</td><td>System.InvalidOperationException: The input list was empty.\r\n",
       "   at Microsoft.FSharp.Collections.FSharpList`1.get_Head() in D:\\a\\_work\\1\\s\\src\\FSharp.Core\\prim-types.fs:line 4141\r\n",
       "   at lambda_method107(Closure, FSharpList`1)\r\n",
       "   at Microsoft.DotNet.Interactive.Formatting.MemberAccessor`1.GetValueOrException(T instance) in D:\\a\\_work\\1\\s\\src\\Microsoft.DotNet.Interactive.Formatting\\MemberAccessor{T}.cs:line 58</td></tr><tr><td>Tail</td><td>System.InvalidOperationException: The input list was empty.\r\n",
       "   at Microsoft.FSharp.Collections.FSharpList`1.get_Tail() in D:\\a\\_work\\1\\s\\src\\FSharp.Core\\prim-types.fs:line 4146\r\n",
       "   at lambda_method108(Closure, FSharpList`1)\r\n",
       "   at Microsoft.DotNet.Interactive.Formatting.MemberAccessor`1.GetValueOrException(T instance) in D:\\a\\_work\\1\\s\\src\\Microsoft.DotNet.Interactive.Formatting\\MemberAccessor{T}.cs:line 58</td></tr><tr><td><i>(values)</i></td><td><div class=\"dni-plaintext\"><pre>[  ]</pre></div></td></tr></tbody></table></div></details></td></tr><tr><td><i>(values)</i></td><td><div class=\"dni-plaintext\"><pre>[ 7 ]</pre></div></td></tr></tbody></table></div></details></td></tr><tr><td>Head</td><td><div class=\"dni-plaintext\"><pre>4</pre></div></td></tr><tr><td>Tail</td><td><details class=\"dni-treeview\"><summary><span class=\"dni-code-hint\"><code>[ 7 ]</code></span></summary><div><table><thead><tr></tr></thead><tbody><tr><td>HeadOrDefault</td><td><div class=\"dni-plaintext\"><pre>7</pre></div></td></tr><tr><td>TailOrNull</td><td><details class=\"dni-treeview\"><summary><span class=\"dni-code-hint\"><code>[  ]</code></span></summary><div><table><thead><tr></tr></thead><tbody><tr><td>HeadOrDefault</td><td>0</td></tr><tr><td>TailOrNull</td><td><div class=\"dni-plaintext\"><pre>&lt;null&gt;</pre></div></td></tr><tr><td>Head</td><td>System.InvalidOperationException: The input list was empty.\r\n",
       "   at Microsoft.FSharp.Collections.FSharpList`1.get_Head() in D:\\a\\_work\\1\\s\\src\\FSharp.Core\\prim-types.fs:line 4141\r\n",
       "   at lambda_method107(Closure, FSharpList`1)\r\n",
       "   at Microsoft.DotNet.Interactive.Formatting.MemberAccessor`1.GetValueOrException(T instance) in D:\\a\\_work\\1\\s\\src\\Microsoft.DotNet.Interactive.Formatting\\MemberAccessor{T}.cs:line 58</td></tr><tr><td>Tail</td><td>System.InvalidOperationException: The input list was empty.\r\n",
       "   at Microsoft.FSharp.Collections.FSharpList`1.get_Tail() in D:\\a\\_work\\1\\s\\src\\FSharp.Core\\prim-types.fs:line 4146\r\n",
       "   at lambda_method108(Closure, FSharpList`1)\r\n",
       "   at Microsoft.DotNet.Interactive.Formatting.MemberAccessor`1.GetValueOrException(T instance) in D:\\a\\_work\\1\\s\\src\\Microsoft.DotNet.Interactive.Formatting\\MemberAccessor{T}.cs:line 58</td></tr><tr><td><i>(values)</i></td><td><div class=\"dni-plaintext\"><pre>[  ]</pre></div></td></tr></tbody></table></div></details></td></tr><tr><td>Head</td><td><div class=\"dni-plaintext\"><pre>7</pre></div></td></tr><tr><td>Tail</td><td><details class=\"dni-treeview\"><summary><span class=\"dni-code-hint\"><code>[  ]</code></span></summary><div><table><thead><tr></tr></thead><tbody><tr><td>HeadOrDefault</td><td>0</td></tr><tr><td>TailOrNull</td><td><div class=\"dni-plaintext\"><pre>&lt;null&gt;</pre></div></td></tr><tr><td>Head</td><td>System.InvalidOperationException: The input list was empty.\r\n",
       "   at Microsoft.FSharp.Collections.FSharpList`1.get_Head() in D:\\a\\_work\\1\\s\\src\\FSharp.Core\\prim-types.fs:line 4141\r\n",
       "   at lambda_method107(Closure, FSharpList`1)\r\n",
       "   at Microsoft.DotNet.Interactive.Formatting.MemberAccessor`1.GetValueOrException(T instance) in D:\\a\\_work\\1\\s\\src\\Microsoft.DotNet.Interactive.Formatting\\MemberAccessor{T}.cs:line 58</td></tr><tr><td>Tail</td><td>System.InvalidOperationException: The input list was empty.\r\n",
       "   at Microsoft.FSharp.Collections.FSharpList`1.get_Tail() in D:\\a\\_work\\1\\s\\src\\FSharp.Core\\prim-types.fs:line 4146\r\n",
       "   at lambda_method108(Closure, FSharpList`1)\r\n",
       "   at Microsoft.DotNet.Interactive.Formatting.MemberAccessor`1.GetValueOrException(T instance) in D:\\a\\_work\\1\\s\\src\\Microsoft.DotNet.Interactive.Formatting\\MemberAccessor{T}.cs:line 58</td></tr><tr><td><i>(values)</i></td><td><div class=\"dni-plaintext\"><pre>[  ]</pre></div></td></tr></tbody></table></div></details></td></tr><tr><td><i>(values)</i></td><td><div class=\"dni-plaintext\"><pre>[ 7 ]</pre></div></td></tr></tbody></table></div></details></td></tr><tr><td><i>(values)</i></td><td><div class=\"dni-plaintext\"><pre>[ 4, 7 ]</pre></div></td></tr></tbody></table></div></details></td></tr><tr><td><i>(values)</i></td><td><div class=\"dni-plaintext\"><pre>[ 9, 4, 7 ]</pre></div></td></tr></tbody></table></div></details></td></tr><tr><td>Head</td><td><div class=\"dni-plaintext\"><pre>0</pre></div></td></tr><tr><td>Tail</td><td><details class=\"dni-treeview\"><summary><span class=\"dni-code-hint\"><code>[ 9, 4, 7 ]</code></span></summary><div><table><thead><tr></tr></thead><tbody><tr><td>HeadOrDefault</td><td><div class=\"dni-plaintext\"><pre>9</pre></div></td></tr><tr><td>TailOrNull</td><td><details class=\"dni-treeview\"><summary><span class=\"dni-code-hint\"><code>[ 4, 7 ]</code></span></summary><div><table><thead><tr></tr></thead><tbody><tr><td>HeadOrDefault</td><td><div class=\"dni-plaintext\"><pre>4</pre></div></td></tr><tr><td>TailOrNull</td><td><details class=\"dni-treeview\"><summary><span class=\"dni-code-hint\"><code>[ 7 ]</code></span></summary><div><table><thead><tr></tr></thead><tbody><tr><td>HeadOrDefault</td><td><div class=\"dni-plaintext\"><pre>7</pre></div></td></tr><tr><td>TailOrNull</td><td><details class=\"dni-treeview\"><summary><span class=\"dni-code-hint\"><code>[  ]</code></span></summary><div><table><thead><tr></tr></thead><tbody><tr><td>HeadOrDefault</td><td>0</td></tr><tr><td>TailOrNull</td><td><div class=\"dni-plaintext\"><pre>&lt;null&gt;</pre></div></td></tr><tr><td>Head</td><td>System.InvalidOperationException: The input list was empty.\r\n",
       "   at Microsoft.FSharp.Collections.FSharpList`1.get_Head() in D:\\a\\_work\\1\\s\\src\\FSharp.Core\\prim-types.fs:line 4141\r\n",
       "   at lambda_method107(Closure, FSharpList`1)\r\n",
       "   at Microsoft.DotNet.Interactive.Formatting.MemberAccessor`1.GetValueOrException(T instance) in D:\\a\\_work\\1\\s\\src\\Microsoft.DotNet.Interactive.Formatting\\MemberAccessor{T}.cs:line 58</td></tr><tr><td>Tail</td><td>System.InvalidOperationException: The input list was empty.\r\n",
       "   at Microsoft.FSharp.Collections.FSharpList`1.get_Tail() in D:\\a\\_work\\1\\s\\src\\FSharp.Core\\prim-types.fs:line 4146\r\n",
       "   at lambda_method108(Closure, FSharpList`1)\r\n",
       "   at Microsoft.DotNet.Interactive.Formatting.MemberAccessor`1.GetValueOrException(T instance) in D:\\a\\_work\\1\\s\\src\\Microsoft.DotNet.Interactive.Formatting\\MemberAccessor{T}.cs:line 58</td></tr><tr><td><i>(values)</i></td><td><div class=\"dni-plaintext\"><pre>[  ]</pre></div></td></tr></tbody></table></div></details></td></tr><tr><td>Head</td><td><div class=\"dni-plaintext\"><pre>7</pre></div></td></tr><tr><td>Tail</td><td><details class=\"dni-treeview\"><summary><span class=\"dni-code-hint\"><code>[  ]</code></span></summary><div><table><thead><tr></tr></thead><tbody><tr><td>HeadOrDefault</td><td>0</td></tr><tr><td>TailOrNull</td><td><div class=\"dni-plaintext\"><pre>&lt;null&gt;</pre></div></td></tr><tr><td>Head</td><td>System.InvalidOperationException: The input list was empty.\r\n",
       "   at Microsoft.FSharp.Collections.FSharpList`1.get_Head() in D:\\a\\_work\\1\\s\\src\\FSharp.Core\\prim-types.fs:line 4141\r\n",
       "   at lambda_method107(Closure, FSharpList`1)\r\n",
       "   at Microsoft.DotNet.Interactive.Formatting.MemberAccessor`1.GetValueOrException(T instance) in D:\\a\\_work\\1\\s\\src\\Microsoft.DotNet.Interactive.Formatting\\MemberAccessor{T}.cs:line 58</td></tr><tr><td>Tail</td><td>System.InvalidOperationException: The input list was empty.\r\n",
       "   at Microsoft.FSharp.Collections.FSharpList`1.get_Tail() in D:\\a\\_work\\1\\s\\src\\FSharp.Core\\prim-types.fs:line 4146\r\n",
       "   at lambda_method108(Closure, FSharpList`1)\r\n",
       "   at Microsoft.DotNet.Interactive.Formatting.MemberAccessor`1.GetValueOrException(T instance) in D:\\a\\_work\\1\\s\\src\\Microsoft.DotNet.Interactive.Formatting\\MemberAccessor{T}.cs:line 58</td></tr><tr><td><i>(values)</i></td><td><div class=\"dni-plaintext\"><pre>[  ]</pre></div></td></tr></tbody></table></div></details></td></tr><tr><td><i>(values)</i></td><td><div class=\"dni-plaintext\"><pre>[ 7 ]</pre></div></td></tr></tbody></table></div></details></td></tr><tr><td>Head</td><td><div class=\"dni-plaintext\"><pre>4</pre></div></td></tr><tr><td>Tail</td><td><details class=\"dni-treeview\"><summary><span class=\"dni-code-hint\"><code>[ 7 ]</code></span></summary><div><table><thead><tr></tr></thead><tbody><tr><td>HeadOrDefault</td><td><div class=\"dni-plaintext\"><pre>7</pre></div></td></tr><tr><td>TailOrNull</td><td><details class=\"dni-treeview\"><summary><span class=\"dni-code-hint\"><code>[  ]</code></span></summary><div><table><thead><tr></tr></thead><tbody><tr><td>HeadOrDefault</td><td>0</td></tr><tr><td>TailOrNull</td><td><div class=\"dni-plaintext\"><pre>&lt;null&gt;</pre></div></td></tr><tr><td>Head</td><td>System.InvalidOperationException: The input list was empty.\r\n",
       "   at Microsoft.FSharp.Collections.FSharpList`1.get_Head() in D:\\a\\_work\\1\\s\\src\\FSharp.Core\\prim-types.fs:line 4141\r\n",
       "   at lambda_method107(Closure, FSharpList`1)\r\n",
       "   at Microsoft.DotNet.Interactive.Formatting.MemberAccessor`1.GetValueOrException(T instance) in D:\\a\\_work\\1\\s\\src\\Microsoft.DotNet.Interactive.Formatting\\MemberAccessor{T}.cs:line 58</td></tr><tr><td>Tail</td><td>System.InvalidOperationException: The input list was empty.\r\n",
       "   at Microsoft.FSharp.Collections.FSharpList`1.get_Tail() in D:\\a\\_work\\1\\s\\src\\FSharp.Core\\prim-types.fs:line 4146\r\n",
       "   at lambda_method108(Closure, FSharpList`1)\r\n",
       "   at Microsoft.DotNet.Interactive.Formatting.MemberAccessor`1.GetValueOrException(T instance) in D:\\a\\_work\\1\\s\\src\\Microsoft.DotNet.Interactive.Formatting\\MemberAccessor{T}.cs:line 58</td></tr><tr><td><i>(values)</i></td><td><div class=\"dni-plaintext\"><pre>[  ]</pre></div></td></tr></tbody></table></div></details></td></tr><tr><td>Head</td><td><div class=\"dni-plaintext\"><pre>7</pre></div></td></tr><tr><td>Tail</td><td><details class=\"dni-treeview\"><summary><span class=\"dni-code-hint\"><code>[  ]</code></span></summary><div><table><thead><tr></tr></thead><tbody><tr><td>HeadOrDefault</td><td>0</td></tr><tr><td>TailOrNull</td><td><div class=\"dni-plaintext\"><pre>&lt;null&gt;</pre></div></td></tr><tr><td>Head</td><td>System.InvalidOperationException: The input list was empty.\r\n",
       "   at Microsoft.FSharp.Collections.FSharpList`1.get_Head() in D:\\a\\_work\\1\\s\\src\\FSharp.Core\\prim-types.fs:line 4141\r\n",
       "   at lambda_method107(Closure, FSharpList`1)\r\n",
       "   at Microsoft.DotNet.Interactive.Formatting.MemberAccessor`1.GetValueOrException(T instance) in D:\\a\\_work\\1\\s\\src\\Microsoft.DotNet.Interactive.Formatting\\MemberAccessor{T}.cs:line 58</td></tr><tr><td>Tail</td><td>System.InvalidOperationException: The input list was empty.\r\n",
       "   at Microsoft.FSharp.Collections.FSharpList`1.get_Tail() in D:\\a\\_work\\1\\s\\src\\FSharp.Core\\prim-types.fs:line 4146\r\n",
       "   at lambda_method108(Closure, FSharpList`1)\r\n",
       "   at Microsoft.DotNet.Interactive.Formatting.MemberAccessor`1.GetValueOrException(T instance) in D:\\a\\_work\\1\\s\\src\\Microsoft.DotNet.Interactive.Formatting\\MemberAccessor{T}.cs:line 58</td></tr><tr><td><i>(values)</i></td><td><div class=\"dni-plaintext\"><pre>[  ]</pre></div></td></tr></tbody></table></div></details></td></tr><tr><td><i>(values)</i></td><td><div class=\"dni-plaintext\"><pre>[ 7 ]</pre></div></td></tr></tbody></table></div></details></td></tr><tr><td><i>(values)</i></td><td><div class=\"dni-plaintext\"><pre>[ 4, 7 ]</pre></div></td></tr></tbody></table></div></details></td></tr><tr><td>Head</td><td><div class=\"dni-plaintext\"><pre>9</pre></div></td></tr><tr><td>Tail</td><td><details class=\"dni-treeview\"><summary><span class=\"dni-code-hint\"><code>[ 4, 7 ]</code></span></summary><div><table><thead><tr></tr></thead><tbody><tr><td>HeadOrDefault</td><td><div class=\"dni-plaintext\"><pre>4</pre></div></td></tr><tr><td>TailOrNull</td><td><details class=\"dni-treeview\"><summary><span class=\"dni-code-hint\"><code>[ 7 ]</code></span></summary><div><table><thead><tr></tr></thead><tbody><tr><td>HeadOrDefault</td><td><div class=\"dni-plaintext\"><pre>7</pre></div></td></tr><tr><td>TailOrNull</td><td><details class=\"dni-treeview\"><summary><span class=\"dni-code-hint\"><code>[  ]</code></span></summary><div><table><thead><tr></tr></thead><tbody><tr><td>HeadOrDefault</td><td>0</td></tr><tr><td>TailOrNull</td><td><div class=\"dni-plaintext\"><pre>&lt;null&gt;</pre></div></td></tr><tr><td>Head</td><td>System.InvalidOperationException: The input list was empty.\r\n",
       "   at Microsoft.FSharp.Collections.FSharpList`1.get_Head() in D:\\a\\_work\\1\\s\\src\\FSharp.Core\\prim-types.fs:line 4141\r\n",
       "   at lambda_method107(Closure, FSharpList`1)\r\n",
       "   at Microsoft.DotNet.Interactive.Formatting.MemberAccessor`1.GetValueOrException(T instance) in D:\\a\\_work\\1\\s\\src\\Microsoft.DotNet.Interactive.Formatting\\MemberAccessor{T}.cs:line 58</td></tr><tr><td>Tail</td><td>System.InvalidOperationException: The input list was empty.\r\n",
       "   at Microsoft.FSharp.Collections.FSharpList`1.get_Tail() in D:\\a\\_work\\1\\s\\src\\FSharp.Core\\prim-types.fs:line 4146\r\n",
       "   at lambda_method108(Closure, FSharpList`1)\r\n",
       "   at Microsoft.DotNet.Interactive.Formatting.MemberAccessor`1.GetValueOrException(T instance) in D:\\a\\_work\\1\\s\\src\\Microsoft.DotNet.Interactive.Formatting\\MemberAccessor{T}.cs:line 58</td></tr><tr><td><i>(values)</i></td><td><div class=\"dni-plaintext\"><pre>[  ]</pre></div></td></tr></tbody></table></div></details></td></tr><tr><td>Head</td><td><div class=\"dni-plaintext\"><pre>7</pre></div></td></tr><tr><td>Tail</td><td><details class=\"dni-treeview\"><summary><span class=\"dni-code-hint\"><code>[  ]</code></span></summary><div><table><thead><tr></tr></thead><tbody><tr><td>HeadOrDefault</td><td>0</td></tr><tr><td>TailOrNull</td><td><div class=\"dni-plaintext\"><pre>&lt;null&gt;</pre></div></td></tr><tr><td>Head</td><td>System.InvalidOperationException: The input list was empty.\r\n",
       "   at Microsoft.FSharp.Collections.FSharpList`1.get_Head() in D:\\a\\_work\\1\\s\\src\\FSharp.Core\\prim-types.fs:line 4141\r\n",
       "   at lambda_method107(Closure, FSharpList`1)\r\n",
       "   at Microsoft.DotNet.Interactive.Formatting.MemberAccessor`1.GetValueOrException(T instance) in D:\\a\\_work\\1\\s\\src\\Microsoft.DotNet.Interactive.Formatting\\MemberAccessor{T}.cs:line 58</td></tr><tr><td>Tail</td><td>System.InvalidOperationException: The input list was empty.\r\n",
       "   at Microsoft.FSharp.Collections.FSharpList`1.get_Tail() in D:\\a\\_work\\1\\s\\src\\FSharp.Core\\prim-types.fs:line 4146\r\n",
       "   at lambda_method108(Closure, FSharpList`1)\r\n",
       "   at Microsoft.DotNet.Interactive.Formatting.MemberAccessor`1.GetValueOrException(T instance) in D:\\a\\_work\\1\\s\\src\\Microsoft.DotNet.Interactive.Formatting\\MemberAccessor{T}.cs:line 58</td></tr><tr><td><i>(values)</i></td><td><div class=\"dni-plaintext\"><pre>[  ]</pre></div></td></tr></tbody></table></div></details></td></tr><tr><td><i>(values)</i></td><td><div class=\"dni-plaintext\"><pre>[ 7 ]</pre></div></td></tr></tbody></table></div></details></td></tr><tr><td>Head</td><td><div class=\"dni-plaintext\"><pre>4</pre></div></td></tr><tr><td>Tail</td><td><details class=\"dni-treeview\"><summary><span class=\"dni-code-hint\"><code>[ 7 ]</code></span></summary><div><table><thead><tr></tr></thead><tbody><tr><td>HeadOrDefault</td><td><div class=\"dni-plaintext\"><pre>7</pre></div></td></tr><tr><td>TailOrNull</td><td><details class=\"dni-treeview\"><summary><span class=\"dni-code-hint\"><code>[  ]</code></span></summary><div><table><thead><tr></tr></thead><tbody><tr><td>HeadOrDefault</td><td>0</td></tr><tr><td>TailOrNull</td><td><div class=\"dni-plaintext\"><pre>&lt;null&gt;</pre></div></td></tr><tr><td>Head</td><td>System.InvalidOperationException: The input list was empty.\r\n",
       "   at Microsoft.FSharp.Collections.FSharpList`1.get_Head() in D:\\a\\_work\\1\\s\\src\\FSharp.Core\\prim-types.fs:line 4141\r\n",
       "   at lambda_method107(Closure, FSharpList`1)\r\n",
       "   at Microsoft.DotNet.Interactive.Formatting.MemberAccessor`1.GetValueOrException(T instance) in D:\\a\\_work\\1\\s\\src\\Microsoft.DotNet.Interactive.Formatting\\MemberAccessor{T}.cs:line 58</td></tr><tr><td>Tail</td><td>System.InvalidOperationException: The input list was empty.\r\n",
       "   at Microsoft.FSharp.Collections.FSharpList`1.get_Tail() in D:\\a\\_work\\1\\s\\src\\FSharp.Core\\prim-types.fs:line 4146\r\n",
       "   at lambda_method108(Closure, FSharpList`1)\r\n",
       "   at Microsoft.DotNet.Interactive.Formatting.MemberAccessor`1.GetValueOrException(T instance) in D:\\a\\_work\\1\\s\\src\\Microsoft.DotNet.Interactive.Formatting\\MemberAccessor{T}.cs:line 58</td></tr><tr><td><i>(values)</i></td><td><div class=\"dni-plaintext\"><pre>[  ]</pre></div></td></tr></tbody></table></div></details></td></tr><tr><td>Head</td><td><div class=\"dni-plaintext\"><pre>7</pre></div></td></tr><tr><td>Tail</td><td><details class=\"dni-treeview\"><summary><span class=\"dni-code-hint\"><code>[  ]</code></span></summary><div><table><thead><tr></tr></thead><tbody><tr><td>HeadOrDefault</td><td>0</td></tr><tr><td>TailOrNull</td><td><div class=\"dni-plaintext\"><pre>&lt;null&gt;</pre></div></td></tr><tr><td>Head</td><td>System.InvalidOperationException: The input list was empty.\r\n",
       "   at Microsoft.FSharp.Collections.FSharpList`1.get_Head() in D:\\a\\_work\\1\\s\\src\\FSharp.Core\\prim-types.fs:line 4141\r\n",
       "   at lambda_method107(Closure, FSharpList`1)\r\n",
       "   at Microsoft.DotNet.Interactive.Formatting.MemberAccessor`1.GetValueOrException(T instance) in D:\\a\\_work\\1\\s\\src\\Microsoft.DotNet.Interactive.Formatting\\MemberAccessor{T}.cs:line 58</td></tr><tr><td>Tail</td><td>System.InvalidOperationException: The input list was empty.\r\n",
       "   at Microsoft.FSharp.Collections.FSharpList`1.get_Tail() in D:\\a\\_work\\1\\s\\src\\FSharp.Core\\prim-types.fs:line 4146\r\n",
       "   at lambda_method108(Closure, FSharpList`1)\r\n",
       "   at Microsoft.DotNet.Interactive.Formatting.MemberAccessor`1.GetValueOrException(T instance) in D:\\a\\_work\\1\\s\\src\\Microsoft.DotNet.Interactive.Formatting\\MemberAccessor{T}.cs:line 58</td></tr><tr><td><i>(values)</i></td><td><div class=\"dni-plaintext\"><pre>[  ]</pre></div></td></tr></tbody></table></div></details></td></tr><tr><td><i>(values)</i></td><td><div class=\"dni-plaintext\"><pre>[ 7 ]</pre></div></td></tr></tbody></table></div></details></td></tr><tr><td><i>(values)</i></td><td><div class=\"dni-plaintext\"><pre>[ 4, 7 ]</pre></div></td></tr></tbody></table></div></details></td></tr><tr><td><i>(values)</i></td><td><div class=\"dni-plaintext\"><pre>[ 9, 4, 7 ]</pre></div></td></tr></tbody></table></div></details></td></tr><tr><td><i>(values)</i></td><td><div class=\"dni-plaintext\"><pre>[ 0, 9, 4, 7 ]</pre></div></td></tr></tbody></table></div></details></td></tr><tr><td>Head</td><td><div class=\"dni-plaintext\"><pre>10</pre></div></td></tr><tr><td>Tail</td><td><details class=\"dni-treeview\"><summary><span class=\"dni-code-hint\"><code>[ 0, 9, 4, 7 ]</code></span></summary><div><table><thead><tr></tr></thead><tbody><tr><td>HeadOrDefault</td><td><div class=\"dni-plaintext\"><pre>0</pre></div></td></tr><tr><td>TailOrNull</td><td><details class=\"dni-treeview\"><summary><span class=\"dni-code-hint\"><code>[ 9, 4, 7 ]</code></span></summary><div><table><thead><tr></tr></thead><tbody><tr><td>HeadOrDefault</td><td><div class=\"dni-plaintext\"><pre>9</pre></div></td></tr><tr><td>TailOrNull</td><td><details class=\"dni-treeview\"><summary><span class=\"dni-code-hint\"><code>[ 4, 7 ]</code></span></summary><div><table><thead><tr></tr></thead><tbody><tr><td>HeadOrDefault</td><td><div class=\"dni-plaintext\"><pre>4</pre></div></td></tr><tr><td>TailOrNull</td><td><details class=\"dni-treeview\"><summary><span class=\"dni-code-hint\"><code>[ 7 ]</code></span></summary><div><table><thead><tr></tr></thead><tbody><tr><td>HeadOrDefault</td><td><div class=\"dni-plaintext\"><pre>7</pre></div></td></tr><tr><td>TailOrNull</td><td><details class=\"dni-treeview\"><summary><span class=\"dni-code-hint\"><code>[  ]</code></span></summary><div><table><thead><tr></tr></thead><tbody><tr><td>HeadOrDefault</td><td>0</td></tr><tr><td>TailOrNull</td><td><div class=\"dni-plaintext\"><pre>&lt;null&gt;</pre></div></td></tr><tr><td>Head</td><td>System.InvalidOperationException: The input list was empty.\r\n",
       "   at Microsoft.FSharp.Collections.FSharpList`1.get_Head() in D:\\a\\_work\\1\\s\\src\\FSharp.Core\\prim-types.fs:line 4141\r\n",
       "   at lambda_method107(Closure, FSharpList`1)\r\n",
       "   at Microsoft.DotNet.Interactive.Formatting.MemberAccessor`1.GetValueOrException(T instance) in D:\\a\\_work\\1\\s\\src\\Microsoft.DotNet.Interactive.Formatting\\MemberAccessor{T}.cs:line 58</td></tr><tr><td>Tail</td><td>System.InvalidOperationException: The input list was empty.\r\n",
       "   at Microsoft.FSharp.Collections.FSharpList`1.get_Tail() in D:\\a\\_work\\1\\s\\src\\FSharp.Core\\prim-types.fs:line 4146\r\n",
       "   at lambda_method108(Closure, FSharpList`1)\r\n",
       "   at Microsoft.DotNet.Interactive.Formatting.MemberAccessor`1.GetValueOrException(T instance) in D:\\a\\_work\\1\\s\\src\\Microsoft.DotNet.Interactive.Formatting\\MemberAccessor{T}.cs:line 58</td></tr><tr><td><i>(values)</i></td><td><div class=\"dni-plaintext\"><pre>[  ]</pre></div></td></tr></tbody></table></div></details></td></tr><tr><td>Head</td><td><div class=\"dni-plaintext\"><pre>7</pre></div></td></tr><tr><td>Tail</td><td><details class=\"dni-treeview\"><summary><span class=\"dni-code-hint\"><code>[  ]</code></span></summary><div><table><thead><tr></tr></thead><tbody><tr><td>HeadOrDefault</td><td>0</td></tr><tr><td>TailOrNull</td><td><div class=\"dni-plaintext\"><pre>&lt;null&gt;</pre></div></td></tr><tr><td>Head</td><td>System.InvalidOperationException: The input list was empty.\r\n",
       "   at Microsoft.FSharp.Collections.FSharpList`1.get_Head() in D:\\a\\_work\\1\\s\\src\\FSharp.Core\\prim-types.fs:line 4141\r\n",
       "   at lambda_method107(Closure, FSharpList`1)\r\n",
       "   at Microsoft.DotNet.Interactive.Formatting.MemberAccessor`1.GetValueOrException(T instance) in D:\\a\\_work\\1\\s\\src\\Microsoft.DotNet.Interactive.Formatting\\MemberAccessor{T}.cs:line 58</td></tr><tr><td>Tail</td><td>System.InvalidOperationException: The input list was empty.\r\n",
       "   at Microsoft.FSharp.Collections.FSharpList`1.get_Tail() in D:\\a\\_work\\1\\s\\src\\FSharp.Core\\prim-types.fs:line 4146\r\n",
       "   at lambda_method108(Closure, FSharpList`1)\r\n",
       "   at Microsoft.DotNet.Interactive.Formatting.MemberAccessor`1.GetValueOrException(T instance) in D:\\a\\_work\\1\\s\\src\\Microsoft.DotNet.Interactive.Formatting\\MemberAccessor{T}.cs:line 58</td></tr><tr><td><i>(values)</i></td><td><div class=\"dni-plaintext\"><pre>[  ]</pre></div></td></tr></tbody></table></div></details></td></tr><tr><td><i>(values)</i></td><td><div class=\"dni-plaintext\"><pre>[ 7 ]</pre></div></td></tr></tbody></table></div></details></td></tr><tr><td>Head</td><td><div class=\"dni-plaintext\"><pre>4</pre></div></td></tr><tr><td>Tail</td><td><details class=\"dni-treeview\"><summary><span class=\"dni-code-hint\"><code>[ 7 ]</code></span></summary><div><table><thead><tr></tr></thead><tbody><tr><td>HeadOrDefault</td><td><div class=\"dni-plaintext\"><pre>7</pre></div></td></tr><tr><td>TailOrNull</td><td><details class=\"dni-treeview\"><summary><span class=\"dni-code-hint\"><code>[  ]</code></span></summary><div><table><thead><tr></tr></thead><tbody><tr><td>HeadOrDefault</td><td>0</td></tr><tr><td>TailOrNull</td><td><div class=\"dni-plaintext\"><pre>&lt;null&gt;</pre></div></td></tr><tr><td>Head</td><td>System.InvalidOperationException: The input list was empty.\r\n",
       "   at Microsoft.FSharp.Collections.FSharpList`1.get_Head() in D:\\a\\_work\\1\\s\\src\\FSharp.Core\\prim-types.fs:line 4141\r\n",
       "   at lambda_method107(Closure, FSharpList`1)\r\n",
       "   at Microsoft.DotNet.Interactive.Formatting.MemberAccessor`1.GetValueOrException(T instance) in D:\\a\\_work\\1\\s\\src\\Microsoft.DotNet.Interactive.Formatting\\MemberAccessor{T}.cs:line 58</td></tr><tr><td>Tail</td><td>System.InvalidOperationException: The input list was empty.\r\n",
       "   at Microsoft.FSharp.Collections.FSharpList`1.get_Tail() in D:\\a\\_work\\1\\s\\src\\FSharp.Core\\prim-types.fs:line 4146\r\n",
       "   at lambda_method108(Closure, FSharpList`1)\r\n",
       "   at Microsoft.DotNet.Interactive.Formatting.MemberAccessor`1.GetValueOrException(T instance) in D:\\a\\_work\\1\\s\\src\\Microsoft.DotNet.Interactive.Formatting\\MemberAccessor{T}.cs:line 58</td></tr><tr><td><i>(values)</i></td><td><div class=\"dni-plaintext\"><pre>[  ]</pre></div></td></tr></tbody></table></div></details></td></tr><tr><td>Head</td><td><div class=\"dni-plaintext\"><pre>7</pre></div></td></tr><tr><td>Tail</td><td><details class=\"dni-treeview\"><summary><span class=\"dni-code-hint\"><code>[  ]</code></span></summary><div><table><thead><tr></tr></thead><tbody><tr><td>HeadOrDefault</td><td>0</td></tr><tr><td>TailOrNull</td><td><div class=\"dni-plaintext\"><pre>&lt;null&gt;</pre></div></td></tr><tr><td>Head</td><td>System.InvalidOperationException: The input list was empty.\r\n",
       "   at Microsoft.FSharp.Collections.FSharpList`1.get_Head() in D:\\a\\_work\\1\\s\\src\\FSharp.Core\\prim-types.fs:line 4141\r\n",
       "   at lambda_method107(Closure, FSharpList`1)\r\n",
       "   at Microsoft.DotNet.Interactive.Formatting.MemberAccessor`1.GetValueOrException(T instance) in D:\\a\\_work\\1\\s\\src\\Microsoft.DotNet.Interactive.Formatting\\MemberAccessor{T}.cs:line 58</td></tr><tr><td>Tail</td><td>System.InvalidOperationException: The input list was empty.\r\n",
       "   at Microsoft.FSharp.Collections.FSharpList`1.get_Tail() in D:\\a\\_work\\1\\s\\src\\FSharp.Core\\prim-types.fs:line 4146\r\n",
       "   at lambda_method108(Closure, FSharpList`1)\r\n",
       "   at Microsoft.DotNet.Interactive.Formatting.MemberAccessor`1.GetValueOrException(T instance) in D:\\a\\_work\\1\\s\\src\\Microsoft.DotNet.Interactive.Formatting\\MemberAccessor{T}.cs:line 58</td></tr><tr><td><i>(values)</i></td><td><div class=\"dni-plaintext\"><pre>[  ]</pre></div></td></tr></tbody></table></div></details></td></tr><tr><td><i>(values)</i></td><td><div class=\"dni-plaintext\"><pre>[ 7 ]</pre></div></td></tr></tbody></table></div></details></td></tr><tr><td><i>(values)</i></td><td><div class=\"dni-plaintext\"><pre>[ 4, 7 ]</pre></div></td></tr></tbody></table></div></details></td></tr><tr><td>Head</td><td><div class=\"dni-plaintext\"><pre>9</pre></div></td></tr><tr><td>Tail</td><td><details class=\"dni-treeview\"><summary><span class=\"dni-code-hint\"><code>[ 4, 7 ]</code></span></summary><div><table><thead><tr></tr></thead><tbody><tr><td>HeadOrDefault</td><td><div class=\"dni-plaintext\"><pre>4</pre></div></td></tr><tr><td>TailOrNull</td><td><details class=\"dni-treeview\"><summary><span class=\"dni-code-hint\"><code>[ 7 ]</code></span></summary><div><table><thead><tr></tr></thead><tbody><tr><td>HeadOrDefault</td><td><div class=\"dni-plaintext\"><pre>7</pre></div></td></tr><tr><td>TailOrNull</td><td><details class=\"dni-treeview\"><summary><span class=\"dni-code-hint\"><code>[  ]</code></span></summary><div><table><thead><tr></tr></thead><tbody><tr><td>HeadOrDefault</td><td>0</td></tr><tr><td>TailOrNull</td><td><div class=\"dni-plaintext\"><pre>&lt;null&gt;</pre></div></td></tr><tr><td>Head</td><td>System.InvalidOperationException: The input list was empty.\r\n",
       "   at Microsoft.FSharp.Collections.FSharpList`1.get_Head() in D:\\a\\_work\\1\\s\\src\\FSharp.Core\\prim-types.fs:line 4141\r\n",
       "   at lambda_method107(Closure, FSharpList`1)\r\n",
       "   at Microsoft.DotNet.Interactive.Formatting.MemberAccessor`1.GetValueOrException(T instance) in D:\\a\\_work\\1\\s\\src\\Microsoft.DotNet.Interactive.Formatting\\MemberAccessor{T}.cs:line 58</td></tr><tr><td>Tail</td><td>System.InvalidOperationException: The input list was empty.\r\n",
       "   at Microsoft.FSharp.Collections.FSharpList`1.get_Tail() in D:\\a\\_work\\1\\s\\src\\FSharp.Core\\prim-types.fs:line 4146\r\n",
       "   at lambda_method108(Closure, FSharpList`1)\r\n",
       "   at Microsoft.DotNet.Interactive.Formatting.MemberAccessor`1.GetValueOrException(T instance) in D:\\a\\_work\\1\\s\\src\\Microsoft.DotNet.Interactive.Formatting\\MemberAccessor{T}.cs:line 58</td></tr><tr><td><i>(values)</i></td><td><div class=\"dni-plaintext\"><pre>[  ]</pre></div></td></tr></tbody></table></div></details></td></tr><tr><td>Head</td><td><div class=\"dni-plaintext\"><pre>7</pre></div></td></tr><tr><td>Tail</td><td><details class=\"dni-treeview\"><summary><span class=\"dni-code-hint\"><code>[  ]</code></span></summary><div><table><thead><tr></tr></thead><tbody><tr><td>HeadOrDefault</td><td>0</td></tr><tr><td>TailOrNull</td><td><div class=\"dni-plaintext\"><pre>&lt;null&gt;</pre></div></td></tr><tr><td>Head</td><td>System.InvalidOperationException: The input list was empty.\r\n",
       "   at Microsoft.FSharp.Collections.FSharpList`1.get_Head() in D:\\a\\_work\\1\\s\\src\\FSharp.Core\\prim-types.fs:line 4141\r\n",
       "   at lambda_method107(Closure, FSharpList`1)\r\n",
       "   at Microsoft.DotNet.Interactive.Formatting.MemberAccessor`1.GetValueOrException(T instance) in D:\\a\\_work\\1\\s\\src\\Microsoft.DotNet.Interactive.Formatting\\MemberAccessor{T}.cs:line 58</td></tr><tr><td>Tail</td><td>System.InvalidOperationException: The input list was empty.\r\n",
       "   at Microsoft.FSharp.Collections.FSharpList`1.get_Tail() in D:\\a\\_work\\1\\s\\src\\FSharp.Core\\prim-types.fs:line 4146\r\n",
       "   at lambda_method108(Closure, FSharpList`1)\r\n",
       "   at Microsoft.DotNet.Interactive.Formatting.MemberAccessor`1.GetValueOrException(T instance) in D:\\a\\_work\\1\\s\\src\\Microsoft.DotNet.Interactive.Formatting\\MemberAccessor{T}.cs:line 58</td></tr><tr><td><i>(values)</i></td><td><div class=\"dni-plaintext\"><pre>[  ]</pre></div></td></tr></tbody></table></div></details></td></tr><tr><td><i>(values)</i></td><td><div class=\"dni-plaintext\"><pre>[ 7 ]</pre></div></td></tr></tbody></table></div></details></td></tr><tr><td>Head</td><td><div class=\"dni-plaintext\"><pre>4</pre></div></td></tr><tr><td>Tail</td><td><details class=\"dni-treeview\"><summary><span class=\"dni-code-hint\"><code>[ 7 ]</code></span></summary><div><table><thead><tr></tr></thead><tbody><tr><td>HeadOrDefault</td><td><div class=\"dni-plaintext\"><pre>7</pre></div></td></tr><tr><td>TailOrNull</td><td><details class=\"dni-treeview\"><summary><span class=\"dni-code-hint\"><code>[  ]</code></span></summary><div><table><thead><tr></tr></thead><tbody><tr><td>HeadOrDefault</td><td>0</td></tr><tr><td>TailOrNull</td><td><div class=\"dni-plaintext\"><pre>&lt;null&gt;</pre></div></td></tr><tr><td>Head</td><td>System.InvalidOperationException: The input list was empty.\r\n",
       "   at Microsoft.FSharp.Collections.FSharpList`1.get_Head() in D:\\a\\_work\\1\\s\\src\\FSharp.Core\\prim-types.fs:line 4141\r\n",
       "   at lambda_method107(Closure, FSharpList`1)\r\n",
       "   at Microsoft.DotNet.Interactive.Formatting.MemberAccessor`1.GetValueOrException(T instance) in D:\\a\\_work\\1\\s\\src\\Microsoft.DotNet.Interactive.Formatting\\MemberAccessor{T}.cs:line 58</td></tr><tr><td>Tail</td><td>System.InvalidOperationException: The input list was empty.\r\n",
       "   at Microsoft.FSharp.Collections.FSharpList`1.get_Tail() in D:\\a\\_work\\1\\s\\src\\FSharp.Core\\prim-types.fs:line 4146\r\n",
       "   at lambda_method108(Closure, FSharpList`1)\r\n",
       "   at Microsoft.DotNet.Interactive.Formatting.MemberAccessor`1.GetValueOrException(T instance) in D:\\a\\_work\\1\\s\\src\\Microsoft.DotNet.Interactive.Formatting\\MemberAccessor{T}.cs:line 58</td></tr><tr><td><i>(values)</i></td><td><div class=\"dni-plaintext\"><pre>[  ]</pre></div></td></tr></tbody></table></div></details></td></tr><tr><td>Head</td><td><div class=\"dni-plaintext\"><pre>7</pre></div></td></tr><tr><td>Tail</td><td><details class=\"dni-treeview\"><summary><span class=\"dni-code-hint\"><code>[  ]</code></span></summary><div><table><thead><tr></tr></thead><tbody><tr><td>HeadOrDefault</td><td>0</td></tr><tr><td>TailOrNull</td><td><div class=\"dni-plaintext\"><pre>&lt;null&gt;</pre></div></td></tr><tr><td>Head</td><td>System.InvalidOperationException: The input list was empty.\r\n",
       "   at Microsoft.FSharp.Collections.FSharpList`1.get_Head() in D:\\a\\_work\\1\\s\\src\\FSharp.Core\\prim-types.fs:line 4141\r\n",
       "   at lambda_method107(Closure, FSharpList`1)\r\n",
       "   at Microsoft.DotNet.Interactive.Formatting.MemberAccessor`1.GetValueOrException(T instance) in D:\\a\\_work\\1\\s\\src\\Microsoft.DotNet.Interactive.Formatting\\MemberAccessor{T}.cs:line 58</td></tr><tr><td>Tail</td><td>System.InvalidOperationException: The input list was empty.\r\n",
       "   at Microsoft.FSharp.Collections.FSharpList`1.get_Tail() in D:\\a\\_work\\1\\s\\src\\FSharp.Core\\prim-types.fs:line 4146\r\n",
       "   at lambda_method108(Closure, FSharpList`1)\r\n",
       "   at Microsoft.DotNet.Interactive.Formatting.MemberAccessor`1.GetValueOrException(T instance) in D:\\a\\_work\\1\\s\\src\\Microsoft.DotNet.Interactive.Formatting\\MemberAccessor{T}.cs:line 58</td></tr><tr><td><i>(values)</i></td><td><div class=\"dni-plaintext\"><pre>[  ]</pre></div></td></tr></tbody></table></div></details></td></tr><tr><td><i>(values)</i></td><td><div class=\"dni-plaintext\"><pre>[ 7 ]</pre></div></td></tr></tbody></table></div></details></td></tr><tr><td><i>(values)</i></td><td><div class=\"dni-plaintext\"><pre>[ 4, 7 ]</pre></div></td></tr></tbody></table></div></details></td></tr><tr><td><i>(values)</i></td><td><div class=\"dni-plaintext\"><pre>[ 9, 4, 7 ]</pre></div></td></tr></tbody></table></div></details></td></tr><tr><td>Head</td><td><div class=\"dni-plaintext\"><pre>0</pre></div></td></tr><tr><td>Tail</td><td><details class=\"dni-treeview\"><summary><span class=\"dni-code-hint\"><code>[ 9, 4, 7 ]</code></span></summary><div><table><thead><tr></tr></thead><tbody><tr><td>HeadOrDefault</td><td><div class=\"dni-plaintext\"><pre>9</pre></div></td></tr><tr><td>TailOrNull</td><td><details class=\"dni-treeview\"><summary><span class=\"dni-code-hint\"><code>[ 4, 7 ]</code></span></summary><div><table><thead><tr></tr></thead><tbody><tr><td>HeadOrDefault</td><td><div class=\"dni-plaintext\"><pre>4</pre></div></td></tr><tr><td>TailOrNull</td><td><details class=\"dni-treeview\"><summary><span class=\"dni-code-hint\"><code>[ 7 ]</code></span></summary><div><table><thead><tr></tr></thead><tbody><tr><td>HeadOrDefault</td><td><div class=\"dni-plaintext\"><pre>7</pre></div></td></tr><tr><td>TailOrNull</td><td><details class=\"dni-treeview\"><summary><span class=\"dni-code-hint\"><code>[  ]</code></span></summary><div><table><thead><tr></tr></thead><tbody><tr><td>HeadOrDefault</td><td>0</td></tr><tr><td>TailOrNull</td><td><div class=\"dni-plaintext\"><pre>&lt;null&gt;</pre></div></td></tr><tr><td>Head</td><td>System.InvalidOperationException: The input list was empty.\r\n",
       "   at Microsoft.FSharp.Collections.FSharpList`1.get_Head() in D:\\a\\_work\\1\\s\\src\\FSharp.Core\\prim-types.fs:line 4141\r\n",
       "   at lambda_method107(Closure, FSharpList`1)\r\n",
       "   at Microsoft.DotNet.Interactive.Formatting.MemberAccessor`1.GetValueOrException(T instance) in D:\\a\\_work\\1\\s\\src\\Microsoft.DotNet.Interactive.Formatting\\MemberAccessor{T}.cs:line 58</td></tr><tr><td>Tail</td><td>System.InvalidOperationException: The input list was empty.\r\n",
       "   at Microsoft.FSharp.Collections.FSharpList`1.get_Tail() in D:\\a\\_work\\1\\s\\src\\FSharp.Core\\prim-types.fs:line 4146\r\n",
       "   at lambda_method108(Closure, FSharpList`1)\r\n",
       "   at Microsoft.DotNet.Interactive.Formatting.MemberAccessor`1.GetValueOrException(T instance) in D:\\a\\_work\\1\\s\\src\\Microsoft.DotNet.Interactive.Formatting\\MemberAccessor{T}.cs:line 58</td></tr><tr><td><i>(values)</i></td><td><div class=\"dni-plaintext\"><pre>[  ]</pre></div></td></tr></tbody></table></div></details></td></tr><tr><td>Head</td><td><div class=\"dni-plaintext\"><pre>7</pre></div></td></tr><tr><td>Tail</td><td><details class=\"dni-treeview\"><summary><span class=\"dni-code-hint\"><code>[  ]</code></span></summary><div><table><thead><tr></tr></thead><tbody><tr><td>HeadOrDefault</td><td>0</td></tr><tr><td>TailOrNull</td><td><div class=\"dni-plaintext\"><pre>&lt;null&gt;</pre></div></td></tr><tr><td>Head</td><td>System.InvalidOperationException: The input list was empty.\r\n",
       "   at Microsoft.FSharp.Collections.FSharpList`1.get_Head() in D:\\a\\_work\\1\\s\\src\\FSharp.Core\\prim-types.fs:line 4141\r\n",
       "   at lambda_method107(Closure, FSharpList`1)\r\n",
       "   at Microsoft.DotNet.Interactive.Formatting.MemberAccessor`1.GetValueOrException(T instance) in D:\\a\\_work\\1\\s\\src\\Microsoft.DotNet.Interactive.Formatting\\MemberAccessor{T}.cs:line 58</td></tr><tr><td>Tail</td><td>System.InvalidOperationException: The input list was empty.\r\n",
       "   at Microsoft.FSharp.Collections.FSharpList`1.get_Tail() in D:\\a\\_work\\1\\s\\src\\FSharp.Core\\prim-types.fs:line 4146\r\n",
       "   at lambda_method108(Closure, FSharpList`1)\r\n",
       "   at Microsoft.DotNet.Interactive.Formatting.MemberAccessor`1.GetValueOrException(T instance) in D:\\a\\_work\\1\\s\\src\\Microsoft.DotNet.Interactive.Formatting\\MemberAccessor{T}.cs:line 58</td></tr><tr><td><i>(values)</i></td><td><div class=\"dni-plaintext\"><pre>[  ]</pre></div></td></tr></tbody></table></div></details></td></tr><tr><td><i>(values)</i></td><td><div class=\"dni-plaintext\"><pre>[ 7 ]</pre></div></td></tr></tbody></table></div></details></td></tr><tr><td>Head</td><td><div class=\"dni-plaintext\"><pre>4</pre></div></td></tr><tr><td>Tail</td><td><details class=\"dni-treeview\"><summary><span class=\"dni-code-hint\"><code>[ 7 ]</code></span></summary><div><table><thead><tr></tr></thead><tbody><tr><td>HeadOrDefault</td><td><div class=\"dni-plaintext\"><pre>7</pre></div></td></tr><tr><td>TailOrNull</td><td><details class=\"dni-treeview\"><summary><span class=\"dni-code-hint\"><code>[  ]</code></span></summary><div><table><thead><tr></tr></thead><tbody><tr><td>HeadOrDefault</td><td>0</td></tr><tr><td>TailOrNull</td><td><div class=\"dni-plaintext\"><pre>&lt;null&gt;</pre></div></td></tr><tr><td>Head</td><td>System.InvalidOperationException: The input list was empty.\r\n",
       "   at Microsoft.FSharp.Collections.FSharpList`1.get_Head() in D:\\a\\_work\\1\\s\\src\\FSharp.Core\\prim-types.fs:line 4141\r\n",
       "   at lambda_method107(Closure, FSharpList`1)\r\n",
       "   at Microsoft.DotNet.Interactive.Formatting.MemberAccessor`1.GetValueOrException(T instance) in D:\\a\\_work\\1\\s\\src\\Microsoft.DotNet.Interactive.Formatting\\MemberAccessor{T}.cs:line 58</td></tr><tr><td>Tail</td><td>System.InvalidOperationException: The input list was empty.\r\n",
       "   at Microsoft.FSharp.Collections.FSharpList`1.get_Tail() in D:\\a\\_work\\1\\s\\src\\FSharp.Core\\prim-types.fs:line 4146\r\n",
       "   at lambda_method108(Closure, FSharpList`1)\r\n",
       "   at Microsoft.DotNet.Interactive.Formatting.MemberAccessor`1.GetValueOrException(T instance) in D:\\a\\_work\\1\\s\\src\\Microsoft.DotNet.Interactive.Formatting\\MemberAccessor{T}.cs:line 58</td></tr><tr><td><i>(values)</i></td><td><div class=\"dni-plaintext\"><pre>[  ]</pre></div></td></tr></tbody></table></div></details></td></tr><tr><td>Head</td><td><div class=\"dni-plaintext\"><pre>7</pre></div></td></tr><tr><td>Tail</td><td><details class=\"dni-treeview\"><summary><span class=\"dni-code-hint\"><code>[  ]</code></span></summary><div><table><thead><tr></tr></thead><tbody><tr><td>HeadOrDefault</td><td>0</td></tr><tr><td>TailOrNull</td><td><div class=\"dni-plaintext\"><pre>&lt;null&gt;</pre></div></td></tr><tr><td>Head</td><td>System.InvalidOperationException: The input list was empty.\r\n",
       "   at Microsoft.FSharp.Collections.FSharpList`1.get_Head() in D:\\a\\_work\\1\\s\\src\\FSharp.Core\\prim-types.fs:line 4141\r\n",
       "   at lambda_method107(Closure, FSharpList`1)\r\n",
       "   at Microsoft.DotNet.Interactive.Formatting.MemberAccessor`1.GetValueOrException(T instance) in D:\\a\\_work\\1\\s\\src\\Microsoft.DotNet.Interactive.Formatting\\MemberAccessor{T}.cs:line 58</td></tr><tr><td>Tail</td><td>System.InvalidOperationException: The input list was empty.\r\n",
       "   at Microsoft.FSharp.Collections.FSharpList`1.get_Tail() in D:\\a\\_work\\1\\s\\src\\FSharp.Core\\prim-types.fs:line 4146\r\n",
       "   at lambda_method108(Closure, FSharpList`1)\r\n",
       "   at Microsoft.DotNet.Interactive.Formatting.MemberAccessor`1.GetValueOrException(T instance) in D:\\a\\_work\\1\\s\\src\\Microsoft.DotNet.Interactive.Formatting\\MemberAccessor{T}.cs:line 58</td></tr><tr><td><i>(values)</i></td><td><div class=\"dni-plaintext\"><pre>[  ]</pre></div></td></tr></tbody></table></div></details></td></tr><tr><td><i>(values)</i></td><td><div class=\"dni-plaintext\"><pre>[ 7 ]</pre></div></td></tr></tbody></table></div></details></td></tr><tr><td><i>(values)</i></td><td><div class=\"dni-plaintext\"><pre>[ 4, 7 ]</pre></div></td></tr></tbody></table></div></details></td></tr><tr><td>Head</td><td><div class=\"dni-plaintext\"><pre>9</pre></div></td></tr><tr><td>Tail</td><td><details class=\"dni-treeview\"><summary><span class=\"dni-code-hint\"><code>[ 4, 7 ]</code></span></summary><div><table><thead><tr></tr></thead><tbody><tr><td>HeadOrDefault</td><td><div class=\"dni-plaintext\"><pre>4</pre></div></td></tr><tr><td>TailOrNull</td><td><details class=\"dni-treeview\"><summary><span class=\"dni-code-hint\"><code>[ 7 ]</code></span></summary><div><table><thead><tr></tr></thead><tbody><tr><td>HeadOrDefault</td><td><div class=\"dni-plaintext\"><pre>7</pre></div></td></tr><tr><td>TailOrNull</td><td><details class=\"dni-treeview\"><summary><span class=\"dni-code-hint\"><code>[  ]</code></span></summary><div><table><thead><tr></tr></thead><tbody><tr><td>HeadOrDefault</td><td>0</td></tr><tr><td>TailOrNull</td><td><div class=\"dni-plaintext\"><pre>&lt;null&gt;</pre></div></td></tr><tr><td>Head</td><td>System.InvalidOperationException: The input list was empty.\r\n",
       "   at Microsoft.FSharp.Collections.FSharpList`1.get_Head() in D:\\a\\_work\\1\\s\\src\\FSharp.Core\\prim-types.fs:line 4141\r\n",
       "   at lambda_method107(Closure, FSharpList`1)\r\n",
       "   at Microsoft.DotNet.Interactive.Formatting.MemberAccessor`1.GetValueOrException(T instance) in D:\\a\\_work\\1\\s\\src\\Microsoft.DotNet.Interactive.Formatting\\MemberAccessor{T}.cs:line 58</td></tr><tr><td>Tail</td><td>System.InvalidOperationException: The input list was empty.\r\n",
       "   at Microsoft.FSharp.Collections.FSharpList`1.get_Tail() in D:\\a\\_work\\1\\s\\src\\FSharp.Core\\prim-types.fs:line 4146\r\n",
       "   at lambda_method108(Closure, FSharpList`1)\r\n",
       "   at Microsoft.DotNet.Interactive.Formatting.MemberAccessor`1.GetValueOrException(T instance) in D:\\a\\_work\\1\\s\\src\\Microsoft.DotNet.Interactive.Formatting\\MemberAccessor{T}.cs:line 58</td></tr><tr><td><i>(values)</i></td><td><div class=\"dni-plaintext\"><pre>[  ]</pre></div></td></tr></tbody></table></div></details></td></tr><tr><td>Head</td><td><div class=\"dni-plaintext\"><pre>7</pre></div></td></tr><tr><td>Tail</td><td><details class=\"dni-treeview\"><summary><span class=\"dni-code-hint\"><code>[  ]</code></span></summary><div><table><thead><tr></tr></thead><tbody><tr><td>HeadOrDefault</td><td>0</td></tr><tr><td>TailOrNull</td><td><div class=\"dni-plaintext\"><pre>&lt;null&gt;</pre></div></td></tr><tr><td>Head</td><td>System.InvalidOperationException: The input list was empty.\r\n",
       "   at Microsoft.FSharp.Collections.FSharpList`1.get_Head() in D:\\a\\_work\\1\\s\\src\\FSharp.Core\\prim-types.fs:line 4141\r\n",
       "   at lambda_method107(Closure, FSharpList`1)\r\n",
       "   at Microsoft.DotNet.Interactive.Formatting.MemberAccessor`1.GetValueOrException(T instance) in D:\\a\\_work\\1\\s\\src\\Microsoft.DotNet.Interactive.Formatting\\MemberAccessor{T}.cs:line 58</td></tr><tr><td>Tail</td><td>System.InvalidOperationException: The input list was empty.\r\n",
       "   at Microsoft.FSharp.Collections.FSharpList`1.get_Tail() in D:\\a\\_work\\1\\s\\src\\FSharp.Core\\prim-types.fs:line 4146\r\n",
       "   at lambda_method108(Closure, FSharpList`1)\r\n",
       "   at Microsoft.DotNet.Interactive.Formatting.MemberAccessor`1.GetValueOrException(T instance) in D:\\a\\_work\\1\\s\\src\\Microsoft.DotNet.Interactive.Formatting\\MemberAccessor{T}.cs:line 58</td></tr><tr><td><i>(values)</i></td><td><div class=\"dni-plaintext\"><pre>[  ]</pre></div></td></tr></tbody></table></div></details></td></tr><tr><td><i>(values)</i></td><td><div class=\"dni-plaintext\"><pre>[ 7 ]</pre></div></td></tr></tbody></table></div></details></td></tr><tr><td>Head</td><td><div class=\"dni-plaintext\"><pre>4</pre></div></td></tr><tr><td>Tail</td><td><details class=\"dni-treeview\"><summary><span class=\"dni-code-hint\"><code>[ 7 ]</code></span></summary><div><table><thead><tr></tr></thead><tbody><tr><td>HeadOrDefault</td><td><div class=\"dni-plaintext\"><pre>7</pre></div></td></tr><tr><td>TailOrNull</td><td><details class=\"dni-treeview\"><summary><span class=\"dni-code-hint\"><code>[  ]</code></span></summary><div><table><thead><tr></tr></thead><tbody><tr><td>HeadOrDefault</td><td>0</td></tr><tr><td>TailOrNull</td><td><div class=\"dni-plaintext\"><pre>&lt;null&gt;</pre></div></td></tr><tr><td>Head</td><td>System.InvalidOperationException: The input list was empty.\r\n",
       "   at Microsoft.FSharp.Collections.FSharpList`1.get_Head() in D:\\a\\_work\\1\\s\\src\\FSharp.Core\\prim-types.fs:line 4141\r\n",
       "   at lambda_method107(Closure, FSharpList`1)\r\n",
       "   at Microsoft.DotNet.Interactive.Formatting.MemberAccessor`1.GetValueOrException(T instance) in D:\\a\\_work\\1\\s\\src\\Microsoft.DotNet.Interactive.Formatting\\MemberAccessor{T}.cs:line 58</td></tr><tr><td>Tail</td><td>System.InvalidOperationException: The input list was empty.\r\n",
       "   at Microsoft.FSharp.Collections.FSharpList`1.get_Tail() in D:\\a\\_work\\1\\s\\src\\FSharp.Core\\prim-types.fs:line 4146\r\n",
       "   at lambda_method108(Closure, FSharpList`1)\r\n",
       "   at Microsoft.DotNet.Interactive.Formatting.MemberAccessor`1.GetValueOrException(T instance) in D:\\a\\_work\\1\\s\\src\\Microsoft.DotNet.Interactive.Formatting\\MemberAccessor{T}.cs:line 58</td></tr><tr><td><i>(values)</i></td><td><div class=\"dni-plaintext\"><pre>[  ]</pre></div></td></tr></tbody></table></div></details></td></tr><tr><td>Head</td><td><div class=\"dni-plaintext\"><pre>7</pre></div></td></tr><tr><td>Tail</td><td><details class=\"dni-treeview\"><summary><span class=\"dni-code-hint\"><code>[  ]</code></span></summary><div><table><thead><tr></tr></thead><tbody><tr><td>HeadOrDefault</td><td>0</td></tr><tr><td>TailOrNull</td><td><div class=\"dni-plaintext\"><pre>&lt;null&gt;</pre></div></td></tr><tr><td>Head</td><td>System.InvalidOperationException: The input list was empty.\r\n",
       "   at Microsoft.FSharp.Collections.FSharpList`1.get_Head() in D:\\a\\_work\\1\\s\\src\\FSharp.Core\\prim-types.fs:line 4141\r\n",
       "   at lambda_method107(Closure, FSharpList`1)\r\n",
       "   at Microsoft.DotNet.Interactive.Formatting.MemberAccessor`1.GetValueOrException(T instance) in D:\\a\\_work\\1\\s\\src\\Microsoft.DotNet.Interactive.Formatting\\MemberAccessor{T}.cs:line 58</td></tr><tr><td>Tail</td><td>System.InvalidOperationException: The input list was empty.\r\n",
       "   at Microsoft.FSharp.Collections.FSharpList`1.get_Tail() in D:\\a\\_work\\1\\s\\src\\FSharp.Core\\prim-types.fs:line 4146\r\n",
       "   at lambda_method108(Closure, FSharpList`1)\r\n",
       "   at Microsoft.DotNet.Interactive.Formatting.MemberAccessor`1.GetValueOrException(T instance) in D:\\a\\_work\\1\\s\\src\\Microsoft.DotNet.Interactive.Formatting\\MemberAccessor{T}.cs:line 58</td></tr><tr><td><i>(values)</i></td><td><div class=\"dni-plaintext\"><pre>[  ]</pre></div></td></tr></tbody></table></div></details></td></tr><tr><td><i>(values)</i></td><td><div class=\"dni-plaintext\"><pre>[ 7 ]</pre></div></td></tr></tbody></table></div></details></td></tr><tr><td><i>(values)</i></td><td><div class=\"dni-plaintext\"><pre>[ 4, 7 ]</pre></div></td></tr></tbody></table></div></details></td></tr><tr><td><i>(values)</i></td><td><div class=\"dni-plaintext\"><pre>[ 9, 4, 7 ]</pre></div></td></tr></tbody></table></div></details></td></tr><tr><td><i>(values)</i></td><td><div class=\"dni-plaintext\"><pre>[ 0, 9, 4, 7 ]</pre></div></td></tr></tbody></table></div></details></td></tr><tr><td><i>(values)</i></td><td><div class=\"dni-plaintext\"><pre>[ 10, 0, 9, 4, 7 ]</pre></div></td></tr></tbody></table></div></details><style>\r\n",
       ".dni-code-hint {\r\n",
       "    font-style: italic;\r\n",
       "    overflow: hidden;\r\n",
       "    white-space: nowrap;\r\n",
       "}\r\n",
       ".dni-treeview {\r\n",
       "    white-space: nowrap;\r\n",
       "}\r\n",
       ".dni-treeview td {\r\n",
       "    vertical-align: top;\r\n",
       "    text-align: start;\r\n",
       "}\r\n",
       "details.dni-treeview {\r\n",
       "    padding-left: 1em;\r\n",
       "}\r\n",
       "table td {\r\n",
       "    text-align: start;\r\n",
       "}\r\n",
       "table tr { \r\n",
       "    vertical-align: top; \r\n",
       "    margin: 0em 0px;\r\n",
       "}\r\n",
       "table tr td pre \r\n",
       "{ \r\n",
       "    vertical-align: top !important; \r\n",
       "    margin: 0em 0px !important;\r\n",
       "} \r\n",
       "table th {\r\n",
       "    text-align: start;\r\n",
       "}\r\n",
       "</style>"
      ]
     },
     "metadata": {},
     "output_type": "display_data"
    }
   ],
   "source": [
    "let set1 = generateSet 10 5\n",
    "set1"
   ]
  },
  {
   "cell_type": "code",
   "execution_count": 14,
   "metadata": {
    "dotnet_interactive": {
     "language": "fsharp"
    },
    "polyglot_notebook": {
     "kernelName": "fsharp"
    }
   },
   "outputs": [
    {
     "data": {
      "text/html": [
       "<div class=\"dni-plaintext\"><pre>1</pre></div><style>\r\n",
       ".dni-code-hint {\r\n",
       "    font-style: italic;\r\n",
       "    overflow: hidden;\r\n",
       "    white-space: nowrap;\r\n",
       "}\r\n",
       ".dni-treeview {\r\n",
       "    white-space: nowrap;\r\n",
       "}\r\n",
       ".dni-treeview td {\r\n",
       "    vertical-align: top;\r\n",
       "    text-align: start;\r\n",
       "}\r\n",
       "details.dni-treeview {\r\n",
       "    padding-left: 1em;\r\n",
       "}\r\n",
       "table td {\r\n",
       "    text-align: start;\r\n",
       "}\r\n",
       "table tr { \r\n",
       "    vertical-align: top; \r\n",
       "    margin: 0em 0px;\r\n",
       "}\r\n",
       "table tr td pre \r\n",
       "{ \r\n",
       "    vertical-align: top !important; \r\n",
       "    margin: 0em 0px !important;\r\n",
       "} \r\n",
       "table th {\r\n",
       "    text-align: start;\r\n",
       "}\r\n",
       "</style>"
      ]
     },
     "metadata": {},
     "output_type": "display_data"
    }
   ],
   "source": [
    "solution1 set1"
   ]
  },
  {
   "cell_type": "code",
   "execution_count": 15,
   "metadata": {
    "dotnet_interactive": {
     "language": "fsharp"
    },
    "polyglot_notebook": {
     "kernelName": "fsharp"
    }
   },
   "outputs": [
    {
     "data": {
      "text/html": [
       "<details open=\"open\" class=\"dni-treeview\"><summary><span class=\"dni-code-hint\"><code>[ 5, 1, 2, 3, 0 ]</code></span></summary><div><table><thead><tr></tr></thead><tbody><tr><td>HeadOrDefault</td><td><div class=\"dni-plaintext\"><pre>5</pre></div></td></tr><tr><td>TailOrNull</td><td><details class=\"dni-treeview\"><summary><span class=\"dni-code-hint\"><code>[ 1, 2, 3, 0 ]</code></span></summary><div><table><thead><tr></tr></thead><tbody><tr><td>HeadOrDefault</td><td><div class=\"dni-plaintext\"><pre>1</pre></div></td></tr><tr><td>TailOrNull</td><td><details class=\"dni-treeview\"><summary><span class=\"dni-code-hint\"><code>[ 2, 3, 0 ]</code></span></summary><div><table><thead><tr></tr></thead><tbody><tr><td>HeadOrDefault</td><td><div class=\"dni-plaintext\"><pre>2</pre></div></td></tr><tr><td>TailOrNull</td><td><details class=\"dni-treeview\"><summary><span class=\"dni-code-hint\"><code>[ 3, 0 ]</code></span></summary><div><table><thead><tr></tr></thead><tbody><tr><td>HeadOrDefault</td><td><div class=\"dni-plaintext\"><pre>3</pre></div></td></tr><tr><td>TailOrNull</td><td><details class=\"dni-treeview\"><summary><span class=\"dni-code-hint\"><code>[ 0 ]</code></span></summary><div><table><thead><tr></tr></thead><tbody><tr><td>HeadOrDefault</td><td><div class=\"dni-plaintext\"><pre>0</pre></div></td></tr><tr><td>TailOrNull</td><td><details class=\"dni-treeview\"><summary><span class=\"dni-code-hint\"><code>[  ]</code></span></summary><div><table><thead><tr></tr></thead><tbody><tr><td>HeadOrDefault</td><td>0</td></tr><tr><td>TailOrNull</td><td><div class=\"dni-plaintext\"><pre>&lt;null&gt;</pre></div></td></tr><tr><td>Head</td><td>System.InvalidOperationException: The input list was empty.\r\n",
       "   at Microsoft.FSharp.Collections.FSharpList`1.get_Head() in D:\\a\\_work\\1\\s\\src\\FSharp.Core\\prim-types.fs:line 4141\r\n",
       "   at lambda_method107(Closure, FSharpList`1)\r\n",
       "   at Microsoft.DotNet.Interactive.Formatting.MemberAccessor`1.GetValueOrException(T instance) in D:\\a\\_work\\1\\s\\src\\Microsoft.DotNet.Interactive.Formatting\\MemberAccessor{T}.cs:line 58</td></tr><tr><td>Tail</td><td>System.InvalidOperationException: The input list was empty.\r\n",
       "   at Microsoft.FSharp.Collections.FSharpList`1.get_Tail() in D:\\a\\_work\\1\\s\\src\\FSharp.Core\\prim-types.fs:line 4146\r\n",
       "   at lambda_method108(Closure, FSharpList`1)\r\n",
       "   at Microsoft.DotNet.Interactive.Formatting.MemberAccessor`1.GetValueOrException(T instance) in D:\\a\\_work\\1\\s\\src\\Microsoft.DotNet.Interactive.Formatting\\MemberAccessor{T}.cs:line 58</td></tr><tr><td><i>(values)</i></td><td><div class=\"dni-plaintext\"><pre>[  ]</pre></div></td></tr></tbody></table></div></details></td></tr><tr><td>Head</td><td><div class=\"dni-plaintext\"><pre>0</pre></div></td></tr><tr><td>Tail</td><td><details class=\"dni-treeview\"><summary><span class=\"dni-code-hint\"><code>[  ]</code></span></summary><div><table><thead><tr></tr></thead><tbody><tr><td>HeadOrDefault</td><td>0</td></tr><tr><td>TailOrNull</td><td><div class=\"dni-plaintext\"><pre>&lt;null&gt;</pre></div></td></tr><tr><td>Head</td><td>System.InvalidOperationException: The input list was empty.\r\n",
       "   at Microsoft.FSharp.Collections.FSharpList`1.get_Head() in D:\\a\\_work\\1\\s\\src\\FSharp.Core\\prim-types.fs:line 4141\r\n",
       "   at lambda_method107(Closure, FSharpList`1)\r\n",
       "   at Microsoft.DotNet.Interactive.Formatting.MemberAccessor`1.GetValueOrException(T instance) in D:\\a\\_work\\1\\s\\src\\Microsoft.DotNet.Interactive.Formatting\\MemberAccessor{T}.cs:line 58</td></tr><tr><td>Tail</td><td>System.InvalidOperationException: The input list was empty.\r\n",
       "   at Microsoft.FSharp.Collections.FSharpList`1.get_Tail() in D:\\a\\_work\\1\\s\\src\\FSharp.Core\\prim-types.fs:line 4146\r\n",
       "   at lambda_method108(Closure, FSharpList`1)\r\n",
       "   at Microsoft.DotNet.Interactive.Formatting.MemberAccessor`1.GetValueOrException(T instance) in D:\\a\\_work\\1\\s\\src\\Microsoft.DotNet.Interactive.Formatting\\MemberAccessor{T}.cs:line 58</td></tr><tr><td><i>(values)</i></td><td><div class=\"dni-plaintext\"><pre>[  ]</pre></div></td></tr></tbody></table></div></details></td></tr><tr><td><i>(values)</i></td><td><div class=\"dni-plaintext\"><pre>[ 0 ]</pre></div></td></tr></tbody></table></div></details></td></tr><tr><td>Head</td><td><div class=\"dni-plaintext\"><pre>3</pre></div></td></tr><tr><td>Tail</td><td><details class=\"dni-treeview\"><summary><span class=\"dni-code-hint\"><code>[ 0 ]</code></span></summary><div><table><thead><tr></tr></thead><tbody><tr><td>HeadOrDefault</td><td><div class=\"dni-plaintext\"><pre>0</pre></div></td></tr><tr><td>TailOrNull</td><td><details class=\"dni-treeview\"><summary><span class=\"dni-code-hint\"><code>[  ]</code></span></summary><div><table><thead><tr></tr></thead><tbody><tr><td>HeadOrDefault</td><td>0</td></tr><tr><td>TailOrNull</td><td><div class=\"dni-plaintext\"><pre>&lt;null&gt;</pre></div></td></tr><tr><td>Head</td><td>System.InvalidOperationException: The input list was empty.\r\n",
       "   at Microsoft.FSharp.Collections.FSharpList`1.get_Head() in D:\\a\\_work\\1\\s\\src\\FSharp.Core\\prim-types.fs:line 4141\r\n",
       "   at lambda_method107(Closure, FSharpList`1)\r\n",
       "   at Microsoft.DotNet.Interactive.Formatting.MemberAccessor`1.GetValueOrException(T instance) in D:\\a\\_work\\1\\s\\src\\Microsoft.DotNet.Interactive.Formatting\\MemberAccessor{T}.cs:line 58</td></tr><tr><td>Tail</td><td>System.InvalidOperationException: The input list was empty.\r\n",
       "   at Microsoft.FSharp.Collections.FSharpList`1.get_Tail() in D:\\a\\_work\\1\\s\\src\\FSharp.Core\\prim-types.fs:line 4146\r\n",
       "   at lambda_method108(Closure, FSharpList`1)\r\n",
       "   at Microsoft.DotNet.Interactive.Formatting.MemberAccessor`1.GetValueOrException(T instance) in D:\\a\\_work\\1\\s\\src\\Microsoft.DotNet.Interactive.Formatting\\MemberAccessor{T}.cs:line 58</td></tr><tr><td><i>(values)</i></td><td><div class=\"dni-plaintext\"><pre>[  ]</pre></div></td></tr></tbody></table></div></details></td></tr><tr><td>Head</td><td><div class=\"dni-plaintext\"><pre>0</pre></div></td></tr><tr><td>Tail</td><td><details class=\"dni-treeview\"><summary><span class=\"dni-code-hint\"><code>[  ]</code></span></summary><div><table><thead><tr></tr></thead><tbody><tr><td>HeadOrDefault</td><td>0</td></tr><tr><td>TailOrNull</td><td><div class=\"dni-plaintext\"><pre>&lt;null&gt;</pre></div></td></tr><tr><td>Head</td><td>System.InvalidOperationException: The input list was empty.\r\n",
       "   at Microsoft.FSharp.Collections.FSharpList`1.get_Head() in D:\\a\\_work\\1\\s\\src\\FSharp.Core\\prim-types.fs:line 4141\r\n",
       "   at lambda_method107(Closure, FSharpList`1)\r\n",
       "   at Microsoft.DotNet.Interactive.Formatting.MemberAccessor`1.GetValueOrException(T instance) in D:\\a\\_work\\1\\s\\src\\Microsoft.DotNet.Interactive.Formatting\\MemberAccessor{T}.cs:line 58</td></tr><tr><td>Tail</td><td>System.InvalidOperationException: The input list was empty.\r\n",
       "   at Microsoft.FSharp.Collections.FSharpList`1.get_Tail() in D:\\a\\_work\\1\\s\\src\\FSharp.Core\\prim-types.fs:line 4146\r\n",
       "   at lambda_method108(Closure, FSharpList`1)\r\n",
       "   at Microsoft.DotNet.Interactive.Formatting.MemberAccessor`1.GetValueOrException(T instance) in D:\\a\\_work\\1\\s\\src\\Microsoft.DotNet.Interactive.Formatting\\MemberAccessor{T}.cs:line 58</td></tr><tr><td><i>(values)</i></td><td><div class=\"dni-plaintext\"><pre>[  ]</pre></div></td></tr></tbody></table></div></details></td></tr><tr><td><i>(values)</i></td><td><div class=\"dni-plaintext\"><pre>[ 0 ]</pre></div></td></tr></tbody></table></div></details></td></tr><tr><td><i>(values)</i></td><td><div class=\"dni-plaintext\"><pre>[ 3, 0 ]</pre></div></td></tr></tbody></table></div></details></td></tr><tr><td>Head</td><td><div class=\"dni-plaintext\"><pre>2</pre></div></td></tr><tr><td>Tail</td><td><details class=\"dni-treeview\"><summary><span class=\"dni-code-hint\"><code>[ 3, 0 ]</code></span></summary><div><table><thead><tr></tr></thead><tbody><tr><td>HeadOrDefault</td><td><div class=\"dni-plaintext\"><pre>3</pre></div></td></tr><tr><td>TailOrNull</td><td><details class=\"dni-treeview\"><summary><span class=\"dni-code-hint\"><code>[ 0 ]</code></span></summary><div><table><thead><tr></tr></thead><tbody><tr><td>HeadOrDefault</td><td><div class=\"dni-plaintext\"><pre>0</pre></div></td></tr><tr><td>TailOrNull</td><td><details class=\"dni-treeview\"><summary><span class=\"dni-code-hint\"><code>[  ]</code></span></summary><div><table><thead><tr></tr></thead><tbody><tr><td>HeadOrDefault</td><td>0</td></tr><tr><td>TailOrNull</td><td><div class=\"dni-plaintext\"><pre>&lt;null&gt;</pre></div></td></tr><tr><td>Head</td><td>System.InvalidOperationException: The input list was empty.\r\n",
       "   at Microsoft.FSharp.Collections.FSharpList`1.get_Head() in D:\\a\\_work\\1\\s\\src\\FSharp.Core\\prim-types.fs:line 4141\r\n",
       "   at lambda_method107(Closure, FSharpList`1)\r\n",
       "   at Microsoft.DotNet.Interactive.Formatting.MemberAccessor`1.GetValueOrException(T instance) in D:\\a\\_work\\1\\s\\src\\Microsoft.DotNet.Interactive.Formatting\\MemberAccessor{T}.cs:line 58</td></tr><tr><td>Tail</td><td>System.InvalidOperationException: The input list was empty.\r\n",
       "   at Microsoft.FSharp.Collections.FSharpList`1.get_Tail() in D:\\a\\_work\\1\\s\\src\\FSharp.Core\\prim-types.fs:line 4146\r\n",
       "   at lambda_method108(Closure, FSharpList`1)\r\n",
       "   at Microsoft.DotNet.Interactive.Formatting.MemberAccessor`1.GetValueOrException(T instance) in D:\\a\\_work\\1\\s\\src\\Microsoft.DotNet.Interactive.Formatting\\MemberAccessor{T}.cs:line 58</td></tr><tr><td><i>(values)</i></td><td><div class=\"dni-plaintext\"><pre>[  ]</pre></div></td></tr></tbody></table></div></details></td></tr><tr><td>Head</td><td><div class=\"dni-plaintext\"><pre>0</pre></div></td></tr><tr><td>Tail</td><td><details class=\"dni-treeview\"><summary><span class=\"dni-code-hint\"><code>[  ]</code></span></summary><div><table><thead><tr></tr></thead><tbody><tr><td>HeadOrDefault</td><td>0</td></tr><tr><td>TailOrNull</td><td><div class=\"dni-plaintext\"><pre>&lt;null&gt;</pre></div></td></tr><tr><td>Head</td><td>System.InvalidOperationException: The input list was empty.\r\n",
       "   at Microsoft.FSharp.Collections.FSharpList`1.get_Head() in D:\\a\\_work\\1\\s\\src\\FSharp.Core\\prim-types.fs:line 4141\r\n",
       "   at lambda_method107(Closure, FSharpList`1)\r\n",
       "   at Microsoft.DotNet.Interactive.Formatting.MemberAccessor`1.GetValueOrException(T instance) in D:\\a\\_work\\1\\s\\src\\Microsoft.DotNet.Interactive.Formatting\\MemberAccessor{T}.cs:line 58</td></tr><tr><td>Tail</td><td>System.InvalidOperationException: The input list was empty.\r\n",
       "   at Microsoft.FSharp.Collections.FSharpList`1.get_Tail() in D:\\a\\_work\\1\\s\\src\\FSharp.Core\\prim-types.fs:line 4146\r\n",
       "   at lambda_method108(Closure, FSharpList`1)\r\n",
       "   at Microsoft.DotNet.Interactive.Formatting.MemberAccessor`1.GetValueOrException(T instance) in D:\\a\\_work\\1\\s\\src\\Microsoft.DotNet.Interactive.Formatting\\MemberAccessor{T}.cs:line 58</td></tr><tr><td><i>(values)</i></td><td><div class=\"dni-plaintext\"><pre>[  ]</pre></div></td></tr></tbody></table></div></details></td></tr><tr><td><i>(values)</i></td><td><div class=\"dni-plaintext\"><pre>[ 0 ]</pre></div></td></tr></tbody></table></div></details></td></tr><tr><td>Head</td><td><div class=\"dni-plaintext\"><pre>3</pre></div></td></tr><tr><td>Tail</td><td><details class=\"dni-treeview\"><summary><span class=\"dni-code-hint\"><code>[ 0 ]</code></span></summary><div><table><thead><tr></tr></thead><tbody><tr><td>HeadOrDefault</td><td><div class=\"dni-plaintext\"><pre>0</pre></div></td></tr><tr><td>TailOrNull</td><td><details class=\"dni-treeview\"><summary><span class=\"dni-code-hint\"><code>[  ]</code></span></summary><div><table><thead><tr></tr></thead><tbody><tr><td>HeadOrDefault</td><td>0</td></tr><tr><td>TailOrNull</td><td><div class=\"dni-plaintext\"><pre>&lt;null&gt;</pre></div></td></tr><tr><td>Head</td><td>System.InvalidOperationException: The input list was empty.\r\n",
       "   at Microsoft.FSharp.Collections.FSharpList`1.get_Head() in D:\\a\\_work\\1\\s\\src\\FSharp.Core\\prim-types.fs:line 4141\r\n",
       "   at lambda_method107(Closure, FSharpList`1)\r\n",
       "   at Microsoft.DotNet.Interactive.Formatting.MemberAccessor`1.GetValueOrException(T instance) in D:\\a\\_work\\1\\s\\src\\Microsoft.DotNet.Interactive.Formatting\\MemberAccessor{T}.cs:line 58</td></tr><tr><td>Tail</td><td>System.InvalidOperationException: The input list was empty.\r\n",
       "   at Microsoft.FSharp.Collections.FSharpList`1.get_Tail() in D:\\a\\_work\\1\\s\\src\\FSharp.Core\\prim-types.fs:line 4146\r\n",
       "   at lambda_method108(Closure, FSharpList`1)\r\n",
       "   at Microsoft.DotNet.Interactive.Formatting.MemberAccessor`1.GetValueOrException(T instance) in D:\\a\\_work\\1\\s\\src\\Microsoft.DotNet.Interactive.Formatting\\MemberAccessor{T}.cs:line 58</td></tr><tr><td><i>(values)</i></td><td><div class=\"dni-plaintext\"><pre>[  ]</pre></div></td></tr></tbody></table></div></details></td></tr><tr><td>Head</td><td><div class=\"dni-plaintext\"><pre>0</pre></div></td></tr><tr><td>Tail</td><td><details class=\"dni-treeview\"><summary><span class=\"dni-code-hint\"><code>[  ]</code></span></summary><div><table><thead><tr></tr></thead><tbody><tr><td>HeadOrDefault</td><td>0</td></tr><tr><td>TailOrNull</td><td><div class=\"dni-plaintext\"><pre>&lt;null&gt;</pre></div></td></tr><tr><td>Head</td><td>System.InvalidOperationException: The input list was empty.\r\n",
       "   at Microsoft.FSharp.Collections.FSharpList`1.get_Head() in D:\\a\\_work\\1\\s\\src\\FSharp.Core\\prim-types.fs:line 4141\r\n",
       "   at lambda_method107(Closure, FSharpList`1)\r\n",
       "   at Microsoft.DotNet.Interactive.Formatting.MemberAccessor`1.GetValueOrException(T instance) in D:\\a\\_work\\1\\s\\src\\Microsoft.DotNet.Interactive.Formatting\\MemberAccessor{T}.cs:line 58</td></tr><tr><td>Tail</td><td>System.InvalidOperationException: The input list was empty.\r\n",
       "   at Microsoft.FSharp.Collections.FSharpList`1.get_Tail() in D:\\a\\_work\\1\\s\\src\\FSharp.Core\\prim-types.fs:line 4146\r\n",
       "   at lambda_method108(Closure, FSharpList`1)\r\n",
       "   at Microsoft.DotNet.Interactive.Formatting.MemberAccessor`1.GetValueOrException(T instance) in D:\\a\\_work\\1\\s\\src\\Microsoft.DotNet.Interactive.Formatting\\MemberAccessor{T}.cs:line 58</td></tr><tr><td><i>(values)</i></td><td><div class=\"dni-plaintext\"><pre>[  ]</pre></div></td></tr></tbody></table></div></details></td></tr><tr><td><i>(values)</i></td><td><div class=\"dni-plaintext\"><pre>[ 0 ]</pre></div></td></tr></tbody></table></div></details></td></tr><tr><td><i>(values)</i></td><td><div class=\"dni-plaintext\"><pre>[ 3, 0 ]</pre></div></td></tr></tbody></table></div></details></td></tr><tr><td><i>(values)</i></td><td><div class=\"dni-plaintext\"><pre>[ 2, 3, 0 ]</pre></div></td></tr></tbody></table></div></details></td></tr><tr><td>Head</td><td><div class=\"dni-plaintext\"><pre>1</pre></div></td></tr><tr><td>Tail</td><td><details class=\"dni-treeview\"><summary><span class=\"dni-code-hint\"><code>[ 2, 3, 0 ]</code></span></summary><div><table><thead><tr></tr></thead><tbody><tr><td>HeadOrDefault</td><td><div class=\"dni-plaintext\"><pre>2</pre></div></td></tr><tr><td>TailOrNull</td><td><details class=\"dni-treeview\"><summary><span class=\"dni-code-hint\"><code>[ 3, 0 ]</code></span></summary><div><table><thead><tr></tr></thead><tbody><tr><td>HeadOrDefault</td><td><div class=\"dni-plaintext\"><pre>3</pre></div></td></tr><tr><td>TailOrNull</td><td><details class=\"dni-treeview\"><summary><span class=\"dni-code-hint\"><code>[ 0 ]</code></span></summary><div><table><thead><tr></tr></thead><tbody><tr><td>HeadOrDefault</td><td><div class=\"dni-plaintext\"><pre>0</pre></div></td></tr><tr><td>TailOrNull</td><td><details class=\"dni-treeview\"><summary><span class=\"dni-code-hint\"><code>[  ]</code></span></summary><div><table><thead><tr></tr></thead><tbody><tr><td>HeadOrDefault</td><td>0</td></tr><tr><td>TailOrNull</td><td><div class=\"dni-plaintext\"><pre>&lt;null&gt;</pre></div></td></tr><tr><td>Head</td><td>System.InvalidOperationException: The input list was empty.\r\n",
       "   at Microsoft.FSharp.Collections.FSharpList`1.get_Head() in D:\\a\\_work\\1\\s\\src\\FSharp.Core\\prim-types.fs:line 4141\r\n",
       "   at lambda_method107(Closure, FSharpList`1)\r\n",
       "   at Microsoft.DotNet.Interactive.Formatting.MemberAccessor`1.GetValueOrException(T instance) in D:\\a\\_work\\1\\s\\src\\Microsoft.DotNet.Interactive.Formatting\\MemberAccessor{T}.cs:line 58</td></tr><tr><td>Tail</td><td>System.InvalidOperationException: The input list was empty.\r\n",
       "   at Microsoft.FSharp.Collections.FSharpList`1.get_Tail() in D:\\a\\_work\\1\\s\\src\\FSharp.Core\\prim-types.fs:line 4146\r\n",
       "   at lambda_method108(Closure, FSharpList`1)\r\n",
       "   at Microsoft.DotNet.Interactive.Formatting.MemberAccessor`1.GetValueOrException(T instance) in D:\\a\\_work\\1\\s\\src\\Microsoft.DotNet.Interactive.Formatting\\MemberAccessor{T}.cs:line 58</td></tr><tr><td><i>(values)</i></td><td><div class=\"dni-plaintext\"><pre>[  ]</pre></div></td></tr></tbody></table></div></details></td></tr><tr><td>Head</td><td><div class=\"dni-plaintext\"><pre>0</pre></div></td></tr><tr><td>Tail</td><td><details class=\"dni-treeview\"><summary><span class=\"dni-code-hint\"><code>[  ]</code></span></summary><div><table><thead><tr></tr></thead><tbody><tr><td>HeadOrDefault</td><td>0</td></tr><tr><td>TailOrNull</td><td><div class=\"dni-plaintext\"><pre>&lt;null&gt;</pre></div></td></tr><tr><td>Head</td><td>System.InvalidOperationException: The input list was empty.\r\n",
       "   at Microsoft.FSharp.Collections.FSharpList`1.get_Head() in D:\\a\\_work\\1\\s\\src\\FSharp.Core\\prim-types.fs:line 4141\r\n",
       "   at lambda_method107(Closure, FSharpList`1)\r\n",
       "   at Microsoft.DotNet.Interactive.Formatting.MemberAccessor`1.GetValueOrException(T instance) in D:\\a\\_work\\1\\s\\src\\Microsoft.DotNet.Interactive.Formatting\\MemberAccessor{T}.cs:line 58</td></tr><tr><td>Tail</td><td>System.InvalidOperationException: The input list was empty.\r\n",
       "   at Microsoft.FSharp.Collections.FSharpList`1.get_Tail() in D:\\a\\_work\\1\\s\\src\\FSharp.Core\\prim-types.fs:line 4146\r\n",
       "   at lambda_method108(Closure, FSharpList`1)\r\n",
       "   at Microsoft.DotNet.Interactive.Formatting.MemberAccessor`1.GetValueOrException(T instance) in D:\\a\\_work\\1\\s\\src\\Microsoft.DotNet.Interactive.Formatting\\MemberAccessor{T}.cs:line 58</td></tr><tr><td><i>(values)</i></td><td><div class=\"dni-plaintext\"><pre>[  ]</pre></div></td></tr></tbody></table></div></details></td></tr><tr><td><i>(values)</i></td><td><div class=\"dni-plaintext\"><pre>[ 0 ]</pre></div></td></tr></tbody></table></div></details></td></tr><tr><td>Head</td><td><div class=\"dni-plaintext\"><pre>3</pre></div></td></tr><tr><td>Tail</td><td><details class=\"dni-treeview\"><summary><span class=\"dni-code-hint\"><code>[ 0 ]</code></span></summary><div><table><thead><tr></tr></thead><tbody><tr><td>HeadOrDefault</td><td><div class=\"dni-plaintext\"><pre>0</pre></div></td></tr><tr><td>TailOrNull</td><td><details class=\"dni-treeview\"><summary><span class=\"dni-code-hint\"><code>[  ]</code></span></summary><div><table><thead><tr></tr></thead><tbody><tr><td>HeadOrDefault</td><td>0</td></tr><tr><td>TailOrNull</td><td><div class=\"dni-plaintext\"><pre>&lt;null&gt;</pre></div></td></tr><tr><td>Head</td><td>System.InvalidOperationException: The input list was empty.\r\n",
       "   at Microsoft.FSharp.Collections.FSharpList`1.get_Head() in D:\\a\\_work\\1\\s\\src\\FSharp.Core\\prim-types.fs:line 4141\r\n",
       "   at lambda_method107(Closure, FSharpList`1)\r\n",
       "   at Microsoft.DotNet.Interactive.Formatting.MemberAccessor`1.GetValueOrException(T instance) in D:\\a\\_work\\1\\s\\src\\Microsoft.DotNet.Interactive.Formatting\\MemberAccessor{T}.cs:line 58</td></tr><tr><td>Tail</td><td>System.InvalidOperationException: The input list was empty.\r\n",
       "   at Microsoft.FSharp.Collections.FSharpList`1.get_Tail() in D:\\a\\_work\\1\\s\\src\\FSharp.Core\\prim-types.fs:line 4146\r\n",
       "   at lambda_method108(Closure, FSharpList`1)\r\n",
       "   at Microsoft.DotNet.Interactive.Formatting.MemberAccessor`1.GetValueOrException(T instance) in D:\\a\\_work\\1\\s\\src\\Microsoft.DotNet.Interactive.Formatting\\MemberAccessor{T}.cs:line 58</td></tr><tr><td><i>(values)</i></td><td><div class=\"dni-plaintext\"><pre>[  ]</pre></div></td></tr></tbody></table></div></details></td></tr><tr><td>Head</td><td><div class=\"dni-plaintext\"><pre>0</pre></div></td></tr><tr><td>Tail</td><td><details class=\"dni-treeview\"><summary><span class=\"dni-code-hint\"><code>[  ]</code></span></summary><div><table><thead><tr></tr></thead><tbody><tr><td>HeadOrDefault</td><td>0</td></tr><tr><td>TailOrNull</td><td><div class=\"dni-plaintext\"><pre>&lt;null&gt;</pre></div></td></tr><tr><td>Head</td><td>System.InvalidOperationException: The input list was empty.\r\n",
       "   at Microsoft.FSharp.Collections.FSharpList`1.get_Head() in D:\\a\\_work\\1\\s\\src\\FSharp.Core\\prim-types.fs:line 4141\r\n",
       "   at lambda_method107(Closure, FSharpList`1)\r\n",
       "   at Microsoft.DotNet.Interactive.Formatting.MemberAccessor`1.GetValueOrException(T instance) in D:\\a\\_work\\1\\s\\src\\Microsoft.DotNet.Interactive.Formatting\\MemberAccessor{T}.cs:line 58</td></tr><tr><td>Tail</td><td>System.InvalidOperationException: The input list was empty.\r\n",
       "   at Microsoft.FSharp.Collections.FSharpList`1.get_Tail() in D:\\a\\_work\\1\\s\\src\\FSharp.Core\\prim-types.fs:line 4146\r\n",
       "   at lambda_method108(Closure, FSharpList`1)\r\n",
       "   at Microsoft.DotNet.Interactive.Formatting.MemberAccessor`1.GetValueOrException(T instance) in D:\\a\\_work\\1\\s\\src\\Microsoft.DotNet.Interactive.Formatting\\MemberAccessor{T}.cs:line 58</td></tr><tr><td><i>(values)</i></td><td><div class=\"dni-plaintext\"><pre>[  ]</pre></div></td></tr></tbody></table></div></details></td></tr><tr><td><i>(values)</i></td><td><div class=\"dni-plaintext\"><pre>[ 0 ]</pre></div></td></tr></tbody></table></div></details></td></tr><tr><td><i>(values)</i></td><td><div class=\"dni-plaintext\"><pre>[ 3, 0 ]</pre></div></td></tr></tbody></table></div></details></td></tr><tr><td>Head</td><td><div class=\"dni-plaintext\"><pre>2</pre></div></td></tr><tr><td>Tail</td><td><details class=\"dni-treeview\"><summary><span class=\"dni-code-hint\"><code>[ 3, 0 ]</code></span></summary><div><table><thead><tr></tr></thead><tbody><tr><td>HeadOrDefault</td><td><div class=\"dni-plaintext\"><pre>3</pre></div></td></tr><tr><td>TailOrNull</td><td><details class=\"dni-treeview\"><summary><span class=\"dni-code-hint\"><code>[ 0 ]</code></span></summary><div><table><thead><tr></tr></thead><tbody><tr><td>HeadOrDefault</td><td><div class=\"dni-plaintext\"><pre>0</pre></div></td></tr><tr><td>TailOrNull</td><td><details class=\"dni-treeview\"><summary><span class=\"dni-code-hint\"><code>[  ]</code></span></summary><div><table><thead><tr></tr></thead><tbody><tr><td>HeadOrDefault</td><td>0</td></tr><tr><td>TailOrNull</td><td><div class=\"dni-plaintext\"><pre>&lt;null&gt;</pre></div></td></tr><tr><td>Head</td><td>System.InvalidOperationException: The input list was empty.\r\n",
       "   at Microsoft.FSharp.Collections.FSharpList`1.get_Head() in D:\\a\\_work\\1\\s\\src\\FSharp.Core\\prim-types.fs:line 4141\r\n",
       "   at lambda_method107(Closure, FSharpList`1)\r\n",
       "   at Microsoft.DotNet.Interactive.Formatting.MemberAccessor`1.GetValueOrException(T instance) in D:\\a\\_work\\1\\s\\src\\Microsoft.DotNet.Interactive.Formatting\\MemberAccessor{T}.cs:line 58</td></tr><tr><td>Tail</td><td>System.InvalidOperationException: The input list was empty.\r\n",
       "   at Microsoft.FSharp.Collections.FSharpList`1.get_Tail() in D:\\a\\_work\\1\\s\\src\\FSharp.Core\\prim-types.fs:line 4146\r\n",
       "   at lambda_method108(Closure, FSharpList`1)\r\n",
       "   at Microsoft.DotNet.Interactive.Formatting.MemberAccessor`1.GetValueOrException(T instance) in D:\\a\\_work\\1\\s\\src\\Microsoft.DotNet.Interactive.Formatting\\MemberAccessor{T}.cs:line 58</td></tr><tr><td><i>(values)</i></td><td><div class=\"dni-plaintext\"><pre>[  ]</pre></div></td></tr></tbody></table></div></details></td></tr><tr><td>Head</td><td><div class=\"dni-plaintext\"><pre>0</pre></div></td></tr><tr><td>Tail</td><td><details class=\"dni-treeview\"><summary><span class=\"dni-code-hint\"><code>[  ]</code></span></summary><div><table><thead><tr></tr></thead><tbody><tr><td>HeadOrDefault</td><td>0</td></tr><tr><td>TailOrNull</td><td><div class=\"dni-plaintext\"><pre>&lt;null&gt;</pre></div></td></tr><tr><td>Head</td><td>System.InvalidOperationException: The input list was empty.\r\n",
       "   at Microsoft.FSharp.Collections.FSharpList`1.get_Head() in D:\\a\\_work\\1\\s\\src\\FSharp.Core\\prim-types.fs:line 4141\r\n",
       "   at lambda_method107(Closure, FSharpList`1)\r\n",
       "   at Microsoft.DotNet.Interactive.Formatting.MemberAccessor`1.GetValueOrException(T instance) in D:\\a\\_work\\1\\s\\src\\Microsoft.DotNet.Interactive.Formatting\\MemberAccessor{T}.cs:line 58</td></tr><tr><td>Tail</td><td>System.InvalidOperationException: The input list was empty.\r\n",
       "   at Microsoft.FSharp.Collections.FSharpList`1.get_Tail() in D:\\a\\_work\\1\\s\\src\\FSharp.Core\\prim-types.fs:line 4146\r\n",
       "   at lambda_method108(Closure, FSharpList`1)\r\n",
       "   at Microsoft.DotNet.Interactive.Formatting.MemberAccessor`1.GetValueOrException(T instance) in D:\\a\\_work\\1\\s\\src\\Microsoft.DotNet.Interactive.Formatting\\MemberAccessor{T}.cs:line 58</td></tr><tr><td><i>(values)</i></td><td><div class=\"dni-plaintext\"><pre>[  ]</pre></div></td></tr></tbody></table></div></details></td></tr><tr><td><i>(values)</i></td><td><div class=\"dni-plaintext\"><pre>[ 0 ]</pre></div></td></tr></tbody></table></div></details></td></tr><tr><td>Head</td><td><div class=\"dni-plaintext\"><pre>3</pre></div></td></tr><tr><td>Tail</td><td><details class=\"dni-treeview\"><summary><span class=\"dni-code-hint\"><code>[ 0 ]</code></span></summary><div><table><thead><tr></tr></thead><tbody><tr><td>HeadOrDefault</td><td><div class=\"dni-plaintext\"><pre>0</pre></div></td></tr><tr><td>TailOrNull</td><td><details class=\"dni-treeview\"><summary><span class=\"dni-code-hint\"><code>[  ]</code></span></summary><div><table><thead><tr></tr></thead><tbody><tr><td>HeadOrDefault</td><td>0</td></tr><tr><td>TailOrNull</td><td><div class=\"dni-plaintext\"><pre>&lt;null&gt;</pre></div></td></tr><tr><td>Head</td><td>System.InvalidOperationException: The input list was empty.\r\n",
       "   at Microsoft.FSharp.Collections.FSharpList`1.get_Head() in D:\\a\\_work\\1\\s\\src\\FSharp.Core\\prim-types.fs:line 4141\r\n",
       "   at lambda_method107(Closure, FSharpList`1)\r\n",
       "   at Microsoft.DotNet.Interactive.Formatting.MemberAccessor`1.GetValueOrException(T instance) in D:\\a\\_work\\1\\s\\src\\Microsoft.DotNet.Interactive.Formatting\\MemberAccessor{T}.cs:line 58</td></tr><tr><td>Tail</td><td>System.InvalidOperationException: The input list was empty.\r\n",
       "   at Microsoft.FSharp.Collections.FSharpList`1.get_Tail() in D:\\a\\_work\\1\\s\\src\\FSharp.Core\\prim-types.fs:line 4146\r\n",
       "   at lambda_method108(Closure, FSharpList`1)\r\n",
       "   at Microsoft.DotNet.Interactive.Formatting.MemberAccessor`1.GetValueOrException(T instance) in D:\\a\\_work\\1\\s\\src\\Microsoft.DotNet.Interactive.Formatting\\MemberAccessor{T}.cs:line 58</td></tr><tr><td><i>(values)</i></td><td><div class=\"dni-plaintext\"><pre>[  ]</pre></div></td></tr></tbody></table></div></details></td></tr><tr><td>Head</td><td><div class=\"dni-plaintext\"><pre>0</pre></div></td></tr><tr><td>Tail</td><td><details class=\"dni-treeview\"><summary><span class=\"dni-code-hint\"><code>[  ]</code></span></summary><div><table><thead><tr></tr></thead><tbody><tr><td>HeadOrDefault</td><td>0</td></tr><tr><td>TailOrNull</td><td><div class=\"dni-plaintext\"><pre>&lt;null&gt;</pre></div></td></tr><tr><td>Head</td><td>System.InvalidOperationException: The input list was empty.\r\n",
       "   at Microsoft.FSharp.Collections.FSharpList`1.get_Head() in D:\\a\\_work\\1\\s\\src\\FSharp.Core\\prim-types.fs:line 4141\r\n",
       "   at lambda_method107(Closure, FSharpList`1)\r\n",
       "   at Microsoft.DotNet.Interactive.Formatting.MemberAccessor`1.GetValueOrException(T instance) in D:\\a\\_work\\1\\s\\src\\Microsoft.DotNet.Interactive.Formatting\\MemberAccessor{T}.cs:line 58</td></tr><tr><td>Tail</td><td>System.InvalidOperationException: The input list was empty.\r\n",
       "   at Microsoft.FSharp.Collections.FSharpList`1.get_Tail() in D:\\a\\_work\\1\\s\\src\\FSharp.Core\\prim-types.fs:line 4146\r\n",
       "   at lambda_method108(Closure, FSharpList`1)\r\n",
       "   at Microsoft.DotNet.Interactive.Formatting.MemberAccessor`1.GetValueOrException(T instance) in D:\\a\\_work\\1\\s\\src\\Microsoft.DotNet.Interactive.Formatting\\MemberAccessor{T}.cs:line 58</td></tr><tr><td><i>(values)</i></td><td><div class=\"dni-plaintext\"><pre>[  ]</pre></div></td></tr></tbody></table></div></details></td></tr><tr><td><i>(values)</i></td><td><div class=\"dni-plaintext\"><pre>[ 0 ]</pre></div></td></tr></tbody></table></div></details></td></tr><tr><td><i>(values)</i></td><td><div class=\"dni-plaintext\"><pre>[ 3, 0 ]</pre></div></td></tr></tbody></table></div></details></td></tr><tr><td><i>(values)</i></td><td><div class=\"dni-plaintext\"><pre>[ 2, 3, 0 ]</pre></div></td></tr></tbody></table></div></details></td></tr><tr><td><i>(values)</i></td><td><div class=\"dni-plaintext\"><pre>[ 1, 2, 3, 0 ]</pre></div></td></tr></tbody></table></div></details></td></tr><tr><td>Head</td><td><div class=\"dni-plaintext\"><pre>5</pre></div></td></tr><tr><td>Tail</td><td><details class=\"dni-treeview\"><summary><span class=\"dni-code-hint\"><code>[ 1, 2, 3, 0 ]</code></span></summary><div><table><thead><tr></tr></thead><tbody><tr><td>HeadOrDefault</td><td><div class=\"dni-plaintext\"><pre>1</pre></div></td></tr><tr><td>TailOrNull</td><td><details class=\"dni-treeview\"><summary><span class=\"dni-code-hint\"><code>[ 2, 3, 0 ]</code></span></summary><div><table><thead><tr></tr></thead><tbody><tr><td>HeadOrDefault</td><td><div class=\"dni-plaintext\"><pre>2</pre></div></td></tr><tr><td>TailOrNull</td><td><details class=\"dni-treeview\"><summary><span class=\"dni-code-hint\"><code>[ 3, 0 ]</code></span></summary><div><table><thead><tr></tr></thead><tbody><tr><td>HeadOrDefault</td><td><div class=\"dni-plaintext\"><pre>3</pre></div></td></tr><tr><td>TailOrNull</td><td><details class=\"dni-treeview\"><summary><span class=\"dni-code-hint\"><code>[ 0 ]</code></span></summary><div><table><thead><tr></tr></thead><tbody><tr><td>HeadOrDefault</td><td><div class=\"dni-plaintext\"><pre>0</pre></div></td></tr><tr><td>TailOrNull</td><td><details class=\"dni-treeview\"><summary><span class=\"dni-code-hint\"><code>[  ]</code></span></summary><div><table><thead><tr></tr></thead><tbody><tr><td>HeadOrDefault</td><td>0</td></tr><tr><td>TailOrNull</td><td><div class=\"dni-plaintext\"><pre>&lt;null&gt;</pre></div></td></tr><tr><td>Head</td><td>System.InvalidOperationException: The input list was empty.\r\n",
       "   at Microsoft.FSharp.Collections.FSharpList`1.get_Head() in D:\\a\\_work\\1\\s\\src\\FSharp.Core\\prim-types.fs:line 4141\r\n",
       "   at lambda_method107(Closure, FSharpList`1)\r\n",
       "   at Microsoft.DotNet.Interactive.Formatting.MemberAccessor`1.GetValueOrException(T instance) in D:\\a\\_work\\1\\s\\src\\Microsoft.DotNet.Interactive.Formatting\\MemberAccessor{T}.cs:line 58</td></tr><tr><td>Tail</td><td>System.InvalidOperationException: The input list was empty.\r\n",
       "   at Microsoft.FSharp.Collections.FSharpList`1.get_Tail() in D:\\a\\_work\\1\\s\\src\\FSharp.Core\\prim-types.fs:line 4146\r\n",
       "   at lambda_method108(Closure, FSharpList`1)\r\n",
       "   at Microsoft.DotNet.Interactive.Formatting.MemberAccessor`1.GetValueOrException(T instance) in D:\\a\\_work\\1\\s\\src\\Microsoft.DotNet.Interactive.Formatting\\MemberAccessor{T}.cs:line 58</td></tr><tr><td><i>(values)</i></td><td><div class=\"dni-plaintext\"><pre>[  ]</pre></div></td></tr></tbody></table></div></details></td></tr><tr><td>Head</td><td><div class=\"dni-plaintext\"><pre>0</pre></div></td></tr><tr><td>Tail</td><td><details class=\"dni-treeview\"><summary><span class=\"dni-code-hint\"><code>[  ]</code></span></summary><div><table><thead><tr></tr></thead><tbody><tr><td>HeadOrDefault</td><td>0</td></tr><tr><td>TailOrNull</td><td><div class=\"dni-plaintext\"><pre>&lt;null&gt;</pre></div></td></tr><tr><td>Head</td><td>System.InvalidOperationException: The input list was empty.\r\n",
       "   at Microsoft.FSharp.Collections.FSharpList`1.get_Head() in D:\\a\\_work\\1\\s\\src\\FSharp.Core\\prim-types.fs:line 4141\r\n",
       "   at lambda_method107(Closure, FSharpList`1)\r\n",
       "   at Microsoft.DotNet.Interactive.Formatting.MemberAccessor`1.GetValueOrException(T instance) in D:\\a\\_work\\1\\s\\src\\Microsoft.DotNet.Interactive.Formatting\\MemberAccessor{T}.cs:line 58</td></tr><tr><td>Tail</td><td>System.InvalidOperationException: The input list was empty.\r\n",
       "   at Microsoft.FSharp.Collections.FSharpList`1.get_Tail() in D:\\a\\_work\\1\\s\\src\\FSharp.Core\\prim-types.fs:line 4146\r\n",
       "   at lambda_method108(Closure, FSharpList`1)\r\n",
       "   at Microsoft.DotNet.Interactive.Formatting.MemberAccessor`1.GetValueOrException(T instance) in D:\\a\\_work\\1\\s\\src\\Microsoft.DotNet.Interactive.Formatting\\MemberAccessor{T}.cs:line 58</td></tr><tr><td><i>(values)</i></td><td><div class=\"dni-plaintext\"><pre>[  ]</pre></div></td></tr></tbody></table></div></details></td></tr><tr><td><i>(values)</i></td><td><div class=\"dni-plaintext\"><pre>[ 0 ]</pre></div></td></tr></tbody></table></div></details></td></tr><tr><td>Head</td><td><div class=\"dni-plaintext\"><pre>3</pre></div></td></tr><tr><td>Tail</td><td><details class=\"dni-treeview\"><summary><span class=\"dni-code-hint\"><code>[ 0 ]</code></span></summary><div><table><thead><tr></tr></thead><tbody><tr><td>HeadOrDefault</td><td><div class=\"dni-plaintext\"><pre>0</pre></div></td></tr><tr><td>TailOrNull</td><td><details class=\"dni-treeview\"><summary><span class=\"dni-code-hint\"><code>[  ]</code></span></summary><div><table><thead><tr></tr></thead><tbody><tr><td>HeadOrDefault</td><td>0</td></tr><tr><td>TailOrNull</td><td><div class=\"dni-plaintext\"><pre>&lt;null&gt;</pre></div></td></tr><tr><td>Head</td><td>System.InvalidOperationException: The input list was empty.\r\n",
       "   at Microsoft.FSharp.Collections.FSharpList`1.get_Head() in D:\\a\\_work\\1\\s\\src\\FSharp.Core\\prim-types.fs:line 4141\r\n",
       "   at lambda_method107(Closure, FSharpList`1)\r\n",
       "   at Microsoft.DotNet.Interactive.Formatting.MemberAccessor`1.GetValueOrException(T instance) in D:\\a\\_work\\1\\s\\src\\Microsoft.DotNet.Interactive.Formatting\\MemberAccessor{T}.cs:line 58</td></tr><tr><td>Tail</td><td>System.InvalidOperationException: The input list was empty.\r\n",
       "   at Microsoft.FSharp.Collections.FSharpList`1.get_Tail() in D:\\a\\_work\\1\\s\\src\\FSharp.Core\\prim-types.fs:line 4146\r\n",
       "   at lambda_method108(Closure, FSharpList`1)\r\n",
       "   at Microsoft.DotNet.Interactive.Formatting.MemberAccessor`1.GetValueOrException(T instance) in D:\\a\\_work\\1\\s\\src\\Microsoft.DotNet.Interactive.Formatting\\MemberAccessor{T}.cs:line 58</td></tr><tr><td><i>(values)</i></td><td><div class=\"dni-plaintext\"><pre>[  ]</pre></div></td></tr></tbody></table></div></details></td></tr><tr><td>Head</td><td><div class=\"dni-plaintext\"><pre>0</pre></div></td></tr><tr><td>Tail</td><td><details class=\"dni-treeview\"><summary><span class=\"dni-code-hint\"><code>[  ]</code></span></summary><div><table><thead><tr></tr></thead><tbody><tr><td>HeadOrDefault</td><td>0</td></tr><tr><td>TailOrNull</td><td><div class=\"dni-plaintext\"><pre>&lt;null&gt;</pre></div></td></tr><tr><td>Head</td><td>System.InvalidOperationException: The input list was empty.\r\n",
       "   at Microsoft.FSharp.Collections.FSharpList`1.get_Head() in D:\\a\\_work\\1\\s\\src\\FSharp.Core\\prim-types.fs:line 4141\r\n",
       "   at lambda_method107(Closure, FSharpList`1)\r\n",
       "   at Microsoft.DotNet.Interactive.Formatting.MemberAccessor`1.GetValueOrException(T instance) in D:\\a\\_work\\1\\s\\src\\Microsoft.DotNet.Interactive.Formatting\\MemberAccessor{T}.cs:line 58</td></tr><tr><td>Tail</td><td>System.InvalidOperationException: The input list was empty.\r\n",
       "   at Microsoft.FSharp.Collections.FSharpList`1.get_Tail() in D:\\a\\_work\\1\\s\\src\\FSharp.Core\\prim-types.fs:line 4146\r\n",
       "   at lambda_method108(Closure, FSharpList`1)\r\n",
       "   at Microsoft.DotNet.Interactive.Formatting.MemberAccessor`1.GetValueOrException(T instance) in D:\\a\\_work\\1\\s\\src\\Microsoft.DotNet.Interactive.Formatting\\MemberAccessor{T}.cs:line 58</td></tr><tr><td><i>(values)</i></td><td><div class=\"dni-plaintext\"><pre>[  ]</pre></div></td></tr></tbody></table></div></details></td></tr><tr><td><i>(values)</i></td><td><div class=\"dni-plaintext\"><pre>[ 0 ]</pre></div></td></tr></tbody></table></div></details></td></tr><tr><td><i>(values)</i></td><td><div class=\"dni-plaintext\"><pre>[ 3, 0 ]</pre></div></td></tr></tbody></table></div></details></td></tr><tr><td>Head</td><td><div class=\"dni-plaintext\"><pre>2</pre></div></td></tr><tr><td>Tail</td><td><details class=\"dni-treeview\"><summary><span class=\"dni-code-hint\"><code>[ 3, 0 ]</code></span></summary><div><table><thead><tr></tr></thead><tbody><tr><td>HeadOrDefault</td><td><div class=\"dni-plaintext\"><pre>3</pre></div></td></tr><tr><td>TailOrNull</td><td><details class=\"dni-treeview\"><summary><span class=\"dni-code-hint\"><code>[ 0 ]</code></span></summary><div><table><thead><tr></tr></thead><tbody><tr><td>HeadOrDefault</td><td><div class=\"dni-plaintext\"><pre>0</pre></div></td></tr><tr><td>TailOrNull</td><td><details class=\"dni-treeview\"><summary><span class=\"dni-code-hint\"><code>[  ]</code></span></summary><div><table><thead><tr></tr></thead><tbody><tr><td>HeadOrDefault</td><td>0</td></tr><tr><td>TailOrNull</td><td><div class=\"dni-plaintext\"><pre>&lt;null&gt;</pre></div></td></tr><tr><td>Head</td><td>System.InvalidOperationException: The input list was empty.\r\n",
       "   at Microsoft.FSharp.Collections.FSharpList`1.get_Head() in D:\\a\\_work\\1\\s\\src\\FSharp.Core\\prim-types.fs:line 4141\r\n",
       "   at lambda_method107(Closure, FSharpList`1)\r\n",
       "   at Microsoft.DotNet.Interactive.Formatting.MemberAccessor`1.GetValueOrException(T instance) in D:\\a\\_work\\1\\s\\src\\Microsoft.DotNet.Interactive.Formatting\\MemberAccessor{T}.cs:line 58</td></tr><tr><td>Tail</td><td>System.InvalidOperationException: The input list was empty.\r\n",
       "   at Microsoft.FSharp.Collections.FSharpList`1.get_Tail() in D:\\a\\_work\\1\\s\\src\\FSharp.Core\\prim-types.fs:line 4146\r\n",
       "   at lambda_method108(Closure, FSharpList`1)\r\n",
       "   at Microsoft.DotNet.Interactive.Formatting.MemberAccessor`1.GetValueOrException(T instance) in D:\\a\\_work\\1\\s\\src\\Microsoft.DotNet.Interactive.Formatting\\MemberAccessor{T}.cs:line 58</td></tr><tr><td><i>(values)</i></td><td><div class=\"dni-plaintext\"><pre>[  ]</pre></div></td></tr></tbody></table></div></details></td></tr><tr><td>Head</td><td><div class=\"dni-plaintext\"><pre>0</pre></div></td></tr><tr><td>Tail</td><td><details class=\"dni-treeview\"><summary><span class=\"dni-code-hint\"><code>[  ]</code></span></summary><div><table><thead><tr></tr></thead><tbody><tr><td>HeadOrDefault</td><td>0</td></tr><tr><td>TailOrNull</td><td><div class=\"dni-plaintext\"><pre>&lt;null&gt;</pre></div></td></tr><tr><td>Head</td><td>System.InvalidOperationException: The input list was empty.\r\n",
       "   at Microsoft.FSharp.Collections.FSharpList`1.get_Head() in D:\\a\\_work\\1\\s\\src\\FSharp.Core\\prim-types.fs:line 4141\r\n",
       "   at lambda_method107(Closure, FSharpList`1)\r\n",
       "   at Microsoft.DotNet.Interactive.Formatting.MemberAccessor`1.GetValueOrException(T instance) in D:\\a\\_work\\1\\s\\src\\Microsoft.DotNet.Interactive.Formatting\\MemberAccessor{T}.cs:line 58</td></tr><tr><td>Tail</td><td>System.InvalidOperationException: The input list was empty.\r\n",
       "   at Microsoft.FSharp.Collections.FSharpList`1.get_Tail() in D:\\a\\_work\\1\\s\\src\\FSharp.Core\\prim-types.fs:line 4146\r\n",
       "   at lambda_method108(Closure, FSharpList`1)\r\n",
       "   at Microsoft.DotNet.Interactive.Formatting.MemberAccessor`1.GetValueOrException(T instance) in D:\\a\\_work\\1\\s\\src\\Microsoft.DotNet.Interactive.Formatting\\MemberAccessor{T}.cs:line 58</td></tr><tr><td><i>(values)</i></td><td><div class=\"dni-plaintext\"><pre>[  ]</pre></div></td></tr></tbody></table></div></details></td></tr><tr><td><i>(values)</i></td><td><div class=\"dni-plaintext\"><pre>[ 0 ]</pre></div></td></tr></tbody></table></div></details></td></tr><tr><td>Head</td><td><div class=\"dni-plaintext\"><pre>3</pre></div></td></tr><tr><td>Tail</td><td><details class=\"dni-treeview\"><summary><span class=\"dni-code-hint\"><code>[ 0 ]</code></span></summary><div><table><thead><tr></tr></thead><tbody><tr><td>HeadOrDefault</td><td><div class=\"dni-plaintext\"><pre>0</pre></div></td></tr><tr><td>TailOrNull</td><td><details class=\"dni-treeview\"><summary><span class=\"dni-code-hint\"><code>[  ]</code></span></summary><div><table><thead><tr></tr></thead><tbody><tr><td>HeadOrDefault</td><td>0</td></tr><tr><td>TailOrNull</td><td><div class=\"dni-plaintext\"><pre>&lt;null&gt;</pre></div></td></tr><tr><td>Head</td><td>System.InvalidOperationException: The input list was empty.\r\n",
       "   at Microsoft.FSharp.Collections.FSharpList`1.get_Head() in D:\\a\\_work\\1\\s\\src\\FSharp.Core\\prim-types.fs:line 4141\r\n",
       "   at lambda_method107(Closure, FSharpList`1)\r\n",
       "   at Microsoft.DotNet.Interactive.Formatting.MemberAccessor`1.GetValueOrException(T instance) in D:\\a\\_work\\1\\s\\src\\Microsoft.DotNet.Interactive.Formatting\\MemberAccessor{T}.cs:line 58</td></tr><tr><td>Tail</td><td>System.InvalidOperationException: The input list was empty.\r\n",
       "   at Microsoft.FSharp.Collections.FSharpList`1.get_Tail() in D:\\a\\_work\\1\\s\\src\\FSharp.Core\\prim-types.fs:line 4146\r\n",
       "   at lambda_method108(Closure, FSharpList`1)\r\n",
       "   at Microsoft.DotNet.Interactive.Formatting.MemberAccessor`1.GetValueOrException(T instance) in D:\\a\\_work\\1\\s\\src\\Microsoft.DotNet.Interactive.Formatting\\MemberAccessor{T}.cs:line 58</td></tr><tr><td><i>(values)</i></td><td><div class=\"dni-plaintext\"><pre>[  ]</pre></div></td></tr></tbody></table></div></details></td></tr><tr><td>Head</td><td><div class=\"dni-plaintext\"><pre>0</pre></div></td></tr><tr><td>Tail</td><td><details class=\"dni-treeview\"><summary><span class=\"dni-code-hint\"><code>[  ]</code></span></summary><div><table><thead><tr></tr></thead><tbody><tr><td>HeadOrDefault</td><td>0</td></tr><tr><td>TailOrNull</td><td><div class=\"dni-plaintext\"><pre>&lt;null&gt;</pre></div></td></tr><tr><td>Head</td><td>System.InvalidOperationException: The input list was empty.\r\n",
       "   at Microsoft.FSharp.Collections.FSharpList`1.get_Head() in D:\\a\\_work\\1\\s\\src\\FSharp.Core\\prim-types.fs:line 4141\r\n",
       "   at lambda_method107(Closure, FSharpList`1)\r\n",
       "   at Microsoft.DotNet.Interactive.Formatting.MemberAccessor`1.GetValueOrException(T instance) in D:\\a\\_work\\1\\s\\src\\Microsoft.DotNet.Interactive.Formatting\\MemberAccessor{T}.cs:line 58</td></tr><tr><td>Tail</td><td>System.InvalidOperationException: The input list was empty.\r\n",
       "   at Microsoft.FSharp.Collections.FSharpList`1.get_Tail() in D:\\a\\_work\\1\\s\\src\\FSharp.Core\\prim-types.fs:line 4146\r\n",
       "   at lambda_method108(Closure, FSharpList`1)\r\n",
       "   at Microsoft.DotNet.Interactive.Formatting.MemberAccessor`1.GetValueOrException(T instance) in D:\\a\\_work\\1\\s\\src\\Microsoft.DotNet.Interactive.Formatting\\MemberAccessor{T}.cs:line 58</td></tr><tr><td><i>(values)</i></td><td><div class=\"dni-plaintext\"><pre>[  ]</pre></div></td></tr></tbody></table></div></details></td></tr><tr><td><i>(values)</i></td><td><div class=\"dni-plaintext\"><pre>[ 0 ]</pre></div></td></tr></tbody></table></div></details></td></tr><tr><td><i>(values)</i></td><td><div class=\"dni-plaintext\"><pre>[ 3, 0 ]</pre></div></td></tr></tbody></table></div></details></td></tr><tr><td><i>(values)</i></td><td><div class=\"dni-plaintext\"><pre>[ 2, 3, 0 ]</pre></div></td></tr></tbody></table></div></details></td></tr><tr><td>Head</td><td><div class=\"dni-plaintext\"><pre>1</pre></div></td></tr><tr><td>Tail</td><td><details class=\"dni-treeview\"><summary><span class=\"dni-code-hint\"><code>[ 2, 3, 0 ]</code></span></summary><div><table><thead><tr></tr></thead><tbody><tr><td>HeadOrDefault</td><td><div class=\"dni-plaintext\"><pre>2</pre></div></td></tr><tr><td>TailOrNull</td><td><details class=\"dni-treeview\"><summary><span class=\"dni-code-hint\"><code>[ 3, 0 ]</code></span></summary><div><table><thead><tr></tr></thead><tbody><tr><td>HeadOrDefault</td><td><div class=\"dni-plaintext\"><pre>3</pre></div></td></tr><tr><td>TailOrNull</td><td><details class=\"dni-treeview\"><summary><span class=\"dni-code-hint\"><code>[ 0 ]</code></span></summary><div><table><thead><tr></tr></thead><tbody><tr><td>HeadOrDefault</td><td><div class=\"dni-plaintext\"><pre>0</pre></div></td></tr><tr><td>TailOrNull</td><td><details class=\"dni-treeview\"><summary><span class=\"dni-code-hint\"><code>[  ]</code></span></summary><div><table><thead><tr></tr></thead><tbody><tr><td>HeadOrDefault</td><td>0</td></tr><tr><td>TailOrNull</td><td><div class=\"dni-plaintext\"><pre>&lt;null&gt;</pre></div></td></tr><tr><td>Head</td><td>System.InvalidOperationException: The input list was empty.\r\n",
       "   at Microsoft.FSharp.Collections.FSharpList`1.get_Head() in D:\\a\\_work\\1\\s\\src\\FSharp.Core\\prim-types.fs:line 4141\r\n",
       "   at lambda_method107(Closure, FSharpList`1)\r\n",
       "   at Microsoft.DotNet.Interactive.Formatting.MemberAccessor`1.GetValueOrException(T instance) in D:\\a\\_work\\1\\s\\src\\Microsoft.DotNet.Interactive.Formatting\\MemberAccessor{T}.cs:line 58</td></tr><tr><td>Tail</td><td>System.InvalidOperationException: The input list was empty.\r\n",
       "   at Microsoft.FSharp.Collections.FSharpList`1.get_Tail() in D:\\a\\_work\\1\\s\\src\\FSharp.Core\\prim-types.fs:line 4146\r\n",
       "   at lambda_method108(Closure, FSharpList`1)\r\n",
       "   at Microsoft.DotNet.Interactive.Formatting.MemberAccessor`1.GetValueOrException(T instance) in D:\\a\\_work\\1\\s\\src\\Microsoft.DotNet.Interactive.Formatting\\MemberAccessor{T}.cs:line 58</td></tr><tr><td><i>(values)</i></td><td><div class=\"dni-plaintext\"><pre>[  ]</pre></div></td></tr></tbody></table></div></details></td></tr><tr><td>Head</td><td><div class=\"dni-plaintext\"><pre>0</pre></div></td></tr><tr><td>Tail</td><td><details class=\"dni-treeview\"><summary><span class=\"dni-code-hint\"><code>[  ]</code></span></summary><div><table><thead><tr></tr></thead><tbody><tr><td>HeadOrDefault</td><td>0</td></tr><tr><td>TailOrNull</td><td><div class=\"dni-plaintext\"><pre>&lt;null&gt;</pre></div></td></tr><tr><td>Head</td><td>System.InvalidOperationException: The input list was empty.\r\n",
       "   at Microsoft.FSharp.Collections.FSharpList`1.get_Head() in D:\\a\\_work\\1\\s\\src\\FSharp.Core\\prim-types.fs:line 4141\r\n",
       "   at lambda_method107(Closure, FSharpList`1)\r\n",
       "   at Microsoft.DotNet.Interactive.Formatting.MemberAccessor`1.GetValueOrException(T instance) in D:\\a\\_work\\1\\s\\src\\Microsoft.DotNet.Interactive.Formatting\\MemberAccessor{T}.cs:line 58</td></tr><tr><td>Tail</td><td>System.InvalidOperationException: The input list was empty.\r\n",
       "   at Microsoft.FSharp.Collections.FSharpList`1.get_Tail() in D:\\a\\_work\\1\\s\\src\\FSharp.Core\\prim-types.fs:line 4146\r\n",
       "   at lambda_method108(Closure, FSharpList`1)\r\n",
       "   at Microsoft.DotNet.Interactive.Formatting.MemberAccessor`1.GetValueOrException(T instance) in D:\\a\\_work\\1\\s\\src\\Microsoft.DotNet.Interactive.Formatting\\MemberAccessor{T}.cs:line 58</td></tr><tr><td><i>(values)</i></td><td><div class=\"dni-plaintext\"><pre>[  ]</pre></div></td></tr></tbody></table></div></details></td></tr><tr><td><i>(values)</i></td><td><div class=\"dni-plaintext\"><pre>[ 0 ]</pre></div></td></tr></tbody></table></div></details></td></tr><tr><td>Head</td><td><div class=\"dni-plaintext\"><pre>3</pre></div></td></tr><tr><td>Tail</td><td><details class=\"dni-treeview\"><summary><span class=\"dni-code-hint\"><code>[ 0 ]</code></span></summary><div><table><thead><tr></tr></thead><tbody><tr><td>HeadOrDefault</td><td><div class=\"dni-plaintext\"><pre>0</pre></div></td></tr><tr><td>TailOrNull</td><td><details class=\"dni-treeview\"><summary><span class=\"dni-code-hint\"><code>[  ]</code></span></summary><div><table><thead><tr></tr></thead><tbody><tr><td>HeadOrDefault</td><td>0</td></tr><tr><td>TailOrNull</td><td><div class=\"dni-plaintext\"><pre>&lt;null&gt;</pre></div></td></tr><tr><td>Head</td><td>System.InvalidOperationException: The input list was empty.\r\n",
       "   at Microsoft.FSharp.Collections.FSharpList`1.get_Head() in D:\\a\\_work\\1\\s\\src\\FSharp.Core\\prim-types.fs:line 4141\r\n",
       "   at lambda_method107(Closure, FSharpList`1)\r\n",
       "   at Microsoft.DotNet.Interactive.Formatting.MemberAccessor`1.GetValueOrException(T instance) in D:\\a\\_work\\1\\s\\src\\Microsoft.DotNet.Interactive.Formatting\\MemberAccessor{T}.cs:line 58</td></tr><tr><td>Tail</td><td>System.InvalidOperationException: The input list was empty.\r\n",
       "   at Microsoft.FSharp.Collections.FSharpList`1.get_Tail() in D:\\a\\_work\\1\\s\\src\\FSharp.Core\\prim-types.fs:line 4146\r\n",
       "   at lambda_method108(Closure, FSharpList`1)\r\n",
       "   at Microsoft.DotNet.Interactive.Formatting.MemberAccessor`1.GetValueOrException(T instance) in D:\\a\\_work\\1\\s\\src\\Microsoft.DotNet.Interactive.Formatting\\MemberAccessor{T}.cs:line 58</td></tr><tr><td><i>(values)</i></td><td><div class=\"dni-plaintext\"><pre>[  ]</pre></div></td></tr></tbody></table></div></details></td></tr><tr><td>Head</td><td><div class=\"dni-plaintext\"><pre>0</pre></div></td></tr><tr><td>Tail</td><td><details class=\"dni-treeview\"><summary><span class=\"dni-code-hint\"><code>[  ]</code></span></summary><div><table><thead><tr></tr></thead><tbody><tr><td>HeadOrDefault</td><td>0</td></tr><tr><td>TailOrNull</td><td><div class=\"dni-plaintext\"><pre>&lt;null&gt;</pre></div></td></tr><tr><td>Head</td><td>System.InvalidOperationException: The input list was empty.\r\n",
       "   at Microsoft.FSharp.Collections.FSharpList`1.get_Head() in D:\\a\\_work\\1\\s\\src\\FSharp.Core\\prim-types.fs:line 4141\r\n",
       "   at lambda_method107(Closure, FSharpList`1)\r\n",
       "   at Microsoft.DotNet.Interactive.Formatting.MemberAccessor`1.GetValueOrException(T instance) in D:\\a\\_work\\1\\s\\src\\Microsoft.DotNet.Interactive.Formatting\\MemberAccessor{T}.cs:line 58</td></tr><tr><td>Tail</td><td>System.InvalidOperationException: The input list was empty.\r\n",
       "   at Microsoft.FSharp.Collections.FSharpList`1.get_Tail() in D:\\a\\_work\\1\\s\\src\\FSharp.Core\\prim-types.fs:line 4146\r\n",
       "   at lambda_method108(Closure, FSharpList`1)\r\n",
       "   at Microsoft.DotNet.Interactive.Formatting.MemberAccessor`1.GetValueOrException(T instance) in D:\\a\\_work\\1\\s\\src\\Microsoft.DotNet.Interactive.Formatting\\MemberAccessor{T}.cs:line 58</td></tr><tr><td><i>(values)</i></td><td><div class=\"dni-plaintext\"><pre>[  ]</pre></div></td></tr></tbody></table></div></details></td></tr><tr><td><i>(values)</i></td><td><div class=\"dni-plaintext\"><pre>[ 0 ]</pre></div></td></tr></tbody></table></div></details></td></tr><tr><td><i>(values)</i></td><td><div class=\"dni-plaintext\"><pre>[ 3, 0 ]</pre></div></td></tr></tbody></table></div></details></td></tr><tr><td>Head</td><td><div class=\"dni-plaintext\"><pre>2</pre></div></td></tr><tr><td>Tail</td><td><details class=\"dni-treeview\"><summary><span class=\"dni-code-hint\"><code>[ 3, 0 ]</code></span></summary><div><table><thead><tr></tr></thead><tbody><tr><td>HeadOrDefault</td><td><div class=\"dni-plaintext\"><pre>3</pre></div></td></tr><tr><td>TailOrNull</td><td><details class=\"dni-treeview\"><summary><span class=\"dni-code-hint\"><code>[ 0 ]</code></span></summary><div><table><thead><tr></tr></thead><tbody><tr><td>HeadOrDefault</td><td><div class=\"dni-plaintext\"><pre>0</pre></div></td></tr><tr><td>TailOrNull</td><td><details class=\"dni-treeview\"><summary><span class=\"dni-code-hint\"><code>[  ]</code></span></summary><div><table><thead><tr></tr></thead><tbody><tr><td>HeadOrDefault</td><td>0</td></tr><tr><td>TailOrNull</td><td><div class=\"dni-plaintext\"><pre>&lt;null&gt;</pre></div></td></tr><tr><td>Head</td><td>System.InvalidOperationException: The input list was empty.\r\n",
       "   at Microsoft.FSharp.Collections.FSharpList`1.get_Head() in D:\\a\\_work\\1\\s\\src\\FSharp.Core\\prim-types.fs:line 4141\r\n",
       "   at lambda_method107(Closure, FSharpList`1)\r\n",
       "   at Microsoft.DotNet.Interactive.Formatting.MemberAccessor`1.GetValueOrException(T instance) in D:\\a\\_work\\1\\s\\src\\Microsoft.DotNet.Interactive.Formatting\\MemberAccessor{T}.cs:line 58</td></tr><tr><td>Tail</td><td>System.InvalidOperationException: The input list was empty.\r\n",
       "   at Microsoft.FSharp.Collections.FSharpList`1.get_Tail() in D:\\a\\_work\\1\\s\\src\\FSharp.Core\\prim-types.fs:line 4146\r\n",
       "   at lambda_method108(Closure, FSharpList`1)\r\n",
       "   at Microsoft.DotNet.Interactive.Formatting.MemberAccessor`1.GetValueOrException(T instance) in D:\\a\\_work\\1\\s\\src\\Microsoft.DotNet.Interactive.Formatting\\MemberAccessor{T}.cs:line 58</td></tr><tr><td><i>(values)</i></td><td><div class=\"dni-plaintext\"><pre>[  ]</pre></div></td></tr></tbody></table></div></details></td></tr><tr><td>Head</td><td><div class=\"dni-plaintext\"><pre>0</pre></div></td></tr><tr><td>Tail</td><td><details class=\"dni-treeview\"><summary><span class=\"dni-code-hint\"><code>[  ]</code></span></summary><div><table><thead><tr></tr></thead><tbody><tr><td>HeadOrDefault</td><td>0</td></tr><tr><td>TailOrNull</td><td><div class=\"dni-plaintext\"><pre>&lt;null&gt;</pre></div></td></tr><tr><td>Head</td><td>System.InvalidOperationException: The input list was empty.\r\n",
       "   at Microsoft.FSharp.Collections.FSharpList`1.get_Head() in D:\\a\\_work\\1\\s\\src\\FSharp.Core\\prim-types.fs:line 4141\r\n",
       "   at lambda_method107(Closure, FSharpList`1)\r\n",
       "   at Microsoft.DotNet.Interactive.Formatting.MemberAccessor`1.GetValueOrException(T instance) in D:\\a\\_work\\1\\s\\src\\Microsoft.DotNet.Interactive.Formatting\\MemberAccessor{T}.cs:line 58</td></tr><tr><td>Tail</td><td>System.InvalidOperationException: The input list was empty.\r\n",
       "   at Microsoft.FSharp.Collections.FSharpList`1.get_Tail() in D:\\a\\_work\\1\\s\\src\\FSharp.Core\\prim-types.fs:line 4146\r\n",
       "   at lambda_method108(Closure, FSharpList`1)\r\n",
       "   at Microsoft.DotNet.Interactive.Formatting.MemberAccessor`1.GetValueOrException(T instance) in D:\\a\\_work\\1\\s\\src\\Microsoft.DotNet.Interactive.Formatting\\MemberAccessor{T}.cs:line 58</td></tr><tr><td><i>(values)</i></td><td><div class=\"dni-plaintext\"><pre>[  ]</pre></div></td></tr></tbody></table></div></details></td></tr><tr><td><i>(values)</i></td><td><div class=\"dni-plaintext\"><pre>[ 0 ]</pre></div></td></tr></tbody></table></div></details></td></tr><tr><td>Head</td><td><div class=\"dni-plaintext\"><pre>3</pre></div></td></tr><tr><td>Tail</td><td><details class=\"dni-treeview\"><summary><span class=\"dni-code-hint\"><code>[ 0 ]</code></span></summary><div><table><thead><tr></tr></thead><tbody><tr><td>HeadOrDefault</td><td><div class=\"dni-plaintext\"><pre>0</pre></div></td></tr><tr><td>TailOrNull</td><td><details class=\"dni-treeview\"><summary><span class=\"dni-code-hint\"><code>[  ]</code></span></summary><div><table><thead><tr></tr></thead><tbody><tr><td>HeadOrDefault</td><td>0</td></tr><tr><td>TailOrNull</td><td><div class=\"dni-plaintext\"><pre>&lt;null&gt;</pre></div></td></tr><tr><td>Head</td><td>System.InvalidOperationException: The input list was empty.\r\n",
       "   at Microsoft.FSharp.Collections.FSharpList`1.get_Head() in D:\\a\\_work\\1\\s\\src\\FSharp.Core\\prim-types.fs:line 4141\r\n",
       "   at lambda_method107(Closure, FSharpList`1)\r\n",
       "   at Microsoft.DotNet.Interactive.Formatting.MemberAccessor`1.GetValueOrException(T instance) in D:\\a\\_work\\1\\s\\src\\Microsoft.DotNet.Interactive.Formatting\\MemberAccessor{T}.cs:line 58</td></tr><tr><td>Tail</td><td>System.InvalidOperationException: The input list was empty.\r\n",
       "   at Microsoft.FSharp.Collections.FSharpList`1.get_Tail() in D:\\a\\_work\\1\\s\\src\\FSharp.Core\\prim-types.fs:line 4146\r\n",
       "   at lambda_method108(Closure, FSharpList`1)\r\n",
       "   at Microsoft.DotNet.Interactive.Formatting.MemberAccessor`1.GetValueOrException(T instance) in D:\\a\\_work\\1\\s\\src\\Microsoft.DotNet.Interactive.Formatting\\MemberAccessor{T}.cs:line 58</td></tr><tr><td><i>(values)</i></td><td><div class=\"dni-plaintext\"><pre>[  ]</pre></div></td></tr></tbody></table></div></details></td></tr><tr><td>Head</td><td><div class=\"dni-plaintext\"><pre>0</pre></div></td></tr><tr><td>Tail</td><td><details class=\"dni-treeview\"><summary><span class=\"dni-code-hint\"><code>[  ]</code></span></summary><div><table><thead><tr></tr></thead><tbody><tr><td>HeadOrDefault</td><td>0</td></tr><tr><td>TailOrNull</td><td><div class=\"dni-plaintext\"><pre>&lt;null&gt;</pre></div></td></tr><tr><td>Head</td><td>System.InvalidOperationException: The input list was empty.\r\n",
       "   at Microsoft.FSharp.Collections.FSharpList`1.get_Head() in D:\\a\\_work\\1\\s\\src\\FSharp.Core\\prim-types.fs:line 4141\r\n",
       "   at lambda_method107(Closure, FSharpList`1)\r\n",
       "   at Microsoft.DotNet.Interactive.Formatting.MemberAccessor`1.GetValueOrException(T instance) in D:\\a\\_work\\1\\s\\src\\Microsoft.DotNet.Interactive.Formatting\\MemberAccessor{T}.cs:line 58</td></tr><tr><td>Tail</td><td>System.InvalidOperationException: The input list was empty.\r\n",
       "   at Microsoft.FSharp.Collections.FSharpList`1.get_Tail() in D:\\a\\_work\\1\\s\\src\\FSharp.Core\\prim-types.fs:line 4146\r\n",
       "   at lambda_method108(Closure, FSharpList`1)\r\n",
       "   at Microsoft.DotNet.Interactive.Formatting.MemberAccessor`1.GetValueOrException(T instance) in D:\\a\\_work\\1\\s\\src\\Microsoft.DotNet.Interactive.Formatting\\MemberAccessor{T}.cs:line 58</td></tr><tr><td><i>(values)</i></td><td><div class=\"dni-plaintext\"><pre>[  ]</pre></div></td></tr></tbody></table></div></details></td></tr><tr><td><i>(values)</i></td><td><div class=\"dni-plaintext\"><pre>[ 0 ]</pre></div></td></tr></tbody></table></div></details></td></tr><tr><td><i>(values)</i></td><td><div class=\"dni-plaintext\"><pre>[ 3, 0 ]</pre></div></td></tr></tbody></table></div></details></td></tr><tr><td><i>(values)</i></td><td><div class=\"dni-plaintext\"><pre>[ 2, 3, 0 ]</pre></div></td></tr></tbody></table></div></details></td></tr><tr><td><i>(values)</i></td><td><div class=\"dni-plaintext\"><pre>[ 1, 2, 3, 0 ]</pre></div></td></tr></tbody></table></div></details></td></tr><tr><td><i>(values)</i></td><td><div class=\"dni-plaintext\"><pre>[ 5, 1, 2, 3, 0 ]</pre></div></td></tr></tbody></table></div></details><style>\r\n",
       ".dni-code-hint {\r\n",
       "    font-style: italic;\r\n",
       "    overflow: hidden;\r\n",
       "    white-space: nowrap;\r\n",
       "}\r\n",
       ".dni-treeview {\r\n",
       "    white-space: nowrap;\r\n",
       "}\r\n",
       ".dni-treeview td {\r\n",
       "    vertical-align: top;\r\n",
       "    text-align: start;\r\n",
       "}\r\n",
       "details.dni-treeview {\r\n",
       "    padding-left: 1em;\r\n",
       "}\r\n",
       "table td {\r\n",
       "    text-align: start;\r\n",
       "}\r\n",
       "table tr { \r\n",
       "    vertical-align: top; \r\n",
       "    margin: 0em 0px;\r\n",
       "}\r\n",
       "table tr td pre \r\n",
       "{ \r\n",
       "    vertical-align: top !important; \r\n",
       "    margin: 0em 0px !important;\r\n",
       "} \r\n",
       "table th {\r\n",
       "    text-align: start;\r\n",
       "}\r\n",
       "</style>"
      ]
     },
     "metadata": {},
     "output_type": "display_data"
    }
   ],
   "source": [
    "let set2 = generateSet 5 5\n",
    "set2"
   ]
  },
  {
   "cell_type": "code",
   "execution_count": 16,
   "metadata": {
    "dotnet_interactive": {
     "language": "fsharp"
    },
    "polyglot_notebook": {
     "kernelName": "fsharp"
    }
   },
   "outputs": [
    {
     "data": {
      "text/html": [
       "<div class=\"dni-plaintext\"><pre>4</pre></div><style>\r\n",
       ".dni-code-hint {\r\n",
       "    font-style: italic;\r\n",
       "    overflow: hidden;\r\n",
       "    white-space: nowrap;\r\n",
       "}\r\n",
       ".dni-treeview {\r\n",
       "    white-space: nowrap;\r\n",
       "}\r\n",
       ".dni-treeview td {\r\n",
       "    vertical-align: top;\r\n",
       "    text-align: start;\r\n",
       "}\r\n",
       "details.dni-treeview {\r\n",
       "    padding-left: 1em;\r\n",
       "}\r\n",
       "table td {\r\n",
       "    text-align: start;\r\n",
       "}\r\n",
       "table tr { \r\n",
       "    vertical-align: top; \r\n",
       "    margin: 0em 0px;\r\n",
       "}\r\n",
       "table tr td pre \r\n",
       "{ \r\n",
       "    vertical-align: top !important; \r\n",
       "    margin: 0em 0px !important;\r\n",
       "} \r\n",
       "table th {\r\n",
       "    text-align: start;\r\n",
       "}\r\n",
       "</style>"
      ]
     },
     "metadata": {},
     "output_type": "display_data"
    }
   ],
   "source": [
    "solution1 set2"
   ]
  },
  {
   "cell_type": "code",
   "execution_count": 17,
   "metadata": {
    "dotnet_interactive": {
     "language": "fsharp"
    },
    "polyglot_notebook": {
     "kernelName": "fsharp"
    }
   },
   "outputs": [
    {
     "data": {
      "text/html": [
       "<details open=\"open\" class=\"dni-treeview\"><summary><span class=\"dni-code-hint\"><code>[ 1, 2, 0, 5, 3, 4 ]</code></span></summary><div><table><thead><tr></tr></thead><tbody><tr><td>HeadOrDefault</td><td><div class=\"dni-plaintext\"><pre>1</pre></div></td></tr><tr><td>TailOrNull</td><td><details class=\"dni-treeview\"><summary><span class=\"dni-code-hint\"><code>[ 2, 0, 5, 3, 4 ]</code></span></summary><div><table><thead><tr></tr></thead><tbody><tr><td>HeadOrDefault</td><td><div class=\"dni-plaintext\"><pre>2</pre></div></td></tr><tr><td>TailOrNull</td><td><details class=\"dni-treeview\"><summary><span class=\"dni-code-hint\"><code>[ 0, 5, 3, 4 ]</code></span></summary><div><table><thead><tr></tr></thead><tbody><tr><td>HeadOrDefault</td><td><div class=\"dni-plaintext\"><pre>0</pre></div></td></tr><tr><td>TailOrNull</td><td><details class=\"dni-treeview\"><summary><span class=\"dni-code-hint\"><code>[ 5, 3, 4 ]</code></span></summary><div><table><thead><tr></tr></thead><tbody><tr><td>HeadOrDefault</td><td><div class=\"dni-plaintext\"><pre>5</pre></div></td></tr><tr><td>TailOrNull</td><td><details class=\"dni-treeview\"><summary><span class=\"dni-code-hint\"><code>[ 3, 4 ]</code></span></summary><div><table><thead><tr></tr></thead><tbody><tr><td>HeadOrDefault</td><td><div class=\"dni-plaintext\"><pre>3</pre></div></td></tr><tr><td>TailOrNull</td><td><details class=\"dni-treeview\"><summary><span class=\"dni-code-hint\"><code>[ 4 ]</code></span></summary><div><table><thead><tr></tr></thead><tbody><tr><td>HeadOrDefault</td><td>4</td></tr><tr><td>TailOrNull</td><td>[  ]</td></tr><tr><td>Head</td><td>4</td></tr><tr><td>Tail</td><td>[  ]</td></tr><tr><td><i>(values)</i></td><td><div class=\"dni-plaintext\"><pre>[ 4 ]</pre></div></td></tr></tbody></table></div></details></td></tr><tr><td>Head</td><td><div class=\"dni-plaintext\"><pre>3</pre></div></td></tr><tr><td>Tail</td><td><details class=\"dni-treeview\"><summary><span class=\"dni-code-hint\"><code>[ 4 ]</code></span></summary><div><table><thead><tr></tr></thead><tbody><tr><td>HeadOrDefault</td><td>4</td></tr><tr><td>TailOrNull</td><td>[  ]</td></tr><tr><td>Head</td><td>4</td></tr><tr><td>Tail</td><td>[  ]</td></tr><tr><td><i>(values)</i></td><td><div class=\"dni-plaintext\"><pre>[ 4 ]</pre></div></td></tr></tbody></table></div></details></td></tr><tr><td><i>(values)</i></td><td><div class=\"dni-plaintext\"><pre>[ 3, 4 ]</pre></div></td></tr></tbody></table></div></details></td></tr><tr><td>Head</td><td><div class=\"dni-plaintext\"><pre>5</pre></div></td></tr><tr><td>Tail</td><td><details class=\"dni-treeview\"><summary><span class=\"dni-code-hint\"><code>[ 3, 4 ]</code></span></summary><div><table><thead><tr></tr></thead><tbody><tr><td>HeadOrDefault</td><td><div class=\"dni-plaintext\"><pre>3</pre></div></td></tr><tr><td>TailOrNull</td><td><details class=\"dni-treeview\"><summary><span class=\"dni-code-hint\"><code>[ 4 ]</code></span></summary><div><table><thead><tr></tr></thead><tbody><tr><td>HeadOrDefault</td><td>4</td></tr><tr><td>TailOrNull</td><td>[  ]</td></tr><tr><td>Head</td><td>4</td></tr><tr><td>Tail</td><td>[  ]</td></tr><tr><td><i>(values)</i></td><td><div class=\"dni-plaintext\"><pre>[ 4 ]</pre></div></td></tr></tbody></table></div></details></td></tr><tr><td>Head</td><td><div class=\"dni-plaintext\"><pre>3</pre></div></td></tr><tr><td>Tail</td><td><details class=\"dni-treeview\"><summary><span class=\"dni-code-hint\"><code>[ 4 ]</code></span></summary><div><table><thead><tr></tr></thead><tbody><tr><td>HeadOrDefault</td><td>4</td></tr><tr><td>TailOrNull</td><td>[  ]</td></tr><tr><td>Head</td><td>4</td></tr><tr><td>Tail</td><td>[  ]</td></tr><tr><td><i>(values)</i></td><td><div class=\"dni-plaintext\"><pre>[ 4 ]</pre></div></td></tr></tbody></table></div></details></td></tr><tr><td><i>(values)</i></td><td><div class=\"dni-plaintext\"><pre>[ 3, 4 ]</pre></div></td></tr></tbody></table></div></details></td></tr><tr><td><i>(values)</i></td><td><div class=\"dni-plaintext\"><pre>[ 5, 3, 4 ]</pre></div></td></tr></tbody></table></div></details></td></tr><tr><td>Head</td><td><div class=\"dni-plaintext\"><pre>0</pre></div></td></tr><tr><td>Tail</td><td><details class=\"dni-treeview\"><summary><span class=\"dni-code-hint\"><code>[ 5, 3, 4 ]</code></span></summary><div><table><thead><tr></tr></thead><tbody><tr><td>HeadOrDefault</td><td><div class=\"dni-plaintext\"><pre>5</pre></div></td></tr><tr><td>TailOrNull</td><td><details class=\"dni-treeview\"><summary><span class=\"dni-code-hint\"><code>[ 3, 4 ]</code></span></summary><div><table><thead><tr></tr></thead><tbody><tr><td>HeadOrDefault</td><td><div class=\"dni-plaintext\"><pre>3</pre></div></td></tr><tr><td>TailOrNull</td><td><details class=\"dni-treeview\"><summary><span class=\"dni-code-hint\"><code>[ 4 ]</code></span></summary><div><table><thead><tr></tr></thead><tbody><tr><td>HeadOrDefault</td><td>4</td></tr><tr><td>TailOrNull</td><td>[  ]</td></tr><tr><td>Head</td><td>4</td></tr><tr><td>Tail</td><td>[  ]</td></tr><tr><td><i>(values)</i></td><td><div class=\"dni-plaintext\"><pre>[ 4 ]</pre></div></td></tr></tbody></table></div></details></td></tr><tr><td>Head</td><td><div class=\"dni-plaintext\"><pre>3</pre></div></td></tr><tr><td>Tail</td><td><details class=\"dni-treeview\"><summary><span class=\"dni-code-hint\"><code>[ 4 ]</code></span></summary><div><table><thead><tr></tr></thead><tbody><tr><td>HeadOrDefault</td><td>4</td></tr><tr><td>TailOrNull</td><td>[  ]</td></tr><tr><td>Head</td><td>4</td></tr><tr><td>Tail</td><td>[  ]</td></tr><tr><td><i>(values)</i></td><td><div class=\"dni-plaintext\"><pre>[ 4 ]</pre></div></td></tr></tbody></table></div></details></td></tr><tr><td><i>(values)</i></td><td><div class=\"dni-plaintext\"><pre>[ 3, 4 ]</pre></div></td></tr></tbody></table></div></details></td></tr><tr><td>Head</td><td><div class=\"dni-plaintext\"><pre>5</pre></div></td></tr><tr><td>Tail</td><td><details class=\"dni-treeview\"><summary><span class=\"dni-code-hint\"><code>[ 3, 4 ]</code></span></summary><div><table><thead><tr></tr></thead><tbody><tr><td>HeadOrDefault</td><td><div class=\"dni-plaintext\"><pre>3</pre></div></td></tr><tr><td>TailOrNull</td><td><details class=\"dni-treeview\"><summary><span class=\"dni-code-hint\"><code>[ 4 ]</code></span></summary><div><table><thead><tr></tr></thead><tbody><tr><td>HeadOrDefault</td><td>4</td></tr><tr><td>TailOrNull</td><td>[  ]</td></tr><tr><td>Head</td><td>4</td></tr><tr><td>Tail</td><td>[  ]</td></tr><tr><td><i>(values)</i></td><td><div class=\"dni-plaintext\"><pre>[ 4 ]</pre></div></td></tr></tbody></table></div></details></td></tr><tr><td>Head</td><td><div class=\"dni-plaintext\"><pre>3</pre></div></td></tr><tr><td>Tail</td><td><details class=\"dni-treeview\"><summary><span class=\"dni-code-hint\"><code>[ 4 ]</code></span></summary><div><table><thead><tr></tr></thead><tbody><tr><td>HeadOrDefault</td><td>4</td></tr><tr><td>TailOrNull</td><td>[  ]</td></tr><tr><td>Head</td><td>4</td></tr><tr><td>Tail</td><td>[  ]</td></tr><tr><td><i>(values)</i></td><td><div class=\"dni-plaintext\"><pre>[ 4 ]</pre></div></td></tr></tbody></table></div></details></td></tr><tr><td><i>(values)</i></td><td><div class=\"dni-plaintext\"><pre>[ 3, 4 ]</pre></div></td></tr></tbody></table></div></details></td></tr><tr><td><i>(values)</i></td><td><div class=\"dni-plaintext\"><pre>[ 5, 3, 4 ]</pre></div></td></tr></tbody></table></div></details></td></tr><tr><td><i>(values)</i></td><td><div class=\"dni-plaintext\"><pre>[ 0, 5, 3, 4 ]</pre></div></td></tr></tbody></table></div></details></td></tr><tr><td>Head</td><td><div class=\"dni-plaintext\"><pre>2</pre></div></td></tr><tr><td>Tail</td><td><details class=\"dni-treeview\"><summary><span class=\"dni-code-hint\"><code>[ 0, 5, 3, 4 ]</code></span></summary><div><table><thead><tr></tr></thead><tbody><tr><td>HeadOrDefault</td><td><div class=\"dni-plaintext\"><pre>0</pre></div></td></tr><tr><td>TailOrNull</td><td><details class=\"dni-treeview\"><summary><span class=\"dni-code-hint\"><code>[ 5, 3, 4 ]</code></span></summary><div><table><thead><tr></tr></thead><tbody><tr><td>HeadOrDefault</td><td><div class=\"dni-plaintext\"><pre>5</pre></div></td></tr><tr><td>TailOrNull</td><td><details class=\"dni-treeview\"><summary><span class=\"dni-code-hint\"><code>[ 3, 4 ]</code></span></summary><div><table><thead><tr></tr></thead><tbody><tr><td>HeadOrDefault</td><td><div class=\"dni-plaintext\"><pre>3</pre></div></td></tr><tr><td>TailOrNull</td><td><details class=\"dni-treeview\"><summary><span class=\"dni-code-hint\"><code>[ 4 ]</code></span></summary><div><table><thead><tr></tr></thead><tbody><tr><td>HeadOrDefault</td><td>4</td></tr><tr><td>TailOrNull</td><td>[  ]</td></tr><tr><td>Head</td><td>4</td></tr><tr><td>Tail</td><td>[  ]</td></tr><tr><td><i>(values)</i></td><td><div class=\"dni-plaintext\"><pre>[ 4 ]</pre></div></td></tr></tbody></table></div></details></td></tr><tr><td>Head</td><td><div class=\"dni-plaintext\"><pre>3</pre></div></td></tr><tr><td>Tail</td><td><details class=\"dni-treeview\"><summary><span class=\"dni-code-hint\"><code>[ 4 ]</code></span></summary><div><table><thead><tr></tr></thead><tbody><tr><td>HeadOrDefault</td><td>4</td></tr><tr><td>TailOrNull</td><td>[  ]</td></tr><tr><td>Head</td><td>4</td></tr><tr><td>Tail</td><td>[  ]</td></tr><tr><td><i>(values)</i></td><td><div class=\"dni-plaintext\"><pre>[ 4 ]</pre></div></td></tr></tbody></table></div></details></td></tr><tr><td><i>(values)</i></td><td><div class=\"dni-plaintext\"><pre>[ 3, 4 ]</pre></div></td></tr></tbody></table></div></details></td></tr><tr><td>Head</td><td><div class=\"dni-plaintext\"><pre>5</pre></div></td></tr><tr><td>Tail</td><td><details class=\"dni-treeview\"><summary><span class=\"dni-code-hint\"><code>[ 3, 4 ]</code></span></summary><div><table><thead><tr></tr></thead><tbody><tr><td>HeadOrDefault</td><td><div class=\"dni-plaintext\"><pre>3</pre></div></td></tr><tr><td>TailOrNull</td><td><details class=\"dni-treeview\"><summary><span class=\"dni-code-hint\"><code>[ 4 ]</code></span></summary><div><table><thead><tr></tr></thead><tbody><tr><td>HeadOrDefault</td><td>4</td></tr><tr><td>TailOrNull</td><td>[  ]</td></tr><tr><td>Head</td><td>4</td></tr><tr><td>Tail</td><td>[  ]</td></tr><tr><td><i>(values)</i></td><td><div class=\"dni-plaintext\"><pre>[ 4 ]</pre></div></td></tr></tbody></table></div></details></td></tr><tr><td>Head</td><td><div class=\"dni-plaintext\"><pre>3</pre></div></td></tr><tr><td>Tail</td><td><details class=\"dni-treeview\"><summary><span class=\"dni-code-hint\"><code>[ 4 ]</code></span></summary><div><table><thead><tr></tr></thead><tbody><tr><td>HeadOrDefault</td><td>4</td></tr><tr><td>TailOrNull</td><td>[  ]</td></tr><tr><td>Head</td><td>4</td></tr><tr><td>Tail</td><td>[  ]</td></tr><tr><td><i>(values)</i></td><td><div class=\"dni-plaintext\"><pre>[ 4 ]</pre></div></td></tr></tbody></table></div></details></td></tr><tr><td><i>(values)</i></td><td><div class=\"dni-plaintext\"><pre>[ 3, 4 ]</pre></div></td></tr></tbody></table></div></details></td></tr><tr><td><i>(values)</i></td><td><div class=\"dni-plaintext\"><pre>[ 5, 3, 4 ]</pre></div></td></tr></tbody></table></div></details></td></tr><tr><td>Head</td><td><div class=\"dni-plaintext\"><pre>0</pre></div></td></tr><tr><td>Tail</td><td><details class=\"dni-treeview\"><summary><span class=\"dni-code-hint\"><code>[ 5, 3, 4 ]</code></span></summary><div><table><thead><tr></tr></thead><tbody><tr><td>HeadOrDefault</td><td><div class=\"dni-plaintext\"><pre>5</pre></div></td></tr><tr><td>TailOrNull</td><td><details class=\"dni-treeview\"><summary><span class=\"dni-code-hint\"><code>[ 3, 4 ]</code></span></summary><div><table><thead><tr></tr></thead><tbody><tr><td>HeadOrDefault</td><td><div class=\"dni-plaintext\"><pre>3</pre></div></td></tr><tr><td>TailOrNull</td><td><details class=\"dni-treeview\"><summary><span class=\"dni-code-hint\"><code>[ 4 ]</code></span></summary><div><table><thead><tr></tr></thead><tbody><tr><td>HeadOrDefault</td><td>4</td></tr><tr><td>TailOrNull</td><td>[  ]</td></tr><tr><td>Head</td><td>4</td></tr><tr><td>Tail</td><td>[  ]</td></tr><tr><td><i>(values)</i></td><td><div class=\"dni-plaintext\"><pre>[ 4 ]</pre></div></td></tr></tbody></table></div></details></td></tr><tr><td>Head</td><td><div class=\"dni-plaintext\"><pre>3</pre></div></td></tr><tr><td>Tail</td><td><details class=\"dni-treeview\"><summary><span class=\"dni-code-hint\"><code>[ 4 ]</code></span></summary><div><table><thead><tr></tr></thead><tbody><tr><td>HeadOrDefault</td><td>4</td></tr><tr><td>TailOrNull</td><td>[  ]</td></tr><tr><td>Head</td><td>4</td></tr><tr><td>Tail</td><td>[  ]</td></tr><tr><td><i>(values)</i></td><td><div class=\"dni-plaintext\"><pre>[ 4 ]</pre></div></td></tr></tbody></table></div></details></td></tr><tr><td><i>(values)</i></td><td><div class=\"dni-plaintext\"><pre>[ 3, 4 ]</pre></div></td></tr></tbody></table></div></details></td></tr><tr><td>Head</td><td><div class=\"dni-plaintext\"><pre>5</pre></div></td></tr><tr><td>Tail</td><td><details class=\"dni-treeview\"><summary><span class=\"dni-code-hint\"><code>[ 3, 4 ]</code></span></summary><div><table><thead><tr></tr></thead><tbody><tr><td>HeadOrDefault</td><td><div class=\"dni-plaintext\"><pre>3</pre></div></td></tr><tr><td>TailOrNull</td><td><details class=\"dni-treeview\"><summary><span class=\"dni-code-hint\"><code>[ 4 ]</code></span></summary><div><table><thead><tr></tr></thead><tbody><tr><td>HeadOrDefault</td><td>4</td></tr><tr><td>TailOrNull</td><td>[  ]</td></tr><tr><td>Head</td><td>4</td></tr><tr><td>Tail</td><td>[  ]</td></tr><tr><td><i>(values)</i></td><td><div class=\"dni-plaintext\"><pre>[ 4 ]</pre></div></td></tr></tbody></table></div></details></td></tr><tr><td>Head</td><td><div class=\"dni-plaintext\"><pre>3</pre></div></td></tr><tr><td>Tail</td><td><details class=\"dni-treeview\"><summary><span class=\"dni-code-hint\"><code>[ 4 ]</code></span></summary><div><table><thead><tr></tr></thead><tbody><tr><td>HeadOrDefault</td><td>4</td></tr><tr><td>TailOrNull</td><td>[  ]</td></tr><tr><td>Head</td><td>4</td></tr><tr><td>Tail</td><td>[  ]</td></tr><tr><td><i>(values)</i></td><td><div class=\"dni-plaintext\"><pre>[ 4 ]</pre></div></td></tr></tbody></table></div></details></td></tr><tr><td><i>(values)</i></td><td><div class=\"dni-plaintext\"><pre>[ 3, 4 ]</pre></div></td></tr></tbody></table></div></details></td></tr><tr><td><i>(values)</i></td><td><div class=\"dni-plaintext\"><pre>[ 5, 3, 4 ]</pre></div></td></tr></tbody></table></div></details></td></tr><tr><td><i>(values)</i></td><td><div class=\"dni-plaintext\"><pre>[ 0, 5, 3, 4 ]</pre></div></td></tr></tbody></table></div></details></td></tr><tr><td><i>(values)</i></td><td><div class=\"dni-plaintext\"><pre>[ 2, 0, 5, 3, 4 ]</pre></div></td></tr></tbody></table></div></details></td></tr><tr><td>Head</td><td><div class=\"dni-plaintext\"><pre>1</pre></div></td></tr><tr><td>Tail</td><td><details class=\"dni-treeview\"><summary><span class=\"dni-code-hint\"><code>[ 2, 0, 5, 3, 4 ]</code></span></summary><div><table><thead><tr></tr></thead><tbody><tr><td>HeadOrDefault</td><td><div class=\"dni-plaintext\"><pre>2</pre></div></td></tr><tr><td>TailOrNull</td><td><details class=\"dni-treeview\"><summary><span class=\"dni-code-hint\"><code>[ 0, 5, 3, 4 ]</code></span></summary><div><table><thead><tr></tr></thead><tbody><tr><td>HeadOrDefault</td><td><div class=\"dni-plaintext\"><pre>0</pre></div></td></tr><tr><td>TailOrNull</td><td><details class=\"dni-treeview\"><summary><span class=\"dni-code-hint\"><code>[ 5, 3, 4 ]</code></span></summary><div><table><thead><tr></tr></thead><tbody><tr><td>HeadOrDefault</td><td><div class=\"dni-plaintext\"><pre>5</pre></div></td></tr><tr><td>TailOrNull</td><td><details class=\"dni-treeview\"><summary><span class=\"dni-code-hint\"><code>[ 3, 4 ]</code></span></summary><div><table><thead><tr></tr></thead><tbody><tr><td>HeadOrDefault</td><td><div class=\"dni-plaintext\"><pre>3</pre></div></td></tr><tr><td>TailOrNull</td><td><details class=\"dni-treeview\"><summary><span class=\"dni-code-hint\"><code>[ 4 ]</code></span></summary><div><table><thead><tr></tr></thead><tbody><tr><td>HeadOrDefault</td><td>4</td></tr><tr><td>TailOrNull</td><td>[  ]</td></tr><tr><td>Head</td><td>4</td></tr><tr><td>Tail</td><td>[  ]</td></tr><tr><td><i>(values)</i></td><td><div class=\"dni-plaintext\"><pre>[ 4 ]</pre></div></td></tr></tbody></table></div></details></td></tr><tr><td>Head</td><td><div class=\"dni-plaintext\"><pre>3</pre></div></td></tr><tr><td>Tail</td><td><details class=\"dni-treeview\"><summary><span class=\"dni-code-hint\"><code>[ 4 ]</code></span></summary><div><table><thead><tr></tr></thead><tbody><tr><td>HeadOrDefault</td><td>4</td></tr><tr><td>TailOrNull</td><td>[  ]</td></tr><tr><td>Head</td><td>4</td></tr><tr><td>Tail</td><td>[  ]</td></tr><tr><td><i>(values)</i></td><td><div class=\"dni-plaintext\"><pre>[ 4 ]</pre></div></td></tr></tbody></table></div></details></td></tr><tr><td><i>(values)</i></td><td><div class=\"dni-plaintext\"><pre>[ 3, 4 ]</pre></div></td></tr></tbody></table></div></details></td></tr><tr><td>Head</td><td><div class=\"dni-plaintext\"><pre>5</pre></div></td></tr><tr><td>Tail</td><td><details class=\"dni-treeview\"><summary><span class=\"dni-code-hint\"><code>[ 3, 4 ]</code></span></summary><div><table><thead><tr></tr></thead><tbody><tr><td>HeadOrDefault</td><td><div class=\"dni-plaintext\"><pre>3</pre></div></td></tr><tr><td>TailOrNull</td><td><details class=\"dni-treeview\"><summary><span class=\"dni-code-hint\"><code>[ 4 ]</code></span></summary><div><table><thead><tr></tr></thead><tbody><tr><td>HeadOrDefault</td><td>4</td></tr><tr><td>TailOrNull</td><td>[  ]</td></tr><tr><td>Head</td><td>4</td></tr><tr><td>Tail</td><td>[  ]</td></tr><tr><td><i>(values)</i></td><td><div class=\"dni-plaintext\"><pre>[ 4 ]</pre></div></td></tr></tbody></table></div></details></td></tr><tr><td>Head</td><td><div class=\"dni-plaintext\"><pre>3</pre></div></td></tr><tr><td>Tail</td><td><details class=\"dni-treeview\"><summary><span class=\"dni-code-hint\"><code>[ 4 ]</code></span></summary><div><table><thead><tr></tr></thead><tbody><tr><td>HeadOrDefault</td><td>4</td></tr><tr><td>TailOrNull</td><td>[  ]</td></tr><tr><td>Head</td><td>4</td></tr><tr><td>Tail</td><td>[  ]</td></tr><tr><td><i>(values)</i></td><td><div class=\"dni-plaintext\"><pre>[ 4 ]</pre></div></td></tr></tbody></table></div></details></td></tr><tr><td><i>(values)</i></td><td><div class=\"dni-plaintext\"><pre>[ 3, 4 ]</pre></div></td></tr></tbody></table></div></details></td></tr><tr><td><i>(values)</i></td><td><div class=\"dni-plaintext\"><pre>[ 5, 3, 4 ]</pre></div></td></tr></tbody></table></div></details></td></tr><tr><td>Head</td><td><div class=\"dni-plaintext\"><pre>0</pre></div></td></tr><tr><td>Tail</td><td><details class=\"dni-treeview\"><summary><span class=\"dni-code-hint\"><code>[ 5, 3, 4 ]</code></span></summary><div><table><thead><tr></tr></thead><tbody><tr><td>HeadOrDefault</td><td><div class=\"dni-plaintext\"><pre>5</pre></div></td></tr><tr><td>TailOrNull</td><td><details class=\"dni-treeview\"><summary><span class=\"dni-code-hint\"><code>[ 3, 4 ]</code></span></summary><div><table><thead><tr></tr></thead><tbody><tr><td>HeadOrDefault</td><td><div class=\"dni-plaintext\"><pre>3</pre></div></td></tr><tr><td>TailOrNull</td><td><details class=\"dni-treeview\"><summary><span class=\"dni-code-hint\"><code>[ 4 ]</code></span></summary><div><table><thead><tr></tr></thead><tbody><tr><td>HeadOrDefault</td><td>4</td></tr><tr><td>TailOrNull</td><td>[  ]</td></tr><tr><td>Head</td><td>4</td></tr><tr><td>Tail</td><td>[  ]</td></tr><tr><td><i>(values)</i></td><td><div class=\"dni-plaintext\"><pre>[ 4 ]</pre></div></td></tr></tbody></table></div></details></td></tr><tr><td>Head</td><td><div class=\"dni-plaintext\"><pre>3</pre></div></td></tr><tr><td>Tail</td><td><details class=\"dni-treeview\"><summary><span class=\"dni-code-hint\"><code>[ 4 ]</code></span></summary><div><table><thead><tr></tr></thead><tbody><tr><td>HeadOrDefault</td><td>4</td></tr><tr><td>TailOrNull</td><td>[  ]</td></tr><tr><td>Head</td><td>4</td></tr><tr><td>Tail</td><td>[  ]</td></tr><tr><td><i>(values)</i></td><td><div class=\"dni-plaintext\"><pre>[ 4 ]</pre></div></td></tr></tbody></table></div></details></td></tr><tr><td><i>(values)</i></td><td><div class=\"dni-plaintext\"><pre>[ 3, 4 ]</pre></div></td></tr></tbody></table></div></details></td></tr><tr><td>Head</td><td><div class=\"dni-plaintext\"><pre>5</pre></div></td></tr><tr><td>Tail</td><td><details class=\"dni-treeview\"><summary><span class=\"dni-code-hint\"><code>[ 3, 4 ]</code></span></summary><div><table><thead><tr></tr></thead><tbody><tr><td>HeadOrDefault</td><td><div class=\"dni-plaintext\"><pre>3</pre></div></td></tr><tr><td>TailOrNull</td><td><details class=\"dni-treeview\"><summary><span class=\"dni-code-hint\"><code>[ 4 ]</code></span></summary><div><table><thead><tr></tr></thead><tbody><tr><td>HeadOrDefault</td><td>4</td></tr><tr><td>TailOrNull</td><td>[  ]</td></tr><tr><td>Head</td><td>4</td></tr><tr><td>Tail</td><td>[  ]</td></tr><tr><td><i>(values)</i></td><td><div class=\"dni-plaintext\"><pre>[ 4 ]</pre></div></td></tr></tbody></table></div></details></td></tr><tr><td>Head</td><td><div class=\"dni-plaintext\"><pre>3</pre></div></td></tr><tr><td>Tail</td><td><details class=\"dni-treeview\"><summary><span class=\"dni-code-hint\"><code>[ 4 ]</code></span></summary><div><table><thead><tr></tr></thead><tbody><tr><td>HeadOrDefault</td><td>4</td></tr><tr><td>TailOrNull</td><td>[  ]</td></tr><tr><td>Head</td><td>4</td></tr><tr><td>Tail</td><td>[  ]</td></tr><tr><td><i>(values)</i></td><td><div class=\"dni-plaintext\"><pre>[ 4 ]</pre></div></td></tr></tbody></table></div></details></td></tr><tr><td><i>(values)</i></td><td><div class=\"dni-plaintext\"><pre>[ 3, 4 ]</pre></div></td></tr></tbody></table></div></details></td></tr><tr><td><i>(values)</i></td><td><div class=\"dni-plaintext\"><pre>[ 5, 3, 4 ]</pre></div></td></tr></tbody></table></div></details></td></tr><tr><td><i>(values)</i></td><td><div class=\"dni-plaintext\"><pre>[ 0, 5, 3, 4 ]</pre></div></td></tr></tbody></table></div></details></td></tr><tr><td>Head</td><td><div class=\"dni-plaintext\"><pre>2</pre></div></td></tr><tr><td>Tail</td><td><details class=\"dni-treeview\"><summary><span class=\"dni-code-hint\"><code>[ 0, 5, 3, 4 ]</code></span></summary><div><table><thead><tr></tr></thead><tbody><tr><td>HeadOrDefault</td><td><div class=\"dni-plaintext\"><pre>0</pre></div></td></tr><tr><td>TailOrNull</td><td><details class=\"dni-treeview\"><summary><span class=\"dni-code-hint\"><code>[ 5, 3, 4 ]</code></span></summary><div><table><thead><tr></tr></thead><tbody><tr><td>HeadOrDefault</td><td><div class=\"dni-plaintext\"><pre>5</pre></div></td></tr><tr><td>TailOrNull</td><td><details class=\"dni-treeview\"><summary><span class=\"dni-code-hint\"><code>[ 3, 4 ]</code></span></summary><div><table><thead><tr></tr></thead><tbody><tr><td>HeadOrDefault</td><td><div class=\"dni-plaintext\"><pre>3</pre></div></td></tr><tr><td>TailOrNull</td><td><details class=\"dni-treeview\"><summary><span class=\"dni-code-hint\"><code>[ 4 ]</code></span></summary><div><table><thead><tr></tr></thead><tbody><tr><td>HeadOrDefault</td><td>4</td></tr><tr><td>TailOrNull</td><td>[  ]</td></tr><tr><td>Head</td><td>4</td></tr><tr><td>Tail</td><td>[  ]</td></tr><tr><td><i>(values)</i></td><td><div class=\"dni-plaintext\"><pre>[ 4 ]</pre></div></td></tr></tbody></table></div></details></td></tr><tr><td>Head</td><td><div class=\"dni-plaintext\"><pre>3</pre></div></td></tr><tr><td>Tail</td><td><details class=\"dni-treeview\"><summary><span class=\"dni-code-hint\"><code>[ 4 ]</code></span></summary><div><table><thead><tr></tr></thead><tbody><tr><td>HeadOrDefault</td><td>4</td></tr><tr><td>TailOrNull</td><td>[  ]</td></tr><tr><td>Head</td><td>4</td></tr><tr><td>Tail</td><td>[  ]</td></tr><tr><td><i>(values)</i></td><td><div class=\"dni-plaintext\"><pre>[ 4 ]</pre></div></td></tr></tbody></table></div></details></td></tr><tr><td><i>(values)</i></td><td><div class=\"dni-plaintext\"><pre>[ 3, 4 ]</pre></div></td></tr></tbody></table></div></details></td></tr><tr><td>Head</td><td><div class=\"dni-plaintext\"><pre>5</pre></div></td></tr><tr><td>Tail</td><td><details class=\"dni-treeview\"><summary><span class=\"dni-code-hint\"><code>[ 3, 4 ]</code></span></summary><div><table><thead><tr></tr></thead><tbody><tr><td>HeadOrDefault</td><td><div class=\"dni-plaintext\"><pre>3</pre></div></td></tr><tr><td>TailOrNull</td><td><details class=\"dni-treeview\"><summary><span class=\"dni-code-hint\"><code>[ 4 ]</code></span></summary><div><table><thead><tr></tr></thead><tbody><tr><td>HeadOrDefault</td><td>4</td></tr><tr><td>TailOrNull</td><td>[  ]</td></tr><tr><td>Head</td><td>4</td></tr><tr><td>Tail</td><td>[  ]</td></tr><tr><td><i>(values)</i></td><td><div class=\"dni-plaintext\"><pre>[ 4 ]</pre></div></td></tr></tbody></table></div></details></td></tr><tr><td>Head</td><td><div class=\"dni-plaintext\"><pre>3</pre></div></td></tr><tr><td>Tail</td><td><details class=\"dni-treeview\"><summary><span class=\"dni-code-hint\"><code>[ 4 ]</code></span></summary><div><table><thead><tr></tr></thead><tbody><tr><td>HeadOrDefault</td><td>4</td></tr><tr><td>TailOrNull</td><td>[  ]</td></tr><tr><td>Head</td><td>4</td></tr><tr><td>Tail</td><td>[  ]</td></tr><tr><td><i>(values)</i></td><td><div class=\"dni-plaintext\"><pre>[ 4 ]</pre></div></td></tr></tbody></table></div></details></td></tr><tr><td><i>(values)</i></td><td><div class=\"dni-plaintext\"><pre>[ 3, 4 ]</pre></div></td></tr></tbody></table></div></details></td></tr><tr><td><i>(values)</i></td><td><div class=\"dni-plaintext\"><pre>[ 5, 3, 4 ]</pre></div></td></tr></tbody></table></div></details></td></tr><tr><td>Head</td><td><div class=\"dni-plaintext\"><pre>0</pre></div></td></tr><tr><td>Tail</td><td><details class=\"dni-treeview\"><summary><span class=\"dni-code-hint\"><code>[ 5, 3, 4 ]</code></span></summary><div><table><thead><tr></tr></thead><tbody><tr><td>HeadOrDefault</td><td><div class=\"dni-plaintext\"><pre>5</pre></div></td></tr><tr><td>TailOrNull</td><td><details class=\"dni-treeview\"><summary><span class=\"dni-code-hint\"><code>[ 3, 4 ]</code></span></summary><div><table><thead><tr></tr></thead><tbody><tr><td>HeadOrDefault</td><td><div class=\"dni-plaintext\"><pre>3</pre></div></td></tr><tr><td>TailOrNull</td><td><details class=\"dni-treeview\"><summary><span class=\"dni-code-hint\"><code>[ 4 ]</code></span></summary><div><table><thead><tr></tr></thead><tbody><tr><td>HeadOrDefault</td><td>4</td></tr><tr><td>TailOrNull</td><td>[  ]</td></tr><tr><td>Head</td><td>4</td></tr><tr><td>Tail</td><td>[  ]</td></tr><tr><td><i>(values)</i></td><td><div class=\"dni-plaintext\"><pre>[ 4 ]</pre></div></td></tr></tbody></table></div></details></td></tr><tr><td>Head</td><td><div class=\"dni-plaintext\"><pre>3</pre></div></td></tr><tr><td>Tail</td><td><details class=\"dni-treeview\"><summary><span class=\"dni-code-hint\"><code>[ 4 ]</code></span></summary><div><table><thead><tr></tr></thead><tbody><tr><td>HeadOrDefault</td><td>4</td></tr><tr><td>TailOrNull</td><td>[  ]</td></tr><tr><td>Head</td><td>4</td></tr><tr><td>Tail</td><td>[  ]</td></tr><tr><td><i>(values)</i></td><td><div class=\"dni-plaintext\"><pre>[ 4 ]</pre></div></td></tr></tbody></table></div></details></td></tr><tr><td><i>(values)</i></td><td><div class=\"dni-plaintext\"><pre>[ 3, 4 ]</pre></div></td></tr></tbody></table></div></details></td></tr><tr><td>Head</td><td><div class=\"dni-plaintext\"><pre>5</pre></div></td></tr><tr><td>Tail</td><td><details class=\"dni-treeview\"><summary><span class=\"dni-code-hint\"><code>[ 3, 4 ]</code></span></summary><div><table><thead><tr></tr></thead><tbody><tr><td>HeadOrDefault</td><td><div class=\"dni-plaintext\"><pre>3</pre></div></td></tr><tr><td>TailOrNull</td><td><details class=\"dni-treeview\"><summary><span class=\"dni-code-hint\"><code>[ 4 ]</code></span></summary><div><table><thead><tr></tr></thead><tbody><tr><td>HeadOrDefault</td><td>4</td></tr><tr><td>TailOrNull</td><td>[  ]</td></tr><tr><td>Head</td><td>4</td></tr><tr><td>Tail</td><td>[  ]</td></tr><tr><td><i>(values)</i></td><td><div class=\"dni-plaintext\"><pre>[ 4 ]</pre></div></td></tr></tbody></table></div></details></td></tr><tr><td>Head</td><td><div class=\"dni-plaintext\"><pre>3</pre></div></td></tr><tr><td>Tail</td><td><details class=\"dni-treeview\"><summary><span class=\"dni-code-hint\"><code>[ 4 ]</code></span></summary><div><table><thead><tr></tr></thead><tbody><tr><td>HeadOrDefault</td><td>4</td></tr><tr><td>TailOrNull</td><td>[  ]</td></tr><tr><td>Head</td><td>4</td></tr><tr><td>Tail</td><td>[  ]</td></tr><tr><td><i>(values)</i></td><td><div class=\"dni-plaintext\"><pre>[ 4 ]</pre></div></td></tr></tbody></table></div></details></td></tr><tr><td><i>(values)</i></td><td><div class=\"dni-plaintext\"><pre>[ 3, 4 ]</pre></div></td></tr></tbody></table></div></details></td></tr><tr><td><i>(values)</i></td><td><div class=\"dni-plaintext\"><pre>[ 5, 3, 4 ]</pre></div></td></tr></tbody></table></div></details></td></tr><tr><td><i>(values)</i></td><td><div class=\"dni-plaintext\"><pre>[ 0, 5, 3, 4 ]</pre></div></td></tr></tbody></table></div></details></td></tr><tr><td><i>(values)</i></td><td><div class=\"dni-plaintext\"><pre>[ 2, 0, 5, 3, 4 ]</pre></div></td></tr></tbody></table></div></details></td></tr><tr><td><i>(values)</i></td><td><div class=\"dni-plaintext\"><pre>[ 1, 2, 0, 5, 3, 4 ]</pre></div></td></tr></tbody></table></div></details><style>\r\n",
       ".dni-code-hint {\r\n",
       "    font-style: italic;\r\n",
       "    overflow: hidden;\r\n",
       "    white-space: nowrap;\r\n",
       "}\r\n",
       ".dni-treeview {\r\n",
       "    white-space: nowrap;\r\n",
       "}\r\n",
       ".dni-treeview td {\r\n",
       "    vertical-align: top;\r\n",
       "    text-align: start;\r\n",
       "}\r\n",
       "details.dni-treeview {\r\n",
       "    padding-left: 1em;\r\n",
       "}\r\n",
       "table td {\r\n",
       "    text-align: start;\r\n",
       "}\r\n",
       "table tr { \r\n",
       "    vertical-align: top; \r\n",
       "    margin: 0em 0px;\r\n",
       "}\r\n",
       "table tr td pre \r\n",
       "{ \r\n",
       "    vertical-align: top !important; \r\n",
       "    margin: 0em 0px !important;\r\n",
       "} \r\n",
       "table th {\r\n",
       "    text-align: start;\r\n",
       "}\r\n",
       "</style>"
      ]
     },
     "metadata": {},
     "output_type": "display_data"
    }
   ],
   "source": [
    "let set3 = generateSet 5 6\n",
    "set3"
   ]
  },
  {
   "cell_type": "code",
   "execution_count": 18,
   "metadata": {
    "dotnet_interactive": {
     "language": "fsharp"
    },
    "polyglot_notebook": {
     "kernelName": "fsharp"
    }
   },
   "outputs": [
    {
     "data": {
      "text/html": [
       "<div class=\"dni-plaintext\"><pre>6</pre></div><style>\r\n",
       ".dni-code-hint {\r\n",
       "    font-style: italic;\r\n",
       "    overflow: hidden;\r\n",
       "    white-space: nowrap;\r\n",
       "}\r\n",
       ".dni-treeview {\r\n",
       "    white-space: nowrap;\r\n",
       "}\r\n",
       ".dni-treeview td {\r\n",
       "    vertical-align: top;\r\n",
       "    text-align: start;\r\n",
       "}\r\n",
       "details.dni-treeview {\r\n",
       "    padding-left: 1em;\r\n",
       "}\r\n",
       "table td {\r\n",
       "    text-align: start;\r\n",
       "}\r\n",
       "table tr { \r\n",
       "    vertical-align: top; \r\n",
       "    margin: 0em 0px;\r\n",
       "}\r\n",
       "table tr td pre \r\n",
       "{ \r\n",
       "    vertical-align: top !important; \r\n",
       "    margin: 0em 0px !important;\r\n",
       "} \r\n",
       "table th {\r\n",
       "    text-align: start;\r\n",
       "}\r\n",
       "</style>"
      ]
     },
     "metadata": {},
     "output_type": "display_data"
    }
   ],
   "source": [
    "solution1 set3"
   ]
  },
  {
   "cell_type": "markdown",
   "metadata": {},
   "source": [
    "The following function can be used to time how long a solution takes to run.  It averages the time over multiple runs."
   ]
  },
  {
   "cell_type": "code",
   "execution_count": 19,
   "metadata": {
    "dotnet_interactive": {
     "language": "fsharp"
    },
    "polyglot_notebook": {
     "kernelName": "fsharp"
    }
   },
   "outputs": [],
   "source": [
    "let timeSolution (maximum: int) (length: int) (solution: int list -> int): int*int*int =\n",
    "    let timeOnce (): int*int*int*int =\n",
    "        let testSet = generateSet maximum length\n",
    "        let sw = System.Diagnostics.Stopwatch.StartNew()\n",
    "        let result = solution testSet\n",
    "        sw.Stop()\n",
    "        (maximum, length, result, sw.Elapsed.Microseconds)\n",
    "    let timingsCount = 100 * length // maximum*length\n",
    "    let timings = {1..timingsCount} |> Seq.map (fun iter -> // do enough iterations to get a stable result\n",
    "        let (_, _, _, timing) = timeOnce ()\n",
    "        timing\n",
    "    )\n",
    "    (maximum, length, timings |> Seq.map float |> Seq.average |> round |> int)"
   ]
  },
  {
   "cell_type": "code",
   "execution_count": 28,
   "metadata": {
    "dotnet_interactive": {
     "language": "fsharp"
    },
    "polyglot_notebook": {
     "kernelName": "fsharp"
    }
   },
   "outputs": [
    {
     "data": {
      "text/html": [
       "<details open=\"open\" class=\"dni-treeview\"><summary><span class=\"dni-code-hint\"><code>(200, 100, 3)</code></span></summary><div><table><thead><tr></tr></thead><tbody><tr><td>Item1</td><td><div class=\"dni-plaintext\"><pre>200</pre></div></td></tr><tr><td>Item2</td><td><div class=\"dni-plaintext\"><pre>100</pre></div></td></tr><tr><td>Item3</td><td><div class=\"dni-plaintext\"><pre>3</pre></div></td></tr></tbody></table></div></details><style>\r\n",
       ".dni-code-hint {\r\n",
       "    font-style: italic;\r\n",
       "    overflow: hidden;\r\n",
       "    white-space: nowrap;\r\n",
       "}\r\n",
       ".dni-treeview {\r\n",
       "    white-space: nowrap;\r\n",
       "}\r\n",
       ".dni-treeview td {\r\n",
       "    vertical-align: top;\r\n",
       "    text-align: start;\r\n",
       "}\r\n",
       "details.dni-treeview {\r\n",
       "    padding-left: 1em;\r\n",
       "}\r\n",
       "table td {\r\n",
       "    text-align: start;\r\n",
       "}\r\n",
       "table tr { \r\n",
       "    vertical-align: top; \r\n",
       "    margin: 0em 0px;\r\n",
       "}\r\n",
       "table tr td pre \r\n",
       "{ \r\n",
       "    vertical-align: top !important; \r\n",
       "    margin: 0em 0px !important;\r\n",
       "} \r\n",
       "table th {\r\n",
       "    text-align: start;\r\n",
       "}\r\n",
       "</style>"
      ]
     },
     "metadata": {},
     "output_type": "display_data"
    }
   ],
   "source": [
    "timeSolution 200 100 solution1"
   ]
  },
  {
   "cell_type": "code",
   "execution_count": 29,
   "metadata": {
    "dotnet_interactive": {
     "language": "fsharp"
    },
    "polyglot_notebook": {
     "kernelName": "fsharp"
    }
   },
   "outputs": [
    {
     "data": {
      "text/html": [
       "<details open=\"open\" class=\"dni-treeview\"><summary><span class=\"dni-code-hint\"><code>(200, 200, 8)</code></span></summary><div><table><thead><tr></tr></thead><tbody><tr><td>Item1</td><td><div class=\"dni-plaintext\"><pre>200</pre></div></td></tr><tr><td>Item2</td><td><div class=\"dni-plaintext\"><pre>200</pre></div></td></tr><tr><td>Item3</td><td><div class=\"dni-plaintext\"><pre>8</pre></div></td></tr></tbody></table></div></details><style>\r\n",
       ".dni-code-hint {\r\n",
       "    font-style: italic;\r\n",
       "    overflow: hidden;\r\n",
       "    white-space: nowrap;\r\n",
       "}\r\n",
       ".dni-treeview {\r\n",
       "    white-space: nowrap;\r\n",
       "}\r\n",
       ".dni-treeview td {\r\n",
       "    vertical-align: top;\r\n",
       "    text-align: start;\r\n",
       "}\r\n",
       "details.dni-treeview {\r\n",
       "    padding-left: 1em;\r\n",
       "}\r\n",
       "table td {\r\n",
       "    text-align: start;\r\n",
       "}\r\n",
       "table tr { \r\n",
       "    vertical-align: top; \r\n",
       "    margin: 0em 0px;\r\n",
       "}\r\n",
       "table tr td pre \r\n",
       "{ \r\n",
       "    vertical-align: top !important; \r\n",
       "    margin: 0em 0px !important;\r\n",
       "} \r\n",
       "table th {\r\n",
       "    text-align: start;\r\n",
       "}\r\n",
       "</style>"
      ]
     },
     "metadata": {},
     "output_type": "display_data"
    }
   ],
   "source": [
    "timeSolution 200 200 solution1"
   ]
  },
  {
   "cell_type": "markdown",
   "metadata": {},
   "source": [
    "Let's create timings (in microseconds) for set sizes from 100 to 500.  To make it as hard as possible, we'll set 'maximum = length', meaning that there is only one number in the range '0..maximum' which does not appear in the set.\n",
    "\n",
    "**NOTE: this can take up to 10 minutes.**"
   ]
  },
  {
   "cell_type": "code",
   "execution_count": 21,
   "metadata": {
    "dotnet_interactive": {
     "language": "fsharp"
    },
    "polyglot_notebook": {
     "kernelName": "fsharp"
    }
   },
   "outputs": [],
   "source": [
    "let lengths = {100..50..500} |> Seq.toList\n",
    "let maximums = lengths\n",
    "let pairs: (int*int) list = List.zip maximums lengths\n",
    "let timings = pairs |> List.map (fun pair ->\n",
    "    let (maximum, length) = pair\n",
    "    let (_, _, timing) = timeSolution maximum length solution1\n",
    "    timing\n",
    ")"
   ]
  },
  {
   "cell_type": "code",
   "execution_count": 22,
   "metadata": {
    "dotnet_interactive": {
     "language": "fsharp"
    },
    "polyglot_notebook": {
     "kernelName": "fsharp"
    }
   },
   "outputs": [
    {
     "data": {
      "text/html": [
       "<details open=\"open\" class=\"dni-treeview\"><summary><span class=\"dni-code-hint\"><code>[ (100, 3), (150, 5), (200, 7), (250, 10), (300, 12), (350, 15), (400, 17), (450, 20), (500, 23) ]</code></span></summary><div><table><thead><tr></tr></thead><tbody><tr><td>HeadOrDefault</td><td><details class=\"dni-treeview\"><summary><span class=\"dni-code-hint\"><code>(100, 3)</code></span></summary><div><table><thead><tr></tr></thead><tbody><tr><td>Item1</td><td><div class=\"dni-plaintext\"><pre>100</pre></div></td></tr><tr><td>Item2</td><td><div class=\"dni-plaintext\"><pre>3</pre></div></td></tr></tbody></table></div></details></td></tr><tr><td>TailOrNull</td><td><details class=\"dni-treeview\"><summary><span class=\"dni-code-hint\"><code>[ (150, 5), (200, 7), (250, 10), (300, 12), (350, 15), (400, 17), (450, 20), (500, 23) ]</code></span></summary><div><table><thead><tr></tr></thead><tbody><tr><td>HeadOrDefault</td><td><details class=\"dni-treeview\"><summary><span class=\"dni-code-hint\"><code>(150, 5)</code></span></summary><div><table><thead><tr></tr></thead><tbody><tr><td>Item1</td><td><div class=\"dni-plaintext\"><pre>150</pre></div></td></tr><tr><td>Item2</td><td><div class=\"dni-plaintext\"><pre>5</pre></div></td></tr></tbody></table></div></details></td></tr><tr><td>TailOrNull</td><td><details class=\"dni-treeview\"><summary><span class=\"dni-code-hint\"><code>[ (200, 7), (250, 10), (300, 12), (350, 15), (400, 17), (450, 20), (500, 23) ]</code></span></summary><div><table><thead><tr></tr></thead><tbody><tr><td>HeadOrDefault</td><td><details class=\"dni-treeview\"><summary><span class=\"dni-code-hint\"><code>(200, 7)</code></span></summary><div><table><thead><tr></tr></thead><tbody><tr><td>Item1</td><td><div class=\"dni-plaintext\"><pre>200</pre></div></td></tr><tr><td>Item2</td><td><div class=\"dni-plaintext\"><pre>7</pre></div></td></tr></tbody></table></div></details></td></tr><tr><td>TailOrNull</td><td><details class=\"dni-treeview\"><summary><span class=\"dni-code-hint\"><code>[ (250, 10), (300, 12), (350, 15), (400, 17), (450, 20), (500, 23) ]</code></span></summary><div><table><thead><tr></tr></thead><tbody><tr><td>HeadOrDefault</td><td><details class=\"dni-treeview\"><summary><span class=\"dni-code-hint\"><code>(250, 10)</code></span></summary><div><table><thead><tr></tr></thead><tbody><tr><td>Item1</td><td><div class=\"dni-plaintext\"><pre>250</pre></div></td></tr><tr><td>Item2</td><td><div class=\"dni-plaintext\"><pre>10</pre></div></td></tr></tbody></table></div></details></td></tr><tr><td>TailOrNull</td><td><details class=\"dni-treeview\"><summary><span class=\"dni-code-hint\"><code>[ (300, 12), (350, 15), (400, 17), (450, 20), (500, 23) ]</code></span></summary><div><table><thead><tr></tr></thead><tbody><tr><td>HeadOrDefault</td><td><details class=\"dni-treeview\"><summary><span class=\"dni-code-hint\"><code>(300, 12)</code></span></summary><div><table><thead><tr></tr></thead><tbody><tr><td>Item1</td><td>300</td></tr><tr><td>Item2</td><td>12</td></tr></tbody></table></div></details></td></tr><tr><td>TailOrNull</td><td><details class=\"dni-treeview\"><summary><span class=\"dni-code-hint\"><code>[ (350, 15), (400, 17), (450, 20), (500, 23) ]</code></span></summary><div><table><thead><tr></tr></thead><tbody><tr><td>HeadOrDefault</td><td>(350, 15)</td></tr><tr><td>TailOrNull</td><td>[ (400, 17), (450, 20), (500, 23) ]</td></tr><tr><td>Head</td><td>(350, 15)</td></tr><tr><td>Tail</td><td>[ (400, 17), (450, 20), (500, 23) ]</td></tr><tr><td><i>(values)</i></td><td><table><thead><tr><th><i>index</i></th><th>value</th></tr></thead><tbody><tr><td>0</td><td>(350, 15)</td></tr><tr><td>1</td><td>(400, 17)</td></tr><tr><td>2</td><td>(450, 20)</td></tr><tr><td>3</td><td>(500, 23)</td></tr></tbody></table></td></tr></tbody></table></div></details></td></tr><tr><td>Head</td><td><details class=\"dni-treeview\"><summary><span class=\"dni-code-hint\"><code>(300, 12)</code></span></summary><div><table><thead><tr></tr></thead><tbody><tr><td>Item1</td><td>300</td></tr><tr><td>Item2</td><td>12</td></tr></tbody></table></div></details></td></tr><tr><td>Tail</td><td><details class=\"dni-treeview\"><summary><span class=\"dni-code-hint\"><code>[ (350, 15), (400, 17), (450, 20), (500, 23) ]</code></span></summary><div><table><thead><tr></tr></thead><tbody><tr><td>HeadOrDefault</td><td>(350, 15)</td></tr><tr><td>TailOrNull</td><td>[ (400, 17), (450, 20), (500, 23) ]</td></tr><tr><td>Head</td><td>(350, 15)</td></tr><tr><td>Tail</td><td>[ (400, 17), (450, 20), (500, 23) ]</td></tr><tr><td><i>(values)</i></td><td><table><thead><tr><th><i>index</i></th><th>value</th></tr></thead><tbody><tr><td>0</td><td>(350, 15)</td></tr><tr><td>1</td><td>(400, 17)</td></tr><tr><td>2</td><td>(450, 20)</td></tr><tr><td>3</td><td>(500, 23)</td></tr></tbody></table></td></tr></tbody></table></div></details></td></tr><tr><td><i>(values)</i></td><td><table><thead><tr><th><i>index</i></th><th>value</th></tr></thead><tbody><tr><td>0</td><td><details class=\"dni-treeview\"><summary><span class=\"dni-code-hint\"><code>(300, 12)</code></span></summary><div><table><thead><tr></tr></thead><tbody><tr><td>Item1</td><td>300</td></tr><tr><td>Item2</td><td>12</td></tr></tbody></table></div></details></td></tr><tr><td>1</td><td><details class=\"dni-treeview\"><summary><span class=\"dni-code-hint\"><code>(350, 15)</code></span></summary><div><table><thead><tr></tr></thead><tbody><tr><td>Item1</td><td>350</td></tr><tr><td>Item2</td><td>15</td></tr></tbody></table></div></details></td></tr><tr><td>2</td><td><details class=\"dni-treeview\"><summary><span class=\"dni-code-hint\"><code>(400, 17)</code></span></summary><div><table><thead><tr></tr></thead><tbody><tr><td>Item1</td><td>400</td></tr><tr><td>Item2</td><td>17</td></tr></tbody></table></div></details></td></tr><tr><td>3</td><td><details class=\"dni-treeview\"><summary><span class=\"dni-code-hint\"><code>(450, 20)</code></span></summary><div><table><thead><tr></tr></thead><tbody><tr><td>Item1</td><td>450</td></tr><tr><td>Item2</td><td>20</td></tr></tbody></table></div></details></td></tr><tr><td>4</td><td><details class=\"dni-treeview\"><summary><span class=\"dni-code-hint\"><code>(500, 23)</code></span></summary><div><table><thead><tr></tr></thead><tbody><tr><td>Item1</td><td>500</td></tr><tr><td>Item2</td><td>23</td></tr></tbody></table></div></details></td></tr></tbody></table></td></tr></tbody></table></div></details></td></tr><tr><td>Head</td><td><details class=\"dni-treeview\"><summary><span class=\"dni-code-hint\"><code>(250, 10)</code></span></summary><div><table><thead><tr></tr></thead><tbody><tr><td>Item1</td><td><div class=\"dni-plaintext\"><pre>250</pre></div></td></tr><tr><td>Item2</td><td><div class=\"dni-plaintext\"><pre>10</pre></div></td></tr></tbody></table></div></details></td></tr><tr><td>Tail</td><td><details class=\"dni-treeview\"><summary><span class=\"dni-code-hint\"><code>[ (300, 12), (350, 15), (400, 17), (450, 20), (500, 23) ]</code></span></summary><div><table><thead><tr></tr></thead><tbody><tr><td>HeadOrDefault</td><td><details class=\"dni-treeview\"><summary><span class=\"dni-code-hint\"><code>(300, 12)</code></span></summary><div><table><thead><tr></tr></thead><tbody><tr><td>Item1</td><td>300</td></tr><tr><td>Item2</td><td>12</td></tr></tbody></table></div></details></td></tr><tr><td>TailOrNull</td><td><details class=\"dni-treeview\"><summary><span class=\"dni-code-hint\"><code>[ (350, 15), (400, 17), (450, 20), (500, 23) ]</code></span></summary><div><table><thead><tr></tr></thead><tbody><tr><td>HeadOrDefault</td><td>(350, 15)</td></tr><tr><td>TailOrNull</td><td>[ (400, 17), (450, 20), (500, 23) ]</td></tr><tr><td>Head</td><td>(350, 15)</td></tr><tr><td>Tail</td><td>[ (400, 17), (450, 20), (500, 23) ]</td></tr><tr><td><i>(values)</i></td><td><table><thead><tr><th><i>index</i></th><th>value</th></tr></thead><tbody><tr><td>0</td><td>(350, 15)</td></tr><tr><td>1</td><td>(400, 17)</td></tr><tr><td>2</td><td>(450, 20)</td></tr><tr><td>3</td><td>(500, 23)</td></tr></tbody></table></td></tr></tbody></table></div></details></td></tr><tr><td>Head</td><td><details class=\"dni-treeview\"><summary><span class=\"dni-code-hint\"><code>(300, 12)</code></span></summary><div><table><thead><tr></tr></thead><tbody><tr><td>Item1</td><td>300</td></tr><tr><td>Item2</td><td>12</td></tr></tbody></table></div></details></td></tr><tr><td>Tail</td><td><details class=\"dni-treeview\"><summary><span class=\"dni-code-hint\"><code>[ (350, 15), (400, 17), (450, 20), (500, 23) ]</code></span></summary><div><table><thead><tr></tr></thead><tbody><tr><td>HeadOrDefault</td><td>(350, 15)</td></tr><tr><td>TailOrNull</td><td>[ (400, 17), (450, 20), (500, 23) ]</td></tr><tr><td>Head</td><td>(350, 15)</td></tr><tr><td>Tail</td><td>[ (400, 17), (450, 20), (500, 23) ]</td></tr><tr><td><i>(values)</i></td><td><table><thead><tr><th><i>index</i></th><th>value</th></tr></thead><tbody><tr><td>0</td><td>(350, 15)</td></tr><tr><td>1</td><td>(400, 17)</td></tr><tr><td>2</td><td>(450, 20)</td></tr><tr><td>3</td><td>(500, 23)</td></tr></tbody></table></td></tr></tbody></table></div></details></td></tr><tr><td><i>(values)</i></td><td><table><thead><tr><th><i>index</i></th><th>value</th></tr></thead><tbody><tr><td>0</td><td><details class=\"dni-treeview\"><summary><span class=\"dni-code-hint\"><code>(300, 12)</code></span></summary><div><table><thead><tr></tr></thead><tbody><tr><td>Item1</td><td>300</td></tr><tr><td>Item2</td><td>12</td></tr></tbody></table></div></details></td></tr><tr><td>1</td><td><details class=\"dni-treeview\"><summary><span class=\"dni-code-hint\"><code>(350, 15)</code></span></summary><div><table><thead><tr></tr></thead><tbody><tr><td>Item1</td><td>350</td></tr><tr><td>Item2</td><td>15</td></tr></tbody></table></div></details></td></tr><tr><td>2</td><td><details class=\"dni-treeview\"><summary><span class=\"dni-code-hint\"><code>(400, 17)</code></span></summary><div><table><thead><tr></tr></thead><tbody><tr><td>Item1</td><td>400</td></tr><tr><td>Item2</td><td>17</td></tr></tbody></table></div></details></td></tr><tr><td>3</td><td><details class=\"dni-treeview\"><summary><span class=\"dni-code-hint\"><code>(450, 20)</code></span></summary><div><table><thead><tr></tr></thead><tbody><tr><td>Item1</td><td>450</td></tr><tr><td>Item2</td><td>20</td></tr></tbody></table></div></details></td></tr><tr><td>4</td><td><details class=\"dni-treeview\"><summary><span class=\"dni-code-hint\"><code>(500, 23)</code></span></summary><div><table><thead><tr></tr></thead><tbody><tr><td>Item1</td><td>500</td></tr><tr><td>Item2</td><td>23</td></tr></tbody></table></div></details></td></tr></tbody></table></td></tr></tbody></table></div></details></td></tr><tr><td><i>(values)</i></td><td><table><thead><tr><th><i>index</i></th><th>value</th></tr></thead><tbody><tr><td>0</td><td><details class=\"dni-treeview\"><summary><span class=\"dni-code-hint\"><code>(250, 10)</code></span></summary><div><table><thead><tr></tr></thead><tbody><tr><td>Item1</td><td><div class=\"dni-plaintext\"><pre>250</pre></div></td></tr><tr><td>Item2</td><td><div class=\"dni-plaintext\"><pre>10</pre></div></td></tr></tbody></table></div></details></td></tr><tr><td>1</td><td><details class=\"dni-treeview\"><summary><span class=\"dni-code-hint\"><code>(300, 12)</code></span></summary><div><table><thead><tr></tr></thead><tbody><tr><td>Item1</td><td><div class=\"dni-plaintext\"><pre>300</pre></div></td></tr><tr><td>Item2</td><td><div class=\"dni-plaintext\"><pre>12</pre></div></td></tr></tbody></table></div></details></td></tr><tr><td>2</td><td><details class=\"dni-treeview\"><summary><span class=\"dni-code-hint\"><code>(350, 15)</code></span></summary><div><table><thead><tr></tr></thead><tbody><tr><td>Item1</td><td><div class=\"dni-plaintext\"><pre>350</pre></div></td></tr><tr><td>Item2</td><td><div class=\"dni-plaintext\"><pre>15</pre></div></td></tr></tbody></table></div></details></td></tr><tr><td>3</td><td><details class=\"dni-treeview\"><summary><span class=\"dni-code-hint\"><code>(400, 17)</code></span></summary><div><table><thead><tr></tr></thead><tbody><tr><td>Item1</td><td><div class=\"dni-plaintext\"><pre>400</pre></div></td></tr><tr><td>Item2</td><td><div class=\"dni-plaintext\"><pre>17</pre></div></td></tr></tbody></table></div></details></td></tr><tr><td>4</td><td><details class=\"dni-treeview\"><summary><span class=\"dni-code-hint\"><code>(450, 20)</code></span></summary><div><table><thead><tr></tr></thead><tbody><tr><td>Item1</td><td><div class=\"dni-plaintext\"><pre>450</pre></div></td></tr><tr><td>Item2</td><td><div class=\"dni-plaintext\"><pre>20</pre></div></td></tr></tbody></table></div></details></td></tr><tr><td>5</td><td><details class=\"dni-treeview\"><summary><span class=\"dni-code-hint\"><code>(500, 23)</code></span></summary><div><table><thead><tr></tr></thead><tbody><tr><td>Item1</td><td><div class=\"dni-plaintext\"><pre>500</pre></div></td></tr><tr><td>Item2</td><td><div class=\"dni-plaintext\"><pre>23</pre></div></td></tr></tbody></table></div></details></td></tr></tbody></table></td></tr></tbody></table></div></details></td></tr><tr><td>Head</td><td><details class=\"dni-treeview\"><summary><span class=\"dni-code-hint\"><code>(200, 7)</code></span></summary><div><table><thead><tr></tr></thead><tbody><tr><td>Item1</td><td><div class=\"dni-plaintext\"><pre>200</pre></div></td></tr><tr><td>Item2</td><td><div class=\"dni-plaintext\"><pre>7</pre></div></td></tr></tbody></table></div></details></td></tr><tr><td>Tail</td><td><details class=\"dni-treeview\"><summary><span class=\"dni-code-hint\"><code>[ (250, 10), (300, 12), (350, 15), (400, 17), (450, 20), (500, 23) ]</code></span></summary><div><table><thead><tr></tr></thead><tbody><tr><td>HeadOrDefault</td><td><details class=\"dni-treeview\"><summary><span class=\"dni-code-hint\"><code>(250, 10)</code></span></summary><div><table><thead><tr></tr></thead><tbody><tr><td>Item1</td><td><div class=\"dni-plaintext\"><pre>250</pre></div></td></tr><tr><td>Item2</td><td><div class=\"dni-plaintext\"><pre>10</pre></div></td></tr></tbody></table></div></details></td></tr><tr><td>TailOrNull</td><td><details class=\"dni-treeview\"><summary><span class=\"dni-code-hint\"><code>[ (300, 12), (350, 15), (400, 17), (450, 20), (500, 23) ]</code></span></summary><div><table><thead><tr></tr></thead><tbody><tr><td>HeadOrDefault</td><td><details class=\"dni-treeview\"><summary><span class=\"dni-code-hint\"><code>(300, 12)</code></span></summary><div><table><thead><tr></tr></thead><tbody><tr><td>Item1</td><td>300</td></tr><tr><td>Item2</td><td>12</td></tr></tbody></table></div></details></td></tr><tr><td>TailOrNull</td><td><details class=\"dni-treeview\"><summary><span class=\"dni-code-hint\"><code>[ (350, 15), (400, 17), (450, 20), (500, 23) ]</code></span></summary><div><table><thead><tr></tr></thead><tbody><tr><td>HeadOrDefault</td><td>(350, 15)</td></tr><tr><td>TailOrNull</td><td>[ (400, 17), (450, 20), (500, 23) ]</td></tr><tr><td>Head</td><td>(350, 15)</td></tr><tr><td>Tail</td><td>[ (400, 17), (450, 20), (500, 23) ]</td></tr><tr><td><i>(values)</i></td><td><table><thead><tr><th><i>index</i></th><th>value</th></tr></thead><tbody><tr><td>0</td><td>(350, 15)</td></tr><tr><td>1</td><td>(400, 17)</td></tr><tr><td>2</td><td>(450, 20)</td></tr><tr><td>3</td><td>(500, 23)</td></tr></tbody></table></td></tr></tbody></table></div></details></td></tr><tr><td>Head</td><td><details class=\"dni-treeview\"><summary><span class=\"dni-code-hint\"><code>(300, 12)</code></span></summary><div><table><thead><tr></tr></thead><tbody><tr><td>Item1</td><td>300</td></tr><tr><td>Item2</td><td>12</td></tr></tbody></table></div></details></td></tr><tr><td>Tail</td><td><details class=\"dni-treeview\"><summary><span class=\"dni-code-hint\"><code>[ (350, 15), (400, 17), (450, 20), (500, 23) ]</code></span></summary><div><table><thead><tr></tr></thead><tbody><tr><td>HeadOrDefault</td><td>(350, 15)</td></tr><tr><td>TailOrNull</td><td>[ (400, 17), (450, 20), (500, 23) ]</td></tr><tr><td>Head</td><td>(350, 15)</td></tr><tr><td>Tail</td><td>[ (400, 17), (450, 20), (500, 23) ]</td></tr><tr><td><i>(values)</i></td><td><table><thead><tr><th><i>index</i></th><th>value</th></tr></thead><tbody><tr><td>0</td><td>(350, 15)</td></tr><tr><td>1</td><td>(400, 17)</td></tr><tr><td>2</td><td>(450, 20)</td></tr><tr><td>3</td><td>(500, 23)</td></tr></tbody></table></td></tr></tbody></table></div></details></td></tr><tr><td><i>(values)</i></td><td><table><thead><tr><th><i>index</i></th><th>value</th></tr></thead><tbody><tr><td>0</td><td><details class=\"dni-treeview\"><summary><span class=\"dni-code-hint\"><code>(300, 12)</code></span></summary><div><table><thead><tr></tr></thead><tbody><tr><td>Item1</td><td>300</td></tr><tr><td>Item2</td><td>12</td></tr></tbody></table></div></details></td></tr><tr><td>1</td><td><details class=\"dni-treeview\"><summary><span class=\"dni-code-hint\"><code>(350, 15)</code></span></summary><div><table><thead><tr></tr></thead><tbody><tr><td>Item1</td><td>350</td></tr><tr><td>Item2</td><td>15</td></tr></tbody></table></div></details></td></tr><tr><td>2</td><td><details class=\"dni-treeview\"><summary><span class=\"dni-code-hint\"><code>(400, 17)</code></span></summary><div><table><thead><tr></tr></thead><tbody><tr><td>Item1</td><td>400</td></tr><tr><td>Item2</td><td>17</td></tr></tbody></table></div></details></td></tr><tr><td>3</td><td><details class=\"dni-treeview\"><summary><span class=\"dni-code-hint\"><code>(450, 20)</code></span></summary><div><table><thead><tr></tr></thead><tbody><tr><td>Item1</td><td>450</td></tr><tr><td>Item2</td><td>20</td></tr></tbody></table></div></details></td></tr><tr><td>4</td><td><details class=\"dni-treeview\"><summary><span class=\"dni-code-hint\"><code>(500, 23)</code></span></summary><div><table><thead><tr></tr></thead><tbody><tr><td>Item1</td><td>500</td></tr><tr><td>Item2</td><td>23</td></tr></tbody></table></div></details></td></tr></tbody></table></td></tr></tbody></table></div></details></td></tr><tr><td>Head</td><td><details class=\"dni-treeview\"><summary><span class=\"dni-code-hint\"><code>(250, 10)</code></span></summary><div><table><thead><tr></tr></thead><tbody><tr><td>Item1</td><td><div class=\"dni-plaintext\"><pre>250</pre></div></td></tr><tr><td>Item2</td><td><div class=\"dni-plaintext\"><pre>10</pre></div></td></tr></tbody></table></div></details></td></tr><tr><td>Tail</td><td><details class=\"dni-treeview\"><summary><span class=\"dni-code-hint\"><code>[ (300, 12), (350, 15), (400, 17), (450, 20), (500, 23) ]</code></span></summary><div><table><thead><tr></tr></thead><tbody><tr><td>HeadOrDefault</td><td><details class=\"dni-treeview\"><summary><span class=\"dni-code-hint\"><code>(300, 12)</code></span></summary><div><table><thead><tr></tr></thead><tbody><tr><td>Item1</td><td>300</td></tr><tr><td>Item2</td><td>12</td></tr></tbody></table></div></details></td></tr><tr><td>TailOrNull</td><td><details class=\"dni-treeview\"><summary><span class=\"dni-code-hint\"><code>[ (350, 15), (400, 17), (450, 20), (500, 23) ]</code></span></summary><div><table><thead><tr></tr></thead><tbody><tr><td>HeadOrDefault</td><td>(350, 15)</td></tr><tr><td>TailOrNull</td><td>[ (400, 17), (450, 20), (500, 23) ]</td></tr><tr><td>Head</td><td>(350, 15)</td></tr><tr><td>Tail</td><td>[ (400, 17), (450, 20), (500, 23) ]</td></tr><tr><td><i>(values)</i></td><td><table><thead><tr><th><i>index</i></th><th>value</th></tr></thead><tbody><tr><td>0</td><td>(350, 15)</td></tr><tr><td>1</td><td>(400, 17)</td></tr><tr><td>2</td><td>(450, 20)</td></tr><tr><td>3</td><td>(500, 23)</td></tr></tbody></table></td></tr></tbody></table></div></details></td></tr><tr><td>Head</td><td><details class=\"dni-treeview\"><summary><span class=\"dni-code-hint\"><code>(300, 12)</code></span></summary><div><table><thead><tr></tr></thead><tbody><tr><td>Item1</td><td>300</td></tr><tr><td>Item2</td><td>12</td></tr></tbody></table></div></details></td></tr><tr><td>Tail</td><td><details class=\"dni-treeview\"><summary><span class=\"dni-code-hint\"><code>[ (350, 15), (400, 17), (450, 20), (500, 23) ]</code></span></summary><div><table><thead><tr></tr></thead><tbody><tr><td>HeadOrDefault</td><td>(350, 15)</td></tr><tr><td>TailOrNull</td><td>[ (400, 17), (450, 20), (500, 23) ]</td></tr><tr><td>Head</td><td>(350, 15)</td></tr><tr><td>Tail</td><td>[ (400, 17), (450, 20), (500, 23) ]</td></tr><tr><td><i>(values)</i></td><td><table><thead><tr><th><i>index</i></th><th>value</th></tr></thead><tbody><tr><td>0</td><td>(350, 15)</td></tr><tr><td>1</td><td>(400, 17)</td></tr><tr><td>2</td><td>(450, 20)</td></tr><tr><td>3</td><td>(500, 23)</td></tr></tbody></table></td></tr></tbody></table></div></details></td></tr><tr><td><i>(values)</i></td><td><table><thead><tr><th><i>index</i></th><th>value</th></tr></thead><tbody><tr><td>0</td><td><details class=\"dni-treeview\"><summary><span class=\"dni-code-hint\"><code>(300, 12)</code></span></summary><div><table><thead><tr></tr></thead><tbody><tr><td>Item1</td><td>300</td></tr><tr><td>Item2</td><td>12</td></tr></tbody></table></div></details></td></tr><tr><td>1</td><td><details class=\"dni-treeview\"><summary><span class=\"dni-code-hint\"><code>(350, 15)</code></span></summary><div><table><thead><tr></tr></thead><tbody><tr><td>Item1</td><td>350</td></tr><tr><td>Item2</td><td>15</td></tr></tbody></table></div></details></td></tr><tr><td>2</td><td><details class=\"dni-treeview\"><summary><span class=\"dni-code-hint\"><code>(400, 17)</code></span></summary><div><table><thead><tr></tr></thead><tbody><tr><td>Item1</td><td>400</td></tr><tr><td>Item2</td><td>17</td></tr></tbody></table></div></details></td></tr><tr><td>3</td><td><details class=\"dni-treeview\"><summary><span class=\"dni-code-hint\"><code>(450, 20)</code></span></summary><div><table><thead><tr></tr></thead><tbody><tr><td>Item1</td><td>450</td></tr><tr><td>Item2</td><td>20</td></tr></tbody></table></div></details></td></tr><tr><td>4</td><td><details class=\"dni-treeview\"><summary><span class=\"dni-code-hint\"><code>(500, 23)</code></span></summary><div><table><thead><tr></tr></thead><tbody><tr><td>Item1</td><td>500</td></tr><tr><td>Item2</td><td>23</td></tr></tbody></table></div></details></td></tr></tbody></table></td></tr></tbody></table></div></details></td></tr><tr><td><i>(values)</i></td><td><table><thead><tr><th><i>index</i></th><th>value</th></tr></thead><tbody><tr><td>0</td><td><details class=\"dni-treeview\"><summary><span class=\"dni-code-hint\"><code>(250, 10)</code></span></summary><div><table><thead><tr></tr></thead><tbody><tr><td>Item1</td><td><div class=\"dni-plaintext\"><pre>250</pre></div></td></tr><tr><td>Item2</td><td><div class=\"dni-plaintext\"><pre>10</pre></div></td></tr></tbody></table></div></details></td></tr><tr><td>1</td><td><details class=\"dni-treeview\"><summary><span class=\"dni-code-hint\"><code>(300, 12)</code></span></summary><div><table><thead><tr></tr></thead><tbody><tr><td>Item1</td><td><div class=\"dni-plaintext\"><pre>300</pre></div></td></tr><tr><td>Item2</td><td><div class=\"dni-plaintext\"><pre>12</pre></div></td></tr></tbody></table></div></details></td></tr><tr><td>2</td><td><details class=\"dni-treeview\"><summary><span class=\"dni-code-hint\"><code>(350, 15)</code></span></summary><div><table><thead><tr></tr></thead><tbody><tr><td>Item1</td><td><div class=\"dni-plaintext\"><pre>350</pre></div></td></tr><tr><td>Item2</td><td><div class=\"dni-plaintext\"><pre>15</pre></div></td></tr></tbody></table></div></details></td></tr><tr><td>3</td><td><details class=\"dni-treeview\"><summary><span class=\"dni-code-hint\"><code>(400, 17)</code></span></summary><div><table><thead><tr></tr></thead><tbody><tr><td>Item1</td><td><div class=\"dni-plaintext\"><pre>400</pre></div></td></tr><tr><td>Item2</td><td><div class=\"dni-plaintext\"><pre>17</pre></div></td></tr></tbody></table></div></details></td></tr><tr><td>4</td><td><details class=\"dni-treeview\"><summary><span class=\"dni-code-hint\"><code>(450, 20)</code></span></summary><div><table><thead><tr></tr></thead><tbody><tr><td>Item1</td><td><div class=\"dni-plaintext\"><pre>450</pre></div></td></tr><tr><td>Item2</td><td><div class=\"dni-plaintext\"><pre>20</pre></div></td></tr></tbody></table></div></details></td></tr><tr><td>5</td><td><details class=\"dni-treeview\"><summary><span class=\"dni-code-hint\"><code>(500, 23)</code></span></summary><div><table><thead><tr></tr></thead><tbody><tr><td>Item1</td><td><div class=\"dni-plaintext\"><pre>500</pre></div></td></tr><tr><td>Item2</td><td><div class=\"dni-plaintext\"><pre>23</pre></div></td></tr></tbody></table></div></details></td></tr></tbody></table></td></tr></tbody></table></div></details></td></tr><tr><td><i>(values)</i></td><td><table><thead><tr><th><i>index</i></th><th>value</th></tr></thead><tbody><tr><td>0</td><td><details class=\"dni-treeview\"><summary><span class=\"dni-code-hint\"><code>(200, 7)</code></span></summary><div><table><thead><tr></tr></thead><tbody><tr><td>Item1</td><td><div class=\"dni-plaintext\"><pre>200</pre></div></td></tr><tr><td>Item2</td><td><div class=\"dni-plaintext\"><pre>7</pre></div></td></tr></tbody></table></div></details></td></tr><tr><td>1</td><td><details class=\"dni-treeview\"><summary><span class=\"dni-code-hint\"><code>(250, 10)</code></span></summary><div><table><thead><tr></tr></thead><tbody><tr><td>Item1</td><td><div class=\"dni-plaintext\"><pre>250</pre></div></td></tr><tr><td>Item2</td><td><div class=\"dni-plaintext\"><pre>10</pre></div></td></tr></tbody></table></div></details></td></tr><tr><td>2</td><td><details class=\"dni-treeview\"><summary><span class=\"dni-code-hint\"><code>(300, 12)</code></span></summary><div><table><thead><tr></tr></thead><tbody><tr><td>Item1</td><td><div class=\"dni-plaintext\"><pre>300</pre></div></td></tr><tr><td>Item2</td><td><div class=\"dni-plaintext\"><pre>12</pre></div></td></tr></tbody></table></div></details></td></tr><tr><td>3</td><td><details class=\"dni-treeview\"><summary><span class=\"dni-code-hint\"><code>(350, 15)</code></span></summary><div><table><thead><tr></tr></thead><tbody><tr><td>Item1</td><td><div class=\"dni-plaintext\"><pre>350</pre></div></td></tr><tr><td>Item2</td><td><div class=\"dni-plaintext\"><pre>15</pre></div></td></tr></tbody></table></div></details></td></tr><tr><td>4</td><td><details class=\"dni-treeview\"><summary><span class=\"dni-code-hint\"><code>(400, 17)</code></span></summary><div><table><thead><tr></tr></thead><tbody><tr><td>Item1</td><td><div class=\"dni-plaintext\"><pre>400</pre></div></td></tr><tr><td>Item2</td><td><div class=\"dni-plaintext\"><pre>17</pre></div></td></tr></tbody></table></div></details></td></tr><tr><td>5</td><td><details class=\"dni-treeview\"><summary><span class=\"dni-code-hint\"><code>(450, 20)</code></span></summary><div><table><thead><tr></tr></thead><tbody><tr><td>Item1</td><td><div class=\"dni-plaintext\"><pre>450</pre></div></td></tr><tr><td>Item2</td><td><div class=\"dni-plaintext\"><pre>20</pre></div></td></tr></tbody></table></div></details></td></tr><tr><td>6</td><td><details class=\"dni-treeview\"><summary><span class=\"dni-code-hint\"><code>(500, 23)</code></span></summary><div><table><thead><tr></tr></thead><tbody><tr><td>Item1</td><td><div class=\"dni-plaintext\"><pre>500</pre></div></td></tr><tr><td>Item2</td><td><div class=\"dni-plaintext\"><pre>23</pre></div></td></tr></tbody></table></div></details></td></tr></tbody></table></td></tr></tbody></table></div></details></td></tr><tr><td>Head</td><td><details class=\"dni-treeview\"><summary><span class=\"dni-code-hint\"><code>(150, 5)</code></span></summary><div><table><thead><tr></tr></thead><tbody><tr><td>Item1</td><td><div class=\"dni-plaintext\"><pre>150</pre></div></td></tr><tr><td>Item2</td><td><div class=\"dni-plaintext\"><pre>5</pre></div></td></tr></tbody></table></div></details></td></tr><tr><td>Tail</td><td><details class=\"dni-treeview\"><summary><span class=\"dni-code-hint\"><code>[ (200, 7), (250, 10), (300, 12), (350, 15), (400, 17), (450, 20), (500, 23) ]</code></span></summary><div><table><thead><tr></tr></thead><tbody><tr><td>HeadOrDefault</td><td><details class=\"dni-treeview\"><summary><span class=\"dni-code-hint\"><code>(200, 7)</code></span></summary><div><table><thead><tr></tr></thead><tbody><tr><td>Item1</td><td><div class=\"dni-plaintext\"><pre>200</pre></div></td></tr><tr><td>Item2</td><td><div class=\"dni-plaintext\"><pre>7</pre></div></td></tr></tbody></table></div></details></td></tr><tr><td>TailOrNull</td><td><details class=\"dni-treeview\"><summary><span class=\"dni-code-hint\"><code>[ (250, 10), (300, 12), (350, 15), (400, 17), (450, 20), (500, 23) ]</code></span></summary><div><table><thead><tr></tr></thead><tbody><tr><td>HeadOrDefault</td><td><details class=\"dni-treeview\"><summary><span class=\"dni-code-hint\"><code>(250, 10)</code></span></summary><div><table><thead><tr></tr></thead><tbody><tr><td>Item1</td><td><div class=\"dni-plaintext\"><pre>250</pre></div></td></tr><tr><td>Item2</td><td><div class=\"dni-plaintext\"><pre>10</pre></div></td></tr></tbody></table></div></details></td></tr><tr><td>TailOrNull</td><td><details class=\"dni-treeview\"><summary><span class=\"dni-code-hint\"><code>[ (300, 12), (350, 15), (400, 17), (450, 20), (500, 23) ]</code></span></summary><div><table><thead><tr></tr></thead><tbody><tr><td>HeadOrDefault</td><td><details class=\"dni-treeview\"><summary><span class=\"dni-code-hint\"><code>(300, 12)</code></span></summary><div><table><thead><tr></tr></thead><tbody><tr><td>Item1</td><td>300</td></tr><tr><td>Item2</td><td>12</td></tr></tbody></table></div></details></td></tr><tr><td>TailOrNull</td><td><details class=\"dni-treeview\"><summary><span class=\"dni-code-hint\"><code>[ (350, 15), (400, 17), (450, 20), (500, 23) ]</code></span></summary><div><table><thead><tr></tr></thead><tbody><tr><td>HeadOrDefault</td><td>(350, 15)</td></tr><tr><td>TailOrNull</td><td>[ (400, 17), (450, 20), (500, 23) ]</td></tr><tr><td>Head</td><td>(350, 15)</td></tr><tr><td>Tail</td><td>[ (400, 17), (450, 20), (500, 23) ]</td></tr><tr><td><i>(values)</i></td><td><table><thead><tr><th><i>index</i></th><th>value</th></tr></thead><tbody><tr><td>0</td><td>(350, 15)</td></tr><tr><td>1</td><td>(400, 17)</td></tr><tr><td>2</td><td>(450, 20)</td></tr><tr><td>3</td><td>(500, 23)</td></tr></tbody></table></td></tr></tbody></table></div></details></td></tr><tr><td>Head</td><td><details class=\"dni-treeview\"><summary><span class=\"dni-code-hint\"><code>(300, 12)</code></span></summary><div><table><thead><tr></tr></thead><tbody><tr><td>Item1</td><td>300</td></tr><tr><td>Item2</td><td>12</td></tr></tbody></table></div></details></td></tr><tr><td>Tail</td><td><details class=\"dni-treeview\"><summary><span class=\"dni-code-hint\"><code>[ (350, 15), (400, 17), (450, 20), (500, 23) ]</code></span></summary><div><table><thead><tr></tr></thead><tbody><tr><td>HeadOrDefault</td><td>(350, 15)</td></tr><tr><td>TailOrNull</td><td>[ (400, 17), (450, 20), (500, 23) ]</td></tr><tr><td>Head</td><td>(350, 15)</td></tr><tr><td>Tail</td><td>[ (400, 17), (450, 20), (500, 23) ]</td></tr><tr><td><i>(values)</i></td><td><table><thead><tr><th><i>index</i></th><th>value</th></tr></thead><tbody><tr><td>0</td><td>(350, 15)</td></tr><tr><td>1</td><td>(400, 17)</td></tr><tr><td>2</td><td>(450, 20)</td></tr><tr><td>3</td><td>(500, 23)</td></tr></tbody></table></td></tr></tbody></table></div></details></td></tr><tr><td><i>(values)</i></td><td><table><thead><tr><th><i>index</i></th><th>value</th></tr></thead><tbody><tr><td>0</td><td><details class=\"dni-treeview\"><summary><span class=\"dni-code-hint\"><code>(300, 12)</code></span></summary><div><table><thead><tr></tr></thead><tbody><tr><td>Item1</td><td>300</td></tr><tr><td>Item2</td><td>12</td></tr></tbody></table></div></details></td></tr><tr><td>1</td><td><details class=\"dni-treeview\"><summary><span class=\"dni-code-hint\"><code>(350, 15)</code></span></summary><div><table><thead><tr></tr></thead><tbody><tr><td>Item1</td><td>350</td></tr><tr><td>Item2</td><td>15</td></tr></tbody></table></div></details></td></tr><tr><td>2</td><td><details class=\"dni-treeview\"><summary><span class=\"dni-code-hint\"><code>(400, 17)</code></span></summary><div><table><thead><tr></tr></thead><tbody><tr><td>Item1</td><td>400</td></tr><tr><td>Item2</td><td>17</td></tr></tbody></table></div></details></td></tr><tr><td>3</td><td><details class=\"dni-treeview\"><summary><span class=\"dni-code-hint\"><code>(450, 20)</code></span></summary><div><table><thead><tr></tr></thead><tbody><tr><td>Item1</td><td>450</td></tr><tr><td>Item2</td><td>20</td></tr></tbody></table></div></details></td></tr><tr><td>4</td><td><details class=\"dni-treeview\"><summary><span class=\"dni-code-hint\"><code>(500, 23)</code></span></summary><div><table><thead><tr></tr></thead><tbody><tr><td>Item1</td><td>500</td></tr><tr><td>Item2</td><td>23</td></tr></tbody></table></div></details></td></tr></tbody></table></td></tr></tbody></table></div></details></td></tr><tr><td>Head</td><td><details class=\"dni-treeview\"><summary><span class=\"dni-code-hint\"><code>(250, 10)</code></span></summary><div><table><thead><tr></tr></thead><tbody><tr><td>Item1</td><td><div class=\"dni-plaintext\"><pre>250</pre></div></td></tr><tr><td>Item2</td><td><div class=\"dni-plaintext\"><pre>10</pre></div></td></tr></tbody></table></div></details></td></tr><tr><td>Tail</td><td><details class=\"dni-treeview\"><summary><span class=\"dni-code-hint\"><code>[ (300, 12), (350, 15), (400, 17), (450, 20), (500, 23) ]</code></span></summary><div><table><thead><tr></tr></thead><tbody><tr><td>HeadOrDefault</td><td><details class=\"dni-treeview\"><summary><span class=\"dni-code-hint\"><code>(300, 12)</code></span></summary><div><table><thead><tr></tr></thead><tbody><tr><td>Item1</td><td>300</td></tr><tr><td>Item2</td><td>12</td></tr></tbody></table></div></details></td></tr><tr><td>TailOrNull</td><td><details class=\"dni-treeview\"><summary><span class=\"dni-code-hint\"><code>[ (350, 15), (400, 17), (450, 20), (500, 23) ]</code></span></summary><div><table><thead><tr></tr></thead><tbody><tr><td>HeadOrDefault</td><td>(350, 15)</td></tr><tr><td>TailOrNull</td><td>[ (400, 17), (450, 20), (500, 23) ]</td></tr><tr><td>Head</td><td>(350, 15)</td></tr><tr><td>Tail</td><td>[ (400, 17), (450, 20), (500, 23) ]</td></tr><tr><td><i>(values)</i></td><td><table><thead><tr><th><i>index</i></th><th>value</th></tr></thead><tbody><tr><td>0</td><td>(350, 15)</td></tr><tr><td>1</td><td>(400, 17)</td></tr><tr><td>2</td><td>(450, 20)</td></tr><tr><td>3</td><td>(500, 23)</td></tr></tbody></table></td></tr></tbody></table></div></details></td></tr><tr><td>Head</td><td><details class=\"dni-treeview\"><summary><span class=\"dni-code-hint\"><code>(300, 12)</code></span></summary><div><table><thead><tr></tr></thead><tbody><tr><td>Item1</td><td>300</td></tr><tr><td>Item2</td><td>12</td></tr></tbody></table></div></details></td></tr><tr><td>Tail</td><td><details class=\"dni-treeview\"><summary><span class=\"dni-code-hint\"><code>[ (350, 15), (400, 17), (450, 20), (500, 23) ]</code></span></summary><div><table><thead><tr></tr></thead><tbody><tr><td>HeadOrDefault</td><td>(350, 15)</td></tr><tr><td>TailOrNull</td><td>[ (400, 17), (450, 20), (500, 23) ]</td></tr><tr><td>Head</td><td>(350, 15)</td></tr><tr><td>Tail</td><td>[ (400, 17), (450, 20), (500, 23) ]</td></tr><tr><td><i>(values)</i></td><td><table><thead><tr><th><i>index</i></th><th>value</th></tr></thead><tbody><tr><td>0</td><td>(350, 15)</td></tr><tr><td>1</td><td>(400, 17)</td></tr><tr><td>2</td><td>(450, 20)</td></tr><tr><td>3</td><td>(500, 23)</td></tr></tbody></table></td></tr></tbody></table></div></details></td></tr><tr><td><i>(values)</i></td><td><table><thead><tr><th><i>index</i></th><th>value</th></tr></thead><tbody><tr><td>0</td><td><details class=\"dni-treeview\"><summary><span class=\"dni-code-hint\"><code>(300, 12)</code></span></summary><div><table><thead><tr></tr></thead><tbody><tr><td>Item1</td><td>300</td></tr><tr><td>Item2</td><td>12</td></tr></tbody></table></div></details></td></tr><tr><td>1</td><td><details class=\"dni-treeview\"><summary><span class=\"dni-code-hint\"><code>(350, 15)</code></span></summary><div><table><thead><tr></tr></thead><tbody><tr><td>Item1</td><td>350</td></tr><tr><td>Item2</td><td>15</td></tr></tbody></table></div></details></td></tr><tr><td>2</td><td><details class=\"dni-treeview\"><summary><span class=\"dni-code-hint\"><code>(400, 17)</code></span></summary><div><table><thead><tr></tr></thead><tbody><tr><td>Item1</td><td>400</td></tr><tr><td>Item2</td><td>17</td></tr></tbody></table></div></details></td></tr><tr><td>3</td><td><details class=\"dni-treeview\"><summary><span class=\"dni-code-hint\"><code>(450, 20)</code></span></summary><div><table><thead><tr></tr></thead><tbody><tr><td>Item1</td><td>450</td></tr><tr><td>Item2</td><td>20</td></tr></tbody></table></div></details></td></tr><tr><td>4</td><td><details class=\"dni-treeview\"><summary><span class=\"dni-code-hint\"><code>(500, 23)</code></span></summary><div><table><thead><tr></tr></thead><tbody><tr><td>Item1</td><td>500</td></tr><tr><td>Item2</td><td>23</td></tr></tbody></table></div></details></td></tr></tbody></table></td></tr></tbody></table></div></details></td></tr><tr><td><i>(values)</i></td><td><table><thead><tr><th><i>index</i></th><th>value</th></tr></thead><tbody><tr><td>0</td><td><details class=\"dni-treeview\"><summary><span class=\"dni-code-hint\"><code>(250, 10)</code></span></summary><div><table><thead><tr></tr></thead><tbody><tr><td>Item1</td><td><div class=\"dni-plaintext\"><pre>250</pre></div></td></tr><tr><td>Item2</td><td><div class=\"dni-plaintext\"><pre>10</pre></div></td></tr></tbody></table></div></details></td></tr><tr><td>1</td><td><details class=\"dni-treeview\"><summary><span class=\"dni-code-hint\"><code>(300, 12)</code></span></summary><div><table><thead><tr></tr></thead><tbody><tr><td>Item1</td><td><div class=\"dni-plaintext\"><pre>300</pre></div></td></tr><tr><td>Item2</td><td><div class=\"dni-plaintext\"><pre>12</pre></div></td></tr></tbody></table></div></details></td></tr><tr><td>2</td><td><details class=\"dni-treeview\"><summary><span class=\"dni-code-hint\"><code>(350, 15)</code></span></summary><div><table><thead><tr></tr></thead><tbody><tr><td>Item1</td><td><div class=\"dni-plaintext\"><pre>350</pre></div></td></tr><tr><td>Item2</td><td><div class=\"dni-plaintext\"><pre>15</pre></div></td></tr></tbody></table></div></details></td></tr><tr><td>3</td><td><details class=\"dni-treeview\"><summary><span class=\"dni-code-hint\"><code>(400, 17)</code></span></summary><div><table><thead><tr></tr></thead><tbody><tr><td>Item1</td><td><div class=\"dni-plaintext\"><pre>400</pre></div></td></tr><tr><td>Item2</td><td><div class=\"dni-plaintext\"><pre>17</pre></div></td></tr></tbody></table></div></details></td></tr><tr><td>4</td><td><details class=\"dni-treeview\"><summary><span class=\"dni-code-hint\"><code>(450, 20)</code></span></summary><div><table><thead><tr></tr></thead><tbody><tr><td>Item1</td><td><div class=\"dni-plaintext\"><pre>450</pre></div></td></tr><tr><td>Item2</td><td><div class=\"dni-plaintext\"><pre>20</pre></div></td></tr></tbody></table></div></details></td></tr><tr><td>5</td><td><details class=\"dni-treeview\"><summary><span class=\"dni-code-hint\"><code>(500, 23)</code></span></summary><div><table><thead><tr></tr></thead><tbody><tr><td>Item1</td><td><div class=\"dni-plaintext\"><pre>500</pre></div></td></tr><tr><td>Item2</td><td><div class=\"dni-plaintext\"><pre>23</pre></div></td></tr></tbody></table></div></details></td></tr></tbody></table></td></tr></tbody></table></div></details></td></tr><tr><td>Head</td><td><details class=\"dni-treeview\"><summary><span class=\"dni-code-hint\"><code>(200, 7)</code></span></summary><div><table><thead><tr></tr></thead><tbody><tr><td>Item1</td><td><div class=\"dni-plaintext\"><pre>200</pre></div></td></tr><tr><td>Item2</td><td><div class=\"dni-plaintext\"><pre>7</pre></div></td></tr></tbody></table></div></details></td></tr><tr><td>Tail</td><td><details class=\"dni-treeview\"><summary><span class=\"dni-code-hint\"><code>[ (250, 10), (300, 12), (350, 15), (400, 17), (450, 20), (500, 23) ]</code></span></summary><div><table><thead><tr></tr></thead><tbody><tr><td>HeadOrDefault</td><td><details class=\"dni-treeview\"><summary><span class=\"dni-code-hint\"><code>(250, 10)</code></span></summary><div><table><thead><tr></tr></thead><tbody><tr><td>Item1</td><td><div class=\"dni-plaintext\"><pre>250</pre></div></td></tr><tr><td>Item2</td><td><div class=\"dni-plaintext\"><pre>10</pre></div></td></tr></tbody></table></div></details></td></tr><tr><td>TailOrNull</td><td><details class=\"dni-treeview\"><summary><span class=\"dni-code-hint\"><code>[ (300, 12), (350, 15), (400, 17), (450, 20), (500, 23) ]</code></span></summary><div><table><thead><tr></tr></thead><tbody><tr><td>HeadOrDefault</td><td><details class=\"dni-treeview\"><summary><span class=\"dni-code-hint\"><code>(300, 12)</code></span></summary><div><table><thead><tr></tr></thead><tbody><tr><td>Item1</td><td>300</td></tr><tr><td>Item2</td><td>12</td></tr></tbody></table></div></details></td></tr><tr><td>TailOrNull</td><td><details class=\"dni-treeview\"><summary><span class=\"dni-code-hint\"><code>[ (350, 15), (400, 17), (450, 20), (500, 23) ]</code></span></summary><div><table><thead><tr></tr></thead><tbody><tr><td>HeadOrDefault</td><td>(350, 15)</td></tr><tr><td>TailOrNull</td><td>[ (400, 17), (450, 20), (500, 23) ]</td></tr><tr><td>Head</td><td>(350, 15)</td></tr><tr><td>Tail</td><td>[ (400, 17), (450, 20), (500, 23) ]</td></tr><tr><td><i>(values)</i></td><td><table><thead><tr><th><i>index</i></th><th>value</th></tr></thead><tbody><tr><td>0</td><td>(350, 15)</td></tr><tr><td>1</td><td>(400, 17)</td></tr><tr><td>2</td><td>(450, 20)</td></tr><tr><td>3</td><td>(500, 23)</td></tr></tbody></table></td></tr></tbody></table></div></details></td></tr><tr><td>Head</td><td><details class=\"dni-treeview\"><summary><span class=\"dni-code-hint\"><code>(300, 12)</code></span></summary><div><table><thead><tr></tr></thead><tbody><tr><td>Item1</td><td>300</td></tr><tr><td>Item2</td><td>12</td></tr></tbody></table></div></details></td></tr><tr><td>Tail</td><td><details class=\"dni-treeview\"><summary><span class=\"dni-code-hint\"><code>[ (350, 15), (400, 17), (450, 20), (500, 23) ]</code></span></summary><div><table><thead><tr></tr></thead><tbody><tr><td>HeadOrDefault</td><td>(350, 15)</td></tr><tr><td>TailOrNull</td><td>[ (400, 17), (450, 20), (500, 23) ]</td></tr><tr><td>Head</td><td>(350, 15)</td></tr><tr><td>Tail</td><td>[ (400, 17), (450, 20), (500, 23) ]</td></tr><tr><td><i>(values)</i></td><td><table><thead><tr><th><i>index</i></th><th>value</th></tr></thead><tbody><tr><td>0</td><td>(350, 15)</td></tr><tr><td>1</td><td>(400, 17)</td></tr><tr><td>2</td><td>(450, 20)</td></tr><tr><td>3</td><td>(500, 23)</td></tr></tbody></table></td></tr></tbody></table></div></details></td></tr><tr><td><i>(values)</i></td><td><table><thead><tr><th><i>index</i></th><th>value</th></tr></thead><tbody><tr><td>0</td><td><details class=\"dni-treeview\"><summary><span class=\"dni-code-hint\"><code>(300, 12)</code></span></summary><div><table><thead><tr></tr></thead><tbody><tr><td>Item1</td><td>300</td></tr><tr><td>Item2</td><td>12</td></tr></tbody></table></div></details></td></tr><tr><td>1</td><td><details class=\"dni-treeview\"><summary><span class=\"dni-code-hint\"><code>(350, 15)</code></span></summary><div><table><thead><tr></tr></thead><tbody><tr><td>Item1</td><td>350</td></tr><tr><td>Item2</td><td>15</td></tr></tbody></table></div></details></td></tr><tr><td>2</td><td><details class=\"dni-treeview\"><summary><span class=\"dni-code-hint\"><code>(400, 17)</code></span></summary><div><table><thead><tr></tr></thead><tbody><tr><td>Item1</td><td>400</td></tr><tr><td>Item2</td><td>17</td></tr></tbody></table></div></details></td></tr><tr><td>3</td><td><details class=\"dni-treeview\"><summary><span class=\"dni-code-hint\"><code>(450, 20)</code></span></summary><div><table><thead><tr></tr></thead><tbody><tr><td>Item1</td><td>450</td></tr><tr><td>Item2</td><td>20</td></tr></tbody></table></div></details></td></tr><tr><td>4</td><td><details class=\"dni-treeview\"><summary><span class=\"dni-code-hint\"><code>(500, 23)</code></span></summary><div><table><thead><tr></tr></thead><tbody><tr><td>Item1</td><td>500</td></tr><tr><td>Item2</td><td>23</td></tr></tbody></table></div></details></td></tr></tbody></table></td></tr></tbody></table></div></details></td></tr><tr><td>Head</td><td><details class=\"dni-treeview\"><summary><span class=\"dni-code-hint\"><code>(250, 10)</code></span></summary><div><table><thead><tr></tr></thead><tbody><tr><td>Item1</td><td><div class=\"dni-plaintext\"><pre>250</pre></div></td></tr><tr><td>Item2</td><td><div class=\"dni-plaintext\"><pre>10</pre></div></td></tr></tbody></table></div></details></td></tr><tr><td>Tail</td><td><details class=\"dni-treeview\"><summary><span class=\"dni-code-hint\"><code>[ (300, 12), (350, 15), (400, 17), (450, 20), (500, 23) ]</code></span></summary><div><table><thead><tr></tr></thead><tbody><tr><td>HeadOrDefault</td><td><details class=\"dni-treeview\"><summary><span class=\"dni-code-hint\"><code>(300, 12)</code></span></summary><div><table><thead><tr></tr></thead><tbody><tr><td>Item1</td><td>300</td></tr><tr><td>Item2</td><td>12</td></tr></tbody></table></div></details></td></tr><tr><td>TailOrNull</td><td><details class=\"dni-treeview\"><summary><span class=\"dni-code-hint\"><code>[ (350, 15), (400, 17), (450, 20), (500, 23) ]</code></span></summary><div><table><thead><tr></tr></thead><tbody><tr><td>HeadOrDefault</td><td>(350, 15)</td></tr><tr><td>TailOrNull</td><td>[ (400, 17), (450, 20), (500, 23) ]</td></tr><tr><td>Head</td><td>(350, 15)</td></tr><tr><td>Tail</td><td>[ (400, 17), (450, 20), (500, 23) ]</td></tr><tr><td><i>(values)</i></td><td><table><thead><tr><th><i>index</i></th><th>value</th></tr></thead><tbody><tr><td>0</td><td>(350, 15)</td></tr><tr><td>1</td><td>(400, 17)</td></tr><tr><td>2</td><td>(450, 20)</td></tr><tr><td>3</td><td>(500, 23)</td></tr></tbody></table></td></tr></tbody></table></div></details></td></tr><tr><td>Head</td><td><details class=\"dni-treeview\"><summary><span class=\"dni-code-hint\"><code>(300, 12)</code></span></summary><div><table><thead><tr></tr></thead><tbody><tr><td>Item1</td><td>300</td></tr><tr><td>Item2</td><td>12</td></tr></tbody></table></div></details></td></tr><tr><td>Tail</td><td><details class=\"dni-treeview\"><summary><span class=\"dni-code-hint\"><code>[ (350, 15), (400, 17), (450, 20), (500, 23) ]</code></span></summary><div><table><thead><tr></tr></thead><tbody><tr><td>HeadOrDefault</td><td>(350, 15)</td></tr><tr><td>TailOrNull</td><td>[ (400, 17), (450, 20), (500, 23) ]</td></tr><tr><td>Head</td><td>(350, 15)</td></tr><tr><td>Tail</td><td>[ (400, 17), (450, 20), (500, 23) ]</td></tr><tr><td><i>(values)</i></td><td><table><thead><tr><th><i>index</i></th><th>value</th></tr></thead><tbody><tr><td>0</td><td>(350, 15)</td></tr><tr><td>1</td><td>(400, 17)</td></tr><tr><td>2</td><td>(450, 20)</td></tr><tr><td>3</td><td>(500, 23)</td></tr></tbody></table></td></tr></tbody></table></div></details></td></tr><tr><td><i>(values)</i></td><td><table><thead><tr><th><i>index</i></th><th>value</th></tr></thead><tbody><tr><td>0</td><td><details class=\"dni-treeview\"><summary><span class=\"dni-code-hint\"><code>(300, 12)</code></span></summary><div><table><thead><tr></tr></thead><tbody><tr><td>Item1</td><td>300</td></tr><tr><td>Item2</td><td>12</td></tr></tbody></table></div></details></td></tr><tr><td>1</td><td><details class=\"dni-treeview\"><summary><span class=\"dni-code-hint\"><code>(350, 15)</code></span></summary><div><table><thead><tr></tr></thead><tbody><tr><td>Item1</td><td>350</td></tr><tr><td>Item2</td><td>15</td></tr></tbody></table></div></details></td></tr><tr><td>2</td><td><details class=\"dni-treeview\"><summary><span class=\"dni-code-hint\"><code>(400, 17)</code></span></summary><div><table><thead><tr></tr></thead><tbody><tr><td>Item1</td><td>400</td></tr><tr><td>Item2</td><td>17</td></tr></tbody></table></div></details></td></tr><tr><td>3</td><td><details class=\"dni-treeview\"><summary><span class=\"dni-code-hint\"><code>(450, 20)</code></span></summary><div><table><thead><tr></tr></thead><tbody><tr><td>Item1</td><td>450</td></tr><tr><td>Item2</td><td>20</td></tr></tbody></table></div></details></td></tr><tr><td>4</td><td><details class=\"dni-treeview\"><summary><span class=\"dni-code-hint\"><code>(500, 23)</code></span></summary><div><table><thead><tr></tr></thead><tbody><tr><td>Item1</td><td>500</td></tr><tr><td>Item2</td><td>23</td></tr></tbody></table></div></details></td></tr></tbody></table></td></tr></tbody></table></div></details></td></tr><tr><td><i>(values)</i></td><td><table><thead><tr><th><i>index</i></th><th>value</th></tr></thead><tbody><tr><td>0</td><td><details class=\"dni-treeview\"><summary><span class=\"dni-code-hint\"><code>(250, 10)</code></span></summary><div><table><thead><tr></tr></thead><tbody><tr><td>Item1</td><td><div class=\"dni-plaintext\"><pre>250</pre></div></td></tr><tr><td>Item2</td><td><div class=\"dni-plaintext\"><pre>10</pre></div></td></tr></tbody></table></div></details></td></tr><tr><td>1</td><td><details class=\"dni-treeview\"><summary><span class=\"dni-code-hint\"><code>(300, 12)</code></span></summary><div><table><thead><tr></tr></thead><tbody><tr><td>Item1</td><td><div class=\"dni-plaintext\"><pre>300</pre></div></td></tr><tr><td>Item2</td><td><div class=\"dni-plaintext\"><pre>12</pre></div></td></tr></tbody></table></div></details></td></tr><tr><td>2</td><td><details class=\"dni-treeview\"><summary><span class=\"dni-code-hint\"><code>(350, 15)</code></span></summary><div><table><thead><tr></tr></thead><tbody><tr><td>Item1</td><td><div class=\"dni-plaintext\"><pre>350</pre></div></td></tr><tr><td>Item2</td><td><div class=\"dni-plaintext\"><pre>15</pre></div></td></tr></tbody></table></div></details></td></tr><tr><td>3</td><td><details class=\"dni-treeview\"><summary><span class=\"dni-code-hint\"><code>(400, 17)</code></span></summary><div><table><thead><tr></tr></thead><tbody><tr><td>Item1</td><td><div class=\"dni-plaintext\"><pre>400</pre></div></td></tr><tr><td>Item2</td><td><div class=\"dni-plaintext\"><pre>17</pre></div></td></tr></tbody></table></div></details></td></tr><tr><td>4</td><td><details class=\"dni-treeview\"><summary><span class=\"dni-code-hint\"><code>(450, 20)</code></span></summary><div><table><thead><tr></tr></thead><tbody><tr><td>Item1</td><td><div class=\"dni-plaintext\"><pre>450</pre></div></td></tr><tr><td>Item2</td><td><div class=\"dni-plaintext\"><pre>20</pre></div></td></tr></tbody></table></div></details></td></tr><tr><td>5</td><td><details class=\"dni-treeview\"><summary><span class=\"dni-code-hint\"><code>(500, 23)</code></span></summary><div><table><thead><tr></tr></thead><tbody><tr><td>Item1</td><td><div class=\"dni-plaintext\"><pre>500</pre></div></td></tr><tr><td>Item2</td><td><div class=\"dni-plaintext\"><pre>23</pre></div></td></tr></tbody></table></div></details></td></tr></tbody></table></td></tr></tbody></table></div></details></td></tr><tr><td><i>(values)</i></td><td><table><thead><tr><th><i>index</i></th><th>value</th></tr></thead><tbody><tr><td>0</td><td><details class=\"dni-treeview\"><summary><span class=\"dni-code-hint\"><code>(200, 7)</code></span></summary><div><table><thead><tr></tr></thead><tbody><tr><td>Item1</td><td><div class=\"dni-plaintext\"><pre>200</pre></div></td></tr><tr><td>Item2</td><td><div class=\"dni-plaintext\"><pre>7</pre></div></td></tr></tbody></table></div></details></td></tr><tr><td>1</td><td><details class=\"dni-treeview\"><summary><span class=\"dni-code-hint\"><code>(250, 10)</code></span></summary><div><table><thead><tr></tr></thead><tbody><tr><td>Item1</td><td><div class=\"dni-plaintext\"><pre>250</pre></div></td></tr><tr><td>Item2</td><td><div class=\"dni-plaintext\"><pre>10</pre></div></td></tr></tbody></table></div></details></td></tr><tr><td>2</td><td><details class=\"dni-treeview\"><summary><span class=\"dni-code-hint\"><code>(300, 12)</code></span></summary><div><table><thead><tr></tr></thead><tbody><tr><td>Item1</td><td><div class=\"dni-plaintext\"><pre>300</pre></div></td></tr><tr><td>Item2</td><td><div class=\"dni-plaintext\"><pre>12</pre></div></td></tr></tbody></table></div></details></td></tr><tr><td>3</td><td><details class=\"dni-treeview\"><summary><span class=\"dni-code-hint\"><code>(350, 15)</code></span></summary><div><table><thead><tr></tr></thead><tbody><tr><td>Item1</td><td><div class=\"dni-plaintext\"><pre>350</pre></div></td></tr><tr><td>Item2</td><td><div class=\"dni-plaintext\"><pre>15</pre></div></td></tr></tbody></table></div></details></td></tr><tr><td>4</td><td><details class=\"dni-treeview\"><summary><span class=\"dni-code-hint\"><code>(400, 17)</code></span></summary><div><table><thead><tr></tr></thead><tbody><tr><td>Item1</td><td><div class=\"dni-plaintext\"><pre>400</pre></div></td></tr><tr><td>Item2</td><td><div class=\"dni-plaintext\"><pre>17</pre></div></td></tr></tbody></table></div></details></td></tr><tr><td>5</td><td><details class=\"dni-treeview\"><summary><span class=\"dni-code-hint\"><code>(450, 20)</code></span></summary><div><table><thead><tr></tr></thead><tbody><tr><td>Item1</td><td><div class=\"dni-plaintext\"><pre>450</pre></div></td></tr><tr><td>Item2</td><td><div class=\"dni-plaintext\"><pre>20</pre></div></td></tr></tbody></table></div></details></td></tr><tr><td>6</td><td><details class=\"dni-treeview\"><summary><span class=\"dni-code-hint\"><code>(500, 23)</code></span></summary><div><table><thead><tr></tr></thead><tbody><tr><td>Item1</td><td><div class=\"dni-plaintext\"><pre>500</pre></div></td></tr><tr><td>Item2</td><td><div class=\"dni-plaintext\"><pre>23</pre></div></td></tr></tbody></table></div></details></td></tr></tbody></table></td></tr></tbody></table></div></details></td></tr><tr><td><i>(values)</i></td><td><table><thead><tr><th><i>index</i></th><th>value</th></tr></thead><tbody><tr><td>0</td><td><details class=\"dni-treeview\"><summary><span class=\"dni-code-hint\"><code>(150, 5)</code></span></summary><div><table><thead><tr></tr></thead><tbody><tr><td>Item1</td><td><div class=\"dni-plaintext\"><pre>150</pre></div></td></tr><tr><td>Item2</td><td><div class=\"dni-plaintext\"><pre>5</pre></div></td></tr></tbody></table></div></details></td></tr><tr><td>1</td><td><details class=\"dni-treeview\"><summary><span class=\"dni-code-hint\"><code>(200, 7)</code></span></summary><div><table><thead><tr></tr></thead><tbody><tr><td>Item1</td><td><div class=\"dni-plaintext\"><pre>200</pre></div></td></tr><tr><td>Item2</td><td><div class=\"dni-plaintext\"><pre>7</pre></div></td></tr></tbody></table></div></details></td></tr><tr><td>2</td><td><details class=\"dni-treeview\"><summary><span class=\"dni-code-hint\"><code>(250, 10)</code></span></summary><div><table><thead><tr></tr></thead><tbody><tr><td>Item1</td><td><div class=\"dni-plaintext\"><pre>250</pre></div></td></tr><tr><td>Item2</td><td><div class=\"dni-plaintext\"><pre>10</pre></div></td></tr></tbody></table></div></details></td></tr><tr><td>3</td><td><details class=\"dni-treeview\"><summary><span class=\"dni-code-hint\"><code>(300, 12)</code></span></summary><div><table><thead><tr></tr></thead><tbody><tr><td>Item1</td><td><div class=\"dni-plaintext\"><pre>300</pre></div></td></tr><tr><td>Item2</td><td><div class=\"dni-plaintext\"><pre>12</pre></div></td></tr></tbody></table></div></details></td></tr><tr><td>4</td><td><details class=\"dni-treeview\"><summary><span class=\"dni-code-hint\"><code>(350, 15)</code></span></summary><div><table><thead><tr></tr></thead><tbody><tr><td>Item1</td><td><div class=\"dni-plaintext\"><pre>350</pre></div></td></tr><tr><td>Item2</td><td><div class=\"dni-plaintext\"><pre>15</pre></div></td></tr></tbody></table></div></details></td></tr><tr><td>5</td><td><details class=\"dni-treeview\"><summary><span class=\"dni-code-hint\"><code>(400, 17)</code></span></summary><div><table><thead><tr></tr></thead><tbody><tr><td>Item1</td><td><div class=\"dni-plaintext\"><pre>400</pre></div></td></tr><tr><td>Item2</td><td><div class=\"dni-plaintext\"><pre>17</pre></div></td></tr></tbody></table></div></details></td></tr><tr><td>6</td><td><details class=\"dni-treeview\"><summary><span class=\"dni-code-hint\"><code>(450, 20)</code></span></summary><div><table><thead><tr></tr></thead><tbody><tr><td>Item1</td><td><div class=\"dni-plaintext\"><pre>450</pre></div></td></tr><tr><td>Item2</td><td><div class=\"dni-plaintext\"><pre>20</pre></div></td></tr></tbody></table></div></details></td></tr><tr><td>7</td><td><details class=\"dni-treeview\"><summary><span class=\"dni-code-hint\"><code>(500, 23)</code></span></summary><div><table><thead><tr></tr></thead><tbody><tr><td>Item1</td><td><div class=\"dni-plaintext\"><pre>500</pre></div></td></tr><tr><td>Item2</td><td><div class=\"dni-plaintext\"><pre>23</pre></div></td></tr></tbody></table></div></details></td></tr></tbody></table></td></tr></tbody></table></div></details></td></tr><tr><td>Head</td><td><details class=\"dni-treeview\"><summary><span class=\"dni-code-hint\"><code>(100, 3)</code></span></summary><div><table><thead><tr></tr></thead><tbody><tr><td>Item1</td><td><div class=\"dni-plaintext\"><pre>100</pre></div></td></tr><tr><td>Item2</td><td><div class=\"dni-plaintext\"><pre>3</pre></div></td></tr></tbody></table></div></details></td></tr><tr><td>Tail</td><td><details class=\"dni-treeview\"><summary><span class=\"dni-code-hint\"><code>[ (150, 5), (200, 7), (250, 10), (300, 12), (350, 15), (400, 17), (450, 20), (500, 23) ]</code></span></summary><div><table><thead><tr></tr></thead><tbody><tr><td>HeadOrDefault</td><td><details class=\"dni-treeview\"><summary><span class=\"dni-code-hint\"><code>(150, 5)</code></span></summary><div><table><thead><tr></tr></thead><tbody><tr><td>Item1</td><td><div class=\"dni-plaintext\"><pre>150</pre></div></td></tr><tr><td>Item2</td><td><div class=\"dni-plaintext\"><pre>5</pre></div></td></tr></tbody></table></div></details></td></tr><tr><td>TailOrNull</td><td><details class=\"dni-treeview\"><summary><span class=\"dni-code-hint\"><code>[ (200, 7), (250, 10), (300, 12), (350, 15), (400, 17), (450, 20), (500, 23) ]</code></span></summary><div><table><thead><tr></tr></thead><tbody><tr><td>HeadOrDefault</td><td><details class=\"dni-treeview\"><summary><span class=\"dni-code-hint\"><code>(200, 7)</code></span></summary><div><table><thead><tr></tr></thead><tbody><tr><td>Item1</td><td><div class=\"dni-plaintext\"><pre>200</pre></div></td></tr><tr><td>Item2</td><td><div class=\"dni-plaintext\"><pre>7</pre></div></td></tr></tbody></table></div></details></td></tr><tr><td>TailOrNull</td><td><details class=\"dni-treeview\"><summary><span class=\"dni-code-hint\"><code>[ (250, 10), (300, 12), (350, 15), (400, 17), (450, 20), (500, 23) ]</code></span></summary><div><table><thead><tr></tr></thead><tbody><tr><td>HeadOrDefault</td><td><details class=\"dni-treeview\"><summary><span class=\"dni-code-hint\"><code>(250, 10)</code></span></summary><div><table><thead><tr></tr></thead><tbody><tr><td>Item1</td><td><div class=\"dni-plaintext\"><pre>250</pre></div></td></tr><tr><td>Item2</td><td><div class=\"dni-plaintext\"><pre>10</pre></div></td></tr></tbody></table></div></details></td></tr><tr><td>TailOrNull</td><td><details class=\"dni-treeview\"><summary><span class=\"dni-code-hint\"><code>[ (300, 12), (350, 15), (400, 17), (450, 20), (500, 23) ]</code></span></summary><div><table><thead><tr></tr></thead><tbody><tr><td>HeadOrDefault</td><td><details class=\"dni-treeview\"><summary><span class=\"dni-code-hint\"><code>(300, 12)</code></span></summary><div><table><thead><tr></tr></thead><tbody><tr><td>Item1</td><td>300</td></tr><tr><td>Item2</td><td>12</td></tr></tbody></table></div></details></td></tr><tr><td>TailOrNull</td><td><details class=\"dni-treeview\"><summary><span class=\"dni-code-hint\"><code>[ (350, 15), (400, 17), (450, 20), (500, 23) ]</code></span></summary><div><table><thead><tr></tr></thead><tbody><tr><td>HeadOrDefault</td><td>(350, 15)</td></tr><tr><td>TailOrNull</td><td>[ (400, 17), (450, 20), (500, 23) ]</td></tr><tr><td>Head</td><td>(350, 15)</td></tr><tr><td>Tail</td><td>[ (400, 17), (450, 20), (500, 23) ]</td></tr><tr><td><i>(values)</i></td><td><table><thead><tr><th><i>index</i></th><th>value</th></tr></thead><tbody><tr><td>0</td><td>(350, 15)</td></tr><tr><td>1</td><td>(400, 17)</td></tr><tr><td>2</td><td>(450, 20)</td></tr><tr><td>3</td><td>(500, 23)</td></tr></tbody></table></td></tr></tbody></table></div></details></td></tr><tr><td>Head</td><td><details class=\"dni-treeview\"><summary><span class=\"dni-code-hint\"><code>(300, 12)</code></span></summary><div><table><thead><tr></tr></thead><tbody><tr><td>Item1</td><td>300</td></tr><tr><td>Item2</td><td>12</td></tr></tbody></table></div></details></td></tr><tr><td>Tail</td><td><details class=\"dni-treeview\"><summary><span class=\"dni-code-hint\"><code>[ (350, 15), (400, 17), (450, 20), (500, 23) ]</code></span></summary><div><table><thead><tr></tr></thead><tbody><tr><td>HeadOrDefault</td><td>(350, 15)</td></tr><tr><td>TailOrNull</td><td>[ (400, 17), (450, 20), (500, 23) ]</td></tr><tr><td>Head</td><td>(350, 15)</td></tr><tr><td>Tail</td><td>[ (400, 17), (450, 20), (500, 23) ]</td></tr><tr><td><i>(values)</i></td><td><table><thead><tr><th><i>index</i></th><th>value</th></tr></thead><tbody><tr><td>0</td><td>(350, 15)</td></tr><tr><td>1</td><td>(400, 17)</td></tr><tr><td>2</td><td>(450, 20)</td></tr><tr><td>3</td><td>(500, 23)</td></tr></tbody></table></td></tr></tbody></table></div></details></td></tr><tr><td><i>(values)</i></td><td><table><thead><tr><th><i>index</i></th><th>value</th></tr></thead><tbody><tr><td>0</td><td><details class=\"dni-treeview\"><summary><span class=\"dni-code-hint\"><code>(300, 12)</code></span></summary><div><table><thead><tr></tr></thead><tbody><tr><td>Item1</td><td>300</td></tr><tr><td>Item2</td><td>12</td></tr></tbody></table></div></details></td></tr><tr><td>1</td><td><details class=\"dni-treeview\"><summary><span class=\"dni-code-hint\"><code>(350, 15)</code></span></summary><div><table><thead><tr></tr></thead><tbody><tr><td>Item1</td><td>350</td></tr><tr><td>Item2</td><td>15</td></tr></tbody></table></div></details></td></tr><tr><td>2</td><td><details class=\"dni-treeview\"><summary><span class=\"dni-code-hint\"><code>(400, 17)</code></span></summary><div><table><thead><tr></tr></thead><tbody><tr><td>Item1</td><td>400</td></tr><tr><td>Item2</td><td>17</td></tr></tbody></table></div></details></td></tr><tr><td>3</td><td><details class=\"dni-treeview\"><summary><span class=\"dni-code-hint\"><code>(450, 20)</code></span></summary><div><table><thead><tr></tr></thead><tbody><tr><td>Item1</td><td>450</td></tr><tr><td>Item2</td><td>20</td></tr></tbody></table></div></details></td></tr><tr><td>4</td><td><details class=\"dni-treeview\"><summary><span class=\"dni-code-hint\"><code>(500, 23)</code></span></summary><div><table><thead><tr></tr></thead><tbody><tr><td>Item1</td><td>500</td></tr><tr><td>Item2</td><td>23</td></tr></tbody></table></div></details></td></tr></tbody></table></td></tr></tbody></table></div></details></td></tr><tr><td>Head</td><td><details class=\"dni-treeview\"><summary><span class=\"dni-code-hint\"><code>(250, 10)</code></span></summary><div><table><thead><tr></tr></thead><tbody><tr><td>Item1</td><td><div class=\"dni-plaintext\"><pre>250</pre></div></td></tr><tr><td>Item2</td><td><div class=\"dni-plaintext\"><pre>10</pre></div></td></tr></tbody></table></div></details></td></tr><tr><td>Tail</td><td><details class=\"dni-treeview\"><summary><span class=\"dni-code-hint\"><code>[ (300, 12), (350, 15), (400, 17), (450, 20), (500, 23) ]</code></span></summary><div><table><thead><tr></tr></thead><tbody><tr><td>HeadOrDefault</td><td><details class=\"dni-treeview\"><summary><span class=\"dni-code-hint\"><code>(300, 12)</code></span></summary><div><table><thead><tr></tr></thead><tbody><tr><td>Item1</td><td>300</td></tr><tr><td>Item2</td><td>12</td></tr></tbody></table></div></details></td></tr><tr><td>TailOrNull</td><td><details class=\"dni-treeview\"><summary><span class=\"dni-code-hint\"><code>[ (350, 15), (400, 17), (450, 20), (500, 23) ]</code></span></summary><div><table><thead><tr></tr></thead><tbody><tr><td>HeadOrDefault</td><td>(350, 15)</td></tr><tr><td>TailOrNull</td><td>[ (400, 17), (450, 20), (500, 23) ]</td></tr><tr><td>Head</td><td>(350, 15)</td></tr><tr><td>Tail</td><td>[ (400, 17), (450, 20), (500, 23) ]</td></tr><tr><td><i>(values)</i></td><td><table><thead><tr><th><i>index</i></th><th>value</th></tr></thead><tbody><tr><td>0</td><td>(350, 15)</td></tr><tr><td>1</td><td>(400, 17)</td></tr><tr><td>2</td><td>(450, 20)</td></tr><tr><td>3</td><td>(500, 23)</td></tr></tbody></table></td></tr></tbody></table></div></details></td></tr><tr><td>Head</td><td><details class=\"dni-treeview\"><summary><span class=\"dni-code-hint\"><code>(300, 12)</code></span></summary><div><table><thead><tr></tr></thead><tbody><tr><td>Item1</td><td>300</td></tr><tr><td>Item2</td><td>12</td></tr></tbody></table></div></details></td></tr><tr><td>Tail</td><td><details class=\"dni-treeview\"><summary><span class=\"dni-code-hint\"><code>[ (350, 15), (400, 17), (450, 20), (500, 23) ]</code></span></summary><div><table><thead><tr></tr></thead><tbody><tr><td>HeadOrDefault</td><td>(350, 15)</td></tr><tr><td>TailOrNull</td><td>[ (400, 17), (450, 20), (500, 23) ]</td></tr><tr><td>Head</td><td>(350, 15)</td></tr><tr><td>Tail</td><td>[ (400, 17), (450, 20), (500, 23) ]</td></tr><tr><td><i>(values)</i></td><td><table><thead><tr><th><i>index</i></th><th>value</th></tr></thead><tbody><tr><td>0</td><td>(350, 15)</td></tr><tr><td>1</td><td>(400, 17)</td></tr><tr><td>2</td><td>(450, 20)</td></tr><tr><td>3</td><td>(500, 23)</td></tr></tbody></table></td></tr></tbody></table></div></details></td></tr><tr><td><i>(values)</i></td><td><table><thead><tr><th><i>index</i></th><th>value</th></tr></thead><tbody><tr><td>0</td><td><details class=\"dni-treeview\"><summary><span class=\"dni-code-hint\"><code>(300, 12)</code></span></summary><div><table><thead><tr></tr></thead><tbody><tr><td>Item1</td><td>300</td></tr><tr><td>Item2</td><td>12</td></tr></tbody></table></div></details></td></tr><tr><td>1</td><td><details class=\"dni-treeview\"><summary><span class=\"dni-code-hint\"><code>(350, 15)</code></span></summary><div><table><thead><tr></tr></thead><tbody><tr><td>Item1</td><td>350</td></tr><tr><td>Item2</td><td>15</td></tr></tbody></table></div></details></td></tr><tr><td>2</td><td><details class=\"dni-treeview\"><summary><span class=\"dni-code-hint\"><code>(400, 17)</code></span></summary><div><table><thead><tr></tr></thead><tbody><tr><td>Item1</td><td>400</td></tr><tr><td>Item2</td><td>17</td></tr></tbody></table></div></details></td></tr><tr><td>3</td><td><details class=\"dni-treeview\"><summary><span class=\"dni-code-hint\"><code>(450, 20)</code></span></summary><div><table><thead><tr></tr></thead><tbody><tr><td>Item1</td><td>450</td></tr><tr><td>Item2</td><td>20</td></tr></tbody></table></div></details></td></tr><tr><td>4</td><td><details class=\"dni-treeview\"><summary><span class=\"dni-code-hint\"><code>(500, 23)</code></span></summary><div><table><thead><tr></tr></thead><tbody><tr><td>Item1</td><td>500</td></tr><tr><td>Item2</td><td>23</td></tr></tbody></table></div></details></td></tr></tbody></table></td></tr></tbody></table></div></details></td></tr><tr><td><i>(values)</i></td><td><table><thead><tr><th><i>index</i></th><th>value</th></tr></thead><tbody><tr><td>0</td><td><details class=\"dni-treeview\"><summary><span class=\"dni-code-hint\"><code>(250, 10)</code></span></summary><div><table><thead><tr></tr></thead><tbody><tr><td>Item1</td><td><div class=\"dni-plaintext\"><pre>250</pre></div></td></tr><tr><td>Item2</td><td><div class=\"dni-plaintext\"><pre>10</pre></div></td></tr></tbody></table></div></details></td></tr><tr><td>1</td><td><details class=\"dni-treeview\"><summary><span class=\"dni-code-hint\"><code>(300, 12)</code></span></summary><div><table><thead><tr></tr></thead><tbody><tr><td>Item1</td><td><div class=\"dni-plaintext\"><pre>300</pre></div></td></tr><tr><td>Item2</td><td><div class=\"dni-plaintext\"><pre>12</pre></div></td></tr></tbody></table></div></details></td></tr><tr><td>2</td><td><details class=\"dni-treeview\"><summary><span class=\"dni-code-hint\"><code>(350, 15)</code></span></summary><div><table><thead><tr></tr></thead><tbody><tr><td>Item1</td><td><div class=\"dni-plaintext\"><pre>350</pre></div></td></tr><tr><td>Item2</td><td><div class=\"dni-plaintext\"><pre>15</pre></div></td></tr></tbody></table></div></details></td></tr><tr><td>3</td><td><details class=\"dni-treeview\"><summary><span class=\"dni-code-hint\"><code>(400, 17)</code></span></summary><div><table><thead><tr></tr></thead><tbody><tr><td>Item1</td><td><div class=\"dni-plaintext\"><pre>400</pre></div></td></tr><tr><td>Item2</td><td><div class=\"dni-plaintext\"><pre>17</pre></div></td></tr></tbody></table></div></details></td></tr><tr><td>4</td><td><details class=\"dni-treeview\"><summary><span class=\"dni-code-hint\"><code>(450, 20)</code></span></summary><div><table><thead><tr></tr></thead><tbody><tr><td>Item1</td><td><div class=\"dni-plaintext\"><pre>450</pre></div></td></tr><tr><td>Item2</td><td><div class=\"dni-plaintext\"><pre>20</pre></div></td></tr></tbody></table></div></details></td></tr><tr><td>5</td><td><details class=\"dni-treeview\"><summary><span class=\"dni-code-hint\"><code>(500, 23)</code></span></summary><div><table><thead><tr></tr></thead><tbody><tr><td>Item1</td><td><div class=\"dni-plaintext\"><pre>500</pre></div></td></tr><tr><td>Item2</td><td><div class=\"dni-plaintext\"><pre>23</pre></div></td></tr></tbody></table></div></details></td></tr></tbody></table></td></tr></tbody></table></div></details></td></tr><tr><td>Head</td><td><details class=\"dni-treeview\"><summary><span class=\"dni-code-hint\"><code>(200, 7)</code></span></summary><div><table><thead><tr></tr></thead><tbody><tr><td>Item1</td><td><div class=\"dni-plaintext\"><pre>200</pre></div></td></tr><tr><td>Item2</td><td><div class=\"dni-plaintext\"><pre>7</pre></div></td></tr></tbody></table></div></details></td></tr><tr><td>Tail</td><td><details class=\"dni-treeview\"><summary><span class=\"dni-code-hint\"><code>[ (250, 10), (300, 12), (350, 15), (400, 17), (450, 20), (500, 23) ]</code></span></summary><div><table><thead><tr></tr></thead><tbody><tr><td>HeadOrDefault</td><td><details class=\"dni-treeview\"><summary><span class=\"dni-code-hint\"><code>(250, 10)</code></span></summary><div><table><thead><tr></tr></thead><tbody><tr><td>Item1</td><td><div class=\"dni-plaintext\"><pre>250</pre></div></td></tr><tr><td>Item2</td><td><div class=\"dni-plaintext\"><pre>10</pre></div></td></tr></tbody></table></div></details></td></tr><tr><td>TailOrNull</td><td><details class=\"dni-treeview\"><summary><span class=\"dni-code-hint\"><code>[ (300, 12), (350, 15), (400, 17), (450, 20), (500, 23) ]</code></span></summary><div><table><thead><tr></tr></thead><tbody><tr><td>HeadOrDefault</td><td><details class=\"dni-treeview\"><summary><span class=\"dni-code-hint\"><code>(300, 12)</code></span></summary><div><table><thead><tr></tr></thead><tbody><tr><td>Item1</td><td>300</td></tr><tr><td>Item2</td><td>12</td></tr></tbody></table></div></details></td></tr><tr><td>TailOrNull</td><td><details class=\"dni-treeview\"><summary><span class=\"dni-code-hint\"><code>[ (350, 15), (400, 17), (450, 20), (500, 23) ]</code></span></summary><div><table><thead><tr></tr></thead><tbody><tr><td>HeadOrDefault</td><td>(350, 15)</td></tr><tr><td>TailOrNull</td><td>[ (400, 17), (450, 20), (500, 23) ]</td></tr><tr><td>Head</td><td>(350, 15)</td></tr><tr><td>Tail</td><td>[ (400, 17), (450, 20), (500, 23) ]</td></tr><tr><td><i>(values)</i></td><td><table><thead><tr><th><i>index</i></th><th>value</th></tr></thead><tbody><tr><td>0</td><td>(350, 15)</td></tr><tr><td>1</td><td>(400, 17)</td></tr><tr><td>2</td><td>(450, 20)</td></tr><tr><td>3</td><td>(500, 23)</td></tr></tbody></table></td></tr></tbody></table></div></details></td></tr><tr><td>Head</td><td><details class=\"dni-treeview\"><summary><span class=\"dni-code-hint\"><code>(300, 12)</code></span></summary><div><table><thead><tr></tr></thead><tbody><tr><td>Item1</td><td>300</td></tr><tr><td>Item2</td><td>12</td></tr></tbody></table></div></details></td></tr><tr><td>Tail</td><td><details class=\"dni-treeview\"><summary><span class=\"dni-code-hint\"><code>[ (350, 15), (400, 17), (450, 20), (500, 23) ]</code></span></summary><div><table><thead><tr></tr></thead><tbody><tr><td>HeadOrDefault</td><td>(350, 15)</td></tr><tr><td>TailOrNull</td><td>[ (400, 17), (450, 20), (500, 23) ]</td></tr><tr><td>Head</td><td>(350, 15)</td></tr><tr><td>Tail</td><td>[ (400, 17), (450, 20), (500, 23) ]</td></tr><tr><td><i>(values)</i></td><td><table><thead><tr><th><i>index</i></th><th>value</th></tr></thead><tbody><tr><td>0</td><td>(350, 15)</td></tr><tr><td>1</td><td>(400, 17)</td></tr><tr><td>2</td><td>(450, 20)</td></tr><tr><td>3</td><td>(500, 23)</td></tr></tbody></table></td></tr></tbody></table></div></details></td></tr><tr><td><i>(values)</i></td><td><table><thead><tr><th><i>index</i></th><th>value</th></tr></thead><tbody><tr><td>0</td><td><details class=\"dni-treeview\"><summary><span class=\"dni-code-hint\"><code>(300, 12)</code></span></summary><div><table><thead><tr></tr></thead><tbody><tr><td>Item1</td><td>300</td></tr><tr><td>Item2</td><td>12</td></tr></tbody></table></div></details></td></tr><tr><td>1</td><td><details class=\"dni-treeview\"><summary><span class=\"dni-code-hint\"><code>(350, 15)</code></span></summary><div><table><thead><tr></tr></thead><tbody><tr><td>Item1</td><td>350</td></tr><tr><td>Item2</td><td>15</td></tr></tbody></table></div></details></td></tr><tr><td>2</td><td><details class=\"dni-treeview\"><summary><span class=\"dni-code-hint\"><code>(400, 17)</code></span></summary><div><table><thead><tr></tr></thead><tbody><tr><td>Item1</td><td>400</td></tr><tr><td>Item2</td><td>17</td></tr></tbody></table></div></details></td></tr><tr><td>3</td><td><details class=\"dni-treeview\"><summary><span class=\"dni-code-hint\"><code>(450, 20)</code></span></summary><div><table><thead><tr></tr></thead><tbody><tr><td>Item1</td><td>450</td></tr><tr><td>Item2</td><td>20</td></tr></tbody></table></div></details></td></tr><tr><td>4</td><td><details class=\"dni-treeview\"><summary><span class=\"dni-code-hint\"><code>(500, 23)</code></span></summary><div><table><thead><tr></tr></thead><tbody><tr><td>Item1</td><td>500</td></tr><tr><td>Item2</td><td>23</td></tr></tbody></table></div></details></td></tr></tbody></table></td></tr></tbody></table></div></details></td></tr><tr><td>Head</td><td><details class=\"dni-treeview\"><summary><span class=\"dni-code-hint\"><code>(250, 10)</code></span></summary><div><table><thead><tr></tr></thead><tbody><tr><td>Item1</td><td><div class=\"dni-plaintext\"><pre>250</pre></div></td></tr><tr><td>Item2</td><td><div class=\"dni-plaintext\"><pre>10</pre></div></td></tr></tbody></table></div></details></td></tr><tr><td>Tail</td><td><details class=\"dni-treeview\"><summary><span class=\"dni-code-hint\"><code>[ (300, 12), (350, 15), (400, 17), (450, 20), (500, 23) ]</code></span></summary><div><table><thead><tr></tr></thead><tbody><tr><td>HeadOrDefault</td><td><details class=\"dni-treeview\"><summary><span class=\"dni-code-hint\"><code>(300, 12)</code></span></summary><div><table><thead><tr></tr></thead><tbody><tr><td>Item1</td><td>300</td></tr><tr><td>Item2</td><td>12</td></tr></tbody></table></div></details></td></tr><tr><td>TailOrNull</td><td><details class=\"dni-treeview\"><summary><span class=\"dni-code-hint\"><code>[ (350, 15), (400, 17), (450, 20), (500, 23) ]</code></span></summary><div><table><thead><tr></tr></thead><tbody><tr><td>HeadOrDefault</td><td>(350, 15)</td></tr><tr><td>TailOrNull</td><td>[ (400, 17), (450, 20), (500, 23) ]</td></tr><tr><td>Head</td><td>(350, 15)</td></tr><tr><td>Tail</td><td>[ (400, 17), (450, 20), (500, 23) ]</td></tr><tr><td><i>(values)</i></td><td><table><thead><tr><th><i>index</i></th><th>value</th></tr></thead><tbody><tr><td>0</td><td>(350, 15)</td></tr><tr><td>1</td><td>(400, 17)</td></tr><tr><td>2</td><td>(450, 20)</td></tr><tr><td>3</td><td>(500, 23)</td></tr></tbody></table></td></tr></tbody></table></div></details></td></tr><tr><td>Head</td><td><details class=\"dni-treeview\"><summary><span class=\"dni-code-hint\"><code>(300, 12)</code></span></summary><div><table><thead><tr></tr></thead><tbody><tr><td>Item1</td><td>300</td></tr><tr><td>Item2</td><td>12</td></tr></tbody></table></div></details></td></tr><tr><td>Tail</td><td><details class=\"dni-treeview\"><summary><span class=\"dni-code-hint\"><code>[ (350, 15), (400, 17), (450, 20), (500, 23) ]</code></span></summary><div><table><thead><tr></tr></thead><tbody><tr><td>HeadOrDefault</td><td>(350, 15)</td></tr><tr><td>TailOrNull</td><td>[ (400, 17), (450, 20), (500, 23) ]</td></tr><tr><td>Head</td><td>(350, 15)</td></tr><tr><td>Tail</td><td>[ (400, 17), (450, 20), (500, 23) ]</td></tr><tr><td><i>(values)</i></td><td><table><thead><tr><th><i>index</i></th><th>value</th></tr></thead><tbody><tr><td>0</td><td>(350, 15)</td></tr><tr><td>1</td><td>(400, 17)</td></tr><tr><td>2</td><td>(450, 20)</td></tr><tr><td>3</td><td>(500, 23)</td></tr></tbody></table></td></tr></tbody></table></div></details></td></tr><tr><td><i>(values)</i></td><td><table><thead><tr><th><i>index</i></th><th>value</th></tr></thead><tbody><tr><td>0</td><td><details class=\"dni-treeview\"><summary><span class=\"dni-code-hint\"><code>(300, 12)</code></span></summary><div><table><thead><tr></tr></thead><tbody><tr><td>Item1</td><td>300</td></tr><tr><td>Item2</td><td>12</td></tr></tbody></table></div></details></td></tr><tr><td>1</td><td><details class=\"dni-treeview\"><summary><span class=\"dni-code-hint\"><code>(350, 15)</code></span></summary><div><table><thead><tr></tr></thead><tbody><tr><td>Item1</td><td>350</td></tr><tr><td>Item2</td><td>15</td></tr></tbody></table></div></details></td></tr><tr><td>2</td><td><details class=\"dni-treeview\"><summary><span class=\"dni-code-hint\"><code>(400, 17)</code></span></summary><div><table><thead><tr></tr></thead><tbody><tr><td>Item1</td><td>400</td></tr><tr><td>Item2</td><td>17</td></tr></tbody></table></div></details></td></tr><tr><td>3</td><td><details class=\"dni-treeview\"><summary><span class=\"dni-code-hint\"><code>(450, 20)</code></span></summary><div><table><thead><tr></tr></thead><tbody><tr><td>Item1</td><td>450</td></tr><tr><td>Item2</td><td>20</td></tr></tbody></table></div></details></td></tr><tr><td>4</td><td><details class=\"dni-treeview\"><summary><span class=\"dni-code-hint\"><code>(500, 23)</code></span></summary><div><table><thead><tr></tr></thead><tbody><tr><td>Item1</td><td>500</td></tr><tr><td>Item2</td><td>23</td></tr></tbody></table></div></details></td></tr></tbody></table></td></tr></tbody></table></div></details></td></tr><tr><td><i>(values)</i></td><td><table><thead><tr><th><i>index</i></th><th>value</th></tr></thead><tbody><tr><td>0</td><td><details class=\"dni-treeview\"><summary><span class=\"dni-code-hint\"><code>(250, 10)</code></span></summary><div><table><thead><tr></tr></thead><tbody><tr><td>Item1</td><td><div class=\"dni-plaintext\"><pre>250</pre></div></td></tr><tr><td>Item2</td><td><div class=\"dni-plaintext\"><pre>10</pre></div></td></tr></tbody></table></div></details></td></tr><tr><td>1</td><td><details class=\"dni-treeview\"><summary><span class=\"dni-code-hint\"><code>(300, 12)</code></span></summary><div><table><thead><tr></tr></thead><tbody><tr><td>Item1</td><td><div class=\"dni-plaintext\"><pre>300</pre></div></td></tr><tr><td>Item2</td><td><div class=\"dni-plaintext\"><pre>12</pre></div></td></tr></tbody></table></div></details></td></tr><tr><td>2</td><td><details class=\"dni-treeview\"><summary><span class=\"dni-code-hint\"><code>(350, 15)</code></span></summary><div><table><thead><tr></tr></thead><tbody><tr><td>Item1</td><td><div class=\"dni-plaintext\"><pre>350</pre></div></td></tr><tr><td>Item2</td><td><div class=\"dni-plaintext\"><pre>15</pre></div></td></tr></tbody></table></div></details></td></tr><tr><td>3</td><td><details class=\"dni-treeview\"><summary><span class=\"dni-code-hint\"><code>(400, 17)</code></span></summary><div><table><thead><tr></tr></thead><tbody><tr><td>Item1</td><td><div class=\"dni-plaintext\"><pre>400</pre></div></td></tr><tr><td>Item2</td><td><div class=\"dni-plaintext\"><pre>17</pre></div></td></tr></tbody></table></div></details></td></tr><tr><td>4</td><td><details class=\"dni-treeview\"><summary><span class=\"dni-code-hint\"><code>(450, 20)</code></span></summary><div><table><thead><tr></tr></thead><tbody><tr><td>Item1</td><td><div class=\"dni-plaintext\"><pre>450</pre></div></td></tr><tr><td>Item2</td><td><div class=\"dni-plaintext\"><pre>20</pre></div></td></tr></tbody></table></div></details></td></tr><tr><td>5</td><td><details class=\"dni-treeview\"><summary><span class=\"dni-code-hint\"><code>(500, 23)</code></span></summary><div><table><thead><tr></tr></thead><tbody><tr><td>Item1</td><td><div class=\"dni-plaintext\"><pre>500</pre></div></td></tr><tr><td>Item2</td><td><div class=\"dni-plaintext\"><pre>23</pre></div></td></tr></tbody></table></div></details></td></tr></tbody></table></td></tr></tbody></table></div></details></td></tr><tr><td><i>(values)</i></td><td><table><thead><tr><th><i>index</i></th><th>value</th></tr></thead><tbody><tr><td>0</td><td><details class=\"dni-treeview\"><summary><span class=\"dni-code-hint\"><code>(200, 7)</code></span></summary><div><table><thead><tr></tr></thead><tbody><tr><td>Item1</td><td><div class=\"dni-plaintext\"><pre>200</pre></div></td></tr><tr><td>Item2</td><td><div class=\"dni-plaintext\"><pre>7</pre></div></td></tr></tbody></table></div></details></td></tr><tr><td>1</td><td><details class=\"dni-treeview\"><summary><span class=\"dni-code-hint\"><code>(250, 10)</code></span></summary><div><table><thead><tr></tr></thead><tbody><tr><td>Item1</td><td><div class=\"dni-plaintext\"><pre>250</pre></div></td></tr><tr><td>Item2</td><td><div class=\"dni-plaintext\"><pre>10</pre></div></td></tr></tbody></table></div></details></td></tr><tr><td>2</td><td><details class=\"dni-treeview\"><summary><span class=\"dni-code-hint\"><code>(300, 12)</code></span></summary><div><table><thead><tr></tr></thead><tbody><tr><td>Item1</td><td><div class=\"dni-plaintext\"><pre>300</pre></div></td></tr><tr><td>Item2</td><td><div class=\"dni-plaintext\"><pre>12</pre></div></td></tr></tbody></table></div></details></td></tr><tr><td>3</td><td><details class=\"dni-treeview\"><summary><span class=\"dni-code-hint\"><code>(350, 15)</code></span></summary><div><table><thead><tr></tr></thead><tbody><tr><td>Item1</td><td><div class=\"dni-plaintext\"><pre>350</pre></div></td></tr><tr><td>Item2</td><td><div class=\"dni-plaintext\"><pre>15</pre></div></td></tr></tbody></table></div></details></td></tr><tr><td>4</td><td><details class=\"dni-treeview\"><summary><span class=\"dni-code-hint\"><code>(400, 17)</code></span></summary><div><table><thead><tr></tr></thead><tbody><tr><td>Item1</td><td><div class=\"dni-plaintext\"><pre>400</pre></div></td></tr><tr><td>Item2</td><td><div class=\"dni-plaintext\"><pre>17</pre></div></td></tr></tbody></table></div></details></td></tr><tr><td>5</td><td><details class=\"dni-treeview\"><summary><span class=\"dni-code-hint\"><code>(450, 20)</code></span></summary><div><table><thead><tr></tr></thead><tbody><tr><td>Item1</td><td><div class=\"dni-plaintext\"><pre>450</pre></div></td></tr><tr><td>Item2</td><td><div class=\"dni-plaintext\"><pre>20</pre></div></td></tr></tbody></table></div></details></td></tr><tr><td>6</td><td><details class=\"dni-treeview\"><summary><span class=\"dni-code-hint\"><code>(500, 23)</code></span></summary><div><table><thead><tr></tr></thead><tbody><tr><td>Item1</td><td><div class=\"dni-plaintext\"><pre>500</pre></div></td></tr><tr><td>Item2</td><td><div class=\"dni-plaintext\"><pre>23</pre></div></td></tr></tbody></table></div></details></td></tr></tbody></table></td></tr></tbody></table></div></details></td></tr><tr><td>Head</td><td><details class=\"dni-treeview\"><summary><span class=\"dni-code-hint\"><code>(150, 5)</code></span></summary><div><table><thead><tr></tr></thead><tbody><tr><td>Item1</td><td><div class=\"dni-plaintext\"><pre>150</pre></div></td></tr><tr><td>Item2</td><td><div class=\"dni-plaintext\"><pre>5</pre></div></td></tr></tbody></table></div></details></td></tr><tr><td>Tail</td><td><details class=\"dni-treeview\"><summary><span class=\"dni-code-hint\"><code>[ (200, 7), (250, 10), (300, 12), (350, 15), (400, 17), (450, 20), (500, 23) ]</code></span></summary><div><table><thead><tr></tr></thead><tbody><tr><td>HeadOrDefault</td><td><details class=\"dni-treeview\"><summary><span class=\"dni-code-hint\"><code>(200, 7)</code></span></summary><div><table><thead><tr></tr></thead><tbody><tr><td>Item1</td><td><div class=\"dni-plaintext\"><pre>200</pre></div></td></tr><tr><td>Item2</td><td><div class=\"dni-plaintext\"><pre>7</pre></div></td></tr></tbody></table></div></details></td></tr><tr><td>TailOrNull</td><td><details class=\"dni-treeview\"><summary><span class=\"dni-code-hint\"><code>[ (250, 10), (300, 12), (350, 15), (400, 17), (450, 20), (500, 23) ]</code></span></summary><div><table><thead><tr></tr></thead><tbody><tr><td>HeadOrDefault</td><td><details class=\"dni-treeview\"><summary><span class=\"dni-code-hint\"><code>(250, 10)</code></span></summary><div><table><thead><tr></tr></thead><tbody><tr><td>Item1</td><td><div class=\"dni-plaintext\"><pre>250</pre></div></td></tr><tr><td>Item2</td><td><div class=\"dni-plaintext\"><pre>10</pre></div></td></tr></tbody></table></div></details></td></tr><tr><td>TailOrNull</td><td><details class=\"dni-treeview\"><summary><span class=\"dni-code-hint\"><code>[ (300, 12), (350, 15), (400, 17), (450, 20), (500, 23) ]</code></span></summary><div><table><thead><tr></tr></thead><tbody><tr><td>HeadOrDefault</td><td><details class=\"dni-treeview\"><summary><span class=\"dni-code-hint\"><code>(300, 12)</code></span></summary><div><table><thead><tr></tr></thead><tbody><tr><td>Item1</td><td>300</td></tr><tr><td>Item2</td><td>12</td></tr></tbody></table></div></details></td></tr><tr><td>TailOrNull</td><td><details class=\"dni-treeview\"><summary><span class=\"dni-code-hint\"><code>[ (350, 15), (400, 17), (450, 20), (500, 23) ]</code></span></summary><div><table><thead><tr></tr></thead><tbody><tr><td>HeadOrDefault</td><td>(350, 15)</td></tr><tr><td>TailOrNull</td><td>[ (400, 17), (450, 20), (500, 23) ]</td></tr><tr><td>Head</td><td>(350, 15)</td></tr><tr><td>Tail</td><td>[ (400, 17), (450, 20), (500, 23) ]</td></tr><tr><td><i>(values)</i></td><td><table><thead><tr><th><i>index</i></th><th>value</th></tr></thead><tbody><tr><td>0</td><td>(350, 15)</td></tr><tr><td>1</td><td>(400, 17)</td></tr><tr><td>2</td><td>(450, 20)</td></tr><tr><td>3</td><td>(500, 23)</td></tr></tbody></table></td></tr></tbody></table></div></details></td></tr><tr><td>Head</td><td><details class=\"dni-treeview\"><summary><span class=\"dni-code-hint\"><code>(300, 12)</code></span></summary><div><table><thead><tr></tr></thead><tbody><tr><td>Item1</td><td>300</td></tr><tr><td>Item2</td><td>12</td></tr></tbody></table></div></details></td></tr><tr><td>Tail</td><td><details class=\"dni-treeview\"><summary><span class=\"dni-code-hint\"><code>[ (350, 15), (400, 17), (450, 20), (500, 23) ]</code></span></summary><div><table><thead><tr></tr></thead><tbody><tr><td>HeadOrDefault</td><td>(350, 15)</td></tr><tr><td>TailOrNull</td><td>[ (400, 17), (450, 20), (500, 23) ]</td></tr><tr><td>Head</td><td>(350, 15)</td></tr><tr><td>Tail</td><td>[ (400, 17), (450, 20), (500, 23) ]</td></tr><tr><td><i>(values)</i></td><td><table><thead><tr><th><i>index</i></th><th>value</th></tr></thead><tbody><tr><td>0</td><td>(350, 15)</td></tr><tr><td>1</td><td>(400, 17)</td></tr><tr><td>2</td><td>(450, 20)</td></tr><tr><td>3</td><td>(500, 23)</td></tr></tbody></table></td></tr></tbody></table></div></details></td></tr><tr><td><i>(values)</i></td><td><table><thead><tr><th><i>index</i></th><th>value</th></tr></thead><tbody><tr><td>0</td><td><details class=\"dni-treeview\"><summary><span class=\"dni-code-hint\"><code>(300, 12)</code></span></summary><div><table><thead><tr></tr></thead><tbody><tr><td>Item1</td><td>300</td></tr><tr><td>Item2</td><td>12</td></tr></tbody></table></div></details></td></tr><tr><td>1</td><td><details class=\"dni-treeview\"><summary><span class=\"dni-code-hint\"><code>(350, 15)</code></span></summary><div><table><thead><tr></tr></thead><tbody><tr><td>Item1</td><td>350</td></tr><tr><td>Item2</td><td>15</td></tr></tbody></table></div></details></td></tr><tr><td>2</td><td><details class=\"dni-treeview\"><summary><span class=\"dni-code-hint\"><code>(400, 17)</code></span></summary><div><table><thead><tr></tr></thead><tbody><tr><td>Item1</td><td>400</td></tr><tr><td>Item2</td><td>17</td></tr></tbody></table></div></details></td></tr><tr><td>3</td><td><details class=\"dni-treeview\"><summary><span class=\"dni-code-hint\"><code>(450, 20)</code></span></summary><div><table><thead><tr></tr></thead><tbody><tr><td>Item1</td><td>450</td></tr><tr><td>Item2</td><td>20</td></tr></tbody></table></div></details></td></tr><tr><td>4</td><td><details class=\"dni-treeview\"><summary><span class=\"dni-code-hint\"><code>(500, 23)</code></span></summary><div><table><thead><tr></tr></thead><tbody><tr><td>Item1</td><td>500</td></tr><tr><td>Item2</td><td>23</td></tr></tbody></table></div></details></td></tr></tbody></table></td></tr></tbody></table></div></details></td></tr><tr><td>Head</td><td><details class=\"dni-treeview\"><summary><span class=\"dni-code-hint\"><code>(250, 10)</code></span></summary><div><table><thead><tr></tr></thead><tbody><tr><td>Item1</td><td><div class=\"dni-plaintext\"><pre>250</pre></div></td></tr><tr><td>Item2</td><td><div class=\"dni-plaintext\"><pre>10</pre></div></td></tr></tbody></table></div></details></td></tr><tr><td>Tail</td><td><details class=\"dni-treeview\"><summary><span class=\"dni-code-hint\"><code>[ (300, 12), (350, 15), (400, 17), (450, 20), (500, 23) ]</code></span></summary><div><table><thead><tr></tr></thead><tbody><tr><td>HeadOrDefault</td><td><details class=\"dni-treeview\"><summary><span class=\"dni-code-hint\"><code>(300, 12)</code></span></summary><div><table><thead><tr></tr></thead><tbody><tr><td>Item1</td><td>300</td></tr><tr><td>Item2</td><td>12</td></tr></tbody></table></div></details></td></tr><tr><td>TailOrNull</td><td><details class=\"dni-treeview\"><summary><span class=\"dni-code-hint\"><code>[ (350, 15), (400, 17), (450, 20), (500, 23) ]</code></span></summary><div><table><thead><tr></tr></thead><tbody><tr><td>HeadOrDefault</td><td>(350, 15)</td></tr><tr><td>TailOrNull</td><td>[ (400, 17), (450, 20), (500, 23) ]</td></tr><tr><td>Head</td><td>(350, 15)</td></tr><tr><td>Tail</td><td>[ (400, 17), (450, 20), (500, 23) ]</td></tr><tr><td><i>(values)</i></td><td><table><thead><tr><th><i>index</i></th><th>value</th></tr></thead><tbody><tr><td>0</td><td>(350, 15)</td></tr><tr><td>1</td><td>(400, 17)</td></tr><tr><td>2</td><td>(450, 20)</td></tr><tr><td>3</td><td>(500, 23)</td></tr></tbody></table></td></tr></tbody></table></div></details></td></tr><tr><td>Head</td><td><details class=\"dni-treeview\"><summary><span class=\"dni-code-hint\"><code>(300, 12)</code></span></summary><div><table><thead><tr></tr></thead><tbody><tr><td>Item1</td><td>300</td></tr><tr><td>Item2</td><td>12</td></tr></tbody></table></div></details></td></tr><tr><td>Tail</td><td><details class=\"dni-treeview\"><summary><span class=\"dni-code-hint\"><code>[ (350, 15), (400, 17), (450, 20), (500, 23) ]</code></span></summary><div><table><thead><tr></tr></thead><tbody><tr><td>HeadOrDefault</td><td>(350, 15)</td></tr><tr><td>TailOrNull</td><td>[ (400, 17), (450, 20), (500, 23) ]</td></tr><tr><td>Head</td><td>(350, 15)</td></tr><tr><td>Tail</td><td>[ (400, 17), (450, 20), (500, 23) ]</td></tr><tr><td><i>(values)</i></td><td><table><thead><tr><th><i>index</i></th><th>value</th></tr></thead><tbody><tr><td>0</td><td>(350, 15)</td></tr><tr><td>1</td><td>(400, 17)</td></tr><tr><td>2</td><td>(450, 20)</td></tr><tr><td>3</td><td>(500, 23)</td></tr></tbody></table></td></tr></tbody></table></div></details></td></tr><tr><td><i>(values)</i></td><td><table><thead><tr><th><i>index</i></th><th>value</th></tr></thead><tbody><tr><td>0</td><td><details class=\"dni-treeview\"><summary><span class=\"dni-code-hint\"><code>(300, 12)</code></span></summary><div><table><thead><tr></tr></thead><tbody><tr><td>Item1</td><td>300</td></tr><tr><td>Item2</td><td>12</td></tr></tbody></table></div></details></td></tr><tr><td>1</td><td><details class=\"dni-treeview\"><summary><span class=\"dni-code-hint\"><code>(350, 15)</code></span></summary><div><table><thead><tr></tr></thead><tbody><tr><td>Item1</td><td>350</td></tr><tr><td>Item2</td><td>15</td></tr></tbody></table></div></details></td></tr><tr><td>2</td><td><details class=\"dni-treeview\"><summary><span class=\"dni-code-hint\"><code>(400, 17)</code></span></summary><div><table><thead><tr></tr></thead><tbody><tr><td>Item1</td><td>400</td></tr><tr><td>Item2</td><td>17</td></tr></tbody></table></div></details></td></tr><tr><td>3</td><td><details class=\"dni-treeview\"><summary><span class=\"dni-code-hint\"><code>(450, 20)</code></span></summary><div><table><thead><tr></tr></thead><tbody><tr><td>Item1</td><td>450</td></tr><tr><td>Item2</td><td>20</td></tr></tbody></table></div></details></td></tr><tr><td>4</td><td><details class=\"dni-treeview\"><summary><span class=\"dni-code-hint\"><code>(500, 23)</code></span></summary><div><table><thead><tr></tr></thead><tbody><tr><td>Item1</td><td>500</td></tr><tr><td>Item2</td><td>23</td></tr></tbody></table></div></details></td></tr></tbody></table></td></tr></tbody></table></div></details></td></tr><tr><td><i>(values)</i></td><td><table><thead><tr><th><i>index</i></th><th>value</th></tr></thead><tbody><tr><td>0</td><td><details class=\"dni-treeview\"><summary><span class=\"dni-code-hint\"><code>(250, 10)</code></span></summary><div><table><thead><tr></tr></thead><tbody><tr><td>Item1</td><td><div class=\"dni-plaintext\"><pre>250</pre></div></td></tr><tr><td>Item2</td><td><div class=\"dni-plaintext\"><pre>10</pre></div></td></tr></tbody></table></div></details></td></tr><tr><td>1</td><td><details class=\"dni-treeview\"><summary><span class=\"dni-code-hint\"><code>(300, 12)</code></span></summary><div><table><thead><tr></tr></thead><tbody><tr><td>Item1</td><td><div class=\"dni-plaintext\"><pre>300</pre></div></td></tr><tr><td>Item2</td><td><div class=\"dni-plaintext\"><pre>12</pre></div></td></tr></tbody></table></div></details></td></tr><tr><td>2</td><td><details class=\"dni-treeview\"><summary><span class=\"dni-code-hint\"><code>(350, 15)</code></span></summary><div><table><thead><tr></tr></thead><tbody><tr><td>Item1</td><td><div class=\"dni-plaintext\"><pre>350</pre></div></td></tr><tr><td>Item2</td><td><div class=\"dni-plaintext\"><pre>15</pre></div></td></tr></tbody></table></div></details></td></tr><tr><td>3</td><td><details class=\"dni-treeview\"><summary><span class=\"dni-code-hint\"><code>(400, 17)</code></span></summary><div><table><thead><tr></tr></thead><tbody><tr><td>Item1</td><td><div class=\"dni-plaintext\"><pre>400</pre></div></td></tr><tr><td>Item2</td><td><div class=\"dni-plaintext\"><pre>17</pre></div></td></tr></tbody></table></div></details></td></tr><tr><td>4</td><td><details class=\"dni-treeview\"><summary><span class=\"dni-code-hint\"><code>(450, 20)</code></span></summary><div><table><thead><tr></tr></thead><tbody><tr><td>Item1</td><td><div class=\"dni-plaintext\"><pre>450</pre></div></td></tr><tr><td>Item2</td><td><div class=\"dni-plaintext\"><pre>20</pre></div></td></tr></tbody></table></div></details></td></tr><tr><td>5</td><td><details class=\"dni-treeview\"><summary><span class=\"dni-code-hint\"><code>(500, 23)</code></span></summary><div><table><thead><tr></tr></thead><tbody><tr><td>Item1</td><td><div class=\"dni-plaintext\"><pre>500</pre></div></td></tr><tr><td>Item2</td><td><div class=\"dni-plaintext\"><pre>23</pre></div></td></tr></tbody></table></div></details></td></tr></tbody></table></td></tr></tbody></table></div></details></td></tr><tr><td>Head</td><td><details class=\"dni-treeview\"><summary><span class=\"dni-code-hint\"><code>(200, 7)</code></span></summary><div><table><thead><tr></tr></thead><tbody><tr><td>Item1</td><td><div class=\"dni-plaintext\"><pre>200</pre></div></td></tr><tr><td>Item2</td><td><div class=\"dni-plaintext\"><pre>7</pre></div></td></tr></tbody></table></div></details></td></tr><tr><td>Tail</td><td><details class=\"dni-treeview\"><summary><span class=\"dni-code-hint\"><code>[ (250, 10), (300, 12), (350, 15), (400, 17), (450, 20), (500, 23) ]</code></span></summary><div><table><thead><tr></tr></thead><tbody><tr><td>HeadOrDefault</td><td><details class=\"dni-treeview\"><summary><span class=\"dni-code-hint\"><code>(250, 10)</code></span></summary><div><table><thead><tr></tr></thead><tbody><tr><td>Item1</td><td><div class=\"dni-plaintext\"><pre>250</pre></div></td></tr><tr><td>Item2</td><td><div class=\"dni-plaintext\"><pre>10</pre></div></td></tr></tbody></table></div></details></td></tr><tr><td>TailOrNull</td><td><details class=\"dni-treeview\"><summary><span class=\"dni-code-hint\"><code>[ (300, 12), (350, 15), (400, 17), (450, 20), (500, 23) ]</code></span></summary><div><table><thead><tr></tr></thead><tbody><tr><td>HeadOrDefault</td><td><details class=\"dni-treeview\"><summary><span class=\"dni-code-hint\"><code>(300, 12)</code></span></summary><div><table><thead><tr></tr></thead><tbody><tr><td>Item1</td><td>300</td></tr><tr><td>Item2</td><td>12</td></tr></tbody></table></div></details></td></tr><tr><td>TailOrNull</td><td><details class=\"dni-treeview\"><summary><span class=\"dni-code-hint\"><code>[ (350, 15), (400, 17), (450, 20), (500, 23) ]</code></span></summary><div><table><thead><tr></tr></thead><tbody><tr><td>HeadOrDefault</td><td>(350, 15)</td></tr><tr><td>TailOrNull</td><td>[ (400, 17), (450, 20), (500, 23) ]</td></tr><tr><td>Head</td><td>(350, 15)</td></tr><tr><td>Tail</td><td>[ (400, 17), (450, 20), (500, 23) ]</td></tr><tr><td><i>(values)</i></td><td><table><thead><tr><th><i>index</i></th><th>value</th></tr></thead><tbody><tr><td>0</td><td>(350, 15)</td></tr><tr><td>1</td><td>(400, 17)</td></tr><tr><td>2</td><td>(450, 20)</td></tr><tr><td>3</td><td>(500, 23)</td></tr></tbody></table></td></tr></tbody></table></div></details></td></tr><tr><td>Head</td><td><details class=\"dni-treeview\"><summary><span class=\"dni-code-hint\"><code>(300, 12)</code></span></summary><div><table><thead><tr></tr></thead><tbody><tr><td>Item1</td><td>300</td></tr><tr><td>Item2</td><td>12</td></tr></tbody></table></div></details></td></tr><tr><td>Tail</td><td><details class=\"dni-treeview\"><summary><span class=\"dni-code-hint\"><code>[ (350, 15), (400, 17), (450, 20), (500, 23) ]</code></span></summary><div><table><thead><tr></tr></thead><tbody><tr><td>HeadOrDefault</td><td>(350, 15)</td></tr><tr><td>TailOrNull</td><td>[ (400, 17), (450, 20), (500, 23) ]</td></tr><tr><td>Head</td><td>(350, 15)</td></tr><tr><td>Tail</td><td>[ (400, 17), (450, 20), (500, 23) ]</td></tr><tr><td><i>(values)</i></td><td><table><thead><tr><th><i>index</i></th><th>value</th></tr></thead><tbody><tr><td>0</td><td>(350, 15)</td></tr><tr><td>1</td><td>(400, 17)</td></tr><tr><td>2</td><td>(450, 20)</td></tr><tr><td>3</td><td>(500, 23)</td></tr></tbody></table></td></tr></tbody></table></div></details></td></tr><tr><td><i>(values)</i></td><td><table><thead><tr><th><i>index</i></th><th>value</th></tr></thead><tbody><tr><td>0</td><td><details class=\"dni-treeview\"><summary><span class=\"dni-code-hint\"><code>(300, 12)</code></span></summary><div><table><thead><tr></tr></thead><tbody><tr><td>Item1</td><td>300</td></tr><tr><td>Item2</td><td>12</td></tr></tbody></table></div></details></td></tr><tr><td>1</td><td><details class=\"dni-treeview\"><summary><span class=\"dni-code-hint\"><code>(350, 15)</code></span></summary><div><table><thead><tr></tr></thead><tbody><tr><td>Item1</td><td>350</td></tr><tr><td>Item2</td><td>15</td></tr></tbody></table></div></details></td></tr><tr><td>2</td><td><details class=\"dni-treeview\"><summary><span class=\"dni-code-hint\"><code>(400, 17)</code></span></summary><div><table><thead><tr></tr></thead><tbody><tr><td>Item1</td><td>400</td></tr><tr><td>Item2</td><td>17</td></tr></tbody></table></div></details></td></tr><tr><td>3</td><td><details class=\"dni-treeview\"><summary><span class=\"dni-code-hint\"><code>(450, 20)</code></span></summary><div><table><thead><tr></tr></thead><tbody><tr><td>Item1</td><td>450</td></tr><tr><td>Item2</td><td>20</td></tr></tbody></table></div></details></td></tr><tr><td>4</td><td><details class=\"dni-treeview\"><summary><span class=\"dni-code-hint\"><code>(500, 23)</code></span></summary><div><table><thead><tr></tr></thead><tbody><tr><td>Item1</td><td>500</td></tr><tr><td>Item2</td><td>23</td></tr></tbody></table></div></details></td></tr></tbody></table></td></tr></tbody></table></div></details></td></tr><tr><td>Head</td><td><details class=\"dni-treeview\"><summary><span class=\"dni-code-hint\"><code>(250, 10)</code></span></summary><div><table><thead><tr></tr></thead><tbody><tr><td>Item1</td><td><div class=\"dni-plaintext\"><pre>250</pre></div></td></tr><tr><td>Item2</td><td><div class=\"dni-plaintext\"><pre>10</pre></div></td></tr></tbody></table></div></details></td></tr><tr><td>Tail</td><td><details class=\"dni-treeview\"><summary><span class=\"dni-code-hint\"><code>[ (300, 12), (350, 15), (400, 17), (450, 20), (500, 23) ]</code></span></summary><div><table><thead><tr></tr></thead><tbody><tr><td>HeadOrDefault</td><td><details class=\"dni-treeview\"><summary><span class=\"dni-code-hint\"><code>(300, 12)</code></span></summary><div><table><thead><tr></tr></thead><tbody><tr><td>Item1</td><td>300</td></tr><tr><td>Item2</td><td>12</td></tr></tbody></table></div></details></td></tr><tr><td>TailOrNull</td><td><details class=\"dni-treeview\"><summary><span class=\"dni-code-hint\"><code>[ (350, 15), (400, 17), (450, 20), (500, 23) ]</code></span></summary><div><table><thead><tr></tr></thead><tbody><tr><td>HeadOrDefault</td><td>(350, 15)</td></tr><tr><td>TailOrNull</td><td>[ (400, 17), (450, 20), (500, 23) ]</td></tr><tr><td>Head</td><td>(350, 15)</td></tr><tr><td>Tail</td><td>[ (400, 17), (450, 20), (500, 23) ]</td></tr><tr><td><i>(values)</i></td><td><table><thead><tr><th><i>index</i></th><th>value</th></tr></thead><tbody><tr><td>0</td><td>(350, 15)</td></tr><tr><td>1</td><td>(400, 17)</td></tr><tr><td>2</td><td>(450, 20)</td></tr><tr><td>3</td><td>(500, 23)</td></tr></tbody></table></td></tr></tbody></table></div></details></td></tr><tr><td>Head</td><td><details class=\"dni-treeview\"><summary><span class=\"dni-code-hint\"><code>(300, 12)</code></span></summary><div><table><thead><tr></tr></thead><tbody><tr><td>Item1</td><td>300</td></tr><tr><td>Item2</td><td>12</td></tr></tbody></table></div></details></td></tr><tr><td>Tail</td><td><details class=\"dni-treeview\"><summary><span class=\"dni-code-hint\"><code>[ (350, 15), (400, 17), (450, 20), (500, 23) ]</code></span></summary><div><table><thead><tr></tr></thead><tbody><tr><td>HeadOrDefault</td><td>(350, 15)</td></tr><tr><td>TailOrNull</td><td>[ (400, 17), (450, 20), (500, 23) ]</td></tr><tr><td>Head</td><td>(350, 15)</td></tr><tr><td>Tail</td><td>[ (400, 17), (450, 20), (500, 23) ]</td></tr><tr><td><i>(values)</i></td><td><table><thead><tr><th><i>index</i></th><th>value</th></tr></thead><tbody><tr><td>0</td><td>(350, 15)</td></tr><tr><td>1</td><td>(400, 17)</td></tr><tr><td>2</td><td>(450, 20)</td></tr><tr><td>3</td><td>(500, 23)</td></tr></tbody></table></td></tr></tbody></table></div></details></td></tr><tr><td><i>(values)</i></td><td><table><thead><tr><th><i>index</i></th><th>value</th></tr></thead><tbody><tr><td>0</td><td><details class=\"dni-treeview\"><summary><span class=\"dni-code-hint\"><code>(300, 12)</code></span></summary><div><table><thead><tr></tr></thead><tbody><tr><td>Item1</td><td>300</td></tr><tr><td>Item2</td><td>12</td></tr></tbody></table></div></details></td></tr><tr><td>1</td><td><details class=\"dni-treeview\"><summary><span class=\"dni-code-hint\"><code>(350, 15)</code></span></summary><div><table><thead><tr></tr></thead><tbody><tr><td>Item1</td><td>350</td></tr><tr><td>Item2</td><td>15</td></tr></tbody></table></div></details></td></tr><tr><td>2</td><td><details class=\"dni-treeview\"><summary><span class=\"dni-code-hint\"><code>(400, 17)</code></span></summary><div><table><thead><tr></tr></thead><tbody><tr><td>Item1</td><td>400</td></tr><tr><td>Item2</td><td>17</td></tr></tbody></table></div></details></td></tr><tr><td>3</td><td><details class=\"dni-treeview\"><summary><span class=\"dni-code-hint\"><code>(450, 20)</code></span></summary><div><table><thead><tr></tr></thead><tbody><tr><td>Item1</td><td>450</td></tr><tr><td>Item2</td><td>20</td></tr></tbody></table></div></details></td></tr><tr><td>4</td><td><details class=\"dni-treeview\"><summary><span class=\"dni-code-hint\"><code>(500, 23)</code></span></summary><div><table><thead><tr></tr></thead><tbody><tr><td>Item1</td><td>500</td></tr><tr><td>Item2</td><td>23</td></tr></tbody></table></div></details></td></tr></tbody></table></td></tr></tbody></table></div></details></td></tr><tr><td><i>(values)</i></td><td><table><thead><tr><th><i>index</i></th><th>value</th></tr></thead><tbody><tr><td>0</td><td><details class=\"dni-treeview\"><summary><span class=\"dni-code-hint\"><code>(250, 10)</code></span></summary><div><table><thead><tr></tr></thead><tbody><tr><td>Item1</td><td><div class=\"dni-plaintext\"><pre>250</pre></div></td></tr><tr><td>Item2</td><td><div class=\"dni-plaintext\"><pre>10</pre></div></td></tr></tbody></table></div></details></td></tr><tr><td>1</td><td><details class=\"dni-treeview\"><summary><span class=\"dni-code-hint\"><code>(300, 12)</code></span></summary><div><table><thead><tr></tr></thead><tbody><tr><td>Item1</td><td><div class=\"dni-plaintext\"><pre>300</pre></div></td></tr><tr><td>Item2</td><td><div class=\"dni-plaintext\"><pre>12</pre></div></td></tr></tbody></table></div></details></td></tr><tr><td>2</td><td><details class=\"dni-treeview\"><summary><span class=\"dni-code-hint\"><code>(350, 15)</code></span></summary><div><table><thead><tr></tr></thead><tbody><tr><td>Item1</td><td><div class=\"dni-plaintext\"><pre>350</pre></div></td></tr><tr><td>Item2</td><td><div class=\"dni-plaintext\"><pre>15</pre></div></td></tr></tbody></table></div></details></td></tr><tr><td>3</td><td><details class=\"dni-treeview\"><summary><span class=\"dni-code-hint\"><code>(400, 17)</code></span></summary><div><table><thead><tr></tr></thead><tbody><tr><td>Item1</td><td><div class=\"dni-plaintext\"><pre>400</pre></div></td></tr><tr><td>Item2</td><td><div class=\"dni-plaintext\"><pre>17</pre></div></td></tr></tbody></table></div></details></td></tr><tr><td>4</td><td><details class=\"dni-treeview\"><summary><span class=\"dni-code-hint\"><code>(450, 20)</code></span></summary><div><table><thead><tr></tr></thead><tbody><tr><td>Item1</td><td><div class=\"dni-plaintext\"><pre>450</pre></div></td></tr><tr><td>Item2</td><td><div class=\"dni-plaintext\"><pre>20</pre></div></td></tr></tbody></table></div></details></td></tr><tr><td>5</td><td><details class=\"dni-treeview\"><summary><span class=\"dni-code-hint\"><code>(500, 23)</code></span></summary><div><table><thead><tr></tr></thead><tbody><tr><td>Item1</td><td><div class=\"dni-plaintext\"><pre>500</pre></div></td></tr><tr><td>Item2</td><td><div class=\"dni-plaintext\"><pre>23</pre></div></td></tr></tbody></table></div></details></td></tr></tbody></table></td></tr></tbody></table></div></details></td></tr><tr><td><i>(values)</i></td><td><table><thead><tr><th><i>index</i></th><th>value</th></tr></thead><tbody><tr><td>0</td><td><details class=\"dni-treeview\"><summary><span class=\"dni-code-hint\"><code>(200, 7)</code></span></summary><div><table><thead><tr></tr></thead><tbody><tr><td>Item1</td><td><div class=\"dni-plaintext\"><pre>200</pre></div></td></tr><tr><td>Item2</td><td><div class=\"dni-plaintext\"><pre>7</pre></div></td></tr></tbody></table></div></details></td></tr><tr><td>1</td><td><details class=\"dni-treeview\"><summary><span class=\"dni-code-hint\"><code>(250, 10)</code></span></summary><div><table><thead><tr></tr></thead><tbody><tr><td>Item1</td><td><div class=\"dni-plaintext\"><pre>250</pre></div></td></tr><tr><td>Item2</td><td><div class=\"dni-plaintext\"><pre>10</pre></div></td></tr></tbody></table></div></details></td></tr><tr><td>2</td><td><details class=\"dni-treeview\"><summary><span class=\"dni-code-hint\"><code>(300, 12)</code></span></summary><div><table><thead><tr></tr></thead><tbody><tr><td>Item1</td><td><div class=\"dni-plaintext\"><pre>300</pre></div></td></tr><tr><td>Item2</td><td><div class=\"dni-plaintext\"><pre>12</pre></div></td></tr></tbody></table></div></details></td></tr><tr><td>3</td><td><details class=\"dni-treeview\"><summary><span class=\"dni-code-hint\"><code>(350, 15)</code></span></summary><div><table><thead><tr></tr></thead><tbody><tr><td>Item1</td><td><div class=\"dni-plaintext\"><pre>350</pre></div></td></tr><tr><td>Item2</td><td><div class=\"dni-plaintext\"><pre>15</pre></div></td></tr></tbody></table></div></details></td></tr><tr><td>4</td><td><details class=\"dni-treeview\"><summary><span class=\"dni-code-hint\"><code>(400, 17)</code></span></summary><div><table><thead><tr></tr></thead><tbody><tr><td>Item1</td><td><div class=\"dni-plaintext\"><pre>400</pre></div></td></tr><tr><td>Item2</td><td><div class=\"dni-plaintext\"><pre>17</pre></div></td></tr></tbody></table></div></details></td></tr><tr><td>5</td><td><details class=\"dni-treeview\"><summary><span class=\"dni-code-hint\"><code>(450, 20)</code></span></summary><div><table><thead><tr></tr></thead><tbody><tr><td>Item1</td><td><div class=\"dni-plaintext\"><pre>450</pre></div></td></tr><tr><td>Item2</td><td><div class=\"dni-plaintext\"><pre>20</pre></div></td></tr></tbody></table></div></details></td></tr><tr><td>6</td><td><details class=\"dni-treeview\"><summary><span class=\"dni-code-hint\"><code>(500, 23)</code></span></summary><div><table><thead><tr></tr></thead><tbody><tr><td>Item1</td><td><div class=\"dni-plaintext\"><pre>500</pre></div></td></tr><tr><td>Item2</td><td><div class=\"dni-plaintext\"><pre>23</pre></div></td></tr></tbody></table></div></details></td></tr></tbody></table></td></tr></tbody></table></div></details></td></tr><tr><td><i>(values)</i></td><td><table><thead><tr><th><i>index</i></th><th>value</th></tr></thead><tbody><tr><td>0</td><td><details class=\"dni-treeview\"><summary><span class=\"dni-code-hint\"><code>(150, 5)</code></span></summary><div><table><thead><tr></tr></thead><tbody><tr><td>Item1</td><td><div class=\"dni-plaintext\"><pre>150</pre></div></td></tr><tr><td>Item2</td><td><div class=\"dni-plaintext\"><pre>5</pre></div></td></tr></tbody></table></div></details></td></tr><tr><td>1</td><td><details class=\"dni-treeview\"><summary><span class=\"dni-code-hint\"><code>(200, 7)</code></span></summary><div><table><thead><tr></tr></thead><tbody><tr><td>Item1</td><td><div class=\"dni-plaintext\"><pre>200</pre></div></td></tr><tr><td>Item2</td><td><div class=\"dni-plaintext\"><pre>7</pre></div></td></tr></tbody></table></div></details></td></tr><tr><td>2</td><td><details class=\"dni-treeview\"><summary><span class=\"dni-code-hint\"><code>(250, 10)</code></span></summary><div><table><thead><tr></tr></thead><tbody><tr><td>Item1</td><td><div class=\"dni-plaintext\"><pre>250</pre></div></td></tr><tr><td>Item2</td><td><div class=\"dni-plaintext\"><pre>10</pre></div></td></tr></tbody></table></div></details></td></tr><tr><td>3</td><td><details class=\"dni-treeview\"><summary><span class=\"dni-code-hint\"><code>(300, 12)</code></span></summary><div><table><thead><tr></tr></thead><tbody><tr><td>Item1</td><td><div class=\"dni-plaintext\"><pre>300</pre></div></td></tr><tr><td>Item2</td><td><div class=\"dni-plaintext\"><pre>12</pre></div></td></tr></tbody></table></div></details></td></tr><tr><td>4</td><td><details class=\"dni-treeview\"><summary><span class=\"dni-code-hint\"><code>(350, 15)</code></span></summary><div><table><thead><tr></tr></thead><tbody><tr><td>Item1</td><td><div class=\"dni-plaintext\"><pre>350</pre></div></td></tr><tr><td>Item2</td><td><div class=\"dni-plaintext\"><pre>15</pre></div></td></tr></tbody></table></div></details></td></tr><tr><td>5</td><td><details class=\"dni-treeview\"><summary><span class=\"dni-code-hint\"><code>(400, 17)</code></span></summary><div><table><thead><tr></tr></thead><tbody><tr><td>Item1</td><td><div class=\"dni-plaintext\"><pre>400</pre></div></td></tr><tr><td>Item2</td><td><div class=\"dni-plaintext\"><pre>17</pre></div></td></tr></tbody></table></div></details></td></tr><tr><td>6</td><td><details class=\"dni-treeview\"><summary><span class=\"dni-code-hint\"><code>(450, 20)</code></span></summary><div><table><thead><tr></tr></thead><tbody><tr><td>Item1</td><td><div class=\"dni-plaintext\"><pre>450</pre></div></td></tr><tr><td>Item2</td><td><div class=\"dni-plaintext\"><pre>20</pre></div></td></tr></tbody></table></div></details></td></tr><tr><td>7</td><td><details class=\"dni-treeview\"><summary><span class=\"dni-code-hint\"><code>(500, 23)</code></span></summary><div><table><thead><tr></tr></thead><tbody><tr><td>Item1</td><td><div class=\"dni-plaintext\"><pre>500</pre></div></td></tr><tr><td>Item2</td><td><div class=\"dni-plaintext\"><pre>23</pre></div></td></tr></tbody></table></div></details></td></tr></tbody></table></td></tr></tbody></table></div></details></td></tr><tr><td><i>(values)</i></td><td><table><thead><tr><th><i>index</i></th><th>value</th></tr></thead><tbody><tr><td>0</td><td><details class=\"dni-treeview\"><summary><span class=\"dni-code-hint\"><code>(100, 3)</code></span></summary><div><table><thead><tr></tr></thead><tbody><tr><td>Item1</td><td><div class=\"dni-plaintext\"><pre>100</pre></div></td></tr><tr><td>Item2</td><td><div class=\"dni-plaintext\"><pre>3</pre></div></td></tr></tbody></table></div></details></td></tr><tr><td>1</td><td><details class=\"dni-treeview\"><summary><span class=\"dni-code-hint\"><code>(150, 5)</code></span></summary><div><table><thead><tr></tr></thead><tbody><tr><td>Item1</td><td><div class=\"dni-plaintext\"><pre>150</pre></div></td></tr><tr><td>Item2</td><td><div class=\"dni-plaintext\"><pre>5</pre></div></td></tr></tbody></table></div></details></td></tr><tr><td>2</td><td><details class=\"dni-treeview\"><summary><span class=\"dni-code-hint\"><code>(200, 7)</code></span></summary><div><table><thead><tr></tr></thead><tbody><tr><td>Item1</td><td><div class=\"dni-plaintext\"><pre>200</pre></div></td></tr><tr><td>Item2</td><td><div class=\"dni-plaintext\"><pre>7</pre></div></td></tr></tbody></table></div></details></td></tr><tr><td>3</td><td><details class=\"dni-treeview\"><summary><span class=\"dni-code-hint\"><code>(250, 10)</code></span></summary><div><table><thead><tr></tr></thead><tbody><tr><td>Item1</td><td><div class=\"dni-plaintext\"><pre>250</pre></div></td></tr><tr><td>Item2</td><td><div class=\"dni-plaintext\"><pre>10</pre></div></td></tr></tbody></table></div></details></td></tr><tr><td>4</td><td><details class=\"dni-treeview\"><summary><span class=\"dni-code-hint\"><code>(300, 12)</code></span></summary><div><table><thead><tr></tr></thead><tbody><tr><td>Item1</td><td><div class=\"dni-plaintext\"><pre>300</pre></div></td></tr><tr><td>Item2</td><td><div class=\"dni-plaintext\"><pre>12</pre></div></td></tr></tbody></table></div></details></td></tr><tr><td>5</td><td><details class=\"dni-treeview\"><summary><span class=\"dni-code-hint\"><code>(350, 15)</code></span></summary><div><table><thead><tr></tr></thead><tbody><tr><td>Item1</td><td><div class=\"dni-plaintext\"><pre>350</pre></div></td></tr><tr><td>Item2</td><td><div class=\"dni-plaintext\"><pre>15</pre></div></td></tr></tbody></table></div></details></td></tr><tr><td>6</td><td><details class=\"dni-treeview\"><summary><span class=\"dni-code-hint\"><code>(400, 17)</code></span></summary><div><table><thead><tr></tr></thead><tbody><tr><td>Item1</td><td><div class=\"dni-plaintext\"><pre>400</pre></div></td></tr><tr><td>Item2</td><td><div class=\"dni-plaintext\"><pre>17</pre></div></td></tr></tbody></table></div></details></td></tr><tr><td>7</td><td><details class=\"dni-treeview\"><summary><span class=\"dni-code-hint\"><code>(450, 20)</code></span></summary><div><table><thead><tr></tr></thead><tbody><tr><td>Item1</td><td><div class=\"dni-plaintext\"><pre>450</pre></div></td></tr><tr><td>Item2</td><td><div class=\"dni-plaintext\"><pre>20</pre></div></td></tr></tbody></table></div></details></td></tr><tr><td>8</td><td><details class=\"dni-treeview\"><summary><span class=\"dni-code-hint\"><code>(500, 23)</code></span></summary><div><table><thead><tr></tr></thead><tbody><tr><td>Item1</td><td><div class=\"dni-plaintext\"><pre>500</pre></div></td></tr><tr><td>Item2</td><td><div class=\"dni-plaintext\"><pre>23</pre></div></td></tr></tbody></table></div></details></td></tr></tbody></table></td></tr></tbody></table></div></details><style>\r\n",
       ".dni-code-hint {\r\n",
       "    font-style: italic;\r\n",
       "    overflow: hidden;\r\n",
       "    white-space: nowrap;\r\n",
       "}\r\n",
       ".dni-treeview {\r\n",
       "    white-space: nowrap;\r\n",
       "}\r\n",
       ".dni-treeview td {\r\n",
       "    vertical-align: top;\r\n",
       "    text-align: start;\r\n",
       "}\r\n",
       "details.dni-treeview {\r\n",
       "    padding-left: 1em;\r\n",
       "}\r\n",
       "table td {\r\n",
       "    text-align: start;\r\n",
       "}\r\n",
       "table tr { \r\n",
       "    vertical-align: top; \r\n",
       "    margin: 0em 0px;\r\n",
       "}\r\n",
       "table tr td pre \r\n",
       "{ \r\n",
       "    vertical-align: top !important; \r\n",
       "    margin: 0em 0px !important;\r\n",
       "} \r\n",
       "table th {\r\n",
       "    text-align: start;\r\n",
       "}\r\n",
       "</style>"
      ]
     },
     "metadata": {},
     "output_type": "display_data"
    }
   ],
   "source": [
    "List.zip lengths timings"
   ]
  },
  {
   "cell_type": "markdown",
   "metadata": {},
   "source": [
    "Now let's try fitting an O(n) curve to the results.  I use a semi-calculated, semi-empirical starting point, with a starting order of O(1.5)."
   ]
  },
  {
   "cell_type": "code",
   "execution_count": 23,
   "metadata": {
    "dotnet_interactive": {
     "language": "fsharp"
    },
    "polyglot_notebook": {
     "kernelName": "fsharp"
    }
   },
   "outputs": [
    {
     "data": {
      "text/html": [
       "<details open=\"open\" class=\"dni-treeview\"><summary><span class=\"dni-code-hint\"><code>(-2, 0.05, 0.75)</code></span></summary><div><table><thead><tr></tr></thead><tbody><tr><td>Item1</td><td><div class=\"dni-plaintext\"><pre>-2</pre></div></td></tr><tr><td>Item2</td><td><div class=\"dni-plaintext\"><pre>0.05</pre></div></td></tr><tr><td>Item3</td><td><div class=\"dni-plaintext\"><pre>0.75</pre></div></td></tr></tbody></table></div></details><style>\r\n",
       ".dni-code-hint {\r\n",
       "    font-style: italic;\r\n",
       "    overflow: hidden;\r\n",
       "    white-space: nowrap;\r\n",
       "}\r\n",
       ".dni-treeview {\r\n",
       "    white-space: nowrap;\r\n",
       "}\r\n",
       ".dni-treeview td {\r\n",
       "    vertical-align: top;\r\n",
       "    text-align: start;\r\n",
       "}\r\n",
       "details.dni-treeview {\r\n",
       "    padding-left: 1em;\r\n",
       "}\r\n",
       "table td {\r\n",
       "    text-align: start;\r\n",
       "}\r\n",
       "table tr { \r\n",
       "    vertical-align: top; \r\n",
       "    margin: 0em 0px;\r\n",
       "}\r\n",
       "table tr td pre \r\n",
       "{ \r\n",
       "    vertical-align: top !important; \r\n",
       "    margin: 0em 0px !important;\r\n",
       "} \r\n",
       "table th {\r\n",
       "    text-align: start;\r\n",
       "}\r\n",
       "</style>"
      ]
     },
     "metadata": {},
     "output_type": "display_data"
    }
   ],
   "source": [
    "let lengthsFloat = lengths |> List.map float |> Array.ofList\n",
    "let timingsFloat = timings |> List.map float |> Array.ofList\n",
    "\n",
    "let first<'a> (arr: 'a[]) = arr[0]\n",
    "let last<'a> (arr: 'a[]) = arr[arr.Length - 1]\n",
    "\n",
    "// These scaling factors are used to give the parameters p0, p1 and p2 similar magnitudes, which tends to work best with fitting algorithms.\n",
    "let p2scale = 0.75 // assuming O(1.5) as a starting point\n",
    "let p1scale = ((last timingsFloat) - (first timingsFloat)) / ((last lengthsFloat) - (first lengthsFloat))\n",
    "let p0scale = (first timingsFloat) - p1scale * (first lengthsFloat)\n",
    "(p0scale, p1scale, p2scale)"
   ]
  },
  {
   "cell_type": "code",
   "execution_count": 24,
   "metadata": {
    "dotnet_interactive": {
     "language": "fsharp"
    },
    "polyglot_notebook": {
     "kernelName": "fsharp"
    }
   },
   "outputs": [
    {
     "data": {
      "text/html": [
       "<details open=\"open\" class=\"dni-treeview\"><summary><span class=\"dni-code-hint\"><code>(1, 1, 2)</code></span></summary><div><table><thead><tr></tr></thead><tbody><tr><td>Item1</td><td><div class=\"dni-plaintext\"><pre>1</pre></div></td></tr><tr><td>Item2</td><td><div class=\"dni-plaintext\"><pre>1</pre></div></td></tr><tr><td>Item3</td><td><div class=\"dni-plaintext\"><pre>2</pre></div></td></tr></tbody></table></div></details><style>\r\n",
       ".dni-code-hint {\r\n",
       "    font-style: italic;\r\n",
       "    overflow: hidden;\r\n",
       "    white-space: nowrap;\r\n",
       "}\r\n",
       ".dni-treeview {\r\n",
       "    white-space: nowrap;\r\n",
       "}\r\n",
       ".dni-treeview td {\r\n",
       "    vertical-align: top;\r\n",
       "    text-align: start;\r\n",
       "}\r\n",
       "details.dni-treeview {\r\n",
       "    padding-left: 1em;\r\n",
       "}\r\n",
       "table td {\r\n",
       "    text-align: start;\r\n",
       "}\r\n",
       "table tr { \r\n",
       "    vertical-align: top; \r\n",
       "    margin: 0em 0px;\r\n",
       "}\r\n",
       "table tr td pre \r\n",
       "{ \r\n",
       "    vertical-align: top !important; \r\n",
       "    margin: 0em 0px !important;\r\n",
       "} \r\n",
       "table th {\r\n",
       "    text-align: start;\r\n",
       "}\r\n",
       "</style>"
      ]
     },
     "metadata": {},
     "output_type": "display_data"
    }
   ],
   "source": [
    "\n",
    "let fitFunc (p0:float) (p1:float) (p2:float) (x:float) =\n",
    "    // printfn \"p0 = %f, p1 = %f, p2 = %f, x = %f\" p0 p1 p2 x\n",
    "    (p0*p0scale) + (p1*p1scale) * x**(p2*p2scale)\n",
    "\n",
    "let p0init = 1.\n",
    "let p1init = 1.\n",
    "let p2init = 2. // assuming O(1.5) as a starting point\n",
    "let tolerance = 0.1\n",
    "let maxIterations = 10000\n",
    "(p0init, p1init, p2init)"
   ]
  },
  {
   "cell_type": "code",
   "execution_count": 25,
   "metadata": {
    "dotnet_interactive": {
     "language": "fsharp"
    },
    "polyglot_notebook": {
     "kernelName": "fsharp"
    }
   },
   "outputs": [
    {
     "data": {
      "text/html": [
       "<details open=\"open\" class=\"dni-treeview\"><summary><span class=\"dni-code-hint\"><code>(1.1995596819706158, 1.0900224586960254, 1.3114227235013154)</code></span></summary><div><table><thead><tr></tr></thead><tbody><tr><td>Item1</td><td><div class=\"dni-plaintext\"><pre>1.1995596819706158</pre></div></td></tr><tr><td>Item2</td><td><div class=\"dni-plaintext\"><pre>1.0900224586960254</pre></div></td></tr><tr><td>Item3</td><td><div class=\"dni-plaintext\"><pre>1.3114227235013154</pre></div></td></tr></tbody></table></div></details><style>\r\n",
       ".dni-code-hint {\r\n",
       "    font-style: italic;\r\n",
       "    overflow: hidden;\r\n",
       "    white-space: nowrap;\r\n",
       "}\r\n",
       ".dni-treeview {\r\n",
       "    white-space: nowrap;\r\n",
       "}\r\n",
       ".dni-treeview td {\r\n",
       "    vertical-align: top;\r\n",
       "    text-align: start;\r\n",
       "}\r\n",
       "details.dni-treeview {\r\n",
       "    padding-left: 1em;\r\n",
       "}\r\n",
       "table td {\r\n",
       "    text-align: start;\r\n",
       "}\r\n",
       "table tr { \r\n",
       "    vertical-align: top; \r\n",
       "    margin: 0em 0px;\r\n",
       "}\r\n",
       "table tr td pre \r\n",
       "{ \r\n",
       "    vertical-align: top !important; \r\n",
       "    margin: 0em 0px !important;\r\n",
       "} \r\n",
       "table th {\r\n",
       "    text-align: start;\r\n",
       "}\r\n",
       "</style>"
      ]
     },
     "metadata": {},
     "output_type": "display_data"
    }
   ],
   "source": [
    "let (p0, p1, p2) = Fit.Curve(lengthsFloat, timingsFloat, fitFunc, p0init, p1init, p2init, tolerance, maxIterations).ToTuple()\n",
    "(p0, p1, p2)"
   ]
  },
  {
   "cell_type": "markdown",
   "metadata": {},
   "source": [
    "OK, let's plot the measurements and the fit together."
   ]
  },
  {
   "cell_type": "code",
   "execution_count": 26,
   "metadata": {
    "dotnet_interactive": {
     "language": "fsharp"
    },
    "polyglot_notebook": {
     "kernelName": "fsharp"
    }
   },
   "outputs": [
    {
     "data": {
      "text/html": [
       "<!DOCTYPE html>\r\n",
       "<div style=\"width: 900px; height: 500px;\" id=\"771170c3-c450-4105-a7fd-9531a1a70bcc\"></div><script type=\"text/javascript\">\r\n",
       "\n",
       "var renderPlotly = function() {\n",
       "    var xplotRequire = require.config({context:'xplot-3.0.1',paths:{plotly:'https://cdn.plot.ly/plotly-1.49.2.min'}}) || require;\n",
       "    xplotRequire(['plotly'], function(Plotly) { \r\n",
       "\n",
       "            var data = [{\"type\":\"scatter\",\"x\":[100,150,200,250,300,350,400,450,500],\"y\":[3,5,7,10,12,15,17,20,23],\"name\":\"Measurements\"},{\"type\":\"scatter\",\"x\":[100.0,101.0,102.0,103.0,104.0,105.0,106.0,107.0,108.0,109.0,110.0,111.0,112.0,113.0,114.0,115.0,116.0,117.0,118.0,119.0,120.0,121.0,122.0,123.0,124.0,125.0,126.0,127.0,128.0,129.0,130.0,131.0,132.0,133.0,134.0,135.0,136.0,137.0,138.0,139.0,140.0,141.0,142.0,143.0,144.0,145.0,146.0,147.0,148.0,149.0,150.0,151.0,152.0,153.0,154.0,155.0,156.0,157.0,158.0,159.0,160.0,161.0,162.0,163.0,164.0,165.0,166.0,167.0,168.0,169.0,170.0,171.0,172.0,173.0,174.0,175.0,176.0,177.0,178.0,179.0,180.0,181.0,182.0,183.0,184.0,185.0,186.0,187.0,188.0,189.0,190.0,191.0,192.0,193.0,194.0,195.0,196.0,197.0,198.0,199.0,200.0,201.0,202.0,203.0,204.0,205.0,206.0,207.0,208.0,209.0,210.0,211.0,212.0,213.0,214.0,215.0,216.0,217.0,218.0,219.0,220.0,221.0,222.0,223.0,224.0,225.0,226.0,227.0,228.0,229.0,230.0,231.0,232.0,233.0,234.0,235.0,236.0,237.0,238.0,239.0,240.0,241.0,242.0,243.0,244.0,245.0,246.0,247.0,248.0,249.0,250.0,251.0,252.0,253.0,254.0,255.0,256.0,257.0,258.0,259.0,260.0,261.0,262.0,263.0,264.0,265.0,266.0,267.0,268.0,269.0,270.0,271.0,272.0,273.0,274.0,275.0,276.0,277.0,278.0,279.0,280.0,281.0,282.0,283.0,284.0,285.0,286.0,287.0,288.0,289.0,290.0,291.0,292.0,293.0,294.0,295.0,296.0,297.0,298.0,299.0,300.0,301.0,302.0,303.0,304.0,305.0,306.0,307.0,308.0,309.0,310.0,311.0,312.0,313.0,314.0,315.0,316.0,317.0,318.0,319.0,320.0,321.0,322.0,323.0,324.0,325.0,326.0,327.0,328.0,329.0,330.0,331.0,332.0,333.0,334.0,335.0,336.0,337.0,338.0,339.0,340.0,341.0,342.0,343.0,344.0,345.0,346.0,347.0,348.0,349.0,350.0,351.0,352.0,353.0,354.0,355.0,356.0,357.0,358.0,359.0,360.0,361.0,362.0,363.0,364.0,365.0,366.0,367.0,368.0,369.0,370.0,371.0,372.0,373.0,374.0,375.0,376.0,377.0,378.0,379.0,380.0,381.0,382.0,383.0,384.0,385.0,386.0,387.0,388.0,389.0,390.0,391.0,392.0,393.0,394.0,395.0,396.0,397.0,398.0,399.0,400.0,401.0,402.0,403.0,404.0,405.0,406.0,407.0,408.0,409.0,410.0,411.0,412.0,413.0,414.0,415.0,416.0,417.0,418.0,419.0,420.0,421.0,422.0,423.0,424.0,425.0,426.0,427.0,428.0,429.0,430.0,431.0,432.0,433.0,434.0,435.0,436.0,437.0,438.0,439.0,440.0,441.0,442.0,443.0,444.0,445.0,446.0,447.0,448.0,449.0,450.0,451.0,452.0,453.0,454.0,455.0,456.0,457.0,458.0,459.0,460.0,461.0,462.0,463.0,464.0,465.0,466.0,467.0,468.0,469.0,470.0,471.0,472.0,473.0,474.0,475.0,476.0,477.0,478.0,479.0,480.0,481.0,482.0,483.0,484.0,485.0,486.0,487.0,488.0,489.0,490.0,491.0,492.0,493.0,494.0,495.0,496.0,497.0,498.0,499.0,500.0],\"y\":[2.653767051428316,2.7034615072083765,2.7531478780983996,2.802826244660653,2.852496685880288,2.9021592792110757,2.9518141006194094,3.0014612246266203,3.0511007243497206,3.100732671540623,3.150357136623918,3.199974188733271,3.249583895746502,3.2991863243194084,3.348781539918387,3.398369606851901,3.4479505883008548,3.497524546347912,3.5470915420058127,3.5966516352447186,3.646204885018644,3.695751349290995,3.7452910850592636,3.7948241483789156,3.8443505943864844,3.8938704773219266,3.943383850550262,3.992890766582512,4.042391277095988,4.091885432953935,4.141373284224571,4.190854880199525,4.240330269411729,4.289799499652747,4.339262617989597,4.388719670781049,4.438170703693464,4.487615761716137,4.537054889176214,4.58648812975316,4.635915526492816,4.6853371218210516,4.734752957557026,4.7841630749260755,4.833567514572237,4.882966316570435,4.932359520438305,4.981747165147721,5.031129289135985,5.0805059303167255,5.129877126090498,5.179242913355106,5.228603328515637,5.277958407494245,5.327308185739676,5.376652698236523,5.425991979514283,5.475326063656136,5.524654984307531,5.57397877468454,5.623297467582002,5.672611095381468,5.721919690058936,5.771223283192411,5.820521905969267,5.869815589193433,5.919104363292398,5.968388258324051,6.017667303983368,6.066941529608915,6.116210964189213,6.165475636368951,6.214735574455055,6.2639908064225995,6.313241359920601,6.3624872622776785,6.411728540507555,6.460965221314474,6.5101973310984675,6.559424895960502,6.608647941707535,6.657866493857426,6.707080577643765,6.756290218020576,6.8054954396669345,6.854696266991462,6.90389272413675,6.95308483498366,7.002272623155557,7.0514561120224375,7.100635324704966,7.149810284078443,7.198981012776677,7.248147533195777,7.297309867497864,7.346468037614715,7.395622065251329,7.444771971889402,7.4939177787907685,7.543059507000727,7.592197177351341,7.641330810464643,7.690460426755797,7.739586046436177,7.788707689516398,7.8378253758092935,7.8869391249328125,7.936048956312877,7.985154889186189,8.034256942602966,8.083355135429624,8.132449486351442,8.18154001387513,8.230626736331377,8.279709671877342,8.328788838499106,8.37786425401406,8.42693593607328,8.47600390216381,8.525068169610968,8.574128755580542,8.623185677080988,8.672238950965587,8.72128859393454,8.770334622537044,8.819377053173328,8.868415902096645,8.917451185415235,8.966482919094256,9.01551111895767,9.064535800690113,9.113556979838705,9.16257467181487,9.211588891896072,9.260599655227582,9.309606976824142,9.358610871571683,9.407611354228937,9.456608439429077,9.505602141681297,9.554592475372386,9.603579454768251,9.65256309401545,9.701543407142665,9.750520408062172,9.799494110571276,9.84846452835373,9.897431674981123,9.946395563914256,9.995356208504482,10.04431362199504,10.093267817522353,10.142218808117313,10.191166606706545,10.240111226113656,10.289052679060445,10.337990978168115,10.386926135958467,10.435858164855047,10.48478707718431,10.53371288517675,10.582635600968002,10.63155523659995,10.680471804021808,10.729385315091163,10.778295781575048,10.827203215150956,10.87610762740786,10.925009029847214,10.973907433883936,11.02280285084738,11.071695291982294,11.120584768449753,11.169471291328097,11.218354871613842,11.267235520222576,11.316113247989854,11.364988065672069,11.413859983947308,11.462729013416219,11.511595164602827,11.560458447955378,11.609318873847133,11.658176452577191,11.707031194371266,11.75588310938247,11.80473220769208,11.853578499310302,11.902421994177002,11.951262702162463,12.0001006330681,12.048935796627179,12.09776820250552,12.146597860302196,12.19542477955022,12.244248969717232,12.293070440206144,12.341889200355824,12.39070525944174,12.439518626676584,12.488329311210933,12.537137322133853,12.58594266847353,12.634745359197865,12.68354540321508,12.732342809374307,12.781137586466187,12.829929743223424,12.878719288321365,12.927506230378572,12.976290577957355,13.025072339564337,13.07385152365099,13.122628138614152,13.171402192796588,13.220173694487475,13.26894265192293,13.317709073286522,13.366472966709756,13.415234340272583,13.463993202003886,13.51274955988194,13.561503421834919,13.61025479574134,13.659003689430552,13.707750110683158,13.7564940672315,13.805235566760093,13.853974616906061,13.90271122525959,13.951445399364335,14.000177146717864,14.048906474772064,14.09763339093357,14.146357902564166,14.195080016981194,14.243799741457956,14.292517083224087,14.34123204946599,14.389944647327177,14.43865488390868,14.487362766269413,14.53606830142655,14.584771496355902,14.633472357992257,14.682170893229756,14.730867108922258,14.779561011883672,14.82825260888831,14.876941906671231,14.925628911928587,14.974313631317948,15.022996071458646,15.071676238932081,15.120354140282078,15.169029782015166,15.217703170600931,15.266374312472312,15.31504321402592,15.363709881622324,15.41237432158638,15.461036540207516,15.509696543740016,15.558354338403351,15.607009930382421,15.655663325827877,15.704314530856394,15.752963551550938,15.80161039396106,15.850255064103159,15.89889756796077,15.947537911484801,15.996176100593836,16.044812141174354,16.093446039081037,16.142077800136992,16.190707430134005,16.23933493483282,16.28796031996335,16.33658359122496,16.38520475428669,16.433823814787484,16.48244077833646,16.531055650513114,16.579668436867575,16.628279142920835,16.676887774164953,16.72549433606331,16.774098834050825,16.822701273534157,16.871301659891955,16.91989999847505,16.96849629460668,17.017090553582705,17.065682780671807,17.11427298111571,17.162861160129378,17.211447322901215,17.260031474593283,17.308613620341486,17.357193765255772,17.405771914420328,17.454348072893783,17.50292224570939,17.551494437875206,17.60006465437431,17.648632900164966,17.697199180180807,17.745763499331026,17.79432586250056,17.842886274550253,17.891444740317052,17.940001264614168,17.988555852231254,18.037108507934587,18.085659236467222,18.134208042549172,18.182754930877564,18.23129990612683,18.279842972948824,18.328384135973046,18.37692339980675,18.425460769035126,18.473996248221457,18.522529841907275,18.57106155461251,18.61959139083565,18.668119355053896,18.71664545172329,18.765169685278902,18.813692060134933,18.862212580684904,18.910731251301776,18.959248076338092,19.007763060126127,19.05627620697804,19.10478752118599,19.15329700702229,19.20180466873953,19.25031051057074,19.298814536729495,19.347316751410066,19.395817158787537,19.444315763017958,19.492812568238456,19.541307578567366,19.589800798104367,19.6382922309306,19.686781881108796,19.735269752683404,19.78375584968071,19.83224017610895,19.88072273595845,19.92920353320173,19.977682571793622,20.026159855671406,20.0746353887549,20.1231091749466,20.171581218131774,20.22005152217859,20.26852009093822,20.31698692824496,20.36545203791633,20.413915423753192,20.462377089539842,20.51083703904415,20.559295276017636,20.607751804195587,20.65620662729717,20.704659749025513,20.75311117306784,20.80156090309554,20.8500089427643,20.89845529571418,20.946899965569717,20.995342955940043,21.04378427041896,21.092223912585055,21.140661886001773,21.18909819421754,21.237532840765834,21.2859658291653,21.334397162919824,21.382826845518636,21.431254880436406,21.47968127113332,21.52810602105518,21.57652913363349,21.624950612285556,21.673370460414542,21.721788681409606,21.770205278645943,21.818620255484888,21.867033615274003,21.915445361347157,21.96385549702461,22.0122640256131,22.060670950405918,22.109076274683,22.157480001710994,22.20588213474335],\"name\":\"O(n) Fit Curve\"}];\n",
       "           var layout = {\"title\":\"Solution Time vs. Set Size, Set Density = 50%\",\"xaxis\":{\"title\":\"Set Size\",\"_isSubplotObj\":true},\"yaxis\":{\"title\":\"Solution Time in Microsec\",\"_isSubplotObj\":true}};\n",
       "           Plotly.newPlot('771170c3-c450-4105-a7fd-9531a1a70bcc', data, layout);\n",
       "        \r\n",
       "});\n",
       "};\r\n",
       "// ensure `require` is available globally\r\n",
       "if ((typeof(require) !==  typeof(Function)) || (typeof(require.config) !== typeof(Function))) {\r\n",
       "    let require_script = document.createElement('script');\r\n",
       "    require_script.setAttribute('src', 'https://cdnjs.cloudflare.com/ajax/libs/require.js/2.3.6/require.min.js');\r\n",
       "    require_script.setAttribute('type', 'text/javascript');\r\n",
       "    \r\n",
       "    \r\n",
       "    require_script.onload = function() {\r\n",
       "        renderPlotly();\r\n",
       "    };\r\n",
       "\r\n",
       "    document.getElementsByTagName('head')[0].appendChild(require_script);\r\n",
       "}\r\n",
       "else {\r\n",
       "    renderPlotly();\r\n",
       "}\r\n",
       "\r\n",
       "</script>\r\n"
      ]
     },
     "metadata": {},
     "output_type": "display_data"
    }
   ],
   "source": [
    "let measurementCurve = Scatter(x = lengths, y = timings, name=\"Measurements\")\n",
    "\n",
    "let fitLengths = {(lengths |> List.min)..(lengths |> List.max)} |> Seq.map float |> Array.ofSeq\n",
    "let fitTimings = fitLengths |> Array.map (fun x -> fitFunc p0 p1 p2 x)\n",
    "let fitCurve = Scatter(x = fitLengths, y = fitTimings, name=\"O(n) Fit Curve\")\n",
    "\n",
    "[measurementCurve; fitCurve]\n",
    "|> Chart.Plot\n",
    "|> Chart.WithTitle(\"Solution Time vs. Set Size, Set Density = 50%\")\n",
    "|> Chart.WithXTitle(\"Set Size\")\n",
    "|> Chart.WithYTitle(\"Solution Time in Microsec\")"
   ]
  },
  {
   "cell_type": "code",
   "execution_count": 27,
   "metadata": {
    "dotnet_interactive": {
     "language": "fsharp"
    },
    "polyglot_notebook": {
     "kernelName": "fsharp"
    }
   },
   "outputs": [
    {
     "data": {
      "text/html": [
       "<div class=\"dni-plaintext\"><pre>0.9835670426259866</pre></div><style>\r\n",
       ".dni-code-hint {\r\n",
       "    font-style: italic;\r\n",
       "    overflow: hidden;\r\n",
       "    white-space: nowrap;\r\n",
       "}\r\n",
       ".dni-treeview {\r\n",
       "    white-space: nowrap;\r\n",
       "}\r\n",
       ".dni-treeview td {\r\n",
       "    vertical-align: top;\r\n",
       "    text-align: start;\r\n",
       "}\r\n",
       "details.dni-treeview {\r\n",
       "    padding-left: 1em;\r\n",
       "}\r\n",
       "table td {\r\n",
       "    text-align: start;\r\n",
       "}\r\n",
       "table tr { \r\n",
       "    vertical-align: top; \r\n",
       "    margin: 0em 0px;\r\n",
       "}\r\n",
       "table tr td pre \r\n",
       "{ \r\n",
       "    vertical-align: top !important; \r\n",
       "    margin: 0em 0px !important;\r\n",
       "} \r\n",
       "table th {\r\n",
       "    text-align: start;\r\n",
       "}\r\n",
       "</style>"
      ]
     },
     "metadata": {},
     "output_type": "display_data"
    }
   ],
   "source": [
    "let order = p2*p2scale\n",
    "order"
   ]
  },
  {
   "cell_type": "markdown",
   "metadata": {},
   "source": [
    "So, approximately, the order of 'solution1' is 1 - not at all what was expected of a \"brute force\" approach."
   ]
  },
  {
   "cell_type": "markdown",
   "metadata": {},
   "source": [
    "## Discussion"
   ]
  },
  {
   "cell_type": "markdown",
   "metadata": {},
   "source": [
    "Why is the order so close to 1, for what was intended to be a 'brute force' solution?\n",
    "\n",
    "It may be that list sorting is *so* optimised in F#/.NET that we don't see the cost of it, so you only see the cost of walking up to find the first unused integer, which is naturally O(1)."
   ]
  },
  {
   "cell_type": "markdown",
   "metadata": {},
   "source": [
    "## Appendix"
   ]
  },
  {
   "cell_type": "markdown",
   "metadata": {},
   "source": [
    "**Note from Nicolas** If your set length is N, then your solution value must be in the range 0..N."
   ]
  }
 ],
 "metadata": {
  "kernelspec": {
   "display_name": ".NET (C#)",
   "language": "C#",
   "name": ".net-csharp"
  },
  "language_info": {
   "name": "polyglot-notebook"
  },
  "polyglot_notebook": {
   "kernelInfo": {
    "defaultKernelName": "csharp",
    "items": [
     {
      "aliases": [],
      "name": "csharp"
     }
    ]
   }
  }
 },
 "nbformat": 4,
 "nbformat_minor": 2
}
