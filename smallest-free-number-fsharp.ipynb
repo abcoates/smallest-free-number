{
 "cells": [
  {
   "cell_type": "markdown",
   "metadata": {},
   "source": [
    "# smallest-free-number\n",
    "A coding challenge to find the smallest non-negative integer that is not part of a given set of non-negative integers.\n",
    "\n",
    "Thanks to [Nicolas Rinaudo](https://github.com/abcoates/smallest-free-number.git) for suggesting this problem for a coding challenge.\n",
    "\n",
    "## Description\n",
    "This is a simplification a general problem, find the 'least XXX' object that is not already used, where 'XXX' is some arbitrary measurement dimension such as 'large', 'expensive', etc.\n",
    "\n",
    "In this minimal version, you are given a set (i.e. an **unordered** set) of non-negative integers, and you have to find the smallest non-negative integer that is **not** a part of the set.\n",
    "\n",
    "## Examples\n",
    " * \\[0, 1, 2, 3, 5\\] => 4\n",
    " * \\[2, 1, 0\\] => 3\n",
    " * \\[20, 10, 30\\] => 0\n",
    "\n",
    "## Special Note\n",
    "You **may** use AI to help you write the code.  As AI coding companions are inevitable, we might as well all start practicising how to use them.  **However**, if you have used AI to help you write your code, please make that clear in your solution.\n",
    "\n",
    "## Stretch Goal\n",
    "Finding a solution is straightforward, but can you find a solution that only takes linear time?  Measure how the time taken for your solution varies as the size of the set is increased, and see how close you can get to the time taken growing linearly with the size of the set.  Create a graph of the time measurements again set size.\n",
    "\n",
    "You will need to generate unordered sets of numbers that are sufficiently large to make the solution time sufficiently measurable.\n",
    "\n",
    "Your results may vary with the **density** of the sets, i.e. with the percentage of unused numbers in the range from zero to the largest number in the set."
   ]
  },
  {
   "cell_type": "markdown",
   "metadata": {},
   "source": [
    "## Solution - F#"
   ]
  },
  {
   "cell_type": "markdown",
   "metadata": {},
   "source": [
    "### Solution #1 - Brute Force"
   ]
  },
  {
   "cell_type": "markdown",
   "metadata": {},
   "source": [
    "As a first solution, let's try something \"brute force\" - sort the set, then walk up the integers from zero until we find one that isn't in the set."
   ]
  },
  {
   "cell_type": "code",
   "execution_count": 37,
   "metadata": {
    "dotnet_interactive": {
     "language": "fsharp"
    },
    "polyglot_notebook": {
     "kernelName": "fsharp"
    }
   },
   "outputs": [],
   "source": [
    "let solution1 (intset: int Set): int =\n",
    "    let sortedset = intset |> Set.toList |> List.sort\n",
    "    let rec find (sortedlist: int list) (nextValue: int) =\n",
    "        match sortedlist with\n",
    "        | [] -> nextValue\n",
    "        | other ->\n",
    "            let listhead = sortedlist |> List.head\n",
    "            if (nextValue < listhead)\n",
    "            then nextValue\n",
    "            elif (nextValue = listhead)\n",
    "            then find (sortedlist |> List.tail) (nextValue+1)\n",
    "            else find(sortedlist |> List.tail) nextValue\n",
    "    find sortedset 0"
   ]
  },
  {
   "cell_type": "code",
   "execution_count": 38,
   "metadata": {
    "dotnet_interactive": {
     "language": "fsharp"
    },
    "polyglot_notebook": {
     "kernelName": "fsharp"
    }
   },
   "outputs": [
    {
     "data": {
      "text/html": [
       "<div class=\"dni-plaintext\"><pre>4</pre></div><style>\r\n",
       ".dni-code-hint {\r\n",
       "    font-style: italic;\r\n",
       "    overflow: hidden;\r\n",
       "    white-space: nowrap;\r\n",
       "}\r\n",
       ".dni-treeview {\r\n",
       "    white-space: nowrap;\r\n",
       "}\r\n",
       ".dni-treeview td {\r\n",
       "    vertical-align: top;\r\n",
       "    text-align: start;\r\n",
       "}\r\n",
       "details.dni-treeview {\r\n",
       "    padding-left: 1em;\r\n",
       "}\r\n",
       "table td {\r\n",
       "    text-align: start;\r\n",
       "}\r\n",
       "table tr { \r\n",
       "    vertical-align: top; \r\n",
       "    margin: 0em 0px;\r\n",
       "}\r\n",
       "table tr td pre \r\n",
       "{ \r\n",
       "    vertical-align: top !important; \r\n",
       "    margin: 0em 0px !important;\r\n",
       "} \r\n",
       "table th {\r\n",
       "    text-align: start;\r\n",
       "}\r\n",
       "</style>"
      ]
     },
     "metadata": {},
     "output_type": "display_data"
    }
   ],
   "source": [
    "solution1 ([0;1;2;3;5] |> Set.ofList)"
   ]
  },
  {
   "cell_type": "code",
   "execution_count": 39,
   "metadata": {
    "dotnet_interactive": {
     "language": "fsharp"
    },
    "polyglot_notebook": {
     "kernelName": "fsharp"
    }
   },
   "outputs": [
    {
     "data": {
      "text/html": [
       "<div class=\"dni-plaintext\"><pre>3</pre></div><style>\r\n",
       ".dni-code-hint {\r\n",
       "    font-style: italic;\r\n",
       "    overflow: hidden;\r\n",
       "    white-space: nowrap;\r\n",
       "}\r\n",
       ".dni-treeview {\r\n",
       "    white-space: nowrap;\r\n",
       "}\r\n",
       ".dni-treeview td {\r\n",
       "    vertical-align: top;\r\n",
       "    text-align: start;\r\n",
       "}\r\n",
       "details.dni-treeview {\r\n",
       "    padding-left: 1em;\r\n",
       "}\r\n",
       "table td {\r\n",
       "    text-align: start;\r\n",
       "}\r\n",
       "table tr { \r\n",
       "    vertical-align: top; \r\n",
       "    margin: 0em 0px;\r\n",
       "}\r\n",
       "table tr td pre \r\n",
       "{ \r\n",
       "    vertical-align: top !important; \r\n",
       "    margin: 0em 0px !important;\r\n",
       "} \r\n",
       "table th {\r\n",
       "    text-align: start;\r\n",
       "}\r\n",
       "</style>"
      ]
     },
     "metadata": {},
     "output_type": "display_data"
    }
   ],
   "source": [
    "solution1 ([0;1;2] |> Set.ofList)"
   ]
  },
  {
   "cell_type": "code",
   "execution_count": 40,
   "metadata": {
    "dotnet_interactive": {
     "language": "fsharp"
    },
    "polyglot_notebook": {
     "kernelName": "fsharp"
    }
   },
   "outputs": [
    {
     "data": {
      "text/html": [
       "<div class=\"dni-plaintext\"><pre>0</pre></div><style>\r\n",
       ".dni-code-hint {\r\n",
       "    font-style: italic;\r\n",
       "    overflow: hidden;\r\n",
       "    white-space: nowrap;\r\n",
       "}\r\n",
       ".dni-treeview {\r\n",
       "    white-space: nowrap;\r\n",
       "}\r\n",
       ".dni-treeview td {\r\n",
       "    vertical-align: top;\r\n",
       "    text-align: start;\r\n",
       "}\r\n",
       "details.dni-treeview {\r\n",
       "    padding-left: 1em;\r\n",
       "}\r\n",
       "table td {\r\n",
       "    text-align: start;\r\n",
       "}\r\n",
       "table tr { \r\n",
       "    vertical-align: top; \r\n",
       "    margin: 0em 0px;\r\n",
       "}\r\n",
       "table tr td pre \r\n",
       "{ \r\n",
       "    vertical-align: top !important; \r\n",
       "    margin: 0em 0px !important;\r\n",
       "} \r\n",
       "table th {\r\n",
       "    text-align: start;\r\n",
       "}\r\n",
       "</style>"
      ]
     },
     "metadata": {},
     "output_type": "display_data"
    }
   ],
   "source": [
    "solution1 ([10;20;30] |> Set.ofList)"
   ]
  },
  {
   "cell_type": "markdown",
   "metadata": {},
   "source": [
    "So 'solution1' works correctly.  However, how performant is it?"
   ]
  },
  {
   "cell_type": "markdown",
   "metadata": {},
   "source": [
    "We'll need a graphing package - 'Plotly' will do nicely."
   ]
  },
  {
   "cell_type": "code",
   "execution_count": 41,
   "metadata": {
    "dotnet_interactive": {
     "language": "fsharp"
    },
    "polyglot_notebook": {
     "kernelName": "fsharp"
    }
   },
   "outputs": [
    {
     "data": {
      "text/html": [
       "<div><div></div><div></div><div><strong>Installed Packages</strong><ul><li><span>XPlot.Plotly, 4.0.6</span></li><li><span>XPlot.Plotly.Interactive, 4.0.7</span></li></ul></div></div>"
      ]
     },
     "metadata": {},
     "output_type": "display_data"
    }
   ],
   "source": [
    "#r \"nuget: XPlot.Plotly\"\n",
    "#r \"nuget: XPlot.Plotly.Interactive\"\n",
    "\n",
    "open XPlot.Plotly"
   ]
  },
  {
   "cell_type": "code",
   "execution_count": 58,
   "metadata": {
    "dotnet_interactive": {
     "language": "fsharp"
    },
    "polyglot_notebook": {
     "kernelName": "fsharp"
    }
   },
   "outputs": [
    {
     "data": {
      "text/html": [
       "<div><div></div><div></div><div><strong>Installed Packages</strong><ul><li><span>MathNet.Numerics, 5.0.0</span></li></ul></div></div>"
      ]
     },
     "metadata": {},
     "output_type": "display_data"
    }
   ],
   "source": [
    "#r \"nuget: MathNet.Numerics\"\n",
    "\n",
    "open MathNet.Numerics"
   ]
  },
  {
   "cell_type": "markdown",
   "metadata": {},
   "source": [
    "We'll need functions that can generate random sets of non-negative integers."
   ]
  },
  {
   "cell_type": "code",
   "execution_count": 42,
   "metadata": {
    "dotnet_interactive": {
     "language": "fsharp"
    },
    "polyglot_notebook": {
     "kernelName": "fsharp"
    }
   },
   "outputs": [],
   "source": [
    "open System\n",
    "\n",
    "let randomGenerator = Random()\n",
    "\n",
    "// Generate a random integer between 1 and 100 (inclusive)\n",
    "// let randomInt = random.Next(1, 101)"
   ]
  },
  {
   "cell_type": "code",
   "execution_count": 43,
   "metadata": {
    "dotnet_interactive": {
     "language": "fsharp"
    },
    "polyglot_notebook": {
     "kernelName": "fsharp"
    }
   },
   "outputs": [],
   "source": [
    "let generateSet (maximum:int) (length:int) =\n",
    "    \n",
    "    let rec iterate (currentSet: int Set) =\n",
    "        match currentSet with\n",
    "        | finished when (finished |> Set.count) >= length -> finished\n",
    "        | unfinished ->\n",
    "            let newVal = randomGenerator.Next(0, maximum+1)\n",
    "            iterate (currentSet |> Set.add newVal)\n",
    "    iterate ([] |> Set.ofList)"
   ]
  },
  {
   "cell_type": "code",
   "execution_count": 44,
   "metadata": {
    "dotnet_interactive": {
     "language": "fsharp"
    },
    "polyglot_notebook": {
     "kernelName": "fsharp"
    }
   },
   "outputs": [
    {
     "data": {
      "text/html": [
       "<details open=\"open\" class=\"dni-treeview\"><summary><span class=\"dni-code-hint\"><code>[ 2, 4, 5, 9, 10 ]</code></span></summary><div><table><thead><tr></tr></thead><tbody><tr><td>Count</td><td><div class=\"dni-plaintext\"><pre>5</pre></div></td></tr><tr><td><i>(values)</i></td><td><div class=\"dni-plaintext\"><pre>[ 2, 4, 5, 9, 10 ]</pre></div></td></tr></tbody></table></div></details><style>\r\n",
       ".dni-code-hint {\r\n",
       "    font-style: italic;\r\n",
       "    overflow: hidden;\r\n",
       "    white-space: nowrap;\r\n",
       "}\r\n",
       ".dni-treeview {\r\n",
       "    white-space: nowrap;\r\n",
       "}\r\n",
       ".dni-treeview td {\r\n",
       "    vertical-align: top;\r\n",
       "    text-align: start;\r\n",
       "}\r\n",
       "details.dni-treeview {\r\n",
       "    padding-left: 1em;\r\n",
       "}\r\n",
       "table td {\r\n",
       "    text-align: start;\r\n",
       "}\r\n",
       "table tr { \r\n",
       "    vertical-align: top; \r\n",
       "    margin: 0em 0px;\r\n",
       "}\r\n",
       "table tr td pre \r\n",
       "{ \r\n",
       "    vertical-align: top !important; \r\n",
       "    margin: 0em 0px !important;\r\n",
       "} \r\n",
       "table th {\r\n",
       "    text-align: start;\r\n",
       "}\r\n",
       "</style>"
      ]
     },
     "metadata": {},
     "output_type": "display_data"
    }
   ],
   "source": [
    "generateSet 10 5"
   ]
  },
  {
   "cell_type": "code",
   "execution_count": 45,
   "metadata": {
    "dotnet_interactive": {
     "language": "fsharp"
    },
    "polyglot_notebook": {
     "kernelName": "fsharp"
    }
   },
   "outputs": [
    {
     "data": {
      "text/html": [
       "<div class=\"dni-plaintext\"><pre>0</pre></div><style>\r\n",
       ".dni-code-hint {\r\n",
       "    font-style: italic;\r\n",
       "    overflow: hidden;\r\n",
       "    white-space: nowrap;\r\n",
       "}\r\n",
       ".dni-treeview {\r\n",
       "    white-space: nowrap;\r\n",
       "}\r\n",
       ".dni-treeview td {\r\n",
       "    vertical-align: top;\r\n",
       "    text-align: start;\r\n",
       "}\r\n",
       "details.dni-treeview {\r\n",
       "    padding-left: 1em;\r\n",
       "}\r\n",
       "table td {\r\n",
       "    text-align: start;\r\n",
       "}\r\n",
       "table tr { \r\n",
       "    vertical-align: top; \r\n",
       "    margin: 0em 0px;\r\n",
       "}\r\n",
       "table tr td pre \r\n",
       "{ \r\n",
       "    vertical-align: top !important; \r\n",
       "    margin: 0em 0px !important;\r\n",
       "} \r\n",
       "table th {\r\n",
       "    text-align: start;\r\n",
       "}\r\n",
       "</style>"
      ]
     },
     "metadata": {},
     "output_type": "display_data"
    }
   ],
   "source": [
    "solution1 (generateSet 10 5)"
   ]
  },
  {
   "cell_type": "code",
   "execution_count": 46,
   "metadata": {
    "dotnet_interactive": {
     "language": "fsharp"
    },
    "polyglot_notebook": {
     "kernelName": "fsharp"
    }
   },
   "outputs": [
    {
     "data": {
      "text/html": [
       "<details open=\"open\" class=\"dni-treeview\"><summary><span class=\"dni-code-hint\"><code>[ 1, 2, 3, 4, 5 ]</code></span></summary><div><table><thead><tr></tr></thead><tbody><tr><td>Count</td><td><div class=\"dni-plaintext\"><pre>5</pre></div></td></tr><tr><td><i>(values)</i></td><td><div class=\"dni-plaintext\"><pre>[ 1, 2, 3, 4, 5 ]</pre></div></td></tr></tbody></table></div></details><style>\r\n",
       ".dni-code-hint {\r\n",
       "    font-style: italic;\r\n",
       "    overflow: hidden;\r\n",
       "    white-space: nowrap;\r\n",
       "}\r\n",
       ".dni-treeview {\r\n",
       "    white-space: nowrap;\r\n",
       "}\r\n",
       ".dni-treeview td {\r\n",
       "    vertical-align: top;\r\n",
       "    text-align: start;\r\n",
       "}\r\n",
       "details.dni-treeview {\r\n",
       "    padding-left: 1em;\r\n",
       "}\r\n",
       "table td {\r\n",
       "    text-align: start;\r\n",
       "}\r\n",
       "table tr { \r\n",
       "    vertical-align: top; \r\n",
       "    margin: 0em 0px;\r\n",
       "}\r\n",
       "table tr td pre \r\n",
       "{ \r\n",
       "    vertical-align: top !important; \r\n",
       "    margin: 0em 0px !important;\r\n",
       "} \r\n",
       "table th {\r\n",
       "    text-align: start;\r\n",
       "}\r\n",
       "</style>"
      ]
     },
     "metadata": {},
     "output_type": "display_data"
    }
   ],
   "source": [
    "generateSet 5 5"
   ]
  },
  {
   "cell_type": "code",
   "execution_count": 47,
   "metadata": {
    "dotnet_interactive": {
     "language": "fsharp"
    },
    "polyglot_notebook": {
     "kernelName": "fsharp"
    }
   },
   "outputs": [
    {
     "data": {
      "text/html": [
       "<div class=\"dni-plaintext\"><pre>4</pre></div><style>\r\n",
       ".dni-code-hint {\r\n",
       "    font-style: italic;\r\n",
       "    overflow: hidden;\r\n",
       "    white-space: nowrap;\r\n",
       "}\r\n",
       ".dni-treeview {\r\n",
       "    white-space: nowrap;\r\n",
       "}\r\n",
       ".dni-treeview td {\r\n",
       "    vertical-align: top;\r\n",
       "    text-align: start;\r\n",
       "}\r\n",
       "details.dni-treeview {\r\n",
       "    padding-left: 1em;\r\n",
       "}\r\n",
       "table td {\r\n",
       "    text-align: start;\r\n",
       "}\r\n",
       "table tr { \r\n",
       "    vertical-align: top; \r\n",
       "    margin: 0em 0px;\r\n",
       "}\r\n",
       "table tr td pre \r\n",
       "{ \r\n",
       "    vertical-align: top !important; \r\n",
       "    margin: 0em 0px !important;\r\n",
       "} \r\n",
       "table th {\r\n",
       "    text-align: start;\r\n",
       "}\r\n",
       "</style>"
      ]
     },
     "metadata": {},
     "output_type": "display_data"
    }
   ],
   "source": [
    "solution1 (generateSet 5 5)"
   ]
  },
  {
   "cell_type": "code",
   "execution_count": 48,
   "metadata": {
    "dotnet_interactive": {
     "language": "fsharp"
    },
    "polyglot_notebook": {
     "kernelName": "fsharp"
    }
   },
   "outputs": [
    {
     "data": {
      "text/html": [
       "<details open=\"open\" class=\"dni-treeview\"><summary><span class=\"dni-code-hint\"><code>[ 0, 1, 2, 3, 4, 5 ]</code></span></summary><div><table><thead><tr></tr></thead><tbody><tr><td>Count</td><td><div class=\"dni-plaintext\"><pre>6</pre></div></td></tr><tr><td><i>(values)</i></td><td><div class=\"dni-plaintext\"><pre>[ 0, 1, 2, 3, 4, 5 ]</pre></div></td></tr></tbody></table></div></details><style>\r\n",
       ".dni-code-hint {\r\n",
       "    font-style: italic;\r\n",
       "    overflow: hidden;\r\n",
       "    white-space: nowrap;\r\n",
       "}\r\n",
       ".dni-treeview {\r\n",
       "    white-space: nowrap;\r\n",
       "}\r\n",
       ".dni-treeview td {\r\n",
       "    vertical-align: top;\r\n",
       "    text-align: start;\r\n",
       "}\r\n",
       "details.dni-treeview {\r\n",
       "    padding-left: 1em;\r\n",
       "}\r\n",
       "table td {\r\n",
       "    text-align: start;\r\n",
       "}\r\n",
       "table tr { \r\n",
       "    vertical-align: top; \r\n",
       "    margin: 0em 0px;\r\n",
       "}\r\n",
       "table tr td pre \r\n",
       "{ \r\n",
       "    vertical-align: top !important; \r\n",
       "    margin: 0em 0px !important;\r\n",
       "} \r\n",
       "table th {\r\n",
       "    text-align: start;\r\n",
       "}\r\n",
       "</style>"
      ]
     },
     "metadata": {},
     "output_type": "display_data"
    }
   ],
   "source": [
    "generateSet 5 6"
   ]
  },
  {
   "cell_type": "code",
   "execution_count": 49,
   "metadata": {
    "dotnet_interactive": {
     "language": "fsharp"
    },
    "polyglot_notebook": {
     "kernelName": "fsharp"
    }
   },
   "outputs": [
    {
     "data": {
      "text/html": [
       "<div class=\"dni-plaintext\"><pre>6</pre></div><style>\r\n",
       ".dni-code-hint {\r\n",
       "    font-style: italic;\r\n",
       "    overflow: hidden;\r\n",
       "    white-space: nowrap;\r\n",
       "}\r\n",
       ".dni-treeview {\r\n",
       "    white-space: nowrap;\r\n",
       "}\r\n",
       ".dni-treeview td {\r\n",
       "    vertical-align: top;\r\n",
       "    text-align: start;\r\n",
       "}\r\n",
       "details.dni-treeview {\r\n",
       "    padding-left: 1em;\r\n",
       "}\r\n",
       "table td {\r\n",
       "    text-align: start;\r\n",
       "}\r\n",
       "table tr { \r\n",
       "    vertical-align: top; \r\n",
       "    margin: 0em 0px;\r\n",
       "}\r\n",
       "table tr td pre \r\n",
       "{ \r\n",
       "    vertical-align: top !important; \r\n",
       "    margin: 0em 0px !important;\r\n",
       "} \r\n",
       "table th {\r\n",
       "    text-align: start;\r\n",
       "}\r\n",
       "</style>"
      ]
     },
     "metadata": {},
     "output_type": "display_data"
    }
   ],
   "source": [
    "solution1 (generateSet 5 6)"
   ]
  },
  {
   "cell_type": "markdown",
   "metadata": {},
   "source": [
    "Note that F# sorts sets, but these are sets, not sorted lists.  My solutions won't make any use of F# sets being naturally sorted."
   ]
  },
  {
   "cell_type": "markdown",
   "metadata": {},
   "source": [
    "The following function can be used to time how long a solution takes to run.  It averages the time over multiple runs."
   ]
  },
  {
   "cell_type": "code",
   "execution_count": 50,
   "metadata": {
    "dotnet_interactive": {
     "language": "fsharp"
    },
    "polyglot_notebook": {
     "kernelName": "fsharp"
    }
   },
   "outputs": [],
   "source": [
    "let timeSolution (maximum: int) (length: int) (solution: int Set -> int): int*int*int =\n",
    "    let timeOnce (): int*int*int*int =\n",
    "        let sw = System.Diagnostics.Stopwatch.StartNew()\n",
    "        let result = solution (generateSet maximum length)\n",
    "        sw.Stop()\n",
    "        (maximum, length, result, sw.Elapsed.Microseconds)\n",
    "    let timings = {0..(maximum*length)} |> Seq.map (fun iter -> // do enough iterations to get a stable result\n",
    "        let (_, _, _, timing) = timeOnce ()\n",
    "        timing\n",
    "    )\n",
    "    (maximum, length, timings |> Seq.map float |> Seq.average |> round |> int)"
   ]
  },
  {
   "cell_type": "code",
   "execution_count": 51,
   "metadata": {
    "dotnet_interactive": {
     "language": "fsharp"
    },
    "polyglot_notebook": {
     "kernelName": "fsharp"
    }
   },
   "outputs": [
    {
     "data": {
      "text/html": [
       "<details open=\"open\" class=\"dni-treeview\"><summary><span class=\"dni-code-hint\"><code>(100, 50, 21)</code></span></summary><div><table><thead><tr></tr></thead><tbody><tr><td>Item1</td><td><div class=\"dni-plaintext\"><pre>100</pre></div></td></tr><tr><td>Item2</td><td><div class=\"dni-plaintext\"><pre>50</pre></div></td></tr><tr><td>Item3</td><td><div class=\"dni-plaintext\"><pre>21</pre></div></td></tr></tbody></table></div></details><style>\r\n",
       ".dni-code-hint {\r\n",
       "    font-style: italic;\r\n",
       "    overflow: hidden;\r\n",
       "    white-space: nowrap;\r\n",
       "}\r\n",
       ".dni-treeview {\r\n",
       "    white-space: nowrap;\r\n",
       "}\r\n",
       ".dni-treeview td {\r\n",
       "    vertical-align: top;\r\n",
       "    text-align: start;\r\n",
       "}\r\n",
       "details.dni-treeview {\r\n",
       "    padding-left: 1em;\r\n",
       "}\r\n",
       "table td {\r\n",
       "    text-align: start;\r\n",
       "}\r\n",
       "table tr { \r\n",
       "    vertical-align: top; \r\n",
       "    margin: 0em 0px;\r\n",
       "}\r\n",
       "table tr td pre \r\n",
       "{ \r\n",
       "    vertical-align: top !important; \r\n",
       "    margin: 0em 0px !important;\r\n",
       "} \r\n",
       "table th {\r\n",
       "    text-align: start;\r\n",
       "}\r\n",
       "</style>"
      ]
     },
     "metadata": {},
     "output_type": "display_data"
    }
   ],
   "source": [
    "timeSolution 100 50 solution1"
   ]
  },
  {
   "cell_type": "markdown",
   "metadata": {},
   "source": [
    "Let's create timings (in microseconds) for set sizes from 50 to 300."
   ]
  },
  {
   "cell_type": "code",
   "execution_count": 52,
   "metadata": {
    "dotnet_interactive": {
     "language": "fsharp"
    },
    "polyglot_notebook": {
     "kernelName": "fsharp"
    }
   },
   "outputs": [],
   "source": [
    "let lengths = {50..50..300} |> Seq.toList\n",
    "let maximums = lengths |> List.map (fun n -> 2*n)\n",
    "let pairs: (int*int) list = List.zip maximums lengths\n",
    "let timings = pairs |> List.map (fun pair ->\n",
    "    let (maximum, length) = pair\n",
    "    let (_, _, timing) = timeSolution maximum length solution1\n",
    "    timing\n",
    ")"
   ]
  },
  {
   "cell_type": "code",
   "execution_count": 53,
   "metadata": {
    "dotnet_interactive": {
     "language": "fsharp"
    },
    "polyglot_notebook": {
     "kernelName": "fsharp"
    }
   },
   "outputs": [
    {
     "data": {
      "text/html": [
       "<details open=\"open\" class=\"dni-treeview\"><summary><span class=\"dni-code-hint\"><code>[ (50, 24), (100, 42), (150, 75), (200, 113), (250, 158), (300, 216) ]</code></span></summary><div><table><thead><tr></tr></thead><tbody><tr><td>HeadOrDefault</td><td><details class=\"dni-treeview\"><summary><span class=\"dni-code-hint\"><code>(50, 24)</code></span></summary><div><table><thead><tr></tr></thead><tbody><tr><td>Item1</td><td><div class=\"dni-plaintext\"><pre>50</pre></div></td></tr><tr><td>Item2</td><td><div class=\"dni-plaintext\"><pre>24</pre></div></td></tr></tbody></table></div></details></td></tr><tr><td>TailOrNull</td><td><details class=\"dni-treeview\"><summary><span class=\"dni-code-hint\"><code>[ (100, 42), (150, 75), (200, 113), (250, 158), (300, 216) ]</code></span></summary><div><table><thead><tr></tr></thead><tbody><tr><td>HeadOrDefault</td><td><details class=\"dni-treeview\"><summary><span class=\"dni-code-hint\"><code>(100, 42)</code></span></summary><div><table><thead><tr></tr></thead><tbody><tr><td>Item1</td><td><div class=\"dni-plaintext\"><pre>100</pre></div></td></tr><tr><td>Item2</td><td><div class=\"dni-plaintext\"><pre>42</pre></div></td></tr></tbody></table></div></details></td></tr><tr><td>TailOrNull</td><td><details class=\"dni-treeview\"><summary><span class=\"dni-code-hint\"><code>[ (150, 75), (200, 113), (250, 158), (300, 216) ]</code></span></summary><div><table><thead><tr></tr></thead><tbody><tr><td>HeadOrDefault</td><td><details class=\"dni-treeview\"><summary><span class=\"dni-code-hint\"><code>(150, 75)</code></span></summary><div><table><thead><tr></tr></thead><tbody><tr><td>Item1</td><td><div class=\"dni-plaintext\"><pre>150</pre></div></td></tr><tr><td>Item2</td><td><div class=\"dni-plaintext\"><pre>75</pre></div></td></tr></tbody></table></div></details></td></tr><tr><td>TailOrNull</td><td><details class=\"dni-treeview\"><summary><span class=\"dni-code-hint\"><code>[ (200, 113), (250, 158), (300, 216) ]</code></span></summary><div><table><thead><tr></tr></thead><tbody><tr><td>HeadOrDefault</td><td><details class=\"dni-treeview\"><summary><span class=\"dni-code-hint\"><code>(200, 113)</code></span></summary><div><table><thead><tr></tr></thead><tbody><tr><td>Item1</td><td><div class=\"dni-plaintext\"><pre>200</pre></div></td></tr><tr><td>Item2</td><td><div class=\"dni-plaintext\"><pre>113</pre></div></td></tr></tbody></table></div></details></td></tr><tr><td>TailOrNull</td><td><details class=\"dni-treeview\"><summary><span class=\"dni-code-hint\"><code>[ (250, 158), (300, 216) ]</code></span></summary><div><table><thead><tr></tr></thead><tbody><tr><td>HeadOrDefault</td><td><details class=\"dni-treeview\"><summary><span class=\"dni-code-hint\"><code>(250, 158)</code></span></summary><div><table><thead><tr></tr></thead><tbody><tr><td>Item1</td><td>250</td></tr><tr><td>Item2</td><td>158</td></tr></tbody></table></div></details></td></tr><tr><td>TailOrNull</td><td><details class=\"dni-treeview\"><summary><span class=\"dni-code-hint\"><code>[ (300, 216) ]</code></span></summary><div><table><thead><tr></tr></thead><tbody><tr><td>HeadOrDefault</td><td>(300, 216)</td></tr><tr><td>TailOrNull</td><td>[  ]</td></tr><tr><td>Head</td><td>(300, 216)</td></tr><tr><td>Tail</td><td>[  ]</td></tr><tr><td><i>(values)</i></td><td><table><thead><tr><th><i>index</i></th><th>value</th></tr></thead><tbody><tr><td>0</td><td>(300, 216)</td></tr></tbody></table></td></tr></tbody></table></div></details></td></tr><tr><td>Head</td><td><details class=\"dni-treeview\"><summary><span class=\"dni-code-hint\"><code>(250, 158)</code></span></summary><div><table><thead><tr></tr></thead><tbody><tr><td>Item1</td><td>250</td></tr><tr><td>Item2</td><td>158</td></tr></tbody></table></div></details></td></tr><tr><td>Tail</td><td><details class=\"dni-treeview\"><summary><span class=\"dni-code-hint\"><code>[ (300, 216) ]</code></span></summary><div><table><thead><tr></tr></thead><tbody><tr><td>HeadOrDefault</td><td>(300, 216)</td></tr><tr><td>TailOrNull</td><td>[  ]</td></tr><tr><td>Head</td><td>(300, 216)</td></tr><tr><td>Tail</td><td>[  ]</td></tr><tr><td><i>(values)</i></td><td><table><thead><tr><th><i>index</i></th><th>value</th></tr></thead><tbody><tr><td>0</td><td>(300, 216)</td></tr></tbody></table></td></tr></tbody></table></div></details></td></tr><tr><td><i>(values)</i></td><td><table><thead><tr><th><i>index</i></th><th>value</th></tr></thead><tbody><tr><td>0</td><td><details class=\"dni-treeview\"><summary><span class=\"dni-code-hint\"><code>(250, 158)</code></span></summary><div><table><thead><tr></tr></thead><tbody><tr><td>Item1</td><td>250</td></tr><tr><td>Item2</td><td>158</td></tr></tbody></table></div></details></td></tr><tr><td>1</td><td><details class=\"dni-treeview\"><summary><span class=\"dni-code-hint\"><code>(300, 216)</code></span></summary><div><table><thead><tr></tr></thead><tbody><tr><td>Item1</td><td>300</td></tr><tr><td>Item2</td><td>216</td></tr></tbody></table></div></details></td></tr></tbody></table></td></tr></tbody></table></div></details></td></tr><tr><td>Head</td><td><details class=\"dni-treeview\"><summary><span class=\"dni-code-hint\"><code>(200, 113)</code></span></summary><div><table><thead><tr></tr></thead><tbody><tr><td>Item1</td><td><div class=\"dni-plaintext\"><pre>200</pre></div></td></tr><tr><td>Item2</td><td><div class=\"dni-plaintext\"><pre>113</pre></div></td></tr></tbody></table></div></details></td></tr><tr><td>Tail</td><td><details class=\"dni-treeview\"><summary><span class=\"dni-code-hint\"><code>[ (250, 158), (300, 216) ]</code></span></summary><div><table><thead><tr></tr></thead><tbody><tr><td>HeadOrDefault</td><td><details class=\"dni-treeview\"><summary><span class=\"dni-code-hint\"><code>(250, 158)</code></span></summary><div><table><thead><tr></tr></thead><tbody><tr><td>Item1</td><td>250</td></tr><tr><td>Item2</td><td>158</td></tr></tbody></table></div></details></td></tr><tr><td>TailOrNull</td><td><details class=\"dni-treeview\"><summary><span class=\"dni-code-hint\"><code>[ (300, 216) ]</code></span></summary><div><table><thead><tr></tr></thead><tbody><tr><td>HeadOrDefault</td><td>(300, 216)</td></tr><tr><td>TailOrNull</td><td>[  ]</td></tr><tr><td>Head</td><td>(300, 216)</td></tr><tr><td>Tail</td><td>[  ]</td></tr><tr><td><i>(values)</i></td><td><table><thead><tr><th><i>index</i></th><th>value</th></tr></thead><tbody><tr><td>0</td><td>(300, 216)</td></tr></tbody></table></td></tr></tbody></table></div></details></td></tr><tr><td>Head</td><td><details class=\"dni-treeview\"><summary><span class=\"dni-code-hint\"><code>(250, 158)</code></span></summary><div><table><thead><tr></tr></thead><tbody><tr><td>Item1</td><td>250</td></tr><tr><td>Item2</td><td>158</td></tr></tbody></table></div></details></td></tr><tr><td>Tail</td><td><details class=\"dni-treeview\"><summary><span class=\"dni-code-hint\"><code>[ (300, 216) ]</code></span></summary><div><table><thead><tr></tr></thead><tbody><tr><td>HeadOrDefault</td><td>(300, 216)</td></tr><tr><td>TailOrNull</td><td>[  ]</td></tr><tr><td>Head</td><td>(300, 216)</td></tr><tr><td>Tail</td><td>[  ]</td></tr><tr><td><i>(values)</i></td><td><table><thead><tr><th><i>index</i></th><th>value</th></tr></thead><tbody><tr><td>0</td><td>(300, 216)</td></tr></tbody></table></td></tr></tbody></table></div></details></td></tr><tr><td><i>(values)</i></td><td><table><thead><tr><th><i>index</i></th><th>value</th></tr></thead><tbody><tr><td>0</td><td><details class=\"dni-treeview\"><summary><span class=\"dni-code-hint\"><code>(250, 158)</code></span></summary><div><table><thead><tr></tr></thead><tbody><tr><td>Item1</td><td>250</td></tr><tr><td>Item2</td><td>158</td></tr></tbody></table></div></details></td></tr><tr><td>1</td><td><details class=\"dni-treeview\"><summary><span class=\"dni-code-hint\"><code>(300, 216)</code></span></summary><div><table><thead><tr></tr></thead><tbody><tr><td>Item1</td><td>300</td></tr><tr><td>Item2</td><td>216</td></tr></tbody></table></div></details></td></tr></tbody></table></td></tr></tbody></table></div></details></td></tr><tr><td><i>(values)</i></td><td><table><thead><tr><th><i>index</i></th><th>value</th></tr></thead><tbody><tr><td>0</td><td><details class=\"dni-treeview\"><summary><span class=\"dni-code-hint\"><code>(200, 113)</code></span></summary><div><table><thead><tr></tr></thead><tbody><tr><td>Item1</td><td><div class=\"dni-plaintext\"><pre>200</pre></div></td></tr><tr><td>Item2</td><td><div class=\"dni-plaintext\"><pre>113</pre></div></td></tr></tbody></table></div></details></td></tr><tr><td>1</td><td><details class=\"dni-treeview\"><summary><span class=\"dni-code-hint\"><code>(250, 158)</code></span></summary><div><table><thead><tr></tr></thead><tbody><tr><td>Item1</td><td><div class=\"dni-plaintext\"><pre>250</pre></div></td></tr><tr><td>Item2</td><td><div class=\"dni-plaintext\"><pre>158</pre></div></td></tr></tbody></table></div></details></td></tr><tr><td>2</td><td><details class=\"dni-treeview\"><summary><span class=\"dni-code-hint\"><code>(300, 216)</code></span></summary><div><table><thead><tr></tr></thead><tbody><tr><td>Item1</td><td><div class=\"dni-plaintext\"><pre>300</pre></div></td></tr><tr><td>Item2</td><td><div class=\"dni-plaintext\"><pre>216</pre></div></td></tr></tbody></table></div></details></td></tr></tbody></table></td></tr></tbody></table></div></details></td></tr><tr><td>Head</td><td><details class=\"dni-treeview\"><summary><span class=\"dni-code-hint\"><code>(150, 75)</code></span></summary><div><table><thead><tr></tr></thead><tbody><tr><td>Item1</td><td><div class=\"dni-plaintext\"><pre>150</pre></div></td></tr><tr><td>Item2</td><td><div class=\"dni-plaintext\"><pre>75</pre></div></td></tr></tbody></table></div></details></td></tr><tr><td>Tail</td><td><details class=\"dni-treeview\"><summary><span class=\"dni-code-hint\"><code>[ (200, 113), (250, 158), (300, 216) ]</code></span></summary><div><table><thead><tr></tr></thead><tbody><tr><td>HeadOrDefault</td><td><details class=\"dni-treeview\"><summary><span class=\"dni-code-hint\"><code>(200, 113)</code></span></summary><div><table><thead><tr></tr></thead><tbody><tr><td>Item1</td><td><div class=\"dni-plaintext\"><pre>200</pre></div></td></tr><tr><td>Item2</td><td><div class=\"dni-plaintext\"><pre>113</pre></div></td></tr></tbody></table></div></details></td></tr><tr><td>TailOrNull</td><td><details class=\"dni-treeview\"><summary><span class=\"dni-code-hint\"><code>[ (250, 158), (300, 216) ]</code></span></summary><div><table><thead><tr></tr></thead><tbody><tr><td>HeadOrDefault</td><td><details class=\"dni-treeview\"><summary><span class=\"dni-code-hint\"><code>(250, 158)</code></span></summary><div><table><thead><tr></tr></thead><tbody><tr><td>Item1</td><td>250</td></tr><tr><td>Item2</td><td>158</td></tr></tbody></table></div></details></td></tr><tr><td>TailOrNull</td><td><details class=\"dni-treeview\"><summary><span class=\"dni-code-hint\"><code>[ (300, 216) ]</code></span></summary><div><table><thead><tr></tr></thead><tbody><tr><td>HeadOrDefault</td><td>(300, 216)</td></tr><tr><td>TailOrNull</td><td>[  ]</td></tr><tr><td>Head</td><td>(300, 216)</td></tr><tr><td>Tail</td><td>[  ]</td></tr><tr><td><i>(values)</i></td><td><table><thead><tr><th><i>index</i></th><th>value</th></tr></thead><tbody><tr><td>0</td><td>(300, 216)</td></tr></tbody></table></td></tr></tbody></table></div></details></td></tr><tr><td>Head</td><td><details class=\"dni-treeview\"><summary><span class=\"dni-code-hint\"><code>(250, 158)</code></span></summary><div><table><thead><tr></tr></thead><tbody><tr><td>Item1</td><td>250</td></tr><tr><td>Item2</td><td>158</td></tr></tbody></table></div></details></td></tr><tr><td>Tail</td><td><details class=\"dni-treeview\"><summary><span class=\"dni-code-hint\"><code>[ (300, 216) ]</code></span></summary><div><table><thead><tr></tr></thead><tbody><tr><td>HeadOrDefault</td><td>(300, 216)</td></tr><tr><td>TailOrNull</td><td>[  ]</td></tr><tr><td>Head</td><td>(300, 216)</td></tr><tr><td>Tail</td><td>[  ]</td></tr><tr><td><i>(values)</i></td><td><table><thead><tr><th><i>index</i></th><th>value</th></tr></thead><tbody><tr><td>0</td><td>(300, 216)</td></tr></tbody></table></td></tr></tbody></table></div></details></td></tr><tr><td><i>(values)</i></td><td><table><thead><tr><th><i>index</i></th><th>value</th></tr></thead><tbody><tr><td>0</td><td><details class=\"dni-treeview\"><summary><span class=\"dni-code-hint\"><code>(250, 158)</code></span></summary><div><table><thead><tr></tr></thead><tbody><tr><td>Item1</td><td>250</td></tr><tr><td>Item2</td><td>158</td></tr></tbody></table></div></details></td></tr><tr><td>1</td><td><details class=\"dni-treeview\"><summary><span class=\"dni-code-hint\"><code>(300, 216)</code></span></summary><div><table><thead><tr></tr></thead><tbody><tr><td>Item1</td><td>300</td></tr><tr><td>Item2</td><td>216</td></tr></tbody></table></div></details></td></tr></tbody></table></td></tr></tbody></table></div></details></td></tr><tr><td>Head</td><td><details class=\"dni-treeview\"><summary><span class=\"dni-code-hint\"><code>(200, 113)</code></span></summary><div><table><thead><tr></tr></thead><tbody><tr><td>Item1</td><td><div class=\"dni-plaintext\"><pre>200</pre></div></td></tr><tr><td>Item2</td><td><div class=\"dni-plaintext\"><pre>113</pre></div></td></tr></tbody></table></div></details></td></tr><tr><td>Tail</td><td><details class=\"dni-treeview\"><summary><span class=\"dni-code-hint\"><code>[ (250, 158), (300, 216) ]</code></span></summary><div><table><thead><tr></tr></thead><tbody><tr><td>HeadOrDefault</td><td><details class=\"dni-treeview\"><summary><span class=\"dni-code-hint\"><code>(250, 158)</code></span></summary><div><table><thead><tr></tr></thead><tbody><tr><td>Item1</td><td>250</td></tr><tr><td>Item2</td><td>158</td></tr></tbody></table></div></details></td></tr><tr><td>TailOrNull</td><td><details class=\"dni-treeview\"><summary><span class=\"dni-code-hint\"><code>[ (300, 216) ]</code></span></summary><div><table><thead><tr></tr></thead><tbody><tr><td>HeadOrDefault</td><td>(300, 216)</td></tr><tr><td>TailOrNull</td><td>[  ]</td></tr><tr><td>Head</td><td>(300, 216)</td></tr><tr><td>Tail</td><td>[  ]</td></tr><tr><td><i>(values)</i></td><td><table><thead><tr><th><i>index</i></th><th>value</th></tr></thead><tbody><tr><td>0</td><td>(300, 216)</td></tr></tbody></table></td></tr></tbody></table></div></details></td></tr><tr><td>Head</td><td><details class=\"dni-treeview\"><summary><span class=\"dni-code-hint\"><code>(250, 158)</code></span></summary><div><table><thead><tr></tr></thead><tbody><tr><td>Item1</td><td>250</td></tr><tr><td>Item2</td><td>158</td></tr></tbody></table></div></details></td></tr><tr><td>Tail</td><td><details class=\"dni-treeview\"><summary><span class=\"dni-code-hint\"><code>[ (300, 216) ]</code></span></summary><div><table><thead><tr></tr></thead><tbody><tr><td>HeadOrDefault</td><td>(300, 216)</td></tr><tr><td>TailOrNull</td><td>[  ]</td></tr><tr><td>Head</td><td>(300, 216)</td></tr><tr><td>Tail</td><td>[  ]</td></tr><tr><td><i>(values)</i></td><td><table><thead><tr><th><i>index</i></th><th>value</th></tr></thead><tbody><tr><td>0</td><td>(300, 216)</td></tr></tbody></table></td></tr></tbody></table></div></details></td></tr><tr><td><i>(values)</i></td><td><table><thead><tr><th><i>index</i></th><th>value</th></tr></thead><tbody><tr><td>0</td><td><details class=\"dni-treeview\"><summary><span class=\"dni-code-hint\"><code>(250, 158)</code></span></summary><div><table><thead><tr></tr></thead><tbody><tr><td>Item1</td><td>250</td></tr><tr><td>Item2</td><td>158</td></tr></tbody></table></div></details></td></tr><tr><td>1</td><td><details class=\"dni-treeview\"><summary><span class=\"dni-code-hint\"><code>(300, 216)</code></span></summary><div><table><thead><tr></tr></thead><tbody><tr><td>Item1</td><td>300</td></tr><tr><td>Item2</td><td>216</td></tr></tbody></table></div></details></td></tr></tbody></table></td></tr></tbody></table></div></details></td></tr><tr><td><i>(values)</i></td><td><table><thead><tr><th><i>index</i></th><th>value</th></tr></thead><tbody><tr><td>0</td><td><details class=\"dni-treeview\"><summary><span class=\"dni-code-hint\"><code>(200, 113)</code></span></summary><div><table><thead><tr></tr></thead><tbody><tr><td>Item1</td><td><div class=\"dni-plaintext\"><pre>200</pre></div></td></tr><tr><td>Item2</td><td><div class=\"dni-plaintext\"><pre>113</pre></div></td></tr></tbody></table></div></details></td></tr><tr><td>1</td><td><details class=\"dni-treeview\"><summary><span class=\"dni-code-hint\"><code>(250, 158)</code></span></summary><div><table><thead><tr></tr></thead><tbody><tr><td>Item1</td><td><div class=\"dni-plaintext\"><pre>250</pre></div></td></tr><tr><td>Item2</td><td><div class=\"dni-plaintext\"><pre>158</pre></div></td></tr></tbody></table></div></details></td></tr><tr><td>2</td><td><details class=\"dni-treeview\"><summary><span class=\"dni-code-hint\"><code>(300, 216)</code></span></summary><div><table><thead><tr></tr></thead><tbody><tr><td>Item1</td><td><div class=\"dni-plaintext\"><pre>300</pre></div></td></tr><tr><td>Item2</td><td><div class=\"dni-plaintext\"><pre>216</pre></div></td></tr></tbody></table></div></details></td></tr></tbody></table></td></tr></tbody></table></div></details></td></tr><tr><td><i>(values)</i></td><td><table><thead><tr><th><i>index</i></th><th>value</th></tr></thead><tbody><tr><td>0</td><td><details class=\"dni-treeview\"><summary><span class=\"dni-code-hint\"><code>(150, 75)</code></span></summary><div><table><thead><tr></tr></thead><tbody><tr><td>Item1</td><td><div class=\"dni-plaintext\"><pre>150</pre></div></td></tr><tr><td>Item2</td><td><div class=\"dni-plaintext\"><pre>75</pre></div></td></tr></tbody></table></div></details></td></tr><tr><td>1</td><td><details class=\"dni-treeview\"><summary><span class=\"dni-code-hint\"><code>(200, 113)</code></span></summary><div><table><thead><tr></tr></thead><tbody><tr><td>Item1</td><td><div class=\"dni-plaintext\"><pre>200</pre></div></td></tr><tr><td>Item2</td><td><div class=\"dni-plaintext\"><pre>113</pre></div></td></tr></tbody></table></div></details></td></tr><tr><td>2</td><td><details class=\"dni-treeview\"><summary><span class=\"dni-code-hint\"><code>(250, 158)</code></span></summary><div><table><thead><tr></tr></thead><tbody><tr><td>Item1</td><td><div class=\"dni-plaintext\"><pre>250</pre></div></td></tr><tr><td>Item2</td><td><div class=\"dni-plaintext\"><pre>158</pre></div></td></tr></tbody></table></div></details></td></tr><tr><td>3</td><td><details class=\"dni-treeview\"><summary><span class=\"dni-code-hint\"><code>(300, 216)</code></span></summary><div><table><thead><tr></tr></thead><tbody><tr><td>Item1</td><td><div class=\"dni-plaintext\"><pre>300</pre></div></td></tr><tr><td>Item2</td><td><div class=\"dni-plaintext\"><pre>216</pre></div></td></tr></tbody></table></div></details></td></tr></tbody></table></td></tr></tbody></table></div></details></td></tr><tr><td>Head</td><td><details class=\"dni-treeview\"><summary><span class=\"dni-code-hint\"><code>(100, 42)</code></span></summary><div><table><thead><tr></tr></thead><tbody><tr><td>Item1</td><td><div class=\"dni-plaintext\"><pre>100</pre></div></td></tr><tr><td>Item2</td><td><div class=\"dni-plaintext\"><pre>42</pre></div></td></tr></tbody></table></div></details></td></tr><tr><td>Tail</td><td><details class=\"dni-treeview\"><summary><span class=\"dni-code-hint\"><code>[ (150, 75), (200, 113), (250, 158), (300, 216) ]</code></span></summary><div><table><thead><tr></tr></thead><tbody><tr><td>HeadOrDefault</td><td><details class=\"dni-treeview\"><summary><span class=\"dni-code-hint\"><code>(150, 75)</code></span></summary><div><table><thead><tr></tr></thead><tbody><tr><td>Item1</td><td><div class=\"dni-plaintext\"><pre>150</pre></div></td></tr><tr><td>Item2</td><td><div class=\"dni-plaintext\"><pre>75</pre></div></td></tr></tbody></table></div></details></td></tr><tr><td>TailOrNull</td><td><details class=\"dni-treeview\"><summary><span class=\"dni-code-hint\"><code>[ (200, 113), (250, 158), (300, 216) ]</code></span></summary><div><table><thead><tr></tr></thead><tbody><tr><td>HeadOrDefault</td><td><details class=\"dni-treeview\"><summary><span class=\"dni-code-hint\"><code>(200, 113)</code></span></summary><div><table><thead><tr></tr></thead><tbody><tr><td>Item1</td><td><div class=\"dni-plaintext\"><pre>200</pre></div></td></tr><tr><td>Item2</td><td><div class=\"dni-plaintext\"><pre>113</pre></div></td></tr></tbody></table></div></details></td></tr><tr><td>TailOrNull</td><td><details class=\"dni-treeview\"><summary><span class=\"dni-code-hint\"><code>[ (250, 158), (300, 216) ]</code></span></summary><div><table><thead><tr></tr></thead><tbody><tr><td>HeadOrDefault</td><td><details class=\"dni-treeview\"><summary><span class=\"dni-code-hint\"><code>(250, 158)</code></span></summary><div><table><thead><tr></tr></thead><tbody><tr><td>Item1</td><td>250</td></tr><tr><td>Item2</td><td>158</td></tr></tbody></table></div></details></td></tr><tr><td>TailOrNull</td><td><details class=\"dni-treeview\"><summary><span class=\"dni-code-hint\"><code>[ (300, 216) ]</code></span></summary><div><table><thead><tr></tr></thead><tbody><tr><td>HeadOrDefault</td><td>(300, 216)</td></tr><tr><td>TailOrNull</td><td>[  ]</td></tr><tr><td>Head</td><td>(300, 216)</td></tr><tr><td>Tail</td><td>[  ]</td></tr><tr><td><i>(values)</i></td><td><table><thead><tr><th><i>index</i></th><th>value</th></tr></thead><tbody><tr><td>0</td><td>(300, 216)</td></tr></tbody></table></td></tr></tbody></table></div></details></td></tr><tr><td>Head</td><td><details class=\"dni-treeview\"><summary><span class=\"dni-code-hint\"><code>(250, 158)</code></span></summary><div><table><thead><tr></tr></thead><tbody><tr><td>Item1</td><td>250</td></tr><tr><td>Item2</td><td>158</td></tr></tbody></table></div></details></td></tr><tr><td>Tail</td><td><details class=\"dni-treeview\"><summary><span class=\"dni-code-hint\"><code>[ (300, 216) ]</code></span></summary><div><table><thead><tr></tr></thead><tbody><tr><td>HeadOrDefault</td><td>(300, 216)</td></tr><tr><td>TailOrNull</td><td>[  ]</td></tr><tr><td>Head</td><td>(300, 216)</td></tr><tr><td>Tail</td><td>[  ]</td></tr><tr><td><i>(values)</i></td><td><table><thead><tr><th><i>index</i></th><th>value</th></tr></thead><tbody><tr><td>0</td><td>(300, 216)</td></tr></tbody></table></td></tr></tbody></table></div></details></td></tr><tr><td><i>(values)</i></td><td><table><thead><tr><th><i>index</i></th><th>value</th></tr></thead><tbody><tr><td>0</td><td><details class=\"dni-treeview\"><summary><span class=\"dni-code-hint\"><code>(250, 158)</code></span></summary><div><table><thead><tr></tr></thead><tbody><tr><td>Item1</td><td>250</td></tr><tr><td>Item2</td><td>158</td></tr></tbody></table></div></details></td></tr><tr><td>1</td><td><details class=\"dni-treeview\"><summary><span class=\"dni-code-hint\"><code>(300, 216)</code></span></summary><div><table><thead><tr></tr></thead><tbody><tr><td>Item1</td><td>300</td></tr><tr><td>Item2</td><td>216</td></tr></tbody></table></div></details></td></tr></tbody></table></td></tr></tbody></table></div></details></td></tr><tr><td>Head</td><td><details class=\"dni-treeview\"><summary><span class=\"dni-code-hint\"><code>(200, 113)</code></span></summary><div><table><thead><tr></tr></thead><tbody><tr><td>Item1</td><td><div class=\"dni-plaintext\"><pre>200</pre></div></td></tr><tr><td>Item2</td><td><div class=\"dni-plaintext\"><pre>113</pre></div></td></tr></tbody></table></div></details></td></tr><tr><td>Tail</td><td><details class=\"dni-treeview\"><summary><span class=\"dni-code-hint\"><code>[ (250, 158), (300, 216) ]</code></span></summary><div><table><thead><tr></tr></thead><tbody><tr><td>HeadOrDefault</td><td><details class=\"dni-treeview\"><summary><span class=\"dni-code-hint\"><code>(250, 158)</code></span></summary><div><table><thead><tr></tr></thead><tbody><tr><td>Item1</td><td>250</td></tr><tr><td>Item2</td><td>158</td></tr></tbody></table></div></details></td></tr><tr><td>TailOrNull</td><td><details class=\"dni-treeview\"><summary><span class=\"dni-code-hint\"><code>[ (300, 216) ]</code></span></summary><div><table><thead><tr></tr></thead><tbody><tr><td>HeadOrDefault</td><td>(300, 216)</td></tr><tr><td>TailOrNull</td><td>[  ]</td></tr><tr><td>Head</td><td>(300, 216)</td></tr><tr><td>Tail</td><td>[  ]</td></tr><tr><td><i>(values)</i></td><td><table><thead><tr><th><i>index</i></th><th>value</th></tr></thead><tbody><tr><td>0</td><td>(300, 216)</td></tr></tbody></table></td></tr></tbody></table></div></details></td></tr><tr><td>Head</td><td><details class=\"dni-treeview\"><summary><span class=\"dni-code-hint\"><code>(250, 158)</code></span></summary><div><table><thead><tr></tr></thead><tbody><tr><td>Item1</td><td>250</td></tr><tr><td>Item2</td><td>158</td></tr></tbody></table></div></details></td></tr><tr><td>Tail</td><td><details class=\"dni-treeview\"><summary><span class=\"dni-code-hint\"><code>[ (300, 216) ]</code></span></summary><div><table><thead><tr></tr></thead><tbody><tr><td>HeadOrDefault</td><td>(300, 216)</td></tr><tr><td>TailOrNull</td><td>[  ]</td></tr><tr><td>Head</td><td>(300, 216)</td></tr><tr><td>Tail</td><td>[  ]</td></tr><tr><td><i>(values)</i></td><td><table><thead><tr><th><i>index</i></th><th>value</th></tr></thead><tbody><tr><td>0</td><td>(300, 216)</td></tr></tbody></table></td></tr></tbody></table></div></details></td></tr><tr><td><i>(values)</i></td><td><table><thead><tr><th><i>index</i></th><th>value</th></tr></thead><tbody><tr><td>0</td><td><details class=\"dni-treeview\"><summary><span class=\"dni-code-hint\"><code>(250, 158)</code></span></summary><div><table><thead><tr></tr></thead><tbody><tr><td>Item1</td><td>250</td></tr><tr><td>Item2</td><td>158</td></tr></tbody></table></div></details></td></tr><tr><td>1</td><td><details class=\"dni-treeview\"><summary><span class=\"dni-code-hint\"><code>(300, 216)</code></span></summary><div><table><thead><tr></tr></thead><tbody><tr><td>Item1</td><td>300</td></tr><tr><td>Item2</td><td>216</td></tr></tbody></table></div></details></td></tr></tbody></table></td></tr></tbody></table></div></details></td></tr><tr><td><i>(values)</i></td><td><table><thead><tr><th><i>index</i></th><th>value</th></tr></thead><tbody><tr><td>0</td><td><details class=\"dni-treeview\"><summary><span class=\"dni-code-hint\"><code>(200, 113)</code></span></summary><div><table><thead><tr></tr></thead><tbody><tr><td>Item1</td><td><div class=\"dni-plaintext\"><pre>200</pre></div></td></tr><tr><td>Item2</td><td><div class=\"dni-plaintext\"><pre>113</pre></div></td></tr></tbody></table></div></details></td></tr><tr><td>1</td><td><details class=\"dni-treeview\"><summary><span class=\"dni-code-hint\"><code>(250, 158)</code></span></summary><div><table><thead><tr></tr></thead><tbody><tr><td>Item1</td><td><div class=\"dni-plaintext\"><pre>250</pre></div></td></tr><tr><td>Item2</td><td><div class=\"dni-plaintext\"><pre>158</pre></div></td></tr></tbody></table></div></details></td></tr><tr><td>2</td><td><details class=\"dni-treeview\"><summary><span class=\"dni-code-hint\"><code>(300, 216)</code></span></summary><div><table><thead><tr></tr></thead><tbody><tr><td>Item1</td><td><div class=\"dni-plaintext\"><pre>300</pre></div></td></tr><tr><td>Item2</td><td><div class=\"dni-plaintext\"><pre>216</pre></div></td></tr></tbody></table></div></details></td></tr></tbody></table></td></tr></tbody></table></div></details></td></tr><tr><td>Head</td><td><details class=\"dni-treeview\"><summary><span class=\"dni-code-hint\"><code>(150, 75)</code></span></summary><div><table><thead><tr></tr></thead><tbody><tr><td>Item1</td><td><div class=\"dni-plaintext\"><pre>150</pre></div></td></tr><tr><td>Item2</td><td><div class=\"dni-plaintext\"><pre>75</pre></div></td></tr></tbody></table></div></details></td></tr><tr><td>Tail</td><td><details class=\"dni-treeview\"><summary><span class=\"dni-code-hint\"><code>[ (200, 113), (250, 158), (300, 216) ]</code></span></summary><div><table><thead><tr></tr></thead><tbody><tr><td>HeadOrDefault</td><td><details class=\"dni-treeview\"><summary><span class=\"dni-code-hint\"><code>(200, 113)</code></span></summary><div><table><thead><tr></tr></thead><tbody><tr><td>Item1</td><td><div class=\"dni-plaintext\"><pre>200</pre></div></td></tr><tr><td>Item2</td><td><div class=\"dni-plaintext\"><pre>113</pre></div></td></tr></tbody></table></div></details></td></tr><tr><td>TailOrNull</td><td><details class=\"dni-treeview\"><summary><span class=\"dni-code-hint\"><code>[ (250, 158), (300, 216) ]</code></span></summary><div><table><thead><tr></tr></thead><tbody><tr><td>HeadOrDefault</td><td><details class=\"dni-treeview\"><summary><span class=\"dni-code-hint\"><code>(250, 158)</code></span></summary><div><table><thead><tr></tr></thead><tbody><tr><td>Item1</td><td>250</td></tr><tr><td>Item2</td><td>158</td></tr></tbody></table></div></details></td></tr><tr><td>TailOrNull</td><td><details class=\"dni-treeview\"><summary><span class=\"dni-code-hint\"><code>[ (300, 216) ]</code></span></summary><div><table><thead><tr></tr></thead><tbody><tr><td>HeadOrDefault</td><td>(300, 216)</td></tr><tr><td>TailOrNull</td><td>[  ]</td></tr><tr><td>Head</td><td>(300, 216)</td></tr><tr><td>Tail</td><td>[  ]</td></tr><tr><td><i>(values)</i></td><td><table><thead><tr><th><i>index</i></th><th>value</th></tr></thead><tbody><tr><td>0</td><td>(300, 216)</td></tr></tbody></table></td></tr></tbody></table></div></details></td></tr><tr><td>Head</td><td><details class=\"dni-treeview\"><summary><span class=\"dni-code-hint\"><code>(250, 158)</code></span></summary><div><table><thead><tr></tr></thead><tbody><tr><td>Item1</td><td>250</td></tr><tr><td>Item2</td><td>158</td></tr></tbody></table></div></details></td></tr><tr><td>Tail</td><td><details class=\"dni-treeview\"><summary><span class=\"dni-code-hint\"><code>[ (300, 216) ]</code></span></summary><div><table><thead><tr></tr></thead><tbody><tr><td>HeadOrDefault</td><td>(300, 216)</td></tr><tr><td>TailOrNull</td><td>[  ]</td></tr><tr><td>Head</td><td>(300, 216)</td></tr><tr><td>Tail</td><td>[  ]</td></tr><tr><td><i>(values)</i></td><td><table><thead><tr><th><i>index</i></th><th>value</th></tr></thead><tbody><tr><td>0</td><td>(300, 216)</td></tr></tbody></table></td></tr></tbody></table></div></details></td></tr><tr><td><i>(values)</i></td><td><table><thead><tr><th><i>index</i></th><th>value</th></tr></thead><tbody><tr><td>0</td><td><details class=\"dni-treeview\"><summary><span class=\"dni-code-hint\"><code>(250, 158)</code></span></summary><div><table><thead><tr></tr></thead><tbody><tr><td>Item1</td><td>250</td></tr><tr><td>Item2</td><td>158</td></tr></tbody></table></div></details></td></tr><tr><td>1</td><td><details class=\"dni-treeview\"><summary><span class=\"dni-code-hint\"><code>(300, 216)</code></span></summary><div><table><thead><tr></tr></thead><tbody><tr><td>Item1</td><td>300</td></tr><tr><td>Item2</td><td>216</td></tr></tbody></table></div></details></td></tr></tbody></table></td></tr></tbody></table></div></details></td></tr><tr><td>Head</td><td><details class=\"dni-treeview\"><summary><span class=\"dni-code-hint\"><code>(200, 113)</code></span></summary><div><table><thead><tr></tr></thead><tbody><tr><td>Item1</td><td><div class=\"dni-plaintext\"><pre>200</pre></div></td></tr><tr><td>Item2</td><td><div class=\"dni-plaintext\"><pre>113</pre></div></td></tr></tbody></table></div></details></td></tr><tr><td>Tail</td><td><details class=\"dni-treeview\"><summary><span class=\"dni-code-hint\"><code>[ (250, 158), (300, 216) ]</code></span></summary><div><table><thead><tr></tr></thead><tbody><tr><td>HeadOrDefault</td><td><details class=\"dni-treeview\"><summary><span class=\"dni-code-hint\"><code>(250, 158)</code></span></summary><div><table><thead><tr></tr></thead><tbody><tr><td>Item1</td><td>250</td></tr><tr><td>Item2</td><td>158</td></tr></tbody></table></div></details></td></tr><tr><td>TailOrNull</td><td><details class=\"dni-treeview\"><summary><span class=\"dni-code-hint\"><code>[ (300, 216) ]</code></span></summary><div><table><thead><tr></tr></thead><tbody><tr><td>HeadOrDefault</td><td>(300, 216)</td></tr><tr><td>TailOrNull</td><td>[  ]</td></tr><tr><td>Head</td><td>(300, 216)</td></tr><tr><td>Tail</td><td>[  ]</td></tr><tr><td><i>(values)</i></td><td><table><thead><tr><th><i>index</i></th><th>value</th></tr></thead><tbody><tr><td>0</td><td>(300, 216)</td></tr></tbody></table></td></tr></tbody></table></div></details></td></tr><tr><td>Head</td><td><details class=\"dni-treeview\"><summary><span class=\"dni-code-hint\"><code>(250, 158)</code></span></summary><div><table><thead><tr></tr></thead><tbody><tr><td>Item1</td><td>250</td></tr><tr><td>Item2</td><td>158</td></tr></tbody></table></div></details></td></tr><tr><td>Tail</td><td><details class=\"dni-treeview\"><summary><span class=\"dni-code-hint\"><code>[ (300, 216) ]</code></span></summary><div><table><thead><tr></tr></thead><tbody><tr><td>HeadOrDefault</td><td>(300, 216)</td></tr><tr><td>TailOrNull</td><td>[  ]</td></tr><tr><td>Head</td><td>(300, 216)</td></tr><tr><td>Tail</td><td>[  ]</td></tr><tr><td><i>(values)</i></td><td><table><thead><tr><th><i>index</i></th><th>value</th></tr></thead><tbody><tr><td>0</td><td>(300, 216)</td></tr></tbody></table></td></tr></tbody></table></div></details></td></tr><tr><td><i>(values)</i></td><td><table><thead><tr><th><i>index</i></th><th>value</th></tr></thead><tbody><tr><td>0</td><td><details class=\"dni-treeview\"><summary><span class=\"dni-code-hint\"><code>(250, 158)</code></span></summary><div><table><thead><tr></tr></thead><tbody><tr><td>Item1</td><td>250</td></tr><tr><td>Item2</td><td>158</td></tr></tbody></table></div></details></td></tr><tr><td>1</td><td><details class=\"dni-treeview\"><summary><span class=\"dni-code-hint\"><code>(300, 216)</code></span></summary><div><table><thead><tr></tr></thead><tbody><tr><td>Item1</td><td>300</td></tr><tr><td>Item2</td><td>216</td></tr></tbody></table></div></details></td></tr></tbody></table></td></tr></tbody></table></div></details></td></tr><tr><td><i>(values)</i></td><td><table><thead><tr><th><i>index</i></th><th>value</th></tr></thead><tbody><tr><td>0</td><td><details class=\"dni-treeview\"><summary><span class=\"dni-code-hint\"><code>(200, 113)</code></span></summary><div><table><thead><tr></tr></thead><tbody><tr><td>Item1</td><td><div class=\"dni-plaintext\"><pre>200</pre></div></td></tr><tr><td>Item2</td><td><div class=\"dni-plaintext\"><pre>113</pre></div></td></tr></tbody></table></div></details></td></tr><tr><td>1</td><td><details class=\"dni-treeview\"><summary><span class=\"dni-code-hint\"><code>(250, 158)</code></span></summary><div><table><thead><tr></tr></thead><tbody><tr><td>Item1</td><td><div class=\"dni-plaintext\"><pre>250</pre></div></td></tr><tr><td>Item2</td><td><div class=\"dni-plaintext\"><pre>158</pre></div></td></tr></tbody></table></div></details></td></tr><tr><td>2</td><td><details class=\"dni-treeview\"><summary><span class=\"dni-code-hint\"><code>(300, 216)</code></span></summary><div><table><thead><tr></tr></thead><tbody><tr><td>Item1</td><td><div class=\"dni-plaintext\"><pre>300</pre></div></td></tr><tr><td>Item2</td><td><div class=\"dni-plaintext\"><pre>216</pre></div></td></tr></tbody></table></div></details></td></tr></tbody></table></td></tr></tbody></table></div></details></td></tr><tr><td><i>(values)</i></td><td><table><thead><tr><th><i>index</i></th><th>value</th></tr></thead><tbody><tr><td>0</td><td><details class=\"dni-treeview\"><summary><span class=\"dni-code-hint\"><code>(150, 75)</code></span></summary><div><table><thead><tr></tr></thead><tbody><tr><td>Item1</td><td><div class=\"dni-plaintext\"><pre>150</pre></div></td></tr><tr><td>Item2</td><td><div class=\"dni-plaintext\"><pre>75</pre></div></td></tr></tbody></table></div></details></td></tr><tr><td>1</td><td><details class=\"dni-treeview\"><summary><span class=\"dni-code-hint\"><code>(200, 113)</code></span></summary><div><table><thead><tr></tr></thead><tbody><tr><td>Item1</td><td><div class=\"dni-plaintext\"><pre>200</pre></div></td></tr><tr><td>Item2</td><td><div class=\"dni-plaintext\"><pre>113</pre></div></td></tr></tbody></table></div></details></td></tr><tr><td>2</td><td><details class=\"dni-treeview\"><summary><span class=\"dni-code-hint\"><code>(250, 158)</code></span></summary><div><table><thead><tr></tr></thead><tbody><tr><td>Item1</td><td><div class=\"dni-plaintext\"><pre>250</pre></div></td></tr><tr><td>Item2</td><td><div class=\"dni-plaintext\"><pre>158</pre></div></td></tr></tbody></table></div></details></td></tr><tr><td>3</td><td><details class=\"dni-treeview\"><summary><span class=\"dni-code-hint\"><code>(300, 216)</code></span></summary><div><table><thead><tr></tr></thead><tbody><tr><td>Item1</td><td><div class=\"dni-plaintext\"><pre>300</pre></div></td></tr><tr><td>Item2</td><td><div class=\"dni-plaintext\"><pre>216</pre></div></td></tr></tbody></table></div></details></td></tr></tbody></table></td></tr></tbody></table></div></details></td></tr><tr><td><i>(values)</i></td><td><table><thead><tr><th><i>index</i></th><th>value</th></tr></thead><tbody><tr><td>0</td><td><details class=\"dni-treeview\"><summary><span class=\"dni-code-hint\"><code>(100, 42)</code></span></summary><div><table><thead><tr></tr></thead><tbody><tr><td>Item1</td><td><div class=\"dni-plaintext\"><pre>100</pre></div></td></tr><tr><td>Item2</td><td><div class=\"dni-plaintext\"><pre>42</pre></div></td></tr></tbody></table></div></details></td></tr><tr><td>1</td><td><details class=\"dni-treeview\"><summary><span class=\"dni-code-hint\"><code>(150, 75)</code></span></summary><div><table><thead><tr></tr></thead><tbody><tr><td>Item1</td><td><div class=\"dni-plaintext\"><pre>150</pre></div></td></tr><tr><td>Item2</td><td><div class=\"dni-plaintext\"><pre>75</pre></div></td></tr></tbody></table></div></details></td></tr><tr><td>2</td><td><details class=\"dni-treeview\"><summary><span class=\"dni-code-hint\"><code>(200, 113)</code></span></summary><div><table><thead><tr></tr></thead><tbody><tr><td>Item1</td><td><div class=\"dni-plaintext\"><pre>200</pre></div></td></tr><tr><td>Item2</td><td><div class=\"dni-plaintext\"><pre>113</pre></div></td></tr></tbody></table></div></details></td></tr><tr><td>3</td><td><details class=\"dni-treeview\"><summary><span class=\"dni-code-hint\"><code>(250, 158)</code></span></summary><div><table><thead><tr></tr></thead><tbody><tr><td>Item1</td><td><div class=\"dni-plaintext\"><pre>250</pre></div></td></tr><tr><td>Item2</td><td><div class=\"dni-plaintext\"><pre>158</pre></div></td></tr></tbody></table></div></details></td></tr><tr><td>4</td><td><details class=\"dni-treeview\"><summary><span class=\"dni-code-hint\"><code>(300, 216)</code></span></summary><div><table><thead><tr></tr></thead><tbody><tr><td>Item1</td><td><div class=\"dni-plaintext\"><pre>300</pre></div></td></tr><tr><td>Item2</td><td><div class=\"dni-plaintext\"><pre>216</pre></div></td></tr></tbody></table></div></details></td></tr></tbody></table></td></tr></tbody></table></div></details></td></tr><tr><td>Head</td><td><details class=\"dni-treeview\"><summary><span class=\"dni-code-hint\"><code>(50, 24)</code></span></summary><div><table><thead><tr></tr></thead><tbody><tr><td>Item1</td><td><div class=\"dni-plaintext\"><pre>50</pre></div></td></tr><tr><td>Item2</td><td><div class=\"dni-plaintext\"><pre>24</pre></div></td></tr></tbody></table></div></details></td></tr><tr><td>Tail</td><td><details class=\"dni-treeview\"><summary><span class=\"dni-code-hint\"><code>[ (100, 42), (150, 75), (200, 113), (250, 158), (300, 216) ]</code></span></summary><div><table><thead><tr></tr></thead><tbody><tr><td>HeadOrDefault</td><td><details class=\"dni-treeview\"><summary><span class=\"dni-code-hint\"><code>(100, 42)</code></span></summary><div><table><thead><tr></tr></thead><tbody><tr><td>Item1</td><td><div class=\"dni-plaintext\"><pre>100</pre></div></td></tr><tr><td>Item2</td><td><div class=\"dni-plaintext\"><pre>42</pre></div></td></tr></tbody></table></div></details></td></tr><tr><td>TailOrNull</td><td><details class=\"dni-treeview\"><summary><span class=\"dni-code-hint\"><code>[ (150, 75), (200, 113), (250, 158), (300, 216) ]</code></span></summary><div><table><thead><tr></tr></thead><tbody><tr><td>HeadOrDefault</td><td><details class=\"dni-treeview\"><summary><span class=\"dni-code-hint\"><code>(150, 75)</code></span></summary><div><table><thead><tr></tr></thead><tbody><tr><td>Item1</td><td><div class=\"dni-plaintext\"><pre>150</pre></div></td></tr><tr><td>Item2</td><td><div class=\"dni-plaintext\"><pre>75</pre></div></td></tr></tbody></table></div></details></td></tr><tr><td>TailOrNull</td><td><details class=\"dni-treeview\"><summary><span class=\"dni-code-hint\"><code>[ (200, 113), (250, 158), (300, 216) ]</code></span></summary><div><table><thead><tr></tr></thead><tbody><tr><td>HeadOrDefault</td><td><details class=\"dni-treeview\"><summary><span class=\"dni-code-hint\"><code>(200, 113)</code></span></summary><div><table><thead><tr></tr></thead><tbody><tr><td>Item1</td><td><div class=\"dni-plaintext\"><pre>200</pre></div></td></tr><tr><td>Item2</td><td><div class=\"dni-plaintext\"><pre>113</pre></div></td></tr></tbody></table></div></details></td></tr><tr><td>TailOrNull</td><td><details class=\"dni-treeview\"><summary><span class=\"dni-code-hint\"><code>[ (250, 158), (300, 216) ]</code></span></summary><div><table><thead><tr></tr></thead><tbody><tr><td>HeadOrDefault</td><td><details class=\"dni-treeview\"><summary><span class=\"dni-code-hint\"><code>(250, 158)</code></span></summary><div><table><thead><tr></tr></thead><tbody><tr><td>Item1</td><td>250</td></tr><tr><td>Item2</td><td>158</td></tr></tbody></table></div></details></td></tr><tr><td>TailOrNull</td><td><details class=\"dni-treeview\"><summary><span class=\"dni-code-hint\"><code>[ (300, 216) ]</code></span></summary><div><table><thead><tr></tr></thead><tbody><tr><td>HeadOrDefault</td><td>(300, 216)</td></tr><tr><td>TailOrNull</td><td>[  ]</td></tr><tr><td>Head</td><td>(300, 216)</td></tr><tr><td>Tail</td><td>[  ]</td></tr><tr><td><i>(values)</i></td><td><table><thead><tr><th><i>index</i></th><th>value</th></tr></thead><tbody><tr><td>0</td><td>(300, 216)</td></tr></tbody></table></td></tr></tbody></table></div></details></td></tr><tr><td>Head</td><td><details class=\"dni-treeview\"><summary><span class=\"dni-code-hint\"><code>(250, 158)</code></span></summary><div><table><thead><tr></tr></thead><tbody><tr><td>Item1</td><td>250</td></tr><tr><td>Item2</td><td>158</td></tr></tbody></table></div></details></td></tr><tr><td>Tail</td><td><details class=\"dni-treeview\"><summary><span class=\"dni-code-hint\"><code>[ (300, 216) ]</code></span></summary><div><table><thead><tr></tr></thead><tbody><tr><td>HeadOrDefault</td><td>(300, 216)</td></tr><tr><td>TailOrNull</td><td>[  ]</td></tr><tr><td>Head</td><td>(300, 216)</td></tr><tr><td>Tail</td><td>[  ]</td></tr><tr><td><i>(values)</i></td><td><table><thead><tr><th><i>index</i></th><th>value</th></tr></thead><tbody><tr><td>0</td><td>(300, 216)</td></tr></tbody></table></td></tr></tbody></table></div></details></td></tr><tr><td><i>(values)</i></td><td><table><thead><tr><th><i>index</i></th><th>value</th></tr></thead><tbody><tr><td>0</td><td><details class=\"dni-treeview\"><summary><span class=\"dni-code-hint\"><code>(250, 158)</code></span></summary><div><table><thead><tr></tr></thead><tbody><tr><td>Item1</td><td>250</td></tr><tr><td>Item2</td><td>158</td></tr></tbody></table></div></details></td></tr><tr><td>1</td><td><details class=\"dni-treeview\"><summary><span class=\"dni-code-hint\"><code>(300, 216)</code></span></summary><div><table><thead><tr></tr></thead><tbody><tr><td>Item1</td><td>300</td></tr><tr><td>Item2</td><td>216</td></tr></tbody></table></div></details></td></tr></tbody></table></td></tr></tbody></table></div></details></td></tr><tr><td>Head</td><td><details class=\"dni-treeview\"><summary><span class=\"dni-code-hint\"><code>(200, 113)</code></span></summary><div><table><thead><tr></tr></thead><tbody><tr><td>Item1</td><td><div class=\"dni-plaintext\"><pre>200</pre></div></td></tr><tr><td>Item2</td><td><div class=\"dni-plaintext\"><pre>113</pre></div></td></tr></tbody></table></div></details></td></tr><tr><td>Tail</td><td><details class=\"dni-treeview\"><summary><span class=\"dni-code-hint\"><code>[ (250, 158), (300, 216) ]</code></span></summary><div><table><thead><tr></tr></thead><tbody><tr><td>HeadOrDefault</td><td><details class=\"dni-treeview\"><summary><span class=\"dni-code-hint\"><code>(250, 158)</code></span></summary><div><table><thead><tr></tr></thead><tbody><tr><td>Item1</td><td>250</td></tr><tr><td>Item2</td><td>158</td></tr></tbody></table></div></details></td></tr><tr><td>TailOrNull</td><td><details class=\"dni-treeview\"><summary><span class=\"dni-code-hint\"><code>[ (300, 216) ]</code></span></summary><div><table><thead><tr></tr></thead><tbody><tr><td>HeadOrDefault</td><td>(300, 216)</td></tr><tr><td>TailOrNull</td><td>[  ]</td></tr><tr><td>Head</td><td>(300, 216)</td></tr><tr><td>Tail</td><td>[  ]</td></tr><tr><td><i>(values)</i></td><td><table><thead><tr><th><i>index</i></th><th>value</th></tr></thead><tbody><tr><td>0</td><td>(300, 216)</td></tr></tbody></table></td></tr></tbody></table></div></details></td></tr><tr><td>Head</td><td><details class=\"dni-treeview\"><summary><span class=\"dni-code-hint\"><code>(250, 158)</code></span></summary><div><table><thead><tr></tr></thead><tbody><tr><td>Item1</td><td>250</td></tr><tr><td>Item2</td><td>158</td></tr></tbody></table></div></details></td></tr><tr><td>Tail</td><td><details class=\"dni-treeview\"><summary><span class=\"dni-code-hint\"><code>[ (300, 216) ]</code></span></summary><div><table><thead><tr></tr></thead><tbody><tr><td>HeadOrDefault</td><td>(300, 216)</td></tr><tr><td>TailOrNull</td><td>[  ]</td></tr><tr><td>Head</td><td>(300, 216)</td></tr><tr><td>Tail</td><td>[  ]</td></tr><tr><td><i>(values)</i></td><td><table><thead><tr><th><i>index</i></th><th>value</th></tr></thead><tbody><tr><td>0</td><td>(300, 216)</td></tr></tbody></table></td></tr></tbody></table></div></details></td></tr><tr><td><i>(values)</i></td><td><table><thead><tr><th><i>index</i></th><th>value</th></tr></thead><tbody><tr><td>0</td><td><details class=\"dni-treeview\"><summary><span class=\"dni-code-hint\"><code>(250, 158)</code></span></summary><div><table><thead><tr></tr></thead><tbody><tr><td>Item1</td><td>250</td></tr><tr><td>Item2</td><td>158</td></tr></tbody></table></div></details></td></tr><tr><td>1</td><td><details class=\"dni-treeview\"><summary><span class=\"dni-code-hint\"><code>(300, 216)</code></span></summary><div><table><thead><tr></tr></thead><tbody><tr><td>Item1</td><td>300</td></tr><tr><td>Item2</td><td>216</td></tr></tbody></table></div></details></td></tr></tbody></table></td></tr></tbody></table></div></details></td></tr><tr><td><i>(values)</i></td><td><table><thead><tr><th><i>index</i></th><th>value</th></tr></thead><tbody><tr><td>0</td><td><details class=\"dni-treeview\"><summary><span class=\"dni-code-hint\"><code>(200, 113)</code></span></summary><div><table><thead><tr></tr></thead><tbody><tr><td>Item1</td><td><div class=\"dni-plaintext\"><pre>200</pre></div></td></tr><tr><td>Item2</td><td><div class=\"dni-plaintext\"><pre>113</pre></div></td></tr></tbody></table></div></details></td></tr><tr><td>1</td><td><details class=\"dni-treeview\"><summary><span class=\"dni-code-hint\"><code>(250, 158)</code></span></summary><div><table><thead><tr></tr></thead><tbody><tr><td>Item1</td><td><div class=\"dni-plaintext\"><pre>250</pre></div></td></tr><tr><td>Item2</td><td><div class=\"dni-plaintext\"><pre>158</pre></div></td></tr></tbody></table></div></details></td></tr><tr><td>2</td><td><details class=\"dni-treeview\"><summary><span class=\"dni-code-hint\"><code>(300, 216)</code></span></summary><div><table><thead><tr></tr></thead><tbody><tr><td>Item1</td><td><div class=\"dni-plaintext\"><pre>300</pre></div></td></tr><tr><td>Item2</td><td><div class=\"dni-plaintext\"><pre>216</pre></div></td></tr></tbody></table></div></details></td></tr></tbody></table></td></tr></tbody></table></div></details></td></tr><tr><td>Head</td><td><details class=\"dni-treeview\"><summary><span class=\"dni-code-hint\"><code>(150, 75)</code></span></summary><div><table><thead><tr></tr></thead><tbody><tr><td>Item1</td><td><div class=\"dni-plaintext\"><pre>150</pre></div></td></tr><tr><td>Item2</td><td><div class=\"dni-plaintext\"><pre>75</pre></div></td></tr></tbody></table></div></details></td></tr><tr><td>Tail</td><td><details class=\"dni-treeview\"><summary><span class=\"dni-code-hint\"><code>[ (200, 113), (250, 158), (300, 216) ]</code></span></summary><div><table><thead><tr></tr></thead><tbody><tr><td>HeadOrDefault</td><td><details class=\"dni-treeview\"><summary><span class=\"dni-code-hint\"><code>(200, 113)</code></span></summary><div><table><thead><tr></tr></thead><tbody><tr><td>Item1</td><td><div class=\"dni-plaintext\"><pre>200</pre></div></td></tr><tr><td>Item2</td><td><div class=\"dni-plaintext\"><pre>113</pre></div></td></tr></tbody></table></div></details></td></tr><tr><td>TailOrNull</td><td><details class=\"dni-treeview\"><summary><span class=\"dni-code-hint\"><code>[ (250, 158), (300, 216) ]</code></span></summary><div><table><thead><tr></tr></thead><tbody><tr><td>HeadOrDefault</td><td><details class=\"dni-treeview\"><summary><span class=\"dni-code-hint\"><code>(250, 158)</code></span></summary><div><table><thead><tr></tr></thead><tbody><tr><td>Item1</td><td>250</td></tr><tr><td>Item2</td><td>158</td></tr></tbody></table></div></details></td></tr><tr><td>TailOrNull</td><td><details class=\"dni-treeview\"><summary><span class=\"dni-code-hint\"><code>[ (300, 216) ]</code></span></summary><div><table><thead><tr></tr></thead><tbody><tr><td>HeadOrDefault</td><td>(300, 216)</td></tr><tr><td>TailOrNull</td><td>[  ]</td></tr><tr><td>Head</td><td>(300, 216)</td></tr><tr><td>Tail</td><td>[  ]</td></tr><tr><td><i>(values)</i></td><td><table><thead><tr><th><i>index</i></th><th>value</th></tr></thead><tbody><tr><td>0</td><td>(300, 216)</td></tr></tbody></table></td></tr></tbody></table></div></details></td></tr><tr><td>Head</td><td><details class=\"dni-treeview\"><summary><span class=\"dni-code-hint\"><code>(250, 158)</code></span></summary><div><table><thead><tr></tr></thead><tbody><tr><td>Item1</td><td>250</td></tr><tr><td>Item2</td><td>158</td></tr></tbody></table></div></details></td></tr><tr><td>Tail</td><td><details class=\"dni-treeview\"><summary><span class=\"dni-code-hint\"><code>[ (300, 216) ]</code></span></summary><div><table><thead><tr></tr></thead><tbody><tr><td>HeadOrDefault</td><td>(300, 216)</td></tr><tr><td>TailOrNull</td><td>[  ]</td></tr><tr><td>Head</td><td>(300, 216)</td></tr><tr><td>Tail</td><td>[  ]</td></tr><tr><td><i>(values)</i></td><td><table><thead><tr><th><i>index</i></th><th>value</th></tr></thead><tbody><tr><td>0</td><td>(300, 216)</td></tr></tbody></table></td></tr></tbody></table></div></details></td></tr><tr><td><i>(values)</i></td><td><table><thead><tr><th><i>index</i></th><th>value</th></tr></thead><tbody><tr><td>0</td><td><details class=\"dni-treeview\"><summary><span class=\"dni-code-hint\"><code>(250, 158)</code></span></summary><div><table><thead><tr></tr></thead><tbody><tr><td>Item1</td><td>250</td></tr><tr><td>Item2</td><td>158</td></tr></tbody></table></div></details></td></tr><tr><td>1</td><td><details class=\"dni-treeview\"><summary><span class=\"dni-code-hint\"><code>(300, 216)</code></span></summary><div><table><thead><tr></tr></thead><tbody><tr><td>Item1</td><td>300</td></tr><tr><td>Item2</td><td>216</td></tr></tbody></table></div></details></td></tr></tbody></table></td></tr></tbody></table></div></details></td></tr><tr><td>Head</td><td><details class=\"dni-treeview\"><summary><span class=\"dni-code-hint\"><code>(200, 113)</code></span></summary><div><table><thead><tr></tr></thead><tbody><tr><td>Item1</td><td><div class=\"dni-plaintext\"><pre>200</pre></div></td></tr><tr><td>Item2</td><td><div class=\"dni-plaintext\"><pre>113</pre></div></td></tr></tbody></table></div></details></td></tr><tr><td>Tail</td><td><details class=\"dni-treeview\"><summary><span class=\"dni-code-hint\"><code>[ (250, 158), (300, 216) ]</code></span></summary><div><table><thead><tr></tr></thead><tbody><tr><td>HeadOrDefault</td><td><details class=\"dni-treeview\"><summary><span class=\"dni-code-hint\"><code>(250, 158)</code></span></summary><div><table><thead><tr></tr></thead><tbody><tr><td>Item1</td><td>250</td></tr><tr><td>Item2</td><td>158</td></tr></tbody></table></div></details></td></tr><tr><td>TailOrNull</td><td><details class=\"dni-treeview\"><summary><span class=\"dni-code-hint\"><code>[ (300, 216) ]</code></span></summary><div><table><thead><tr></tr></thead><tbody><tr><td>HeadOrDefault</td><td>(300, 216)</td></tr><tr><td>TailOrNull</td><td>[  ]</td></tr><tr><td>Head</td><td>(300, 216)</td></tr><tr><td>Tail</td><td>[  ]</td></tr><tr><td><i>(values)</i></td><td><table><thead><tr><th><i>index</i></th><th>value</th></tr></thead><tbody><tr><td>0</td><td>(300, 216)</td></tr></tbody></table></td></tr></tbody></table></div></details></td></tr><tr><td>Head</td><td><details class=\"dni-treeview\"><summary><span class=\"dni-code-hint\"><code>(250, 158)</code></span></summary><div><table><thead><tr></tr></thead><tbody><tr><td>Item1</td><td>250</td></tr><tr><td>Item2</td><td>158</td></tr></tbody></table></div></details></td></tr><tr><td>Tail</td><td><details class=\"dni-treeview\"><summary><span class=\"dni-code-hint\"><code>[ (300, 216) ]</code></span></summary><div><table><thead><tr></tr></thead><tbody><tr><td>HeadOrDefault</td><td>(300, 216)</td></tr><tr><td>TailOrNull</td><td>[  ]</td></tr><tr><td>Head</td><td>(300, 216)</td></tr><tr><td>Tail</td><td>[  ]</td></tr><tr><td><i>(values)</i></td><td><table><thead><tr><th><i>index</i></th><th>value</th></tr></thead><tbody><tr><td>0</td><td>(300, 216)</td></tr></tbody></table></td></tr></tbody></table></div></details></td></tr><tr><td><i>(values)</i></td><td><table><thead><tr><th><i>index</i></th><th>value</th></tr></thead><tbody><tr><td>0</td><td><details class=\"dni-treeview\"><summary><span class=\"dni-code-hint\"><code>(250, 158)</code></span></summary><div><table><thead><tr></tr></thead><tbody><tr><td>Item1</td><td>250</td></tr><tr><td>Item2</td><td>158</td></tr></tbody></table></div></details></td></tr><tr><td>1</td><td><details class=\"dni-treeview\"><summary><span class=\"dni-code-hint\"><code>(300, 216)</code></span></summary><div><table><thead><tr></tr></thead><tbody><tr><td>Item1</td><td>300</td></tr><tr><td>Item2</td><td>216</td></tr></tbody></table></div></details></td></tr></tbody></table></td></tr></tbody></table></div></details></td></tr><tr><td><i>(values)</i></td><td><table><thead><tr><th><i>index</i></th><th>value</th></tr></thead><tbody><tr><td>0</td><td><details class=\"dni-treeview\"><summary><span class=\"dni-code-hint\"><code>(200, 113)</code></span></summary><div><table><thead><tr></tr></thead><tbody><tr><td>Item1</td><td><div class=\"dni-plaintext\"><pre>200</pre></div></td></tr><tr><td>Item2</td><td><div class=\"dni-plaintext\"><pre>113</pre></div></td></tr></tbody></table></div></details></td></tr><tr><td>1</td><td><details class=\"dni-treeview\"><summary><span class=\"dni-code-hint\"><code>(250, 158)</code></span></summary><div><table><thead><tr></tr></thead><tbody><tr><td>Item1</td><td><div class=\"dni-plaintext\"><pre>250</pre></div></td></tr><tr><td>Item2</td><td><div class=\"dni-plaintext\"><pre>158</pre></div></td></tr></tbody></table></div></details></td></tr><tr><td>2</td><td><details class=\"dni-treeview\"><summary><span class=\"dni-code-hint\"><code>(300, 216)</code></span></summary><div><table><thead><tr></tr></thead><tbody><tr><td>Item1</td><td><div class=\"dni-plaintext\"><pre>300</pre></div></td></tr><tr><td>Item2</td><td><div class=\"dni-plaintext\"><pre>216</pre></div></td></tr></tbody></table></div></details></td></tr></tbody></table></td></tr></tbody></table></div></details></td></tr><tr><td><i>(values)</i></td><td><table><thead><tr><th><i>index</i></th><th>value</th></tr></thead><tbody><tr><td>0</td><td><details class=\"dni-treeview\"><summary><span class=\"dni-code-hint\"><code>(150, 75)</code></span></summary><div><table><thead><tr></tr></thead><tbody><tr><td>Item1</td><td><div class=\"dni-plaintext\"><pre>150</pre></div></td></tr><tr><td>Item2</td><td><div class=\"dni-plaintext\"><pre>75</pre></div></td></tr></tbody></table></div></details></td></tr><tr><td>1</td><td><details class=\"dni-treeview\"><summary><span class=\"dni-code-hint\"><code>(200, 113)</code></span></summary><div><table><thead><tr></tr></thead><tbody><tr><td>Item1</td><td><div class=\"dni-plaintext\"><pre>200</pre></div></td></tr><tr><td>Item2</td><td><div class=\"dni-plaintext\"><pre>113</pre></div></td></tr></tbody></table></div></details></td></tr><tr><td>2</td><td><details class=\"dni-treeview\"><summary><span class=\"dni-code-hint\"><code>(250, 158)</code></span></summary><div><table><thead><tr></tr></thead><tbody><tr><td>Item1</td><td><div class=\"dni-plaintext\"><pre>250</pre></div></td></tr><tr><td>Item2</td><td><div class=\"dni-plaintext\"><pre>158</pre></div></td></tr></tbody></table></div></details></td></tr><tr><td>3</td><td><details class=\"dni-treeview\"><summary><span class=\"dni-code-hint\"><code>(300, 216)</code></span></summary><div><table><thead><tr></tr></thead><tbody><tr><td>Item1</td><td><div class=\"dni-plaintext\"><pre>300</pre></div></td></tr><tr><td>Item2</td><td><div class=\"dni-plaintext\"><pre>216</pre></div></td></tr></tbody></table></div></details></td></tr></tbody></table></td></tr></tbody></table></div></details></td></tr><tr><td>Head</td><td><details class=\"dni-treeview\"><summary><span class=\"dni-code-hint\"><code>(100, 42)</code></span></summary><div><table><thead><tr></tr></thead><tbody><tr><td>Item1</td><td><div class=\"dni-plaintext\"><pre>100</pre></div></td></tr><tr><td>Item2</td><td><div class=\"dni-plaintext\"><pre>42</pre></div></td></tr></tbody></table></div></details></td></tr><tr><td>Tail</td><td><details class=\"dni-treeview\"><summary><span class=\"dni-code-hint\"><code>[ (150, 75), (200, 113), (250, 158), (300, 216) ]</code></span></summary><div><table><thead><tr></tr></thead><tbody><tr><td>HeadOrDefault</td><td><details class=\"dni-treeview\"><summary><span class=\"dni-code-hint\"><code>(150, 75)</code></span></summary><div><table><thead><tr></tr></thead><tbody><tr><td>Item1</td><td><div class=\"dni-plaintext\"><pre>150</pre></div></td></tr><tr><td>Item2</td><td><div class=\"dni-plaintext\"><pre>75</pre></div></td></tr></tbody></table></div></details></td></tr><tr><td>TailOrNull</td><td><details class=\"dni-treeview\"><summary><span class=\"dni-code-hint\"><code>[ (200, 113), (250, 158), (300, 216) ]</code></span></summary><div><table><thead><tr></tr></thead><tbody><tr><td>HeadOrDefault</td><td><details class=\"dni-treeview\"><summary><span class=\"dni-code-hint\"><code>(200, 113)</code></span></summary><div><table><thead><tr></tr></thead><tbody><tr><td>Item1</td><td><div class=\"dni-plaintext\"><pre>200</pre></div></td></tr><tr><td>Item2</td><td><div class=\"dni-plaintext\"><pre>113</pre></div></td></tr></tbody></table></div></details></td></tr><tr><td>TailOrNull</td><td><details class=\"dni-treeview\"><summary><span class=\"dni-code-hint\"><code>[ (250, 158), (300, 216) ]</code></span></summary><div><table><thead><tr></tr></thead><tbody><tr><td>HeadOrDefault</td><td><details class=\"dni-treeview\"><summary><span class=\"dni-code-hint\"><code>(250, 158)</code></span></summary><div><table><thead><tr></tr></thead><tbody><tr><td>Item1</td><td>250</td></tr><tr><td>Item2</td><td>158</td></tr></tbody></table></div></details></td></tr><tr><td>TailOrNull</td><td><details class=\"dni-treeview\"><summary><span class=\"dni-code-hint\"><code>[ (300, 216) ]</code></span></summary><div><table><thead><tr></tr></thead><tbody><tr><td>HeadOrDefault</td><td>(300, 216)</td></tr><tr><td>TailOrNull</td><td>[  ]</td></tr><tr><td>Head</td><td>(300, 216)</td></tr><tr><td>Tail</td><td>[  ]</td></tr><tr><td><i>(values)</i></td><td><table><thead><tr><th><i>index</i></th><th>value</th></tr></thead><tbody><tr><td>0</td><td>(300, 216)</td></tr></tbody></table></td></tr></tbody></table></div></details></td></tr><tr><td>Head</td><td><details class=\"dni-treeview\"><summary><span class=\"dni-code-hint\"><code>(250, 158)</code></span></summary><div><table><thead><tr></tr></thead><tbody><tr><td>Item1</td><td>250</td></tr><tr><td>Item2</td><td>158</td></tr></tbody></table></div></details></td></tr><tr><td>Tail</td><td><details class=\"dni-treeview\"><summary><span class=\"dni-code-hint\"><code>[ (300, 216) ]</code></span></summary><div><table><thead><tr></tr></thead><tbody><tr><td>HeadOrDefault</td><td>(300, 216)</td></tr><tr><td>TailOrNull</td><td>[  ]</td></tr><tr><td>Head</td><td>(300, 216)</td></tr><tr><td>Tail</td><td>[  ]</td></tr><tr><td><i>(values)</i></td><td><table><thead><tr><th><i>index</i></th><th>value</th></tr></thead><tbody><tr><td>0</td><td>(300, 216)</td></tr></tbody></table></td></tr></tbody></table></div></details></td></tr><tr><td><i>(values)</i></td><td><table><thead><tr><th><i>index</i></th><th>value</th></tr></thead><tbody><tr><td>0</td><td><details class=\"dni-treeview\"><summary><span class=\"dni-code-hint\"><code>(250, 158)</code></span></summary><div><table><thead><tr></tr></thead><tbody><tr><td>Item1</td><td>250</td></tr><tr><td>Item2</td><td>158</td></tr></tbody></table></div></details></td></tr><tr><td>1</td><td><details class=\"dni-treeview\"><summary><span class=\"dni-code-hint\"><code>(300, 216)</code></span></summary><div><table><thead><tr></tr></thead><tbody><tr><td>Item1</td><td>300</td></tr><tr><td>Item2</td><td>216</td></tr></tbody></table></div></details></td></tr></tbody></table></td></tr></tbody></table></div></details></td></tr><tr><td>Head</td><td><details class=\"dni-treeview\"><summary><span class=\"dni-code-hint\"><code>(200, 113)</code></span></summary><div><table><thead><tr></tr></thead><tbody><tr><td>Item1</td><td><div class=\"dni-plaintext\"><pre>200</pre></div></td></tr><tr><td>Item2</td><td><div class=\"dni-plaintext\"><pre>113</pre></div></td></tr></tbody></table></div></details></td></tr><tr><td>Tail</td><td><details class=\"dni-treeview\"><summary><span class=\"dni-code-hint\"><code>[ (250, 158), (300, 216) ]</code></span></summary><div><table><thead><tr></tr></thead><tbody><tr><td>HeadOrDefault</td><td><details class=\"dni-treeview\"><summary><span class=\"dni-code-hint\"><code>(250, 158)</code></span></summary><div><table><thead><tr></tr></thead><tbody><tr><td>Item1</td><td>250</td></tr><tr><td>Item2</td><td>158</td></tr></tbody></table></div></details></td></tr><tr><td>TailOrNull</td><td><details class=\"dni-treeview\"><summary><span class=\"dni-code-hint\"><code>[ (300, 216) ]</code></span></summary><div><table><thead><tr></tr></thead><tbody><tr><td>HeadOrDefault</td><td>(300, 216)</td></tr><tr><td>TailOrNull</td><td>[  ]</td></tr><tr><td>Head</td><td>(300, 216)</td></tr><tr><td>Tail</td><td>[  ]</td></tr><tr><td><i>(values)</i></td><td><table><thead><tr><th><i>index</i></th><th>value</th></tr></thead><tbody><tr><td>0</td><td>(300, 216)</td></tr></tbody></table></td></tr></tbody></table></div></details></td></tr><tr><td>Head</td><td><details class=\"dni-treeview\"><summary><span class=\"dni-code-hint\"><code>(250, 158)</code></span></summary><div><table><thead><tr></tr></thead><tbody><tr><td>Item1</td><td>250</td></tr><tr><td>Item2</td><td>158</td></tr></tbody></table></div></details></td></tr><tr><td>Tail</td><td><details class=\"dni-treeview\"><summary><span class=\"dni-code-hint\"><code>[ (300, 216) ]</code></span></summary><div><table><thead><tr></tr></thead><tbody><tr><td>HeadOrDefault</td><td>(300, 216)</td></tr><tr><td>TailOrNull</td><td>[  ]</td></tr><tr><td>Head</td><td>(300, 216)</td></tr><tr><td>Tail</td><td>[  ]</td></tr><tr><td><i>(values)</i></td><td><table><thead><tr><th><i>index</i></th><th>value</th></tr></thead><tbody><tr><td>0</td><td>(300, 216)</td></tr></tbody></table></td></tr></tbody></table></div></details></td></tr><tr><td><i>(values)</i></td><td><table><thead><tr><th><i>index</i></th><th>value</th></tr></thead><tbody><tr><td>0</td><td><details class=\"dni-treeview\"><summary><span class=\"dni-code-hint\"><code>(250, 158)</code></span></summary><div><table><thead><tr></tr></thead><tbody><tr><td>Item1</td><td>250</td></tr><tr><td>Item2</td><td>158</td></tr></tbody></table></div></details></td></tr><tr><td>1</td><td><details class=\"dni-treeview\"><summary><span class=\"dni-code-hint\"><code>(300, 216)</code></span></summary><div><table><thead><tr></tr></thead><tbody><tr><td>Item1</td><td>300</td></tr><tr><td>Item2</td><td>216</td></tr></tbody></table></div></details></td></tr></tbody></table></td></tr></tbody></table></div></details></td></tr><tr><td><i>(values)</i></td><td><table><thead><tr><th><i>index</i></th><th>value</th></tr></thead><tbody><tr><td>0</td><td><details class=\"dni-treeview\"><summary><span class=\"dni-code-hint\"><code>(200, 113)</code></span></summary><div><table><thead><tr></tr></thead><tbody><tr><td>Item1</td><td><div class=\"dni-plaintext\"><pre>200</pre></div></td></tr><tr><td>Item2</td><td><div class=\"dni-plaintext\"><pre>113</pre></div></td></tr></tbody></table></div></details></td></tr><tr><td>1</td><td><details class=\"dni-treeview\"><summary><span class=\"dni-code-hint\"><code>(250, 158)</code></span></summary><div><table><thead><tr></tr></thead><tbody><tr><td>Item1</td><td><div class=\"dni-plaintext\"><pre>250</pre></div></td></tr><tr><td>Item2</td><td><div class=\"dni-plaintext\"><pre>158</pre></div></td></tr></tbody></table></div></details></td></tr><tr><td>2</td><td><details class=\"dni-treeview\"><summary><span class=\"dni-code-hint\"><code>(300, 216)</code></span></summary><div><table><thead><tr></tr></thead><tbody><tr><td>Item1</td><td><div class=\"dni-plaintext\"><pre>300</pre></div></td></tr><tr><td>Item2</td><td><div class=\"dni-plaintext\"><pre>216</pre></div></td></tr></tbody></table></div></details></td></tr></tbody></table></td></tr></tbody></table></div></details></td></tr><tr><td>Head</td><td><details class=\"dni-treeview\"><summary><span class=\"dni-code-hint\"><code>(150, 75)</code></span></summary><div><table><thead><tr></tr></thead><tbody><tr><td>Item1</td><td><div class=\"dni-plaintext\"><pre>150</pre></div></td></tr><tr><td>Item2</td><td><div class=\"dni-plaintext\"><pre>75</pre></div></td></tr></tbody></table></div></details></td></tr><tr><td>Tail</td><td><details class=\"dni-treeview\"><summary><span class=\"dni-code-hint\"><code>[ (200, 113), (250, 158), (300, 216) ]</code></span></summary><div><table><thead><tr></tr></thead><tbody><tr><td>HeadOrDefault</td><td><details class=\"dni-treeview\"><summary><span class=\"dni-code-hint\"><code>(200, 113)</code></span></summary><div><table><thead><tr></tr></thead><tbody><tr><td>Item1</td><td><div class=\"dni-plaintext\"><pre>200</pre></div></td></tr><tr><td>Item2</td><td><div class=\"dni-plaintext\"><pre>113</pre></div></td></tr></tbody></table></div></details></td></tr><tr><td>TailOrNull</td><td><details class=\"dni-treeview\"><summary><span class=\"dni-code-hint\"><code>[ (250, 158), (300, 216) ]</code></span></summary><div><table><thead><tr></tr></thead><tbody><tr><td>HeadOrDefault</td><td><details class=\"dni-treeview\"><summary><span class=\"dni-code-hint\"><code>(250, 158)</code></span></summary><div><table><thead><tr></tr></thead><tbody><tr><td>Item1</td><td>250</td></tr><tr><td>Item2</td><td>158</td></tr></tbody></table></div></details></td></tr><tr><td>TailOrNull</td><td><details class=\"dni-treeview\"><summary><span class=\"dni-code-hint\"><code>[ (300, 216) ]</code></span></summary><div><table><thead><tr></tr></thead><tbody><tr><td>HeadOrDefault</td><td>(300, 216)</td></tr><tr><td>TailOrNull</td><td>[  ]</td></tr><tr><td>Head</td><td>(300, 216)</td></tr><tr><td>Tail</td><td>[  ]</td></tr><tr><td><i>(values)</i></td><td><table><thead><tr><th><i>index</i></th><th>value</th></tr></thead><tbody><tr><td>0</td><td>(300, 216)</td></tr></tbody></table></td></tr></tbody></table></div></details></td></tr><tr><td>Head</td><td><details class=\"dni-treeview\"><summary><span class=\"dni-code-hint\"><code>(250, 158)</code></span></summary><div><table><thead><tr></tr></thead><tbody><tr><td>Item1</td><td>250</td></tr><tr><td>Item2</td><td>158</td></tr></tbody></table></div></details></td></tr><tr><td>Tail</td><td><details class=\"dni-treeview\"><summary><span class=\"dni-code-hint\"><code>[ (300, 216) ]</code></span></summary><div><table><thead><tr></tr></thead><tbody><tr><td>HeadOrDefault</td><td>(300, 216)</td></tr><tr><td>TailOrNull</td><td>[  ]</td></tr><tr><td>Head</td><td>(300, 216)</td></tr><tr><td>Tail</td><td>[  ]</td></tr><tr><td><i>(values)</i></td><td><table><thead><tr><th><i>index</i></th><th>value</th></tr></thead><tbody><tr><td>0</td><td>(300, 216)</td></tr></tbody></table></td></tr></tbody></table></div></details></td></tr><tr><td><i>(values)</i></td><td><table><thead><tr><th><i>index</i></th><th>value</th></tr></thead><tbody><tr><td>0</td><td><details class=\"dni-treeview\"><summary><span class=\"dni-code-hint\"><code>(250, 158)</code></span></summary><div><table><thead><tr></tr></thead><tbody><tr><td>Item1</td><td>250</td></tr><tr><td>Item2</td><td>158</td></tr></tbody></table></div></details></td></tr><tr><td>1</td><td><details class=\"dni-treeview\"><summary><span class=\"dni-code-hint\"><code>(300, 216)</code></span></summary><div><table><thead><tr></tr></thead><tbody><tr><td>Item1</td><td>300</td></tr><tr><td>Item2</td><td>216</td></tr></tbody></table></div></details></td></tr></tbody></table></td></tr></tbody></table></div></details></td></tr><tr><td>Head</td><td><details class=\"dni-treeview\"><summary><span class=\"dni-code-hint\"><code>(200, 113)</code></span></summary><div><table><thead><tr></tr></thead><tbody><tr><td>Item1</td><td><div class=\"dni-plaintext\"><pre>200</pre></div></td></tr><tr><td>Item2</td><td><div class=\"dni-plaintext\"><pre>113</pre></div></td></tr></tbody></table></div></details></td></tr><tr><td>Tail</td><td><details class=\"dni-treeview\"><summary><span class=\"dni-code-hint\"><code>[ (250, 158), (300, 216) ]</code></span></summary><div><table><thead><tr></tr></thead><tbody><tr><td>HeadOrDefault</td><td><details class=\"dni-treeview\"><summary><span class=\"dni-code-hint\"><code>(250, 158)</code></span></summary><div><table><thead><tr></tr></thead><tbody><tr><td>Item1</td><td>250</td></tr><tr><td>Item2</td><td>158</td></tr></tbody></table></div></details></td></tr><tr><td>TailOrNull</td><td><details class=\"dni-treeview\"><summary><span class=\"dni-code-hint\"><code>[ (300, 216) ]</code></span></summary><div><table><thead><tr></tr></thead><tbody><tr><td>HeadOrDefault</td><td>(300, 216)</td></tr><tr><td>TailOrNull</td><td>[  ]</td></tr><tr><td>Head</td><td>(300, 216)</td></tr><tr><td>Tail</td><td>[  ]</td></tr><tr><td><i>(values)</i></td><td><table><thead><tr><th><i>index</i></th><th>value</th></tr></thead><tbody><tr><td>0</td><td>(300, 216)</td></tr></tbody></table></td></tr></tbody></table></div></details></td></tr><tr><td>Head</td><td><details class=\"dni-treeview\"><summary><span class=\"dni-code-hint\"><code>(250, 158)</code></span></summary><div><table><thead><tr></tr></thead><tbody><tr><td>Item1</td><td>250</td></tr><tr><td>Item2</td><td>158</td></tr></tbody></table></div></details></td></tr><tr><td>Tail</td><td><details class=\"dni-treeview\"><summary><span class=\"dni-code-hint\"><code>[ (300, 216) ]</code></span></summary><div><table><thead><tr></tr></thead><tbody><tr><td>HeadOrDefault</td><td>(300, 216)</td></tr><tr><td>TailOrNull</td><td>[  ]</td></tr><tr><td>Head</td><td>(300, 216)</td></tr><tr><td>Tail</td><td>[  ]</td></tr><tr><td><i>(values)</i></td><td><table><thead><tr><th><i>index</i></th><th>value</th></tr></thead><tbody><tr><td>0</td><td>(300, 216)</td></tr></tbody></table></td></tr></tbody></table></div></details></td></tr><tr><td><i>(values)</i></td><td><table><thead><tr><th><i>index</i></th><th>value</th></tr></thead><tbody><tr><td>0</td><td><details class=\"dni-treeview\"><summary><span class=\"dni-code-hint\"><code>(250, 158)</code></span></summary><div><table><thead><tr></tr></thead><tbody><tr><td>Item1</td><td>250</td></tr><tr><td>Item2</td><td>158</td></tr></tbody></table></div></details></td></tr><tr><td>1</td><td><details class=\"dni-treeview\"><summary><span class=\"dni-code-hint\"><code>(300, 216)</code></span></summary><div><table><thead><tr></tr></thead><tbody><tr><td>Item1</td><td>300</td></tr><tr><td>Item2</td><td>216</td></tr></tbody></table></div></details></td></tr></tbody></table></td></tr></tbody></table></div></details></td></tr><tr><td><i>(values)</i></td><td><table><thead><tr><th><i>index</i></th><th>value</th></tr></thead><tbody><tr><td>0</td><td><details class=\"dni-treeview\"><summary><span class=\"dni-code-hint\"><code>(200, 113)</code></span></summary><div><table><thead><tr></tr></thead><tbody><tr><td>Item1</td><td><div class=\"dni-plaintext\"><pre>200</pre></div></td></tr><tr><td>Item2</td><td><div class=\"dni-plaintext\"><pre>113</pre></div></td></tr></tbody></table></div></details></td></tr><tr><td>1</td><td><details class=\"dni-treeview\"><summary><span class=\"dni-code-hint\"><code>(250, 158)</code></span></summary><div><table><thead><tr></tr></thead><tbody><tr><td>Item1</td><td><div class=\"dni-plaintext\"><pre>250</pre></div></td></tr><tr><td>Item2</td><td><div class=\"dni-plaintext\"><pre>158</pre></div></td></tr></tbody></table></div></details></td></tr><tr><td>2</td><td><details class=\"dni-treeview\"><summary><span class=\"dni-code-hint\"><code>(300, 216)</code></span></summary><div><table><thead><tr></tr></thead><tbody><tr><td>Item1</td><td><div class=\"dni-plaintext\"><pre>300</pre></div></td></tr><tr><td>Item2</td><td><div class=\"dni-plaintext\"><pre>216</pre></div></td></tr></tbody></table></div></details></td></tr></tbody></table></td></tr></tbody></table></div></details></td></tr><tr><td><i>(values)</i></td><td><table><thead><tr><th><i>index</i></th><th>value</th></tr></thead><tbody><tr><td>0</td><td><details class=\"dni-treeview\"><summary><span class=\"dni-code-hint\"><code>(150, 75)</code></span></summary><div><table><thead><tr></tr></thead><tbody><tr><td>Item1</td><td><div class=\"dni-plaintext\"><pre>150</pre></div></td></tr><tr><td>Item2</td><td><div class=\"dni-plaintext\"><pre>75</pre></div></td></tr></tbody></table></div></details></td></tr><tr><td>1</td><td><details class=\"dni-treeview\"><summary><span class=\"dni-code-hint\"><code>(200, 113)</code></span></summary><div><table><thead><tr></tr></thead><tbody><tr><td>Item1</td><td><div class=\"dni-plaintext\"><pre>200</pre></div></td></tr><tr><td>Item2</td><td><div class=\"dni-plaintext\"><pre>113</pre></div></td></tr></tbody></table></div></details></td></tr><tr><td>2</td><td><details class=\"dni-treeview\"><summary><span class=\"dni-code-hint\"><code>(250, 158)</code></span></summary><div><table><thead><tr></tr></thead><tbody><tr><td>Item1</td><td><div class=\"dni-plaintext\"><pre>250</pre></div></td></tr><tr><td>Item2</td><td><div class=\"dni-plaintext\"><pre>158</pre></div></td></tr></tbody></table></div></details></td></tr><tr><td>3</td><td><details class=\"dni-treeview\"><summary><span class=\"dni-code-hint\"><code>(300, 216)</code></span></summary><div><table><thead><tr></tr></thead><tbody><tr><td>Item1</td><td><div class=\"dni-plaintext\"><pre>300</pre></div></td></tr><tr><td>Item2</td><td><div class=\"dni-plaintext\"><pre>216</pre></div></td></tr></tbody></table></div></details></td></tr></tbody></table></td></tr></tbody></table></div></details></td></tr><tr><td><i>(values)</i></td><td><table><thead><tr><th><i>index</i></th><th>value</th></tr></thead><tbody><tr><td>0</td><td><details class=\"dni-treeview\"><summary><span class=\"dni-code-hint\"><code>(100, 42)</code></span></summary><div><table><thead><tr></tr></thead><tbody><tr><td>Item1</td><td><div class=\"dni-plaintext\"><pre>100</pre></div></td></tr><tr><td>Item2</td><td><div class=\"dni-plaintext\"><pre>42</pre></div></td></tr></tbody></table></div></details></td></tr><tr><td>1</td><td><details class=\"dni-treeview\"><summary><span class=\"dni-code-hint\"><code>(150, 75)</code></span></summary><div><table><thead><tr></tr></thead><tbody><tr><td>Item1</td><td><div class=\"dni-plaintext\"><pre>150</pre></div></td></tr><tr><td>Item2</td><td><div class=\"dni-plaintext\"><pre>75</pre></div></td></tr></tbody></table></div></details></td></tr><tr><td>2</td><td><details class=\"dni-treeview\"><summary><span class=\"dni-code-hint\"><code>(200, 113)</code></span></summary><div><table><thead><tr></tr></thead><tbody><tr><td>Item1</td><td><div class=\"dni-plaintext\"><pre>200</pre></div></td></tr><tr><td>Item2</td><td><div class=\"dni-plaintext\"><pre>113</pre></div></td></tr></tbody></table></div></details></td></tr><tr><td>3</td><td><details class=\"dni-treeview\"><summary><span class=\"dni-code-hint\"><code>(250, 158)</code></span></summary><div><table><thead><tr></tr></thead><tbody><tr><td>Item1</td><td><div class=\"dni-plaintext\"><pre>250</pre></div></td></tr><tr><td>Item2</td><td><div class=\"dni-plaintext\"><pre>158</pre></div></td></tr></tbody></table></div></details></td></tr><tr><td>4</td><td><details class=\"dni-treeview\"><summary><span class=\"dni-code-hint\"><code>(300, 216)</code></span></summary><div><table><thead><tr></tr></thead><tbody><tr><td>Item1</td><td><div class=\"dni-plaintext\"><pre>300</pre></div></td></tr><tr><td>Item2</td><td><div class=\"dni-plaintext\"><pre>216</pre></div></td></tr></tbody></table></div></details></td></tr></tbody></table></td></tr></tbody></table></div></details></td></tr><tr><td><i>(values)</i></td><td><table><thead><tr><th><i>index</i></th><th>value</th></tr></thead><tbody><tr><td>0</td><td><details class=\"dni-treeview\"><summary><span class=\"dni-code-hint\"><code>(50, 24)</code></span></summary><div><table><thead><tr></tr></thead><tbody><tr><td>Item1</td><td><div class=\"dni-plaintext\"><pre>50</pre></div></td></tr><tr><td>Item2</td><td><div class=\"dni-plaintext\"><pre>24</pre></div></td></tr></tbody></table></div></details></td></tr><tr><td>1</td><td><details class=\"dni-treeview\"><summary><span class=\"dni-code-hint\"><code>(100, 42)</code></span></summary><div><table><thead><tr></tr></thead><tbody><tr><td>Item1</td><td><div class=\"dni-plaintext\"><pre>100</pre></div></td></tr><tr><td>Item2</td><td><div class=\"dni-plaintext\"><pre>42</pre></div></td></tr></tbody></table></div></details></td></tr><tr><td>2</td><td><details class=\"dni-treeview\"><summary><span class=\"dni-code-hint\"><code>(150, 75)</code></span></summary><div><table><thead><tr></tr></thead><tbody><tr><td>Item1</td><td><div class=\"dni-plaintext\"><pre>150</pre></div></td></tr><tr><td>Item2</td><td><div class=\"dni-plaintext\"><pre>75</pre></div></td></tr></tbody></table></div></details></td></tr><tr><td>3</td><td><details class=\"dni-treeview\"><summary><span class=\"dni-code-hint\"><code>(200, 113)</code></span></summary><div><table><thead><tr></tr></thead><tbody><tr><td>Item1</td><td><div class=\"dni-plaintext\"><pre>200</pre></div></td></tr><tr><td>Item2</td><td><div class=\"dni-plaintext\"><pre>113</pre></div></td></tr></tbody></table></div></details></td></tr><tr><td>4</td><td><details class=\"dni-treeview\"><summary><span class=\"dni-code-hint\"><code>(250, 158)</code></span></summary><div><table><thead><tr></tr></thead><tbody><tr><td>Item1</td><td><div class=\"dni-plaintext\"><pre>250</pre></div></td></tr><tr><td>Item2</td><td><div class=\"dni-plaintext\"><pre>158</pre></div></td></tr></tbody></table></div></details></td></tr><tr><td>5</td><td><details class=\"dni-treeview\"><summary><span class=\"dni-code-hint\"><code>(300, 216)</code></span></summary><div><table><thead><tr></tr></thead><tbody><tr><td>Item1</td><td><div class=\"dni-plaintext\"><pre>300</pre></div></td></tr><tr><td>Item2</td><td><div class=\"dni-plaintext\"><pre>216</pre></div></td></tr></tbody></table></div></details></td></tr></tbody></table></td></tr></tbody></table></div></details><style>\r\n",
       ".dni-code-hint {\r\n",
       "    font-style: italic;\r\n",
       "    overflow: hidden;\r\n",
       "    white-space: nowrap;\r\n",
       "}\r\n",
       ".dni-treeview {\r\n",
       "    white-space: nowrap;\r\n",
       "}\r\n",
       ".dni-treeview td {\r\n",
       "    vertical-align: top;\r\n",
       "    text-align: start;\r\n",
       "}\r\n",
       "details.dni-treeview {\r\n",
       "    padding-left: 1em;\r\n",
       "}\r\n",
       "table td {\r\n",
       "    text-align: start;\r\n",
       "}\r\n",
       "table tr { \r\n",
       "    vertical-align: top; \r\n",
       "    margin: 0em 0px;\r\n",
       "}\r\n",
       "table tr td pre \r\n",
       "{ \r\n",
       "    vertical-align: top !important; \r\n",
       "    margin: 0em 0px !important;\r\n",
       "} \r\n",
       "table th {\r\n",
       "    text-align: start;\r\n",
       "}\r\n",
       "</style>"
      ]
     },
     "metadata": {},
     "output_type": "display_data"
    }
   ],
   "source": [
    "List.zip lengths timings"
   ]
  },
  {
   "cell_type": "markdown",
   "metadata": {},
   "source": [
    "Now let's try fitting an O(n) curve to the results.  I found I had to set 'p0init', 'p1init' and 'p2init' manually to give 'Fit.Curve' any chance to find a close fit."
   ]
  },
  {
   "cell_type": "code",
   "execution_count": 134,
   "metadata": {
    "dotnet_interactive": {
     "language": "fsharp"
    },
    "polyglot_notebook": {
     "kernelName": "fsharp"
    }
   },
   "outputs": [
    {
     "data": {
      "text/html": [
       "<details open=\"open\" class=\"dni-treeview\"><summary><span class=\"dni-code-hint\"><code>(10, 0.01, 1.65)</code></span></summary><div><table><thead><tr></tr></thead><tbody><tr><td>Item1</td><td><div class=\"dni-plaintext\"><pre>10</pre></div></td></tr><tr><td>Item2</td><td><div class=\"dni-plaintext\"><pre>0.01</pre></div></td></tr><tr><td>Item3</td><td><div class=\"dni-plaintext\"><pre>1.65</pre></div></td></tr></tbody></table></div></details><style>\r\n",
       ".dni-code-hint {\r\n",
       "    font-style: italic;\r\n",
       "    overflow: hidden;\r\n",
       "    white-space: nowrap;\r\n",
       "}\r\n",
       ".dni-treeview {\r\n",
       "    white-space: nowrap;\r\n",
       "}\r\n",
       ".dni-treeview td {\r\n",
       "    vertical-align: top;\r\n",
       "    text-align: start;\r\n",
       "}\r\n",
       "details.dni-treeview {\r\n",
       "    padding-left: 1em;\r\n",
       "}\r\n",
       "table td {\r\n",
       "    text-align: start;\r\n",
       "}\r\n",
       "table tr { \r\n",
       "    vertical-align: top; \r\n",
       "    margin: 0em 0px;\r\n",
       "}\r\n",
       "table tr td pre \r\n",
       "{ \r\n",
       "    vertical-align: top !important; \r\n",
       "    margin: 0em 0px !important;\r\n",
       "} \r\n",
       "table th {\r\n",
       "    text-align: start;\r\n",
       "}\r\n",
       "</style>"
      ]
     },
     "metadata": {},
     "output_type": "display_data"
    }
   ],
   "source": [
    "let lengthsFloat = lengths |> List.map float |> Array.ofList\n",
    "let timingsFloat = timings |> List.map float |> Array.ofList\n",
    "\n",
    "let fitFunc (p0:float) (p1:float) (p2:float) (x:float) =\n",
    "    // printfn \"p0 = %f, p1 = %f, p2 = %f, x = %f\" p0 p1 p2 x\n",
    "    p0 + p1 * x**p2\n",
    "\n",
    "let first<'a> (arr: 'a[]) = arr[0]\n",
    "let last<'a> (arr: 'a[]) = arr[arr.Length - 1]\n",
    "\n",
    "let p0init = 10.\n",
    "let p1init = 0.01\n",
    "let p2init = 1.65\n",
    "let tolerance = 1.\n",
    "let maxIterations = 1000\n",
    "(p0init, p1init, p2init)"
   ]
  },
  {
   "cell_type": "code",
   "execution_count": 135,
   "metadata": {
    "dotnet_interactive": {
     "language": "fsharp"
    },
    "polyglot_notebook": {
     "kernelName": "fsharp"
    }
   },
   "outputs": [
    {
     "data": {
      "text/html": [
       "<details open=\"open\" class=\"dni-treeview\"><summary><span class=\"dni-code-hint\"><code>(10.019675925925924, 0.010283564814814811, 1.731163194444444)</code></span></summary><div><table><thead><tr></tr></thead><tbody><tr><td>Item1</td><td><div class=\"dni-plaintext\"><pre>10.019675925925924</pre></div></td></tr><tr><td>Item2</td><td><div class=\"dni-plaintext\"><pre>0.010283564814814811</pre></div></td></tr><tr><td>Item3</td><td><div class=\"dni-plaintext\"><pre>1.731163194444444</pre></div></td></tr></tbody></table></div></details><style>\r\n",
       ".dni-code-hint {\r\n",
       "    font-style: italic;\r\n",
       "    overflow: hidden;\r\n",
       "    white-space: nowrap;\r\n",
       "}\r\n",
       ".dni-treeview {\r\n",
       "    white-space: nowrap;\r\n",
       "}\r\n",
       ".dni-treeview td {\r\n",
       "    vertical-align: top;\r\n",
       "    text-align: start;\r\n",
       "}\r\n",
       "details.dni-treeview {\r\n",
       "    padding-left: 1em;\r\n",
       "}\r\n",
       "table td {\r\n",
       "    text-align: start;\r\n",
       "}\r\n",
       "table tr { \r\n",
       "    vertical-align: top; \r\n",
       "    margin: 0em 0px;\r\n",
       "}\r\n",
       "table tr td pre \r\n",
       "{ \r\n",
       "    vertical-align: top !important; \r\n",
       "    margin: 0em 0px !important;\r\n",
       "} \r\n",
       "table th {\r\n",
       "    text-align: start;\r\n",
       "}\r\n",
       "</style>"
      ]
     },
     "metadata": {},
     "output_type": "display_data"
    }
   ],
   "source": [
    "let (p0, p1, p2) = Fit.Curve(lengthsFloat, timingsFloat, fitFunc, p0init, p1init, p2init, tolerance, maxIterations).ToTuple()\n",
    "(p0, p1, p2)"
   ]
  },
  {
   "cell_type": "markdown",
   "metadata": {},
   "source": [
    "OK, let's plot the measurements and the fit together."
   ]
  },
  {
   "cell_type": "code",
   "execution_count": 136,
   "metadata": {
    "dotnet_interactive": {
     "language": "fsharp"
    },
    "polyglot_notebook": {
     "kernelName": "fsharp"
    }
   },
   "outputs": [
    {
     "data": {
      "text/html": [
       "<!DOCTYPE html>\r\n",
       "<div style=\"width: 900px; height: 500px;\" id=\"a4d57257-bcf6-4536-bf0d-cab9a8305af3\"></div><script type=\"text/javascript\">\r\n",
       "\n",
       "var renderPlotly = function() {\n",
       "    var xplotRequire = require.config({context:'xplot-3.0.1',paths:{plotly:'https://cdn.plot.ly/plotly-1.49.2.min'}}) || require;\n",
       "    xplotRequire(['plotly'], function(Plotly) { \r\n",
       "\n",
       "            var data = [{\"type\":\"scatter\",\"x\":[50,100,150,200,250,300],\"y\":[24,42,75,113,158,216],\"name\":\"Measurements\"},{\"type\":\"scatter\",\"x\":[50.0,51.0,52.0,53.0,54.0,55.0,56.0,57.0,58.0,59.0,60.0,61.0,62.0,63.0,64.0,65.0,66.0,67.0,68.0,69.0,70.0,71.0,72.0,73.0,74.0,75.0,76.0,77.0,78.0,79.0,80.0,81.0,82.0,83.0,84.0,85.0,86.0,87.0,88.0,89.0,90.0,91.0,92.0,93.0,94.0,95.0,96.0,97.0,98.0,99.0,100.0,101.0,102.0,103.0,104.0,105.0,106.0,107.0,108.0,109.0,110.0,111.0,112.0,113.0,114.0,115.0,116.0,117.0,118.0,119.0,120.0,121.0,122.0,123.0,124.0,125.0,126.0,127.0,128.0,129.0,130.0,131.0,132.0,133.0,134.0,135.0,136.0,137.0,138.0,139.0,140.0,141.0,142.0,143.0,144.0,145.0,146.0,147.0,148.0,149.0,150.0,151.0,152.0,153.0,154.0,155.0,156.0,157.0,158.0,159.0,160.0,161.0,162.0,163.0,164.0,165.0,166.0,167.0,168.0,169.0,170.0,171.0,172.0,173.0,174.0,175.0,176.0,177.0,178.0,179.0,180.0,181.0,182.0,183.0,184.0,185.0,186.0,187.0,188.0,189.0,190.0,191.0,192.0,193.0,194.0,195.0,196.0,197.0,198.0,199.0,200.0,201.0,202.0,203.0,204.0,205.0,206.0,207.0,208.0,209.0,210.0,211.0,212.0,213.0,214.0,215.0,216.0,217.0,218.0,219.0,220.0,221.0,222.0,223.0,224.0,225.0,226.0,227.0,228.0,229.0,230.0,231.0,232.0,233.0,234.0,235.0,236.0,237.0,238.0,239.0,240.0,241.0,242.0,243.0,244.0,245.0,246.0,247.0,248.0,249.0,250.0,251.0,252.0,253.0,254.0,255.0,256.0,257.0,258.0,259.0,260.0,261.0,262.0,263.0,264.0,265.0,266.0,267.0,268.0,269.0,270.0,271.0,272.0,273.0,274.0,275.0,276.0,277.0,278.0,279.0,280.0,281.0,282.0,283.0,284.0,285.0,286.0,287.0,288.0,289.0,290.0,291.0,292.0,293.0,294.0,295.0,296.0,297.0,298.0,299.0,300.0],\"y\":[19.0009516552188,19.31418231852804,19.631936153358765,19.954189607066986,20.280919694890002,20.612103975917634,20.94772053050157,21.28774793899248,21.632165261704746,21.98095202001791,22.334088178531978,22.691554128201176,23.053330670377186,23.419399001698935,23.789740699771116,24.164337709578632,24.543172330588234,24.926227204492722,25.313485303556483,25.704929919524442,26.10054465305936,26.500313403675044,26.904220360135565,27.312249991292635,27.72438703733543,28.140616501428926,28.56092364171853,28.985293963680313,29.41371321279759,29.846167367545934,30.28264263266984,30.723125432735397,31.167602405944372,31.61606039819605,32.068486457384,32.52486782791573,32.985191945444186,33.44944643180016,33.91761909011616,34.38969790013205,34.86567101367385,35.34552675029748,35.82925359308967,36.31684018461854,36.808275323027246,37.30354795826391,37.80264718844187,38.30556225632424,38.81228254592756,39.322797579239,39.83709701304248,40.35517063584891,40.877008364926084,41.40260024342426,41.931936437593095,42.46500723408658,43.00180303735198,43.54231436709977,44.08653185585096,44.63444624655906,45.186048390303505,45.74132924405192,46.300279868488445,46.86289142590576,47.42915517815814,47.99906248467356,48.57260480052237,49.149773674540604,49.73056074750595,50.31495775036427,50.9029565025052,51.4945489100846,52.08972696439276,52.688482740266174,53.290808394541926,53.89669616455268,54.50613836666137,55.119127394833875,55.7356557192486,56.355715884941624,56.97930051048638,57.6064022867065,58.23701397542094,58.87112840822028,59.508738485273135,60.14983717416184,60.79441750874629,61.4424725880553,62.093995575204374,62.748979696339234,63.40741823960427,64.0693045541351,64.7346320490746,65.40339419261159,66.07558451104153,66.75119658784874,67.4302240628092,68.11266063111356,68.79850004250969,69.48773610046422,70.18036266134256,70.8763736336067,71.57576297703062,72.27852470193247,72.98465286842313,73.69414158567106,74.40698501118231,75.12317735009592,75.84271285449391,76.56558582272567,77.29179059874608,78.02132157146745,78.75417317412447,79.49033988365198,80.22981622007542,80.97259674591324,81.71867606559137,82.46804882486914,83.22070971027647,83.97665344856203,84.73587480615218,85.49836858862021,86.26412964016582,87.03315284310452,87.80543311736672,88.58096542000611,89.35974474471746,90.14176612136322,90.92702461550891,91.71551532796718,92.50723339435007,93.30217398462945,94.1003323027055,94.90170358598284,95.70628310495435,96.5140661627923,97.32504809494681,98.13922426875129,98.9565900830349,99.77714096774163,100.60087238355617,101.42777982153595,102.2578588027498,103.09110487792253,103.92751362708569,104.76708065923413,105.6098016119884,106.45567215126279,107.30468797093876,108.156844792544,109.01213836493658,109.87056446399426,110.73211889230909,111.5967974788867,112.46459607885062,113.33551057315117,114.20953686827924,115.08667089598441,115.96690861299761,116.85024600075812,117.73667906514495,118.62620383621226,119.51881636792896,120.41451273792238,121.31328904722572,122.2151414200296,123.12006600343715,124.02805896722305,124.93911650359595,125.85323482696472,126.77041017370793,127.69063880194706,128.61391699132275,129.54024104277462,130.4696072783242,131.402012040861,132.33745169393165,133.2759226215325,134.21742122790445,135.1619439373316,136.10948719394207,137.060047461512,138.01362122327225,138.97020498171798,139.92979525842057,140.89238859384247,141.8579815471545,142.82657069605577,143.7981526365959,144.77272398299996,145.7502813674956,146.7308214401426,147.71434086866464,148.70083633828364,149.69030455155604,150.68274222821134,151.67814610499278,152.67651293550034,153.67783949003564,154.6821225554487,155.68935893498724,156.6995454481475,157.71267893052703,158.72875623367977,159.74777422497257,160.76972978744377,161.79461981966355,162.82244123559616,163.8531909644637,164.8868659506119,165.92346315337733,166.9629795469564,168.00541212027608,169.05075787686607,170.09901383473277,171.1501770262346,172.2042444979589,173.26121331060057,174.32108053884178,175.38384327123376,176.4494986100792,177.51804367131692,178.58947558440735,179.6637914922197,180.7409885509203,181.82106392986228,182.90401481147683,183.98983839116545,185.07853187719337,186.17009249058486,187.26451746501888,188.36180404672675,189.46194949439047,190.56495107904246,191.67080608396645,192.77951180459954,193.89106554843508,195.0054646349272,196.12270639539597,197.24278817293384,198.36570732231309,199.4914612098943,200.62004721353603,201.7514627225052,202.88570513738867,204.02277187000587,205.16266034332227,206.3053679913637,207.45089225913193,208.59923060252095,209.75038048823416],\"name\":\"O(n) Fit Curve\"}];\n",
       "           var layout = {\"title\":\"Solution Time vs. Set Size, Set Density = 50%\",\"xaxis\":{\"title\":\"Set Size\",\"_isSubplotObj\":true},\"yaxis\":{\"title\":\"Solution Time in Microsec\",\"_isSubplotObj\":true}};\n",
       "           Plotly.newPlot('a4d57257-bcf6-4536-bf0d-cab9a8305af3', data, layout);\n",
       "        \r\n",
       "});\n",
       "};\r\n",
       "// ensure `require` is available globally\r\n",
       "if ((typeof(require) !==  typeof(Function)) || (typeof(require.config) !== typeof(Function))) {\r\n",
       "    let require_script = document.createElement('script');\r\n",
       "    require_script.setAttribute('src', 'https://cdnjs.cloudflare.com/ajax/libs/require.js/2.3.6/require.min.js');\r\n",
       "    require_script.setAttribute('type', 'text/javascript');\r\n",
       "    \r\n",
       "    \r\n",
       "    require_script.onload = function() {\r\n",
       "        renderPlotly();\r\n",
       "    };\r\n",
       "\r\n",
       "    document.getElementsByTagName('head')[0].appendChild(require_script);\r\n",
       "}\r\n",
       "else {\r\n",
       "    renderPlotly();\r\n",
       "}\r\n",
       "\r\n",
       "</script>\r\n"
      ]
     },
     "metadata": {},
     "output_type": "display_data"
    }
   ],
   "source": [
    "let measurementCurve = Scatter(x = lengths, y = timings, name=\"Measurements\")\n",
    "\n",
    "let fitLengths = {(lengths |> List.min)..(lengths |> List.max)} |> Seq.map float |> Array.ofSeq\n",
    "let fitTimings = fitLengths |> Array.map (fun x -> fitFunc p0 p1 p2 x)\n",
    "let fitCurve = Scatter(x = fitLengths, y = fitTimings, name=\"O(n) Fit Curve\")\n",
    "\n",
    "[measurementCurve; fitCurve]\n",
    "|> Chart.Plot\n",
    "|> Chart.WithTitle(\"Solution Time vs. Set Size, Set Density = 50%\")\n",
    "|> Chart.WithXTitle(\"Set Size\")\n",
    "|> Chart.WithYTitle(\"Solution Time in Microsec\")"
   ]
  },
  {
   "cell_type": "markdown",
   "metadata": {},
   "source": [
    "So, approximately, the order of 'solution1' is 1.7."
   ]
  },
  {
   "cell_type": "markdown",
   "metadata": {},
   "source": [
    "## Appendix"
   ]
  },
  {
   "cell_type": "markdown",
   "metadata": {},
   "source": [
    "**Note from Nicolas** If your set length is N, then your solution value must be in the range 0..N."
   ]
  }
 ],
 "metadata": {
  "kernelspec": {
   "display_name": ".NET (C#)",
   "language": "C#",
   "name": ".net-csharp"
  },
  "language_info": {
   "name": "polyglot-notebook"
  },
  "polyglot_notebook": {
   "kernelInfo": {
    "defaultKernelName": "csharp",
    "items": [
     {
      "aliases": [],
      "name": "csharp"
     }
    ]
   }
  }
 },
 "nbformat": 4,
 "nbformat_minor": 2
}
